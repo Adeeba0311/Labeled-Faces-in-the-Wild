{
 "cells": [
  {
   "cell_type": "code",
   "execution_count": 2,
   "id": "4211001f-d29f-49fe-b826-6afd6216c6e8",
   "metadata": {},
   "outputs": [],
   "source": [
    "# Import necessary libraries\n",
    "import os                        # Library to interact with the operating system\n",
    "import cv2                       # OpenCV library for computer vision tasks\n",
    "import numpy as np               # NumPy library for numerical operations\n",
    "from sklearn.datasets import fetch_lfw_people   # Function to load the LFW dataset\n",
    "from sklearn.model_selection import train_test_split   # Function to split dataset into train and test subsets"
   ]
  },
  {
   "cell_type": "markdown",
   "id": "0a75e677",
   "metadata": {},
   "source": [
    "#### 1. Data Augumentation"
   ]
  },
  {
   "cell_type": "code",
   "execution_count": 3,
   "id": "d7bad685-ae94-43cc-9c85-09498428611e",
   "metadata": {},
   "outputs": [],
   "source": [
    "# Function to perform image augmentation using OpenCV\n",
    "def augment_image(image):\n",
    "    # Check if the image is grayscale (2-dimensional)\n",
    "    if image.ndim == 2:  # Grayscale image\n",
    "        # Convert the grayscale image to RGB format\n",
    "        image = cv2.cvtColor(image, cv2.COLOR_GRAY2RGB)\n",
    "\n",
    "    rows, cols, _ = image.shape   # Get the dimensions of the image\n",
    "\n",
    "    # Random rotation between -10 to 10 degrees\n",
    "    random_angle = np.random.randint(-10, 11)   # Generate a random angle between -10 and 10 degrees\n",
    "    M = cv2.getRotationMatrix2D((cols / 2, rows / 2), random_angle, 1)   # Get the rotation matrix for the random angle\n",
    "    augmented_image = cv2.warpAffine(image, M, (cols, rows))   # Apply the rotation to the image using warpAffine\n",
    "\n",
    "    # Random horizontal flipping\n",
    "    if np.random.rand() > 0.5:   # Generate a random number between 0 and 1, and check if it's greater than 0.5\n",
    "        flipped_image = cv2.flip(augmented_image, 1)  # 1 means horizontal flip. Flip the image horizontally\n",
    "    else:\n",
    "        flipped_image = augmented_image   # Keep the image as is (no horizontal flip)\n",
    "\n",
    "    # Random brightness adjustment\n",
    "    brightness_factor = np.random.uniform(0.7, 1.3)   # Generate a random brightness factor between 0.7 and 1.3\n",
    "    hsv_image = cv2.cvtColor(flipped_image, cv2.COLOR_RGB2HSV)   # Convert the RGB image to HSV color space\n",
    "    hsv_image[:, :, 2] = hsv_image[:, :, 2] * brightness_factor   # Adjust the brightness (V channel) by the brightness factor\n",
    "    augmented_image = cv2.cvtColor(hsv_image, cv2.COLOR_HSV2RGB)   # Convert the HSV image back to RGB color space\n",
    "\n",
    "    return augmented_image   # Return the augmented image"
   ]
  },
  {
   "cell_type": "code",
   "execution_count": 4,
   "id": "6e143386-2750-40a8-b87b-4ed61403c970",
   "metadata": {},
   "outputs": [],
   "source": [
    "def augment_lfw_people_dataset(lfw_people, target_count=10, output_directory='lfw_augmented'):\n",
    "    # Create a new directory for the augmented dataset\n",
    "    augmented_dir = os.path.join(lfw_people.target_names[0], output_directory)   # Create the full path of the augmented directory\n",
    "    os.makedirs(augmented_dir, exist_ok=True)   # Create the augmented directory if it doesn't exist\n",
    "\n",
    "    # Loop through each label in the dataset\n",
    "    for label_idx, label_name in enumerate(lfw_people.target_names):\n",
    "        label_dir = os.path.join(augmented_dir, label_name)   # Create the full path of the label subdirectory\n",
    "        os.makedirs(label_dir, exist_ok=True)   # Create the label subdirectory if it doesn't exist\n",
    "\n",
    "        # Get images belonging to the current label\n",
    "        label_images = lfw_people.images[lfw_people.target == label_idx]   # Fetch the images with the current label\n",
    "\n",
    "        # Check if the label folder already has enough images (>= target_count)\n",
    "        if len(label_images) >= target_count:   # If the label already has enough images\n",
    "            selected_images = label_images[:target_count]   # Select the first target_count number of images\n",
    "        else:\n",
    "            # If the label folder has fewer images, duplicate and augment the existing images\n",
    "            selected_images = []\n",
    "            while len(selected_images) < target_count:\n",
    "                for image in label_images:\n",
    "                    selected_images.append(image)   # Augment the image and add to selected_images\n",
    "                    if len(selected_images) == target_count:   # Check if we have enough augmented images\n",
    "                        break\n",
    "\n",
    "        # Perform augmentation for images with count < target_count\n",
    "        for idx, image in enumerate(selected_images):\n",
    "            image_path = os.path.join(label_dir, f'{label_name}_{idx}.png')   # Create the full path of the augmented image\n",
    "            image = cv2.convertScaleAbs(image, alpha=(255.0))\n",
    "            cv2.imwrite(image_path, image)   # Write the augmented image to the specified path"
   ]
  },
  {
   "cell_type": "code",
   "execution_count": 5,
   "id": "742ab514-6311-47bb-ad2e-7d2dfe772580",
   "metadata": {
    "tags": []
   },
   "outputs": [],
   "source": [
    "# Load the LFW dataset\n",
    "lfw_people = fetch_lfw_people(min_faces_per_person=4, resize=0.4)   # Fetch the LFW dataset with specified parameters\n",
    "\n",
    "# Augment the LFW dataset\n",
    "augment_lfw_people_dataset(lfw_people, target_count=20)   # Augment the dataset with 10 images per class"
   ]
  },
  {
   "cell_type": "markdown",
   "id": "7d86c81d",
   "metadata": {},
   "source": [
    "### 2. Preparing dataset"
   ]
  },
  {
   "cell_type": "code",
   "execution_count": 6,
   "id": "b5b0c961-191c-4c10-a2ea-1d42b0162e14",
   "metadata": {},
   "outputs": [
    {
     "name": "stdout",
     "output_type": "stream",
     "text": [
      "Data split completed successfully!\n"
     ]
    }
   ],
   "source": [
    "#This is splitting code:\n",
    "import os\n",
    "import shutil\n",
    "import random\n",
    "\n",
    "# Define the directory containing your data\n",
    "data_directory = './Aaron Peirsol/lfw_augmented'\n",
    "\n",
    "# Define the output directories for training and test data\n",
    "train_directory = 'training_data'\n",
    "test_directory = 'test_data'\n",
    "\n",
    "# Create the output directories if they don't exist\n",
    "os.makedirs(train_directory, exist_ok=True)\n",
    "os.makedirs(test_directory, exist_ok=True)\n",
    "\n",
    "# Loop through each person's data directory\n",
    "for person_dir in os.listdir(data_directory):\n",
    "    person_path = os.path.join(data_directory, person_dir)\n",
    "\n",
    "    # Get all the image filenames in the person's directory\n",
    "    image_files = [f for f in os.listdir(person_path) if f.endswith('.png')]\n",
    "\n",
    "    # Shuffle the image files randomly\n",
    "    random.shuffle(image_files)\n",
    "\n",
    "    # Calculate the split index for training and test sets\n",
    "    split_index = int(0.8 * len(image_files))\n",
    "\n",
    "    # Split the image files into training and test sets\n",
    "    train_images = image_files[:split_index]\n",
    "    test_images = image_files[split_index:]\n",
    "\n",
    "    # Move the training images to the training data directory\n",
    "    for train_img in train_images:\n",
    "        src = os.path.join(person_path, train_img)\n",
    "        dest_dir = os.path.join(train_directory, person_dir)\n",
    "        dest_dir = dest_dir.replace(\" \", \"_\")\n",
    "        dest = os.path.join(dest_dir, train_img)\n",
    "        os.makedirs(dest_dir, exist_ok=True)\n",
    "        shutil.copy(src, dest)\n",
    "\n",
    "    # Move the test images to the test data directory\n",
    "    for test_img in test_images:\n",
    "        src = os.path.join(person_path, test_img)\n",
    "        dest_dir = os.path.join(test_directory, person_dir)\n",
    "        dest_dir = dest_dir.replace(\" \", \"_\")\n",
    "        dest = os.path.join(dest_dir, test_img)\n",
    "        os.makedirs(dest_dir, exist_ok=True)\n",
    "        shutil.copy(src, dest)\n",
    "\n",
    "print(\"Data split completed successfully!\")"
   ]
  },
  {
   "cell_type": "code",
   "execution_count": 7,
   "id": "ae60cf47-e972-4d39-b0e3-2fc05282ffcd",
   "metadata": {},
   "outputs": [],
   "source": [
    "# Reading the images\n",
    "# Define the output directories for training and test data\n",
    "train_directory = 'training_data'\n",
    "test_directory = 'test_data'"
   ]
  },
  {
   "cell_type": "code",
   "execution_count": 8,
   "id": "55db4093-d0d2-48e3-9a14-289afc3bca13",
   "metadata": {},
   "outputs": [],
   "source": [
    "# Define the output directories for training and test data\n",
    "train_directory = './training_data'\n",
    "test_directory = './test_data'\n",
    "\n",
    "x_train = []\n",
    "y_train = []\n",
    "# Loop through train data\n",
    "for person_dir in os.listdir(train_directory):\n",
    "    train_image = os.path.join(train_directory, person_dir)\n",
    "    # Get all the image filenames in the person's directory\n",
    "    image_files = [f for f in os.listdir(train_image) if f.endswith('.png')]\n",
    "    x_train.extend(image_files)\n",
    "    for label in image_files:\n",
    "        y_train.append(person_dir)"
   ]
  },
  {
   "cell_type": "code",
   "execution_count": 9,
   "id": "9f4a1526-9903-43cb-bc58-5c67269c2c31",
   "metadata": {
    "tags": []
   },
   "outputs": [],
   "source": [
    "from PIL import Image\n",
    "arr = []\n",
    "for idx, image_path in enumerate(x_train):\n",
    "    image_path = f\"./training_data/{y_train[idx]}/\"+image_path\n",
    "    image = Image.open(image_path)\n",
    "    arr.append(np.asarray(image))\n",
    "x_train = np.array(arr)"
   ]
  },
  {
   "cell_type": "code",
   "execution_count": 10,
   "id": "4364ceb9-ff12-4dfb-8d56-f8f754a5af43",
   "metadata": {},
   "outputs": [],
   "source": [
    "x_test = []\n",
    "y_test = []\n",
    "# Loop through train data\n",
    "for person_dir in os.listdir(test_directory):\n",
    "    test_image = os.path.join(test_directory, person_dir)\n",
    "    # Get all the image filenames in the person's directory\n",
    "    image_files = [f for f in os.listdir(test_image) if f.endswith('.png')]\n",
    "    x_test.extend(image_files)\n",
    "    for label in image_files:\n",
    "        y_test.append(person_dir)\n",
    "    \n",
    "arr = []\n",
    "for idx, image_path in enumerate(x_test):\n",
    "    image_path = f\"./test_data/{y_test[idx]}/\"+image_path\n",
    "    image = Image.open(image_path)\n",
    "    arr.append(np.asarray(image))\n",
    "x_test = np.array(arr)"
   ]
  },
  {
   "cell_type": "code",
   "execution_count": 11,
   "id": "62399c28-bfb4-4bf4-8c46-cbe9823c0581",
   "metadata": {},
   "outputs": [
    {
     "data": {
      "text/plain": [
       "((2440, 50, 37), 2440)"
      ]
     },
     "execution_count": 11,
     "metadata": {},
     "output_type": "execute_result"
    }
   ],
   "source": [
    "x_test.shape, len(y_test)"
   ]
  },
  {
   "cell_type": "code",
   "execution_count": 12,
   "id": "1af813d1-89a1-4e05-99fb-541cb2894c26",
   "metadata": {},
   "outputs": [
    {
     "data": {
      "text/plain": [
       "((9760, 50, 37), 9760)"
      ]
     },
     "execution_count": 12,
     "metadata": {},
     "output_type": "execute_result"
    }
   ],
   "source": [
    "x_train.shape, len(y_train)"
   ]
  },
  {
   "cell_type": "markdown",
   "id": "5fb0dbdd",
   "metadata": {},
   "source": [
    "### 3. Image Feature Extraction"
   ]
  },
  {
   "cell_type": "code",
   "execution_count": 13,
   "id": "7fb61ca1-3853-44a7-a576-f7f2d7eaa78e",
   "metadata": {},
   "outputs": [],
   "source": [
    "from skimage.feature import hog, local_binary_pattern\n",
    "import xgboost as xgb\n",
    "from sklearn.metrics import classification_report, accuracy_score\n",
    "from skimage import exposure\n",
    "  \n",
    "def scale_invariant_feature_transform(image):\n",
    "    \n",
    "    image = cv2.cvtColor(image,cv2.COLOR_GRAY2RGB)\n",
    "    \n",
    "    # Convert the image depth to CV_8U\n",
    "    image8bit = cv2.normalize(image, None, 0, 255, cv2.NORM_MINMAX).astype('uint8')\n",
    "    \n",
    "    #reading image\n",
    "    gray1 = cv2.cvtColor(image8bit, cv2.COLOR_BGR2GRAY)\n",
    "    \n",
    "    #keypoints\n",
    "    #keypoints``\n",
    "    sift = cv2.SIFT_create()\n",
    "    keypoints_1, descriptors_1 = sift.detectAndCompute(gray1, None)\n",
    "\n",
    "    img_1 = cv2.drawKeypoints(gray1,keypoints_1,image)\n",
    "    return img_1\n",
    "    \n",
    "def local_binary_patterns(image):\n",
    "    \n",
    "    # settings for LBP\n",
    "    radius = 3\n",
    "    n_points = 8 * radius\n",
    "    \n",
    "    image = cv2.cvtColor(image,cv2.COLOR_GRAY2RGB)\n",
    "    \n",
    "    # Convert the image depth to CV_8U\n",
    "    image8bit = cv2.normalize(image, None, 0, 255, cv2.NORM_MINMAX).astype('uint8')\n",
    "\n",
    "    # Convert the array to grayscale and reshape it to (height, width)\n",
    "    gray1 = cv2.cvtColor(image8bit, cv2.COLOR_BGR2GRAY)\n",
    "\n",
    "    lbp = local_binary_pattern(gray1, n_points, radius, method = \"uniform\")\n",
    "\n",
    "    return lbp\n",
    "\n",
    "# Function to extract combined features (SIFT and LBP) from an image\n",
    "def extract_combined_features(image):\n",
    "    sift_features = scale_invariant_feature_transform(image)\n",
    "    lbp_features = local_binary_patterns(image)\n",
    "    \n",
    "    sift_features = sift_features.flatten()\n",
    "    lbp_features = lbp_features.flatten()\n",
    "    \n",
    "    merged_feature = np.hstack((sift_features,lbp_features))\n",
    "    return merged_feature\n",
    "    "
   ]
  },
  {
   "cell_type": "code",
   "execution_count": 14,
   "id": "18cbbb1c-9d26-4e9a-b1cf-a597e9eac20b",
   "metadata": {},
   "outputs": [],
   "source": [
    "# Extract combined features from the training and testing images\n",
    "X_train_features = np.array([extract_combined_features(image) for image in x_train])\n",
    "X_test_features = np.array([extract_combined_features(image) for image in x_test])"
   ]
  },
  {
   "cell_type": "code",
   "execution_count": 15,
   "id": "d1cdbc48-0289-4139-9a46-fd1c24a1ebf7",
   "metadata": {},
   "outputs": [
    {
     "data": {
      "text/plain": [
       "(9760, 7400)"
      ]
     },
     "execution_count": 15,
     "metadata": {},
     "output_type": "execute_result"
    }
   ],
   "source": [
    "X_train_features.shape"
   ]
  },
  {
   "cell_type": "code",
   "execution_count": 16,
   "id": "15497f15-e6a2-4589-8e1b-ccbf1a31a2a8",
   "metadata": {},
   "outputs": [],
   "source": [
    "from time import time\n",
    "from sklearn.decomposition import PCA\n",
    "def pca_implementation(X_train, X_test):\n",
    "    # Compute a PCA (eigenfaces) on the face dataset (treated as unlabeled\n",
    "    # dataset): unsupervised feature extraction / dimensionality reduction\n",
    "    n_components = 60\n",
    "\n",
    "    print(\"Extracting the top %d eigenfaces from %d faces\"\n",
    "          % (n_components, X_train.shape[0]))\n",
    "    t0 = time()\n",
    "    pca = PCA(n_components=n_components, svd_solver='randomized',\n",
    "              whiten=True).fit(X_train)\n",
    "    print(\"done in %0.3fs\" % (time() - t0))\n",
    "\n",
    "    print(\"Projecting the input data on the eigenfaces orthonormal basis\")\n",
    "    t0 = time()\n",
    "    X_train_pca = pca.transform(X_train)\n",
    "    X_test_pca = pca.transform(X_test)\n",
    "    print(\"done in %0.3fs\" % (time() - t0))\n",
    "    return X_train_pca, X_test_pca"
   ]
  },
  {
   "cell_type": "code",
   "execution_count": 17,
   "id": "05592b3b-d510-4167-b2b2-f721ee82b616",
   "metadata": {},
   "outputs": [
    {
     "name": "stdout",
     "output_type": "stream",
     "text": [
      "Extracting the top 60 eigenfaces from 9760 faces\n",
      "done in 8.538s\n",
      "Projecting the input data on the eigenfaces orthonormal basis\n",
      "done in 0.893s\n"
     ]
    }
   ],
   "source": [
    "X_train, X_test= pca_implementation(X_train_features, X_test_features)"
   ]
  },
  {
   "cell_type": "code",
   "execution_count": 18,
   "id": "0b9926f2-cb24-4982-9bba-e36004cae0ef",
   "metadata": {},
   "outputs": [
    {
     "data": {
      "text/plain": [
       "(9760, 60)"
      ]
     },
     "execution_count": 18,
     "metadata": {},
     "output_type": "execute_result"
    }
   ],
   "source": [
    "X_train.shape"
   ]
  },
  {
   "cell_type": "markdown",
   "id": "d37953b0",
   "metadata": {},
   "source": [
    "#### 4. Train and testing different model"
   ]
  },
  {
   "cell_type": "code",
   "execution_count": 19,
   "id": "54aff6a1-cecb-4357-a35a-1dbf72f19c63",
   "metadata": {},
   "outputs": [],
   "source": [
    "from sklearn import preprocessing\n",
    "le = preprocessing.LabelEncoder()\n",
    "yy_train = le.fit_transform(y_train)"
   ]
  },
  {
   "cell_type": "code",
   "execution_count": 20,
   "id": "2b199315-5c63-436b-9e51-0190df7ac46b",
   "metadata": {},
   "outputs": [],
   "source": [
    "yy_test = le.fit_transform(y_test)"
   ]
  },
  {
   "cell_type": "code",
   "execution_count": 21,
   "id": "5c0f23fb-1214-4ae9-bf97-a524508d5b9c",
   "metadata": {},
   "outputs": [
    {
     "data": {
      "text/plain": [
       "((2440,), (9760,))"
      ]
     },
     "execution_count": 21,
     "metadata": {},
     "output_type": "execute_result"
    }
   ],
   "source": [
    "yy_test.shape, yy_train.shape"
   ]
  },
  {
   "cell_type": "markdown",
   "id": "f5d84db7-4146-4075-82f5-e225556617db",
   "metadata": {},
   "source": [
    "#### 4.1 XG Boost"
   ]
  },
  {
   "cell_type": "code",
   "execution_count": 29,
   "id": "c9c7f7d1-d7e1-4c92-84dc-b69bf18f828b",
   "metadata": {},
   "outputs": [
    {
     "data": {
      "text/html": [
       "<style>#sk-container-id-1 {color: black;}#sk-container-id-1 pre{padding: 0;}#sk-container-id-1 div.sk-toggleable {background-color: white;}#sk-container-id-1 label.sk-toggleable__label {cursor: pointer;display: block;width: 100%;margin-bottom: 0;padding: 0.3em;box-sizing: border-box;text-align: center;}#sk-container-id-1 label.sk-toggleable__label-arrow:before {content: \"▸\";float: left;margin-right: 0.25em;color: #696969;}#sk-container-id-1 label.sk-toggleable__label-arrow:hover:before {color: black;}#sk-container-id-1 div.sk-estimator:hover label.sk-toggleable__label-arrow:before {color: black;}#sk-container-id-1 div.sk-toggleable__content {max-height: 0;max-width: 0;overflow: hidden;text-align: left;background-color: #f0f8ff;}#sk-container-id-1 div.sk-toggleable__content pre {margin: 0.2em;color: black;border-radius: 0.25em;background-color: #f0f8ff;}#sk-container-id-1 input.sk-toggleable__control:checked~div.sk-toggleable__content {max-height: 200px;max-width: 100%;overflow: auto;}#sk-container-id-1 input.sk-toggleable__control:checked~label.sk-toggleable__label-arrow:before {content: \"▾\";}#sk-container-id-1 div.sk-estimator input.sk-toggleable__control:checked~label.sk-toggleable__label {background-color: #d4ebff;}#sk-container-id-1 div.sk-label input.sk-toggleable__control:checked~label.sk-toggleable__label {background-color: #d4ebff;}#sk-container-id-1 input.sk-hidden--visually {border: 0;clip: rect(1px 1px 1px 1px);clip: rect(1px, 1px, 1px, 1px);height: 1px;margin: -1px;overflow: hidden;padding: 0;position: absolute;width: 1px;}#sk-container-id-1 div.sk-estimator {font-family: monospace;background-color: #f0f8ff;border: 1px dotted black;border-radius: 0.25em;box-sizing: border-box;margin-bottom: 0.5em;}#sk-container-id-1 div.sk-estimator:hover {background-color: #d4ebff;}#sk-container-id-1 div.sk-parallel-item::after {content: \"\";width: 100%;border-bottom: 1px solid gray;flex-grow: 1;}#sk-container-id-1 div.sk-label:hover label.sk-toggleable__label {background-color: #d4ebff;}#sk-container-id-1 div.sk-serial::before {content: \"\";position: absolute;border-left: 1px solid gray;box-sizing: border-box;top: 0;bottom: 0;left: 50%;z-index: 0;}#sk-container-id-1 div.sk-serial {display: flex;flex-direction: column;align-items: center;background-color: white;padding-right: 0.2em;padding-left: 0.2em;position: relative;}#sk-container-id-1 div.sk-item {position: relative;z-index: 1;}#sk-container-id-1 div.sk-parallel {display: flex;align-items: stretch;justify-content: center;background-color: white;position: relative;}#sk-container-id-1 div.sk-item::before, #sk-container-id-1 div.sk-parallel-item::before {content: \"\";position: absolute;border-left: 1px solid gray;box-sizing: border-box;top: 0;bottom: 0;left: 50%;z-index: -1;}#sk-container-id-1 div.sk-parallel-item {display: flex;flex-direction: column;z-index: 1;position: relative;background-color: white;}#sk-container-id-1 div.sk-parallel-item:first-child::after {align-self: flex-end;width: 50%;}#sk-container-id-1 div.sk-parallel-item:last-child::after {align-self: flex-start;width: 50%;}#sk-container-id-1 div.sk-parallel-item:only-child::after {width: 0;}#sk-container-id-1 div.sk-dashed-wrapped {border: 1px dashed gray;margin: 0 0.4em 0.5em 0.4em;box-sizing: border-box;padding-bottom: 0.4em;background-color: white;}#sk-container-id-1 div.sk-label label {font-family: monospace;font-weight: bold;display: inline-block;line-height: 1.2em;}#sk-container-id-1 div.sk-label-container {text-align: center;}#sk-container-id-1 div.sk-container {/* jupyter's `normalize.less` sets `[hidden] { display: none; }` but bootstrap.min.css set `[hidden] { display: none !important; }` so we also need the `!important` here to be able to override the default hidden behavior on the sphinx rendered scikit-learn.org. See: https://github.com/scikit-learn/scikit-learn/issues/21755 */display: inline-block !important;position: relative;}#sk-container-id-1 div.sk-text-repr-fallback {display: none;}</style><div id=\"sk-container-id-1\" class=\"sk-top-container\"><div class=\"sk-text-repr-fallback\"><pre>XGBClassifier(base_score=None, booster=None, callbacks=None,\n",
       "              colsample_bylevel=None, colsample_bynode=None,\n",
       "              colsample_bytree=None, early_stopping_rounds=None,\n",
       "              enable_categorical=False, eval_metric=None, feature_types=None,\n",
       "              gamma=None, gpu_id=0, grow_policy=None, importance_type=None,\n",
       "              interaction_constraints=None, learning_rate=None, max_bin=None,\n",
       "              max_cat_threshold=None, max_cat_to_onehot=None,\n",
       "              max_delta_step=None, max_depth=8, max_leaves=None,\n",
       "              min_child_weight=None, missing=nan, monotone_constraints=None,\n",
       "              n_estimators=250, n_jobs=None, num_parallel_tree=None,\n",
       "              objective=&#x27;multi:softprob&#x27;, predictor=None, ...)</pre><b>In a Jupyter environment, please rerun this cell to show the HTML representation or trust the notebook. <br />On GitHub, the HTML representation is unable to render, please try loading this page with nbviewer.org.</b></div><div class=\"sk-container\" hidden><div class=\"sk-item\"><div class=\"sk-estimator sk-toggleable\"><input class=\"sk-toggleable__control sk-hidden--visually\" id=\"sk-estimator-id-1\" type=\"checkbox\" checked><label for=\"sk-estimator-id-1\" class=\"sk-toggleable__label sk-toggleable__label-arrow\">XGBClassifier</label><div class=\"sk-toggleable__content\"><pre>XGBClassifier(base_score=None, booster=None, callbacks=None,\n",
       "              colsample_bylevel=None, colsample_bynode=None,\n",
       "              colsample_bytree=None, early_stopping_rounds=None,\n",
       "              enable_categorical=False, eval_metric=None, feature_types=None,\n",
       "              gamma=None, gpu_id=0, grow_policy=None, importance_type=None,\n",
       "              interaction_constraints=None, learning_rate=None, max_bin=None,\n",
       "              max_cat_threshold=None, max_cat_to_onehot=None,\n",
       "              max_delta_step=None, max_depth=8, max_leaves=None,\n",
       "              min_child_weight=None, missing=nan, monotone_constraints=None,\n",
       "              n_estimators=250, n_jobs=None, num_parallel_tree=None,\n",
       "              objective=&#x27;multi:softprob&#x27;, predictor=None, ...)</pre></div></div></div></div></div>"
      ],
      "text/plain": [
       "XGBClassifier(base_score=None, booster=None, callbacks=None,\n",
       "              colsample_bylevel=None, colsample_bynode=None,\n",
       "              colsample_bytree=None, early_stopping_rounds=None,\n",
       "              enable_categorical=False, eval_metric=None, feature_types=None,\n",
       "              gamma=None, gpu_id=0, grow_policy=None, importance_type=None,\n",
       "              interaction_constraints=None, learning_rate=None, max_bin=None,\n",
       "              max_cat_threshold=None, max_cat_to_onehot=None,\n",
       "              max_delta_step=None, max_depth=8, max_leaves=None,\n",
       "              min_child_weight=None, missing=nan, monotone_constraints=None,\n",
       "              n_estimators=250, n_jobs=None, num_parallel_tree=None,\n",
       "              objective='multi:softprob', predictor=None, ...)"
      ]
     },
     "execution_count": 29,
     "metadata": {},
     "output_type": "execute_result"
    }
   ],
   "source": [
    "# Train an XGBoost model\n",
    "model = xgb.XGBClassifier(n_estimators=250,\n",
    "                          max_depth=8,\n",
    "                          objective= 'binary:logistic',\n",
    "                          seed=27, \n",
    "                          tree_method='gpu_hist', gpu_id=0)\n",
    "model.fit(X_train, yy_train)"
   ]
  },
  {
   "cell_type": "code",
   "execution_count": 31,
   "id": "508b7911-0903-4c74-8ad2-5a26a8a11879",
   "metadata": {},
   "outputs": [],
   "source": [
    "# Predict using the XGBoost model\n",
    "y_pred = model.predict(X_test)"
   ]
  },
  {
   "cell_type": "code",
   "execution_count": 32,
   "id": "c95e510f-158e-42a8-ad9a-9ae4b0227f44",
   "metadata": {},
   "outputs": [
    {
     "name": "stdout",
     "output_type": "stream",
     "text": [
      "Accuracy Score: 0.48032786885245904\n"
     ]
    }
   ],
   "source": [
    "accuracy = accuracy_score(yy_test, y_pred)\n",
    "\n",
    "# Print the results\n",
    "print(\"Accuracy Score:\", accuracy)"
   ]
  },
  {
   "cell_type": "code",
   "execution_count": 33,
   "id": "3394fe78-07b3-4451-a633-4f0c8e80eb7b",
   "metadata": {},
   "outputs": [
    {
     "name": "stdout",
     "output_type": "stream",
     "text": [
      "xgb top 5 accuracy :: 0.6676229508196722\n"
     ]
    }
   ],
   "source": [
    "from sklearn.metrics import top_k_accuracy_score\n",
    "y_pred = model.predict_proba(X_test)\n",
    "print(\"xgb top 5 accuracy ::\",top_k_accuracy_score(yy_test, y_pred, k=5))"
   ]
  },
  {
   "cell_type": "code",
   "execution_count": 34,
   "id": "498b2062-6e23-4779-9fde-a1e8f1750ee9",
   "metadata": {
    "tags": []
   },
   "outputs": [],
   "source": [
    "# print(\"Classification Report:\")\n",
    "# # Calculate classification report and accuracy score\n",
    "# classification_report_output = classification_report(yy_test, y_pred)\n",
    "# print(classification_report_output)"
   ]
  },
  {
   "cell_type": "markdown",
   "id": "33d17214-376d-4c2f-823d-1a5d2ff648c7",
   "metadata": {},
   "source": [
    "---"
   ]
  },
  {
   "cell_type": "markdown",
   "id": "b1d06abb-f5d0-4a40-bdb8-5f6528f1c9be",
   "metadata": {},
   "source": [
    "#### 4.2 Logistic Regression"
   ]
  },
  {
   "cell_type": "code",
   "execution_count": 35,
   "id": "153743df-91bc-4aa4-979e-58fbf6ed7df1",
   "metadata": {},
   "outputs": [
    {
     "name": "stdout",
     "output_type": "stream",
     "text": [
      "Accuracy: 0.5098360655737705\n"
     ]
    }
   ],
   "source": [
    "from sklearn.linear_model import LogisticRegression\n",
    "\n",
    "model = LogisticRegression()\n",
    "model.fit(X_train, yy_train)\n",
    "\n",
    "y_pred = model.predict(X_test)\n",
    "\n",
    "accuracy = accuracy_score(yy_test, y_pred)\n",
    "print(\"Accuracy:\", accuracy)"
   ]
  },
  {
   "cell_type": "code",
   "execution_count": 36,
   "id": "fe5b28b5-21cf-46f8-a9d7-47121ed73564",
   "metadata": {},
   "outputs": [
    {
     "name": "stdout",
     "output_type": "stream",
     "text": [
      "lr top 5 accuracy :: 0.7323770491803279\n"
     ]
    }
   ],
   "source": [
    "from sklearn.metrics import top_k_accuracy_score\n",
    "y_pred = model.predict_proba(X_test)\n",
    "print(\"lr top 5 accuracy ::\",top_k_accuracy_score(yy_test, y_pred, k=5))"
   ]
  },
  {
   "cell_type": "code",
   "execution_count": null,
   "id": "85205a2f-be7a-4fdf-94a1-685328909d34",
   "metadata": {},
   "outputs": [],
   "source": [
    "# print(\"Classification Report:\")\n",
    "# # Calculate classification report and accuracy score\n",
    "# classification_report_output = classification_report(yy_test, y_pred)\n",
    "# print(classification_report_output)"
   ]
  },
  {
   "cell_type": "markdown",
   "id": "b2319a54-81fe-46e3-b6b0-76773fa55ce4",
   "metadata": {},
   "source": [
    "----"
   ]
  },
  {
   "cell_type": "markdown",
   "id": "49558347-f2b2-44a9-b102-41ad96d53444",
   "metadata": {},
   "source": [
    "#### 4.3 Random Forest"
   ]
  },
  {
   "cell_type": "code",
   "execution_count": 22,
   "id": "6c8c40da-52b6-4f89-99dd-bbc40f44fdb6",
   "metadata": {},
   "outputs": [
    {
     "data": {
      "text/html": [
       "<style>#sk-container-id-1 {color: black;}#sk-container-id-1 pre{padding: 0;}#sk-container-id-1 div.sk-toggleable {background-color: white;}#sk-container-id-1 label.sk-toggleable__label {cursor: pointer;display: block;width: 100%;margin-bottom: 0;padding: 0.3em;box-sizing: border-box;text-align: center;}#sk-container-id-1 label.sk-toggleable__label-arrow:before {content: \"▸\";float: left;margin-right: 0.25em;color: #696969;}#sk-container-id-1 label.sk-toggleable__label-arrow:hover:before {color: black;}#sk-container-id-1 div.sk-estimator:hover label.sk-toggleable__label-arrow:before {color: black;}#sk-container-id-1 div.sk-toggleable__content {max-height: 0;max-width: 0;overflow: hidden;text-align: left;background-color: #f0f8ff;}#sk-container-id-1 div.sk-toggleable__content pre {margin: 0.2em;color: black;border-radius: 0.25em;background-color: #f0f8ff;}#sk-container-id-1 input.sk-toggleable__control:checked~div.sk-toggleable__content {max-height: 200px;max-width: 100%;overflow: auto;}#sk-container-id-1 input.sk-toggleable__control:checked~label.sk-toggleable__label-arrow:before {content: \"▾\";}#sk-container-id-1 div.sk-estimator input.sk-toggleable__control:checked~label.sk-toggleable__label {background-color: #d4ebff;}#sk-container-id-1 div.sk-label input.sk-toggleable__control:checked~label.sk-toggleable__label {background-color: #d4ebff;}#sk-container-id-1 input.sk-hidden--visually {border: 0;clip: rect(1px 1px 1px 1px);clip: rect(1px, 1px, 1px, 1px);height: 1px;margin: -1px;overflow: hidden;padding: 0;position: absolute;width: 1px;}#sk-container-id-1 div.sk-estimator {font-family: monospace;background-color: #f0f8ff;border: 1px dotted black;border-radius: 0.25em;box-sizing: border-box;margin-bottom: 0.5em;}#sk-container-id-1 div.sk-estimator:hover {background-color: #d4ebff;}#sk-container-id-1 div.sk-parallel-item::after {content: \"\";width: 100%;border-bottom: 1px solid gray;flex-grow: 1;}#sk-container-id-1 div.sk-label:hover label.sk-toggleable__label {background-color: #d4ebff;}#sk-container-id-1 div.sk-serial::before {content: \"\";position: absolute;border-left: 1px solid gray;box-sizing: border-box;top: 0;bottom: 0;left: 50%;z-index: 0;}#sk-container-id-1 div.sk-serial {display: flex;flex-direction: column;align-items: center;background-color: white;padding-right: 0.2em;padding-left: 0.2em;position: relative;}#sk-container-id-1 div.sk-item {position: relative;z-index: 1;}#sk-container-id-1 div.sk-parallel {display: flex;align-items: stretch;justify-content: center;background-color: white;position: relative;}#sk-container-id-1 div.sk-item::before, #sk-container-id-1 div.sk-parallel-item::before {content: \"\";position: absolute;border-left: 1px solid gray;box-sizing: border-box;top: 0;bottom: 0;left: 50%;z-index: -1;}#sk-container-id-1 div.sk-parallel-item {display: flex;flex-direction: column;z-index: 1;position: relative;background-color: white;}#sk-container-id-1 div.sk-parallel-item:first-child::after {align-self: flex-end;width: 50%;}#sk-container-id-1 div.sk-parallel-item:last-child::after {align-self: flex-start;width: 50%;}#sk-container-id-1 div.sk-parallel-item:only-child::after {width: 0;}#sk-container-id-1 div.sk-dashed-wrapped {border: 1px dashed gray;margin: 0 0.4em 0.5em 0.4em;box-sizing: border-box;padding-bottom: 0.4em;background-color: white;}#sk-container-id-1 div.sk-label label {font-family: monospace;font-weight: bold;display: inline-block;line-height: 1.2em;}#sk-container-id-1 div.sk-label-container {text-align: center;}#sk-container-id-1 div.sk-container {/* jupyter's `normalize.less` sets `[hidden] { display: none; }` but bootstrap.min.css set `[hidden] { display: none !important; }` so we also need the `!important` here to be able to override the default hidden behavior on the sphinx rendered scikit-learn.org. See: https://github.com/scikit-learn/scikit-learn/issues/21755 */display: inline-block !important;position: relative;}#sk-container-id-1 div.sk-text-repr-fallback {display: none;}</style><div id=\"sk-container-id-1\" class=\"sk-top-container\"><div class=\"sk-text-repr-fallback\"><pre>RandomForestClassifier(criterion=&#x27;log_loss&#x27;, max_depth=8, n_estimators=250)</pre><b>In a Jupyter environment, please rerun this cell to show the HTML representation or trust the notebook. <br />On GitHub, the HTML representation is unable to render, please try loading this page with nbviewer.org.</b></div><div class=\"sk-container\" hidden><div class=\"sk-item\"><div class=\"sk-estimator sk-toggleable\"><input class=\"sk-toggleable__control sk-hidden--visually\" id=\"sk-estimator-id-1\" type=\"checkbox\" checked><label for=\"sk-estimator-id-1\" class=\"sk-toggleable__label sk-toggleable__label-arrow\">RandomForestClassifier</label><div class=\"sk-toggleable__content\"><pre>RandomForestClassifier(criterion=&#x27;log_loss&#x27;, max_depth=8, n_estimators=250)</pre></div></div></div></div></div>"
      ],
      "text/plain": [
       "RandomForestClassifier(criterion='log_loss', max_depth=8, n_estimators=250)"
      ]
     },
     "execution_count": 22,
     "metadata": {},
     "output_type": "execute_result"
    }
   ],
   "source": [
    "from sklearn.ensemble import RandomForestClassifier\n",
    "model = RandomForestClassifier(n_estimators=250, max_depth=8, criterion = \"log_loss\")\n",
    "model.fit(X_train, yy_train)"
   ]
  },
  {
   "cell_type": "code",
   "execution_count": 23,
   "id": "a5e5dadb-cbce-4716-bf6e-f88be97355ec",
   "metadata": {},
   "outputs": [
    {
     "data": {
      "text/plain": [
       "0.6495901639344263"
      ]
     },
     "execution_count": 23,
     "metadata": {},
     "output_type": "execute_result"
    }
   ],
   "source": [
    "# Predict\n",
    "y_pred = model.predict(X_test)\n",
    "\n",
    "# Score\n",
    "accuracy_score(yy_test, y_pred)"
   ]
  },
  {
   "cell_type": "code",
   "execution_count": 24,
   "id": "2c28a504-6782-41ff-b5a2-f7bd5367f1b5",
   "metadata": {},
   "outputs": [
    {
     "name": "stdout",
     "output_type": "stream",
     "text": [
      "rf top 5 accuracy :: 0.7877049180327869\n"
     ]
    }
   ],
   "source": [
    "from sklearn.metrics import top_k_accuracy_score\n",
    "y_pred = model.predict_proba(X_test)\n",
    "print(\"rf top 5 accuracy ::\",top_k_accuracy_score(yy_test, y_pred, k=5))"
   ]
  },
  {
   "cell_type": "code",
   "execution_count": 25,
   "id": "cd87710b-b8cf-45b1-b863-89bac146eeb6",
   "metadata": {
    "tags": []
   },
   "outputs": [],
   "source": [
    "# print(\"Classification Report:\")\n",
    "# # Calculate classification report and accuracy score\n",
    "# classification_report_output = classification_report(yy_test, y_pred)\n",
    "# print(classification_report_output)"
   ]
  },
  {
   "cell_type": "markdown",
   "id": "56e913c5-5559-423e-9b5c-11f4de5130cb",
   "metadata": {},
   "source": [
    "---"
   ]
  },
  {
   "cell_type": "code",
   "execution_count": null,
   "id": "f16e061b-620a-4c21-884a-53e22bfbadd5",
   "metadata": {},
   "outputs": [],
   "source": []
  }
 ],
 "metadata": {
  "environment": {
   "kernel": "python3",
   "name": "tf2-gpu.2-11.m110",
   "type": "gcloud",
   "uri": "gcr.io/deeplearning-platform-release/tf2-gpu.2-11:m110"
  },
  "kernelspec": {
   "display_name": "Python 3",
   "language": "python",
   "name": "python3"
  },
  "language_info": {
   "codemirror_mode": {
    "name": "ipython",
    "version": 3
   },
   "file_extension": ".py",
   "mimetype": "text/x-python",
   "name": "python",
   "nbconvert_exporter": "python",
   "pygments_lexer": "ipython3",
   "version": "3.10.12"
  }
 },
 "nbformat": 4,
 "nbformat_minor": 5
}
