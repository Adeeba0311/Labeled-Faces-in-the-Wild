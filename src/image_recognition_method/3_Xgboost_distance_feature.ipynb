{
 "cells": [
  {
   "cell_type": "code",
   "execution_count": 1,
   "id": "7617ade0-852b-419e-a638-52687c730af8",
   "metadata": {},
   "outputs": [],
   "source": [
    "from sklearn.datasets import fetch_lfw_pairs\n",
    "\n",
    "import pandas as pd\n",
    "import numpy as np\n",
    "from sklearn.preprocessing import StandardScaler\n",
    "from scipy.spatial import distance\n",
    "import xgboost as xgb\n",
    "from sklearn.decomposition import PCA\n",
    "from sklearn.metrics import confusion_matrix, accuracy_score\n",
    "from sklearn.metrics import accuracy_score\n",
    "from sklearn.model_selection import GridSearchCV\n",
    "from sklearn.pipeline import Pipeline\n",
    "from sklearn.ensemble import RandomForestClassifier\n",
    "from sklearn.ensemble import StackingClassifier\n",
    "from sklearn.tree import DecisionTreeClassifier\n",
    "from sklearn.svm import SVC, LinearSVC\n",
    "from sklearn.linear_model import Perceptron"
   ]
  },
  {
   "cell_type": "code",
   "execution_count": 2,
   "id": "1c9f4616-c725-4a0c-af3b-ddcae82b2e63",
   "metadata": {},
   "outputs": [],
   "source": [
    "lfw_dataset_train = fetch_lfw_pairs(subset='train', resize = 1)\n",
    "lfw_dataset_test = fetch_lfw_pairs(subset='test', resize = 1)"
   ]
  },
  {
   "cell_type": "code",
   "execution_count": 3,
   "id": "04834505-9c98-4777-84c8-d40b59c22dcd",
   "metadata": {},
   "outputs": [],
   "source": [
    "X_train = lfw_dataset_train.pairs\n",
    "y_train = lfw_dataset_train.target\n",
    "\n",
    "X_test = lfw_dataset_test.pairs\n",
    "y_test = lfw_dataset_test.target"
   ]
  },
  {
   "cell_type": "code",
   "execution_count": 4,
   "id": "2ff74afb-38ea-4544-aa92-f984c67e5ed5",
   "metadata": {},
   "outputs": [],
   "source": [
    "# x_train_1 = np.load(\"../npembedding/train_data_1.npy\")\n",
    "# x_train_2 = np.load(\"../npembedding/train_data_2.npy\")\n",
    "\n",
    "# x_test_1 = np.load(\"../npembedding/test_data_1.npy\")\n",
    "# x_test_2 = np.load(\"../npembedding/test_data_2.npy\")"
   ]
  },
  {
   "cell_type": "code",
   "execution_count": 5,
   "id": "adee85a8-f426-4f49-9cd0-c884d68d58d7",
   "metadata": {},
   "outputs": [],
   "source": [
    "# y_train = np.load(\"../npembedding/y_train_data.npy\")\n",
    "# y_test = np.load(\"../npembedding/y_test_data.npy\")"
   ]
  },
  {
   "cell_type": "code",
   "execution_count": 6,
   "id": "d5df90b3-9e6d-4a06-9050-617411278f82",
   "metadata": {},
   "outputs": [],
   "source": [
    "x_train_1 = X_train[:, 0]  # x_train_1.shape is (60000, 28, 28)\n",
    "x_train_2 = X_train[:, 1]\n",
    "\n",
    "x_test_1 = X_test[:, 0]  # x_val_1.shape = (60000, 28, 28)\n",
    "x_test_2 = X_test[:, 1]"
   ]
  },
  {
   "cell_type": "code",
   "execution_count": 7,
   "id": "85caa258-781b-40c1-bb49-2beca8a0ebe2",
   "metadata": {},
   "outputs": [
    {
     "data": {
      "text/plain": [
       "(2200, 125, 94)"
      ]
     },
     "execution_count": 7,
     "metadata": {},
     "output_type": "execute_result"
    }
   ],
   "source": [
    "x_train_1.shape"
   ]
  },
  {
   "cell_type": "code",
   "execution_count": 9,
   "id": "7e83d937-ca6d-4060-a5d1-a77ee3b3aae1",
   "metadata": {},
   "outputs": [
    {
     "data": {
      "text/plain": [
       "(125, 94)"
      ]
     },
     "execution_count": 9,
     "metadata": {},
     "output_type": "execute_result"
    }
   ],
   "source": [
    "x_train_1[0].shape"
   ]
  },
  {
   "cell_type": "code",
   "execution_count": 10,
   "id": "9e6a4cd3-d2c2-4107-89f1-63a0897a123b",
   "metadata": {},
   "outputs": [
    {
     "data": {
      "text/plain": [
       "array([[0.32418302, 0.3124183 , 0.28366014, ..., 0.48235297, 0.49411765,\n",
       "        0.48496735],\n",
       "       [0.3124183 , 0.29281047, 0.26797387, ..., 0.47320262, 0.4771242 ,\n",
       "        0.46535948],\n",
       "       [0.30457518, 0.2771242 , 0.27189544, ..., 0.45751634, 0.44705883,\n",
       "        0.4392157 ],\n",
       "       ...,\n",
       "       [0.6666667 , 0.65882355, 0.6339869 , ..., 0.6418301 , 0.6666667 ,\n",
       "        0.73594767],\n",
       "       [0.6392157 , 0.65882355, 0.6562092 , ..., 0.6431373 , 0.62614375,\n",
       "        0.6313726 ],\n",
       "       [0.5921569 , 0.6509804 , 0.6901961 , ..., 0.63398695, 0.59738564,\n",
       "        0.5254902 ]], dtype=float32)"
      ]
     },
     "execution_count": 10,
     "metadata": {},
     "output_type": "execute_result"
    }
   ],
   "source": [
    "x_train_1[0]"
   ]
  },
  {
   "cell_type": "code",
   "execution_count": 22,
   "id": "a7bc0209-8ecc-4154-a261-498d3aef6651",
   "metadata": {},
   "outputs": [
    {
     "data": {
      "text/plain": [
       "0.32941176470588235"
      ]
     },
     "execution_count": 22,
     "metadata": {},
     "output_type": "execute_result"
    }
   ],
   "source": [
    "84/(255-0)"
   ]
  },
  {
   "cell_type": "code",
   "execution_count": 21,
   "id": "57346140-841b-475b-a16b-0aea0d994066",
   "metadata": {},
   "outputs": [
    {
     "data": {
      "text/plain": [
       "0.32941176470588235"
      ]
     },
     "execution_count": 21,
     "metadata": {},
     "output_type": "execute_result"
    }
   ],
   "source": [
    "84/(255-0)"
   ]
  },
  {
   "cell_type": "code",
   "execution_count": 23,
   "id": "70aee1e3-611d-459b-a8f1-432db426c2c8",
   "metadata": {},
   "outputs": [],
   "source": [
    "def flatten_arr(data):\n",
    "    arr = []\n",
    "    for image in data:\n",
    "        arr.append(image.flatten())\n",
    "    return np.array(arr)"
   ]
  },
  {
   "cell_type": "code",
   "execution_count": 12,
   "id": "cf1e8290-954f-4d88-8bd1-3ed518d8e240",
   "metadata": {},
   "outputs": [],
   "source": [
    "x_train_1 = flatten_arr(x_train_1)\n",
    "x_train_2 = flatten_arr(x_train_2)\n",
    "\n",
    "x_test_1 = flatten_arr(x_test_1)\n",
    "x_test_2 = flatten_arr(x_test_2)"
   ]
  },
  {
   "cell_type": "code",
   "execution_count": 13,
   "id": "b258dd6c-ca1d-4c8a-8144-9b28e53affc7",
   "metadata": {},
   "outputs": [
    {
     "data": {
      "text/plain": [
       "((2200, 11750), (2200, 11750), (1000, 11750), (1000, 11750))"
      ]
     },
     "execution_count": 13,
     "metadata": {},
     "output_type": "execute_result"
    }
   ],
   "source": [
    "x_train_1.shape, x_train_2.shape, x_test_1.shape, x_test_2.shape"
   ]
  },
  {
   "cell_type": "code",
   "execution_count": 29,
   "id": "cbbbb1b3-c126-4db3-8cad-a19225583910",
   "metadata": {},
   "outputs": [],
   "source": [
    "# x_train_1 = x_train_1.flatten()\n",
    "# x_train_2 = x_train_2.flatten()\n",
    "\n",
    "# x_test_1 = x_test_1.flatten()\n",
    "# x_test_2 = x_test_2.flatten()"
   ]
  },
  {
   "cell_type": "code",
   "execution_count": 30,
   "id": "1a95dc04-329b-4d91-abf8-47d7e25b0271",
   "metadata": {
    "tags": []
   },
   "outputs": [],
   "source": [
    "# scaler = StandardScaler()\n",
    "# def normalize(X_train,X_test):\n",
    "#     X_train = scaler.fit_transform(X_train)\n",
    "#     X_test = scaler.transform(X_test)\n",
    "#     return X_train, X_test\n",
    "\n",
    "  \n",
    "# x_train_1, x_test_1 = normalize(x_train_1, x_test_1)\n",
    "# x_train_2, x_test_2 = normalize(x_train_2, x_test_2)"
   ]
  },
  {
   "cell_type": "code",
   "execution_count": 24,
   "id": "965b43b8-d7db-4aad-b70e-5d1c92f109f4",
   "metadata": {},
   "outputs": [],
   "source": [
    "# def difference(data1, data2):\n",
    "#     sub = data1 - data2\n",
    "#     return sub\n",
    "\n",
    "# x_train_sub = difference(x_train_1, x_train_2)\n",
    "# x_test_sub = difference(x_test_1, x_test_2)"
   ]
  },
  {
   "cell_type": "code",
   "execution_count": 25,
   "id": "fd646859-2d61-4fe3-9040-2207fd50ae20",
   "metadata": {},
   "outputs": [
    {
     "data": {
      "text/plain": [
       "((2200, 11750), (1000, 11750))"
      ]
     },
     "execution_count": 25,
     "metadata": {},
     "output_type": "execute_result"
    }
   ],
   "source": [
    "# x_train_sub.shape, x_test_sub.shape"
   ]
  },
  {
   "cell_type": "code",
   "execution_count": 26,
   "id": "9a3c10d5-d533-44db-a5e0-5c940a081560",
   "metadata": {},
   "outputs": [],
   "source": [
    "# x_train_1 = x_train_1[:, 0]  # x_train_1.shape is (60000, 28, 28)\n",
    "# x_train_2 = x_train_2[:, 1]\n",
    "\n",
    "# x_test_1 = x_test_1[:, 0]  # x_val_1.shape = (60000, 28, 28)\n",
    "# x_test_2 = x_test_2[:, 1]"
   ]
  },
  {
   "cell_type": "code",
   "execution_count": 27,
   "id": "965f4440-625f-4626-a2ee-bc51bf1923c6",
   "metadata": {},
   "outputs": [],
   "source": [
    "def distances(data1, data2):\n",
    "    cosine  = []\n",
    "    euclidean = []\n",
    "    cityblock = []\n",
    "    for index, image in enumerate(data1):\n",
    "        cosine.append(distance.cosine(image, data2[index]))\n",
    "        euclidean.append(distance.euclidean(image, data2[index]))\n",
    "        cityblock.append(distance.chebyshev(image, data2[index]))\n",
    "    return cosine, euclidean, cityblock\n",
    "\n",
    "x_train_cosine, x_train_euclidean, x_train_cityblock = distances(x_train_1, x_train_2)\n",
    "x_test_cosine, x_test_euclidean, x_test_cityblock = distances(x_test_1, x_test_2)"
   ]
  },
  {
   "cell_type": "code",
   "execution_count": 29,
   "id": "d82e682e-01c3-421f-9d15-dddf3d0319ac",
   "metadata": {},
   "outputs": [],
   "source": [
    "df_train = pd.DataFrame(columns=[\"cosine_distance\", \"euclidean_distance\", \"cityblock\", \"label\"])\n",
    "\n",
    "df_test = pd.DataFrame(columns=[\"cosine_distance\", \"euclidean_distance\", \"cityblock\", \"label\"])"
   ]
  },
  {
   "cell_type": "code",
   "execution_count": 30,
   "id": "865242a8-45e8-4ca1-aa74-d7075ada45a0",
   "metadata": {},
   "outputs": [],
   "source": [
    "df_train[\"cosine_distance\"] = list(x_train_cosine)\n",
    "df_train[\"euclidean_distance\"] = list(x_train_euclidean)\n",
    "df_train[\"cityblock\"] = list(x_train_cityblock)\n",
    "df_train[\"label\"] = list(y_train)"
   ]
  },
  {
   "cell_type": "code",
   "execution_count": 31,
   "id": "9963a40f-fa87-4713-af77-33469add3eca",
   "metadata": {},
   "outputs": [],
   "source": [
    "df_test[\"cosine_distance\"] = list(x_test_cosine)\n",
    "df_test[\"euclidean_distance\"] = list(x_test_euclidean)\n",
    "df_test[\"cityblock\"] = list(x_test_cityblock)\n",
    "df_test[\"label\"] = list(y_test)"
   ]
  },
  {
   "cell_type": "code",
   "execution_count": 34,
   "id": "ce3ce579-abf0-4631-9201-4fe4e9ff0546",
   "metadata": {},
   "outputs": [
    {
     "data": {
      "text/html": [
       "<div>\n",
       "<style scoped>\n",
       "    .dataframe tbody tr th:only-of-type {\n",
       "        vertical-align: middle;\n",
       "    }\n",
       "\n",
       "    .dataframe tbody tr th {\n",
       "        vertical-align: top;\n",
       "    }\n",
       "\n",
       "    .dataframe thead th {\n",
       "        text-align: right;\n",
       "    }\n",
       "</style>\n",
       "<table border=\"1\" class=\"dataframe\">\n",
       "  <thead>\n",
       "    <tr style=\"text-align: right;\">\n",
       "      <th></th>\n",
       "      <th>cosine_distance</th>\n",
       "      <th>euclidean_distance</th>\n",
       "      <th>cityblock</th>\n",
       "      <th>label</th>\n",
       "    </tr>\n",
       "  </thead>\n",
       "  <tbody>\n",
       "    <tr>\n",
       "      <th>0</th>\n",
       "      <td>0.025886</td>\n",
       "      <td>14.759619</td>\n",
       "      <td>0.597386</td>\n",
       "      <td>1</td>\n",
       "    </tr>\n",
       "    <tr>\n",
       "      <th>1</th>\n",
       "      <td>0.063717</td>\n",
       "      <td>28.259579</td>\n",
       "      <td>0.743791</td>\n",
       "      <td>1</td>\n",
       "    </tr>\n",
       "    <tr>\n",
       "      <th>2</th>\n",
       "      <td>0.087552</td>\n",
       "      <td>24.716150</td>\n",
       "      <td>0.691503</td>\n",
       "      <td>1</td>\n",
       "    </tr>\n",
       "    <tr>\n",
       "      <th>3</th>\n",
       "      <td>0.059222</td>\n",
       "      <td>14.122931</td>\n",
       "      <td>0.661438</td>\n",
       "      <td>1</td>\n",
       "    </tr>\n",
       "    <tr>\n",
       "      <th>4</th>\n",
       "      <td>0.094167</td>\n",
       "      <td>24.618526</td>\n",
       "      <td>0.627451</td>\n",
       "      <td>1</td>\n",
       "    </tr>\n",
       "  </tbody>\n",
       "</table>\n",
       "</div>"
      ],
      "text/plain": [
       "   cosine_distance  euclidean_distance  cityblock  label\n",
       "0         0.025886           14.759619   0.597386      1\n",
       "1         0.063717           28.259579   0.743791      1\n",
       "2         0.087552           24.716150   0.691503      1\n",
       "3         0.059222           14.122931   0.661438      1\n",
       "4         0.094167           24.618526   0.627451      1"
      ]
     },
     "execution_count": 34,
     "metadata": {},
     "output_type": "execute_result"
    }
   ],
   "source": [
    "df_train.head()"
   ]
  },
  {
   "cell_type": "code",
   "execution_count": 33,
   "id": "f081d033-ddb7-4b3e-9b82-14ae787cb560",
   "metadata": {},
   "outputs": [
    {
     "data": {
      "text/html": [
       "<div>\n",
       "<style scoped>\n",
       "    .dataframe tbody tr th:only-of-type {\n",
       "        vertical-align: middle;\n",
       "    }\n",
       "\n",
       "    .dataframe tbody tr th {\n",
       "        vertical-align: top;\n",
       "    }\n",
       "\n",
       "    .dataframe thead th {\n",
       "        text-align: right;\n",
       "    }\n",
       "</style>\n",
       "<table border=\"1\" class=\"dataframe\">\n",
       "  <thead>\n",
       "    <tr style=\"text-align: right;\">\n",
       "      <th></th>\n",
       "      <th>cosine_distance</th>\n",
       "      <th>euclidean_distance</th>\n",
       "      <th>cityblock</th>\n",
       "      <th>label</th>\n",
       "    </tr>\n",
       "  </thead>\n",
       "  <tbody>\n",
       "    <tr>\n",
       "      <th>0</th>\n",
       "      <td>0.050155</td>\n",
       "      <td>17.781984</td>\n",
       "      <td>0.836601</td>\n",
       "      <td>1</td>\n",
       "    </tr>\n",
       "    <tr>\n",
       "      <th>1</th>\n",
       "      <td>0.098412</td>\n",
       "      <td>26.856802</td>\n",
       "      <td>0.874510</td>\n",
       "      <td>1</td>\n",
       "    </tr>\n",
       "    <tr>\n",
       "      <th>2</th>\n",
       "      <td>0.065974</td>\n",
       "      <td>21.101994</td>\n",
       "      <td>0.742484</td>\n",
       "      <td>1</td>\n",
       "    </tr>\n",
       "  </tbody>\n",
       "</table>\n",
       "</div>"
      ],
      "text/plain": [
       "   cosine_distance  euclidean_distance  cityblock  label\n",
       "0         0.050155           17.781984   0.836601      1\n",
       "1         0.098412           26.856802   0.874510      1\n",
       "2         0.065974           21.101994   0.742484      1"
      ]
     },
     "execution_count": 33,
     "metadata": {},
     "output_type": "execute_result"
    }
   ],
   "source": [
    "df_test.head(3)"
   ]
  },
  {
   "cell_type": "code",
   "execution_count": 36,
   "id": "a2431ea4-b9eb-404a-82cb-590274e8cc74",
   "metadata": {},
   "outputs": [
    {
     "ename": "NameError",
     "evalue": "name 'x_train' is not defined",
     "output_type": "error",
     "traceback": [
      "\u001b[0;31m---------------------------------------------------------------------------\u001b[0m",
      "\u001b[0;31mNameError\u001b[0m                                 Traceback (most recent call last)",
      "Cell \u001b[0;32mIn[36], line 1\u001b[0m\n\u001b[0;32m----> 1\u001b[0m \u001b[43mx_train\u001b[49m\n",
      "\u001b[0;31mNameError\u001b[0m: name 'x_train' is not defined"
     ]
    }
   ],
   "source": [
    "x_train"
   ]
  },
  {
   "cell_type": "code",
   "execution_count": 35,
   "id": "ad17928e-dab8-41df-9f93-4f591699306c",
   "metadata": {},
   "outputs": [
    {
     "data": {
      "text/plain": [
       "0       1\n",
       "1       1\n",
       "2       1\n",
       "3       1\n",
       "4       1\n",
       "       ..\n",
       "2195    0\n",
       "2196    0\n",
       "2197    0\n",
       "2198    0\n",
       "2199    0\n",
       "Name: label, Length: 2200, dtype: int64"
      ]
     },
     "execution_count": 35,
     "metadata": {},
     "output_type": "execute_result"
    }
   ],
   "source": [
    "df_train[\"label\"]"
   ]
  },
  {
   "cell_type": "code",
   "execution_count": 42,
   "id": "6f6d941a-31ae-43c9-b673-d9fe08781883",
   "metadata": {},
   "outputs": [],
   "source": [
    "# convert True -> 1 and False -> 0\n",
    "df_train[\"label\"] = df_train[\"label\"].astype(int)\n",
    "df_test[\"label\"] = df_test[\"label\"].astype(int)\n",
    "\n",
    "# features = df_train.drop(columns=[\"label\",\"difference\"]).columns.tolist()\n",
    "\n",
    "x_train = df_train.drop(columns=[\"label\"])\n",
    "y_train = df_train[\"label\"]\n",
    "x_test = df_test.drop(columns=[\"label\"])\n",
    "y_test = df_test[\"label\"]"
   ]
  },
  {
   "cell_type": "code",
   "execution_count": 43,
   "id": "1b73189d-dc6a-4397-9633-a6c1a4395a08",
   "metadata": {},
   "outputs": [],
   "source": [
    "xgb_cl = xgb.XGBClassifier(n_estimators=250,\n",
    "                             max_depth=8,\n",
    "                             objective= 'binary:logistic',\n",
    "                             seed=27)"
   ]
  },
  {
   "cell_type": "code",
   "execution_count": 44,
   "id": "2ed69f7d-5a0a-487b-9fb8-58b1cd3f6629",
   "metadata": {},
   "outputs": [
    {
     "data": {
      "text/plain": [
       "0.591"
      ]
     },
     "execution_count": 44,
     "metadata": {},
     "output_type": "execute_result"
    }
   ],
   "source": [
    "# Fit\n",
    "xgb_cl.fit(x_train, y_train)\n",
    "\n",
    "# Predict\n",
    "y_pred = xgb_cl.predict(x_test)\n",
    "\n",
    "# Score\n",
    "accuracy_score(y_test, y_pred)"
   ]
  },
  {
   "cell_type": "code",
   "execution_count": 45,
   "id": "cb82f664-2c9c-4eae-8d34-80eb314a0d54",
   "metadata": {},
   "outputs": [
    {
     "name": "stdout",
     "output_type": "stream",
     "text": [
      "              precision    recall  f1-score   support\n",
      "\n",
      "  Mismatched       0.60      0.59      0.59       509\n",
      "     Matched       0.58      0.59      0.59       491\n",
      "\n",
      "    accuracy                           0.59      1000\n",
      "   macro avg       0.59      0.59      0.59      1000\n",
      "weighted avg       0.59      0.59      0.59      1000\n",
      "\n"
     ]
    }
   ],
   "source": [
    "from sklearn.metrics import confusion_matrix, classification_report\n",
    "\n",
    "target_names = [\"Mismatched\",\"Matched\" ]\n",
    "\n",
    "\n",
    "print(classification_report(y_pred, y_test, target_names=target_names))"
   ]
  },
  {
   "cell_type": "code",
   "execution_count": null,
   "id": "7fad777b-ed87-4edc-8161-eb5e920d83bf",
   "metadata": {},
   "outputs": [],
   "source": []
  }
 ],
 "metadata": {
  "environment": {
   "kernel": "python3",
   "name": "tf2-gpu.2-11.m109",
   "type": "gcloud",
   "uri": "gcr.io/deeplearning-platform-release/tf2-gpu.2-11:m109"
  },
  "kernelspec": {
   "display_name": "Python 3",
   "language": "python",
   "name": "python3"
  },
  "language_info": {
   "codemirror_mode": {
    "name": "ipython",
    "version": 3
   },
   "file_extension": ".py",
   "mimetype": "text/x-python",
   "name": "python",
   "nbconvert_exporter": "python",
   "pygments_lexer": "ipython3",
   "version": "3.10.11"
  }
 },
 "nbformat": 4,
 "nbformat_minor": 5
}
