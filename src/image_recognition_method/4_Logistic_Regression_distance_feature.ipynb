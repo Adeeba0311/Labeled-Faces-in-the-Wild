{
 "cells": [
  {
   "cell_type": "code",
   "execution_count": 25,
   "id": "7617ade0-852b-419e-a638-52687c730af8",
   "metadata": {},
   "outputs": [],
   "source": [
    "from sklearn.datasets import fetch_lfw_pairs\n",
    "\n",
    "import pandas as pd\n",
    "import numpy as np\n",
    "from sklearn.preprocessing import StandardScaler\n",
    "from scipy.spatial import distance\n",
    "import xgboost as xgb\n",
    "from sklearn.decomposition import PCA\n",
    "from sklearn.metrics import confusion_matrix, accuracy_score\n",
    "from sklearn.metrics import accuracy_score\n",
    "from sklearn.model_selection import GridSearchCV\n",
    "from sklearn.pipeline import Pipeline\n",
    "from sklearn.ensemble import RandomForestClassifier\n",
    "from sklearn.ensemble import StackingClassifier\n",
    "from sklearn.tree import DecisionTreeClassifier\n",
    "from sklearn.svm import SVC, LinearSVC\n",
    "from sklearn.linear_model import Perceptron\n",
    "\n",
    "from sklearn.linear_model import LogisticRegression"
   ]
  },
  {
   "cell_type": "code",
   "execution_count": 26,
   "id": "1c9f4616-c725-4a0c-af3b-ddcae82b2e63",
   "metadata": {},
   "outputs": [],
   "source": [
    "lfw_dataset_train = fetch_lfw_pairs(subset='train',resize = 1)\n",
    "lfw_dataset_test = fetch_lfw_pairs(subset='test', resize = 1)"
   ]
  },
  {
   "cell_type": "code",
   "execution_count": 27,
   "id": "04834505-9c98-4777-84c8-d40b59c22dcd",
   "metadata": {},
   "outputs": [],
   "source": [
    "X_train = lfw_dataset_train.pairs\n",
    "y_train = lfw_dataset_train.target\n",
    "\n",
    "X_test = lfw_dataset_test.pairs\n",
    "y_test = lfw_dataset_test.target"
   ]
  },
  {
   "cell_type": "code",
   "execution_count": 28,
   "id": "d5df90b3-9e6d-4a06-9050-617411278f82",
   "metadata": {},
   "outputs": [],
   "source": [
    "x_train_1 = X_train[:, 0]  # x_train_1.shape is (60000, 28, 28)\n",
    "x_train_2 = X_train[:, 1]\n",
    "\n",
    "x_test_1 = X_test[:, 0]  # x_val_1.shape = (60000, 28, 28)\n",
    "x_test_2 = X_test[:, 1]"
   ]
  },
  {
   "cell_type": "code",
   "execution_count": 29,
   "id": "85caa258-781b-40c1-bb49-2beca8a0ebe2",
   "metadata": {},
   "outputs": [
    {
     "data": {
      "text/plain": [
       "(2200, 125, 94)"
      ]
     },
     "execution_count": 29,
     "metadata": {},
     "output_type": "execute_result"
    }
   ],
   "source": [
    "x_train_1.shape"
   ]
  },
  {
   "cell_type": "code",
   "execution_count": 30,
   "id": "70aee1e3-611d-459b-a8f1-432db426c2c8",
   "metadata": {},
   "outputs": [],
   "source": [
    "def flatten_arr(data):\n",
    "    arr = []\n",
    "    for image in data:\n",
    "        arr.append(image.flatten())\n",
    "    return np.array(arr)"
   ]
  },
  {
   "cell_type": "code",
   "execution_count": 31,
   "id": "cf1e8290-954f-4d88-8bd1-3ed518d8e240",
   "metadata": {},
   "outputs": [],
   "source": [
    "x_train_1 = flatten_arr(x_train_1)\n",
    "x_train_2 = flatten_arr(x_train_2)\n",
    "\n",
    "x_test_1 = flatten_arr(x_test_1)\n",
    "x_test_2 = flatten_arr(x_test_2)"
   ]
  },
  {
   "cell_type": "code",
   "execution_count": 32,
   "id": "b258dd6c-ca1d-4c8a-8144-9b28e53affc7",
   "metadata": {},
   "outputs": [
    {
     "data": {
      "text/plain": [
       "((2200, 11750), (2200, 11750), (1000, 11750), (1000, 11750))"
      ]
     },
     "execution_count": 32,
     "metadata": {},
     "output_type": "execute_result"
    }
   ],
   "source": [
    "x_train_1.shape, x_train_2.shape, x_test_1.shape, x_test_2.shape"
   ]
  },
  {
   "cell_type": "code",
   "execution_count": 33,
   "id": "cbbbb1b3-c126-4db3-8cad-a19225583910",
   "metadata": {},
   "outputs": [],
   "source": [
    "# x_train_1 = x_train_1.flatten()\n",
    "# x_train_2 = x_train_2.flatten()\n",
    "\n",
    "# x_test_1 = x_test_1.flatten()\n",
    "# x_test_2 = x_test_2.flatten()"
   ]
  },
  {
   "cell_type": "code",
   "execution_count": 34,
   "id": "1a95dc04-329b-4d91-abf8-47d7e25b0271",
   "metadata": {
    "tags": []
   },
   "outputs": [],
   "source": [
    "scaler = StandardScaler()\n",
    "def normalize(X_train,X_test):\n",
    "    X_train = scaler.fit_transform(X_train)\n",
    "    X_test = scaler.transform(X_test)\n",
    "    return X_train, X_test\n",
    "\n",
    "  \n",
    "x_train_1, x_test_1 = normalize(x_train_1, x_test_1)\n",
    "x_train_2, x_test_2 = normalize(x_train_2, x_test_2)"
   ]
  },
  {
   "cell_type": "code",
   "execution_count": 35,
   "id": "965b43b8-d7db-4aad-b70e-5d1c92f109f4",
   "metadata": {},
   "outputs": [],
   "source": [
    "def difference(data1, data2):\n",
    "    sub = data1 - data2\n",
    "    return sub\n",
    "\n",
    "x_train_sub = difference(x_train_1, x_train_2)\n",
    "x_test_sub = difference(x_test_1, x_test_2)"
   ]
  },
  {
   "cell_type": "code",
   "execution_count": 36,
   "id": "fd646859-2d61-4fe3-9040-2207fd50ae20",
   "metadata": {},
   "outputs": [
    {
     "data": {
      "text/plain": [
       "((2200, 11750), (1000, 11750))"
      ]
     },
     "execution_count": 36,
     "metadata": {},
     "output_type": "execute_result"
    }
   ],
   "source": [
    "x_train_sub.shape, x_test_sub.shape"
   ]
  },
  {
   "cell_type": "code",
   "execution_count": 37,
   "id": "9a3c10d5-d533-44db-a5e0-5c940a081560",
   "metadata": {},
   "outputs": [],
   "source": [
    "# x_train_1 = x_train_1[:, 0]  # x_train_1.shape is (60000, 28, 28)\n",
    "# x_train_2 = x_train_2[:, 1]\n",
    "\n",
    "# x_test_1 = x_test_1[:, 0]  # x_val_1.shape = (60000, 28, 28)\n",
    "# x_test_2 = x_test_2[:, 1]"
   ]
  },
  {
   "cell_type": "code",
   "execution_count": 38,
   "id": "965f4440-625f-4626-a2ee-bc51bf1923c6",
   "metadata": {},
   "outputs": [],
   "source": [
    "def distances(data1, data2):\n",
    "    cosine  = []\n",
    "    euclidean = []\n",
    "    cityblock = []\n",
    "    for index, image in enumerate(data1):\n",
    "        cosine.append(distance.cosine(image, data2[index]))\n",
    "        euclidean.append(distance.euclidean(image, data2[index]))\n",
    "        cityblock.append(distance.chebyshev(image, data2[index]))\n",
    "    return cosine, euclidean, cityblock\n",
    "\n",
    "x_train_cosine, x_train_euclidean, x_train_cityblock = distances(x_train_1, x_train_2)\n",
    "x_test_cosine, x_test_euclidean, x_test_cityblock = distances(x_test_1, x_test_2)"
   ]
  },
  {
   "cell_type": "code",
   "execution_count": 39,
   "id": "d82e682e-01c3-421f-9d15-dddf3d0319ac",
   "metadata": {},
   "outputs": [],
   "source": [
    "df_train = pd.DataFrame(columns=[\"cosine_distance\", \"euclidean_distance\", \"cityblock\", \"difference\", \"label\"])\n",
    "\n",
    "df_test = pd.DataFrame(columns=[\"cosine_distance\", \"euclidean_distance\", \"cityblock\", \"difference\", \"label\"])"
   ]
  },
  {
   "cell_type": "code",
   "execution_count": 40,
   "id": "865242a8-45e8-4ca1-aa74-d7075ada45a0",
   "metadata": {},
   "outputs": [],
   "source": [
    "df_train[\"cosine_distance\"] = list(x_train_cosine)\n",
    "df_train[\"euclidean_distance\"] = list(x_train_euclidean)\n",
    "df_train[\"cityblock\"] = list(x_train_cityblock)\n",
    "df_train[\"difference\"] = list(x_train_sub)\n",
    "df_train[\"label\"] = list(y_train)"
   ]
  },
  {
   "cell_type": "code",
   "execution_count": 41,
   "id": "9963a40f-fa87-4713-af77-33469add3eca",
   "metadata": {},
   "outputs": [],
   "source": [
    "df_test[\"cosine_distance\"] = list(x_test_cosine)\n",
    "df_test[\"euclidean_distance\"] = list(x_test_euclidean)\n",
    "df_test[\"cityblock\"] = list(x_test_cityblock)\n",
    "df_test[\"difference\"] = list(x_test_sub)\n",
    "df_test[\"label\"] = list(y_test)"
   ]
  },
  {
   "cell_type": "code",
   "execution_count": 42,
   "id": "ce3ce579-abf0-4631-9201-4fe4e9ff0546",
   "metadata": {},
   "outputs": [
    {
     "data": {
      "text/html": [
       "<div>\n",
       "<style scoped>\n",
       "    .dataframe tbody tr th:only-of-type {\n",
       "        vertical-align: middle;\n",
       "    }\n",
       "\n",
       "    .dataframe tbody tr th {\n",
       "        vertical-align: top;\n",
       "    }\n",
       "\n",
       "    .dataframe thead th {\n",
       "        text-align: right;\n",
       "    }\n",
       "</style>\n",
       "<table border=\"1\" class=\"dataframe\">\n",
       "  <thead>\n",
       "    <tr style=\"text-align: right;\">\n",
       "      <th></th>\n",
       "      <th>cosine_distance</th>\n",
       "      <th>euclidean_distance</th>\n",
       "      <th>cityblock</th>\n",
       "      <th>difference</th>\n",
       "      <th>label</th>\n",
       "    </tr>\n",
       "  </thead>\n",
       "  <tbody>\n",
       "    <tr>\n",
       "      <th>0</th>\n",
       "      <td>0.624871</td>\n",
       "      <td>81.479301</td>\n",
       "      <td>3.076822</td>\n",
       "      <td>[0.47313946, 0.3971879, 0.07584522, 0.06514443...</td>\n",
       "      <td>1</td>\n",
       "    </tr>\n",
       "    <tr>\n",
       "      <th>1</th>\n",
       "      <td>1.360650</td>\n",
       "      <td>172.871582</td>\n",
       "      <td>3.975001</td>\n",
       "      <td>[-0.76932395, -0.15090233, 0.62559354, 0.98460...</td>\n",
       "      <td>1</td>\n",
       "    </tr>\n",
       "    <tr>\n",
       "      <th>2</th>\n",
       "      <td>0.906941</td>\n",
       "      <td>150.094681</td>\n",
       "      <td>4.344463</td>\n",
       "      <td>[0.11918616, 0.09976739, -0.0039057136, -0.048...</td>\n",
       "      <td>1</td>\n",
       "    </tr>\n",
       "  </tbody>\n",
       "</table>\n",
       "</div>"
      ],
      "text/plain": [
       "   cosine_distance  euclidean_distance  cityblock  \\\n",
       "0         0.624871           81.479301   3.076822   \n",
       "1         1.360650          172.871582   3.975001   \n",
       "2         0.906941          150.094681   4.344463   \n",
       "\n",
       "                                          difference  label  \n",
       "0  [0.47313946, 0.3971879, 0.07584522, 0.06514443...      1  \n",
       "1  [-0.76932395, -0.15090233, 0.62559354, 0.98460...      1  \n",
       "2  [0.11918616, 0.09976739, -0.0039057136, -0.048...      1  "
      ]
     },
     "execution_count": 42,
     "metadata": {},
     "output_type": "execute_result"
    }
   ],
   "source": [
    "df_train.head(3)"
   ]
  },
  {
   "cell_type": "code",
   "execution_count": 43,
   "id": "f081d033-ddb7-4b3e-9b82-14ae787cb560",
   "metadata": {},
   "outputs": [
    {
     "data": {
      "text/html": [
       "<div>\n",
       "<style scoped>\n",
       "    .dataframe tbody tr th:only-of-type {\n",
       "        vertical-align: middle;\n",
       "    }\n",
       "\n",
       "    .dataframe tbody tr th {\n",
       "        vertical-align: top;\n",
       "    }\n",
       "\n",
       "    .dataframe thead th {\n",
       "        text-align: right;\n",
       "    }\n",
       "</style>\n",
       "<table border=\"1\" class=\"dataframe\">\n",
       "  <thead>\n",
       "    <tr style=\"text-align: right;\">\n",
       "      <th></th>\n",
       "      <th>cosine_distance</th>\n",
       "      <th>euclidean_distance</th>\n",
       "      <th>cityblock</th>\n",
       "      <th>difference</th>\n",
       "      <th>label</th>\n",
       "    </tr>\n",
       "  </thead>\n",
       "  <tbody>\n",
       "    <tr>\n",
       "      <th>0</th>\n",
       "      <td>0.745172</td>\n",
       "      <td>102.169167</td>\n",
       "      <td>3.709883</td>\n",
       "      <td>[1.106498, 0.95236087, 0.64023924, 0.49182248,...</td>\n",
       "      <td>1</td>\n",
       "    </tr>\n",
       "    <tr>\n",
       "      <th>1</th>\n",
       "      <td>1.072152</td>\n",
       "      <td>157.613907</td>\n",
       "      <td>4.209890</td>\n",
       "      <td>[0.112229094, -0.16099897, -0.35348526, -0.278...</td>\n",
       "      <td>1</td>\n",
       "    </tr>\n",
       "    <tr>\n",
       "      <th>2</th>\n",
       "      <td>1.107152</td>\n",
       "      <td>126.401039</td>\n",
       "      <td>3.053850</td>\n",
       "      <td>[-0.5141104, -0.596771, -0.60187906, -0.662098...</td>\n",
       "      <td>1</td>\n",
       "    </tr>\n",
       "  </tbody>\n",
       "</table>\n",
       "</div>"
      ],
      "text/plain": [
       "   cosine_distance  euclidean_distance  cityblock  \\\n",
       "0         0.745172          102.169167   3.709883   \n",
       "1         1.072152          157.613907   4.209890   \n",
       "2         1.107152          126.401039   3.053850   \n",
       "\n",
       "                                          difference  label  \n",
       "0  [1.106498, 0.95236087, 0.64023924, 0.49182248,...      1  \n",
       "1  [0.112229094, -0.16099897, -0.35348526, -0.278...      1  \n",
       "2  [-0.5141104, -0.596771, -0.60187906, -0.662098...      1  "
      ]
     },
     "execution_count": 43,
     "metadata": {},
     "output_type": "execute_result"
    }
   ],
   "source": [
    "df_test.head(3)"
   ]
  },
  {
   "cell_type": "code",
   "execution_count": 44,
   "id": "6f6d941a-31ae-43c9-b673-d9fe08781883",
   "metadata": {},
   "outputs": [],
   "source": [
    "# convert True -> 1 and False -> 0\n",
    "df_train[\"label\"] = df_train[\"label\"].astype(int)\n",
    "df_test[\"label\"] = df_test[\"label\"].astype(int)\n",
    "\n",
    "features = df_train.drop(columns=[\"label\",\"difference\"]).columns.tolist()\n",
    "\n",
    "x_train = df_train.drop(columns=[\"label\",\"difference\"])\n",
    "y_train = df_train[\"label\"]\n",
    "x_test = df_test.drop(columns=[\"label\",\"difference\"])\n",
    "y_test = df_test[\"label\"]"
   ]
  },
  {
   "cell_type": "code",
   "execution_count": 45,
   "id": "15615b21-84f5-4e10-9125-f3a3ff71595b",
   "metadata": {},
   "outputs": [
    {
     "name": "stdout",
     "output_type": "stream",
     "text": [
      "Accuracy: 0.644\n"
     ]
    }
   ],
   "source": [
    "from sklearn.linear_model import LogisticRegression\n",
    "\n",
    "model = LogisticRegression()\n",
    "model.fit(x_train, y_train)\n",
    "\n",
    "y_pred = model.predict(x_test)\n",
    "\n",
    "accuracy = accuracy_score(y_test, y_pred)\n",
    "print(\"Accuracy:\", accuracy)"
   ]
  },
  {
   "cell_type": "code",
   "execution_count": 46,
   "id": "cb82f664-2c9c-4eae-8d34-80eb314a0d54",
   "metadata": {},
   "outputs": [
    {
     "name": "stdout",
     "output_type": "stream",
     "text": [
      "                   precision    recall  f1-score   support\n",
      "\n",
      "Different persons       0.62      0.65      0.64       480\n",
      "      Same person       0.66      0.64      0.65       520\n",
      "\n",
      "         accuracy                           0.64      1000\n",
      "        macro avg       0.64      0.64      0.64      1000\n",
      "     weighted avg       0.64      0.64      0.64      1000\n",
      "\n"
     ]
    }
   ],
   "source": [
    "from sklearn.metrics import confusion_matrix, classification_report\n",
    "\n",
    "target = lfw_dataset_test.target\n",
    "target_names = lfw_dataset_test.target_names\n",
    "\n",
    "\n",
    "print(classification_report(y_pred, y_test, target_names=target_names))"
   ]
  },
  {
   "cell_type": "code",
   "execution_count": null,
   "id": "f49fc5aa-8a27-4178-b764-6b6cf15d2c1e",
   "metadata": {},
   "outputs": [],
   "source": []
  }
 ],
 "metadata": {
  "environment": {
   "kernel": "python3",
   "name": "tf2-gpu.2-11.m109",
   "type": "gcloud",
   "uri": "gcr.io/deeplearning-platform-release/tf2-gpu.2-11:m109"
  },
  "kernelspec": {
   "display_name": "Python 3",
   "language": "python",
   "name": "python3"
  },
  "language_info": {
   "codemirror_mode": {
    "name": "ipython",
    "version": 3
   },
   "file_extension": ".py",
   "mimetype": "text/x-python",
   "name": "python",
   "nbconvert_exporter": "python",
   "pygments_lexer": "ipython3",
   "version": "3.10.11"
  }
 },
 "nbformat": 4,
 "nbformat_minor": 5
}
