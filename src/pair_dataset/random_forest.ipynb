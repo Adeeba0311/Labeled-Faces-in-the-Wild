{
 "cells": [
  {
   "cell_type": "code",
   "execution_count": 1,
   "id": "a1f17dcb-cc13-4953-9ea4-72edb10c54b5",
   "metadata": {},
   "outputs": [],
   "source": [
    "from time import time\n",
    "from __future__ import print_function\n",
    "\n",
    "from time import time\n",
    "import logging\n",
    "import matplotlib.pyplot as plt\n",
    "\n",
    "from sklearn.model_selection import train_test_split\n",
    "from sklearn.model_selection import GridSearchCV\n",
    "from sklearn.datasets import fetch_lfw_people\n",
    "from sklearn.metrics import classification_report\n",
    "from sklearn.metrics import confusion_matrix\n",
    "from sklearn.decomposition import PCA\n",
    "from sklearn.svm import SVC\n",
    "\n",
    "\n",
    "import numpy as np\n",
    "from sklearn.model_selection import train_test_split\n",
    "from sklearn.linear_model import LogisticRegression\n",
    "from sklearn.metrics import accuracy_score\n",
    "from sklearn.preprocessing import StandardScaler\n",
    "\n",
    "\n",
    "from PIL import Image\n",
    "from sklearn.ensemble import RandomForestClassifier\n",
    "\n",
    "from sklearn.datasets import fetch_lfw_pairs"
   ]
  },
  {
   "cell_type": "code",
   "execution_count": 2,
   "id": "1155a630-e951-4c22-870b-94ae66cf9490",
   "metadata": {},
   "outputs": [],
   "source": [
    "lfw_dataset_train = fetch_lfw_pairs(subset='train', resize=0.4)\n",
    "lfw_dataset_test = fetch_lfw_pairs(subset='test',resize=0.4)"
   ]
  },
  {
   "cell_type": "code",
   "execution_count": 3,
   "id": "f8bb63f2-4feb-49e8-8787-044e291e4ae1",
   "metadata": {},
   "outputs": [
    {
     "data": {
      "text/plain": [
       "dict_keys(['data', 'pairs', 'target', 'target_names', 'DESCR'])"
      ]
     },
     "execution_count": 3,
     "metadata": {},
     "output_type": "execute_result"
    }
   ],
   "source": [
    "lfw_dataset_test.keys()"
   ]
  },
  {
   "cell_type": "code",
   "execution_count": 4,
   "id": "e5bcf243-d984-4ad2-ba48-af81d76932f0",
   "metadata": {},
   "outputs": [],
   "source": [
    "X_train = lfw_dataset_train.data\n",
    "y_train = lfw_dataset_train.target\n",
    "\n",
    "X_test = lfw_dataset_test.data\n",
    "y_test = lfw_dataset_test.target"
   ]
  },
  {
   "cell_type": "code",
   "execution_count": 5,
   "id": "19bb9a16-6b35-4fa5-bf94-b19c68375b37",
   "metadata": {},
   "outputs": [],
   "source": [
    "def prepare_dataset(lfw_dataset):\n",
    "    cnn_data = []\n",
    "    cnn_data_1 = []\n",
    "    cnn_data_2 = []\n",
    "    for images_paris in lfw_dataset['pairs']:\n",
    "        image1 = images_paris[0]\n",
    "        image2 = images_paris[1]\n",
    "        # Stack the two images along the channel axis to create a single image \n",
    "        # with dimensions (32, 32, 6)\n",
    "        combined_image = np.concatenate((image1, image2), axis=0)\n",
    "        # combined_image = combined_image[:, :, :3]\n",
    "        cnn_data_1.append(image1)\n",
    "        cnn_data_2.append(image2)\n",
    "        cnn_data.append(combined_image)\n",
    "    cnn_data  = np.stack(cnn_data, axis=0)\n",
    "    cnn_data_1  = np.stack(cnn_data_1, axis=0)\n",
    "    cnn_data_2  = np.stack(cnn_data_2, axis=0)\n",
    "    \n",
    "    return cnn_data, cnn_data_1, cnn_data_2\n",
    "\n",
    "\n",
    "cnn_train_data, cnn_train_data_1, cnn_train_data_2 = prepare_dataset(lfw_dataset_train)\n",
    "cnn_test_data, cnn_test_data_1, cnn_test_data_2 = prepare_dataset(lfw_dataset_test)"
   ]
  },
  {
   "cell_type": "code",
   "execution_count": 6,
   "id": "51d24e9a-3b7f-4ba6-928f-c39a462443e9",
   "metadata": {},
   "outputs": [
    {
     "data": {
      "text/plain": [
       "((2200, 50, 37), (2200, 50, 37))"
      ]
     },
     "execution_count": 6,
     "metadata": {},
     "output_type": "execute_result"
    }
   ],
   "source": [
    "cnn_train_data_2.shape, cnn_train_data_1.shape"
   ]
  },
  {
   "cell_type": "code",
   "execution_count": 7,
   "id": "b1f73d60-be95-4b7a-991a-4f44d5b1c6fc",
   "metadata": {},
   "outputs": [
    {
     "data": {
      "text/plain": [
       "((1000, 50, 37), (1000, 50, 37))"
      ]
     },
     "execution_count": 7,
     "metadata": {},
     "output_type": "execute_result"
    }
   ],
   "source": [
    "cnn_test_data_1.shape, cnn_test_data_2.shape"
   ]
  },
  {
   "cell_type": "code",
   "execution_count": 8,
   "id": "b8e01c18-fc9a-402c-9eba-8c293a1b728c",
   "metadata": {},
   "outputs": [],
   "source": [
    "### passing the single image to the function to check the result\n",
    "X_train_1 = []\n",
    "for image in cnn_train_data_1:\n",
    "    X_train_1.append(image.flatten())\n",
    "X_train_1 = np.array(X_train_1)\n",
    "\n",
    "X_train_2 = []\n",
    "for image in cnn_train_data_2:\n",
    "    X_train_2.append(image.flatten())\n",
    "X_train_2 = np.array(X_train_2)"
   ]
  },
  {
   "cell_type": "code",
   "execution_count": 9,
   "id": "bc203505-b880-478f-b6ea-51ab3763e338",
   "metadata": {},
   "outputs": [
    {
     "data": {
      "text/plain": [
       "((2200, 1850), (2200, 1850))"
      ]
     },
     "execution_count": 9,
     "metadata": {},
     "output_type": "execute_result"
    }
   ],
   "source": [
    "X_train_1.shape, X_train_2.shape"
   ]
  },
  {
   "cell_type": "code",
   "execution_count": 10,
   "id": "5be6ea79-9c00-4f0d-bbdf-7c1527e9a9f2",
   "metadata": {},
   "outputs": [],
   "source": [
    "### passing the single image to the function to check the result\n",
    "X_test_1 = []\n",
    "\n",
    "for image in cnn_test_data_1:\n",
    "    X_test_1.append(image.flatten())\n",
    "X_test_1 = np.array(X_test_1)\n",
    "\n",
    "X_test_2 = []\n",
    "for image in cnn_test_data_2:\n",
    "    X_test_2.append(image.flatten())\n",
    "X_test_2 = np.array(X_test_2)"
   ]
  },
  {
   "cell_type": "code",
   "execution_count": 11,
   "id": "cf6b8dce-68ce-4937-932f-e1fb84624fd8",
   "metadata": {},
   "outputs": [
    {
     "data": {
      "text/plain": [
       "((1000, 1850), (1000, 1850))"
      ]
     },
     "execution_count": 11,
     "metadata": {},
     "output_type": "execute_result"
    }
   ],
   "source": [
    "X_test_1.shape, X_test_2.shape"
   ]
  },
  {
   "cell_type": "code",
   "execution_count": 63,
   "id": "a4f3b48f-959a-477d-acdb-cf3cdd2e6f61",
   "metadata": {},
   "outputs": [],
   "source": [
    "def pca_implementation(X_train, X_test):\n",
    "    # Compute a PCA (eigenfaces) on the face dataset (treated as unlabeled\n",
    "    # dataset): unsupervised feature extraction / dimensionality reduction\n",
    "    n_components = 125\n",
    "\n",
    "    print(\"Extracting the top %d eigenfaces from %d faces\"\n",
    "          % (n_components, X_train.shape[0]))\n",
    "    t0 = time()\n",
    "    pca = PCA(n_components=n_components, svd_solver='randomized',\n",
    "              whiten=True).fit(X_train)\n",
    "    print(\"done in %0.3fs\" % (time() - t0))\n",
    "\n",
    "    eigenfaces = pca.components_.reshape((n_components, 50, 37))\n",
    "\n",
    "    print(\"Projecting the input data on the eigenfaces orthonormal basis\")\n",
    "    t0 = time()\n",
    "    X_train_pca = pca.transform(X_train)\n",
    "    X_test_pca = pca.transform(X_test)\n",
    "    print(\"done in %0.3fs\" % (time() - t0))\n",
    "    return X_train_pca, X_test_pca, eigenfaces\n",
    "   "
   ]
  },
  {
   "cell_type": "code",
   "execution_count": 64,
   "id": "03e25332-77a0-4844-b0f8-bbcc70dfeb62",
   "metadata": {},
   "outputs": [
    {
     "name": "stdout",
     "output_type": "stream",
     "text": [
      "Extracting the top 125 eigenfaces from 2200 faces\n",
      "done in 1.255s\n",
      "Projecting the input data on the eigenfaces orthonormal basis\n",
      "done in 0.049s\n"
     ]
    }
   ],
   "source": [
    "X_train_pca_1, X_test_pca_1, eigenfaces = pca_implementation(X_train_1, X_test_1)"
   ]
  },
  {
   "cell_type": "code",
   "execution_count": 65,
   "id": "bee964cf-9881-4fd6-8c64-c7358f9ef578",
   "metadata": {},
   "outputs": [
    {
     "name": "stdout",
     "output_type": "stream",
     "text": [
      "Extracting the top 125 eigenfaces from 2200 faces\n",
      "done in 1.079s\n",
      "Projecting the input data on the eigenfaces orthonormal basis\n",
      "done in 0.047s\n"
     ]
    }
   ],
   "source": [
    "X_train_pca_2, X_test_pca_2, eigenfaces = pca_implementation(X_train_2, X_test_2)"
   ]
  },
  {
   "cell_type": "code",
   "execution_count": 66,
   "id": "57ec0c2c-7e80-48ea-926e-f01d32634098",
   "metadata": {},
   "outputs": [],
   "source": [
    "X_train_combined = np.hstack((X_train_pca_1,X_train_pca_2))"
   ]
  },
  {
   "cell_type": "code",
   "execution_count": 67,
   "id": "06f2e8e6-9b14-40b8-9ebd-54c560066b7c",
   "metadata": {},
   "outputs": [],
   "source": [
    "X_test_combined = np.hstack((X_test_pca_1,X_test_pca_2))"
   ]
  },
  {
   "cell_type": "code",
   "execution_count": 68,
   "id": "ebae3923-f862-49f5-87ac-bf00a710a5a0",
   "metadata": {},
   "outputs": [
    {
     "data": {
      "text/html": [
       "<style>#sk-container-id-5 {color: black;background-color: white;}#sk-container-id-5 pre{padding: 0;}#sk-container-id-5 div.sk-toggleable {background-color: white;}#sk-container-id-5 label.sk-toggleable__label {cursor: pointer;display: block;width: 100%;margin-bottom: 0;padding: 0.3em;box-sizing: border-box;text-align: center;}#sk-container-id-5 label.sk-toggleable__label-arrow:before {content: \"▸\";float: left;margin-right: 0.25em;color: #696969;}#sk-container-id-5 label.sk-toggleable__label-arrow:hover:before {color: black;}#sk-container-id-5 div.sk-estimator:hover label.sk-toggleable__label-arrow:before {color: black;}#sk-container-id-5 div.sk-toggleable__content {max-height: 0;max-width: 0;overflow: hidden;text-align: left;background-color: #f0f8ff;}#sk-container-id-5 div.sk-toggleable__content pre {margin: 0.2em;color: black;border-radius: 0.25em;background-color: #f0f8ff;}#sk-container-id-5 input.sk-toggleable__control:checked~div.sk-toggleable__content {max-height: 200px;max-width: 100%;overflow: auto;}#sk-container-id-5 input.sk-toggleable__control:checked~label.sk-toggleable__label-arrow:before {content: \"▾\";}#sk-container-id-5 div.sk-estimator input.sk-toggleable__control:checked~label.sk-toggleable__label {background-color: #d4ebff;}#sk-container-id-5 div.sk-label input.sk-toggleable__control:checked~label.sk-toggleable__label {background-color: #d4ebff;}#sk-container-id-5 input.sk-hidden--visually {border: 0;clip: rect(1px 1px 1px 1px);clip: rect(1px, 1px, 1px, 1px);height: 1px;margin: -1px;overflow: hidden;padding: 0;position: absolute;width: 1px;}#sk-container-id-5 div.sk-estimator {font-family: monospace;background-color: #f0f8ff;border: 1px dotted black;border-radius: 0.25em;box-sizing: border-box;margin-bottom: 0.5em;}#sk-container-id-5 div.sk-estimator:hover {background-color: #d4ebff;}#sk-container-id-5 div.sk-parallel-item::after {content: \"\";width: 100%;border-bottom: 1px solid gray;flex-grow: 1;}#sk-container-id-5 div.sk-label:hover label.sk-toggleable__label {background-color: #d4ebff;}#sk-container-id-5 div.sk-serial::before {content: \"\";position: absolute;border-left: 1px solid gray;box-sizing: border-box;top: 0;bottom: 0;left: 50%;z-index: 0;}#sk-container-id-5 div.sk-serial {display: flex;flex-direction: column;align-items: center;background-color: white;padding-right: 0.2em;padding-left: 0.2em;position: relative;}#sk-container-id-5 div.sk-item {position: relative;z-index: 1;}#sk-container-id-5 div.sk-parallel {display: flex;align-items: stretch;justify-content: center;background-color: white;position: relative;}#sk-container-id-5 div.sk-item::before, #sk-container-id-5 div.sk-parallel-item::before {content: \"\";position: absolute;border-left: 1px solid gray;box-sizing: border-box;top: 0;bottom: 0;left: 50%;z-index: -1;}#sk-container-id-5 div.sk-parallel-item {display: flex;flex-direction: column;z-index: 1;position: relative;background-color: white;}#sk-container-id-5 div.sk-parallel-item:first-child::after {align-self: flex-end;width: 50%;}#sk-container-id-5 div.sk-parallel-item:last-child::after {align-self: flex-start;width: 50%;}#sk-container-id-5 div.sk-parallel-item:only-child::after {width: 0;}#sk-container-id-5 div.sk-dashed-wrapped {border: 1px dashed gray;margin: 0 0.4em 0.5em 0.4em;box-sizing: border-box;padding-bottom: 0.4em;background-color: white;}#sk-container-id-5 div.sk-label label {font-family: monospace;font-weight: bold;display: inline-block;line-height: 1.2em;}#sk-container-id-5 div.sk-label-container {text-align: center;}#sk-container-id-5 div.sk-container {/* jupyter's `normalize.less` sets `[hidden] { display: none; }` but bootstrap.min.css set `[hidden] { display: none !important; }` so we also need the `!important` here to be able to override the default hidden behavior on the sphinx rendered scikit-learn.org. See: https://github.com/scikit-learn/scikit-learn/issues/21755 */display: inline-block !important;position: relative;}#sk-container-id-5 div.sk-text-repr-fallback {display: none;}</style><div id=\"sk-container-id-5\" class=\"sk-top-container\"><div class=\"sk-text-repr-fallback\"><pre>RandomForestClassifier(criterion=&#x27;log_loss&#x27;)</pre><b>In a Jupyter environment, please rerun this cell to show the HTML representation or trust the notebook. <br />On GitHub, the HTML representation is unable to render, please try loading this page with nbviewer.org.</b></div><div class=\"sk-container\" hidden><div class=\"sk-item\"><div class=\"sk-estimator sk-toggleable\"><input class=\"sk-toggleable__control sk-hidden--visually\" id=\"sk-estimator-id-5\" type=\"checkbox\" checked><label for=\"sk-estimator-id-5\" class=\"sk-toggleable__label sk-toggleable__label-arrow\">RandomForestClassifier</label><div class=\"sk-toggleable__content\"><pre>RandomForestClassifier(criterion=&#x27;log_loss&#x27;)</pre></div></div></div></div></div>"
      ],
      "text/plain": [
       "RandomForestClassifier(criterion='log_loss')"
      ]
     },
     "execution_count": 68,
     "metadata": {},
     "output_type": "execute_result"
    }
   ],
   "source": [
    "model = RandomForestClassifier(criterion = \"log_loss\")\n",
    "model.fit(X_train_combined, y_train)"
   ]
  },
  {
   "cell_type": "code",
   "execution_count": 69,
   "id": "0ea26768-99ea-4568-be21-bf13a062e986",
   "metadata": {},
   "outputs": [],
   "source": [
    "y_pred = model.predict(X_test_combined)"
   ]
  },
  {
   "cell_type": "code",
   "execution_count": 70,
   "id": "1800844c-84b2-410d-9d99-e27a3e9e69c2",
   "metadata": {},
   "outputs": [
    {
     "name": "stdout",
     "output_type": "stream",
     "text": [
      "Accuracy: 0.509\n"
     ]
    }
   ],
   "source": [
    "accuracy = accuracy_score(y_test, y_pred)\n",
    "print(\"Accuracy:\", accuracy)"
   ]
  },
  {
   "cell_type": "code",
   "execution_count": 71,
   "id": "1edd3708-5e30-47ac-bf9d-7856b53457f4",
   "metadata": {},
   "outputs": [
    {
     "name": "stdout",
     "output_type": "stream",
     "text": [
      "                   precision    recall  f1-score   support\n",
      "\n",
      "Different persons       0.51      0.51      0.51       499\n",
      "      Same person       0.51      0.51      0.51       501\n",
      "\n",
      "         accuracy                           0.51      1000\n",
      "        macro avg       0.51      0.51      0.51      1000\n",
      "     weighted avg       0.51      0.51      0.51      1000\n",
      "\n"
     ]
    }
   ],
   "source": [
    "from sklearn.metrics import confusion_matrix, classification_report\n",
    "\n",
    "target = lfw_dataset_test.target\n",
    "target_names = lfw_dataset_test.target_names\n",
    "\n",
    "\n",
    "print(classification_report(y_pred, y_test, target_names=target_names))"
   ]
  },
  {
   "cell_type": "code",
   "execution_count": 73,
   "id": "97ad13ba-e911-44b1-a02c-7a4ee0bf8e2f",
   "metadata": {},
   "outputs": [
    {
     "data": {
      "text/plain": [
       "(125, 50, 37)"
      ]
     },
     "execution_count": 73,
     "metadata": {},
     "output_type": "execute_result"
    }
   ],
   "source": [
    "eigenfaces.shape"
   ]
  },
  {
   "cell_type": "code",
   "execution_count": 74,
   "id": "f8e9f6fa-b42e-4460-8d88-41bb4307f1c9",
   "metadata": {
    "tags": []
   },
   "outputs": [
    {
     "data": {
      "image/png": "[encoded data removed]",
      "text/plain": [
       "<Figure size 720x720 with 12 Axes>"
      ]
     },
     "metadata": {},
     "output_type": "display_data"
    }
   ],
   "source": [
    "# #############################################################################\n",
    "# Qualitative evaluation of the predictions using matplotlib\n",
    "\n",
    "def plot_gallery(images, titles, h, w, n_row=3, n_col=4):\n",
    "    \"\"\"Helper function to plot a gallery of portraits\"\"\"\n",
    "    \n",
    "    plt.figure(figsize=(1.8 * n_col, 2.4 * n_row))\n",
    "    plt.subplots_adjust(bottom=0, left=.01, right=.99, top=.90, hspace=.35)\n",
    "    for i in range(n_row * n_col):\n",
    "        plt.subplot(n_row, n_col, i + 1)\n",
    "        plt.imshow(images[i].reshape((50, 37)), cmap=plt.cm.gray)\n",
    "        plt.title(titles[i], size=12)\n",
    "        plt.xticks(())\n",
    "        plt.yticks(())\n",
    "\n",
    "\n",
    "# # plot the result of the prediction on a portion of the test set\n",
    "# def title(y_pred, y_test, target_names, i):\n",
    "#     pred_name = target_names[y_pred[i]].rsplit(' ', 1)[-1]\n",
    "#     true_name = target_names[y_test[i]].rsplit(' ', 1)[-1]\n",
    "#     return 'predicted: %s\\ntrue:      %s' % (pred_name, true_name)\n",
    "\n",
    "# prediction_titles = [title(y_pred, y_test, target_names, i)\n",
    "#                      for i in range(y_pred.shape[0])]\n",
    "\n",
    "# plot_gallery(X_test, prediction_titles, 50, 37)\n",
    "\n",
    "# plot the gallery of the most significative eigenfaces\n",
    "\n",
    "eigenface_titles = [\"eigenface %d\" % i for i in range(eigenfaces.shape[0])]\n",
    "plot_gallery(eigenfaces, eigenface_titles, 50, 37)\n",
    "\n",
    "plt.show()"
   ]
  },
  {
   "cell_type": "code",
   "execution_count": 84,
   "id": "c346cacd-e68d-4599-8b0b-6e766c65da5d",
   "metadata": {},
   "outputs": [
    {
     "ename": "error",
     "evalue": "OpenCV(4.8.0) /io/opencv/modules/imgproc/src/color.simd_helpers.hpp:92: error: (-2:Unspecified error) in function 'cv::impl::{anonymous}::CvtHelper<VScn, VDcn, VDepth, sizePolicy>::CvtHelper(cv::InputArray, cv::OutputArray, int) [with VScn = cv::impl::{anonymous}::Set<3, 4>; VDcn = cv::impl::{anonymous}::Set<1>; VDepth = cv::impl::{anonymous}::Set<0, 2, 5>; cv::impl::{anonymous}::SizePolicy sizePolicy = cv::impl::<unnamed>::NONE; cv::InputArray = const cv::_InputArray&; cv::OutputArray = const cv::_OutputArray&]'\n> Invalid number of channels in input image:\n>     'VScn::contains(scn)'\n> where\n>     'scn' is 1\n",
     "output_type": "error",
     "traceback": [
      "\u001b[0;31m---------------------------------------------------------------------------\u001b[0m",
      "\u001b[0;31merror\u001b[0m                                     Traceback (most recent call last)",
      "Cell \u001b[0;32mIn[84], line 5\u001b[0m\n\u001b[1;32m      1\u001b[0m \u001b[38;5;28;01mimport\u001b[39;00m \u001b[38;5;21;01mcv2\u001b[39;00m\n\u001b[1;32m      3\u001b[0m image \u001b[38;5;241m=\u001b[39m cnn_train_data_2[\u001b[38;5;241m0\u001b[39m]\n\u001b[0;32m----> 5\u001b[0m gray_image \u001b[38;5;241m=\u001b[39m \u001b[43mcv2\u001b[49m\u001b[38;5;241;43m.\u001b[39;49m\u001b[43mcvtColor\u001b[49m\u001b[43m(\u001b[49m\u001b[43mimage\u001b[49m\u001b[43m,\u001b[49m\u001b[43m \u001b[49m\u001b[43mcv2\u001b[49m\u001b[38;5;241;43m.\u001b[39;49m\u001b[43mCOLOR_BGR2GRAY\u001b[49m\u001b[43m)\u001b[49m\n\u001b[1;32m      7\u001b[0m orb \u001b[38;5;241m=\u001b[39m cv2\u001b[38;5;241m.\u001b[39mORB_create()\n\u001b[1;32m      9\u001b[0m \u001b[38;5;66;03m# Find keypoints and descriptors\u001b[39;00m\n",
      "\u001b[0;31merror\u001b[0m: OpenCV(4.8.0) /io/opencv/modules/imgproc/src/color.simd_helpers.hpp:92: error: (-2:Unspecified error) in function 'cv::impl::{anonymous}::CvtHelper<VScn, VDcn, VDepth, sizePolicy>::CvtHelper(cv::InputArray, cv::OutputArray, int) [with VScn = cv::impl::{anonymous}::Set<3, 4>; VDcn = cv::impl::{anonymous}::Set<1>; VDepth = cv::impl::{anonymous}::Set<0, 2, 5>; cv::impl::{anonymous}::SizePolicy sizePolicy = cv::impl::<unnamed>::NONE; cv::InputArray = const cv::_InputArray&; cv::OutputArray = const cv::_OutputArray&]'\n> Invalid number of channels in input image:\n>     'VScn::contains(scn)'\n> where\n>     'scn' is 1\n"
     ]
    }
   ],
   "source": [
    "import cv2\n",
    "\n",
    "image = cnn_train_data_2[0]\n",
    "\n",
    "gray_image = cv2.cvtColor(image, cv2.COLOR_BGR2GRAY)\n",
    "\n",
    "orb = cv2.ORB_create()\n",
    "\n",
    "# Find keypoints and descriptors\n",
    "keypoints, descriptors = orb.detectAndCompute(gray_image, None)\n"
   ]
  },
  {
   "cell_type": "code",
   "execution_count": 86,
   "id": "ebd8b733-25b5-45db-ac58-b32e987ce25d",
   "metadata": {},
   "outputs": [
    {
     "data": {
      "text/plain": [
       "<matplotlib.image.AxesImage at 0x7fa2987419f0>"
      ]
     },
     "execution_count": 86,
     "metadata": {},
     "output_type": "execute_result"
    },
    {
     "data": {
      "image/png": "[encoded data removed]",
      "text/plain": [
       "<Figure size 640x480 with 1 Axes>"
      ]
     },
     "metadata": {},
     "output_type": "display_data"
    }
   ],
   "source": [
    "plt.imshow(image)"
   ]
  },
  {
   "cell_type": "code",
   "execution_count": 81,
   "id": "f7caea18-ab08-4b79-9c35-91a038079fd0",
   "metadata": {},
   "outputs": [
    {
     "data": {
      "text/plain": [
       "\u001b[0;31mDocstring:\u001b[0m\n",
       "detectAndCompute(image, mask[, descriptors[, useProvidedKeypoints]]) -> keypoints, descriptors\n",
       ".   Detects keypoints and computes the descriptors\n",
       "\u001b[0;31mType:\u001b[0m      builtin_function_or_method"
      ]
     },
     "metadata": {},
     "output_type": "display_data"
    }
   ],
   "source": [
    "# Draw keypoints on the image\n",
    "image_with_keypoints = cv2.drawKeypoints(image, keypoints, None, color=(0, 255, 0), flags=0)\n",
    "\n",
    "# Show the image with keypoints\n",
    "cv2.imshow(\"ORB Keypoints\", image_with_keypoints)\n",
    "cv2.waitKey(0)\n",
    "cv2.destroyAllWindows()\n",
    "\n",
    "return keypoints, descriptors"
   ]
  },
  {
   "cell_type": "code",
   "execution_count": null,
   "id": "c2ab0b85-d2d8-487f-b96a-2317b42d1f43",
   "metadata": {},
   "outputs": [],
   "source": []
  }
 ],
 "metadata": {
  "environment": {
   "kernel": "python3",
   "name": "tf2-gpu.2-11.m109",
   "type": "gcloud",
   "uri": "gcr.io/deeplearning-platform-release/tf2-gpu.2-11:m109"
  },
  "kernelspec": {
   "display_name": "Python 3",
   "language": "python",
   "name": "python3"
  },
  "language_info": {
   "codemirror_mode": {
    "name": "ipython",
    "version": 3
   },
   "file_extension": ".py",
   "mimetype": "text/x-python",
   "name": "python",
   "nbconvert_exporter": "python",
   "pygments_lexer": "ipython3",
   "version": "3.10.11"
  }
 },
 "nbformat": 4,
 "nbformat_minor": 5
}
