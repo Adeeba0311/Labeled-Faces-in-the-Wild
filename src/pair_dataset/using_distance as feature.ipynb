{
 "cells": [
  {
   "cell_type": "code",
   "execution_count": null,
   "id": "432eb751-390a-4ada-a8b5-e4a8967f042b",
   "metadata": {},
   "outputs": [],
   "source": [
    "# https://github.com/maede43/ensemble-learning-lfw/blob/main/Ensemble_learning_LFW.ipynb"
   ]
  },
  {
   "cell_type": "code",
   "execution_count": 1,
   "id": "7617ade0-852b-419e-a638-52687c730af8",
   "metadata": {},
   "outputs": [],
   "source": [
    "from sklearn.datasets import fetch_lfw_pairs\n",
    "\n",
    "import pandas as pd\n",
    "import numpy as np\n",
    "from sklearn.preprocessing import StandardScaler\n",
    "from scipy.spatial import distance\n",
    "import xgboost as xgb\n",
    "from sklearn.decomposition import PCA\n",
    "from sklearn.metrics import confusion_matrix, accuracy_score\n",
    "from sklearn.metrics import accuracy_score\n",
    "from sklearn.model_selection import GridSearchCV\n",
    "from sklearn.pipeline import Pipeline\n",
    "from sklearn.ensemble import RandomForestClassifier\n",
    "from sklearn.ensemble import StackingClassifier\n",
    "from sklearn.tree import DecisionTreeClassifier\n",
    "from sklearn.svm import SVC, LinearSVC\n",
    "from sklearn.linear_model import Perceptron"
   ]
  },
  {
   "cell_type": "code",
   "execution_count": 2,
   "id": "1c9f4616-c725-4a0c-af3b-ddcae82b2e63",
   "metadata": {},
   "outputs": [],
   "source": [
    "lfw_dataset_train = fetch_lfw_pairs(subset='train')\n",
    "lfw_dataset_test = fetch_lfw_pairs(subset='test')"
   ]
  },
  {
   "cell_type": "code",
   "execution_count": 67,
   "id": "04834505-9c98-4777-84c8-d40b59c22dcd",
   "metadata": {},
   "outputs": [],
   "source": [
    "X_train = lfw_dataset_train.pairs\n",
    "y_train = lfw_dataset_train.target\n",
    "\n",
    "X_test = lfw_dataset_test.pairs\n",
    "y_test = lfw_dataset_test.target"
   ]
  },
  {
   "cell_type": "code",
   "execution_count": 68,
   "id": "d5df90b3-9e6d-4a06-9050-617411278f82",
   "metadata": {},
   "outputs": [],
   "source": [
    "x_train_1 = X_train[:, 0]  # x_train_1.shape is (60000, 28, 28)\n",
    "x_train_2 = X_train[:, 1]\n",
    "\n",
    "x_test_1 = X_test[:, 0]  # x_val_1.shape = (60000, 28, 28)\n",
    "x_test_2 = X_test[:, 1]"
   ]
  },
  {
   "cell_type": "code",
   "execution_count": 69,
   "id": "85caa258-781b-40c1-bb49-2beca8a0ebe2",
   "metadata": {},
   "outputs": [
    {
     "data": {
      "text/plain": [
       "(2200, 62, 47)"
      ]
     },
     "execution_count": 69,
     "metadata": {},
     "output_type": "execute_result"
    }
   ],
   "source": [
    "x_train_1.shape"
   ]
  },
  {
   "cell_type": "code",
   "execution_count": 70,
   "id": "70aee1e3-611d-459b-a8f1-432db426c2c8",
   "metadata": {},
   "outputs": [],
   "source": [
    "def flatten_arr(data):\n",
    "    arr = []\n",
    "    for image in data:\n",
    "        arr.append(image.flatten())\n",
    "    return np.array(arr)"
   ]
  },
  {
   "cell_type": "code",
   "execution_count": 71,
   "id": "cf1e8290-954f-4d88-8bd1-3ed518d8e240",
   "metadata": {},
   "outputs": [],
   "source": [
    "x_train_1 = flatten_arr(x_train_1)\n",
    "x_train_2 = flatten_arr(x_train_2)\n",
    "\n",
    "x_test_1 = flatten_arr(x_test_1)\n",
    "x_test_2 = flatten_arr(x_test_2)"
   ]
  },
  {
   "cell_type": "code",
   "execution_count": 72,
   "id": "b258dd6c-ca1d-4c8a-8144-9b28e53affc7",
   "metadata": {},
   "outputs": [
    {
     "data": {
      "text/plain": [
       "((2200, 2914), (2200, 2914), (1000, 2914), (1000, 2914))"
      ]
     },
     "execution_count": 72,
     "metadata": {},
     "output_type": "execute_result"
    }
   ],
   "source": [
    "x_train_1.shape, x_train_2.shape, x_test_1.shape, x_test_2.shape"
   ]
  },
  {
   "cell_type": "code",
   "execution_count": 73,
   "id": "cbbbb1b3-c126-4db3-8cad-a19225583910",
   "metadata": {},
   "outputs": [],
   "source": [
    "# x_train_1 = x_train_1.flatten()\n",
    "# x_train_2 = x_train_2.flatten()\n",
    "\n",
    "# x_test_1 = x_test_1.flatten()\n",
    "# x_test_2 = x_test_2.flatten()"
   ]
  },
  {
   "cell_type": "code",
   "execution_count": 74,
   "id": "1a95dc04-329b-4d91-abf8-47d7e25b0271",
   "metadata": {
    "tags": []
   },
   "outputs": [],
   "source": [
    "scaler = StandardScaler()\n",
    "def normalize(X_train,X_test):\n",
    "    X_train = scaler.fit_transform(X_train)\n",
    "    X_test = scaler.transform(X_test)\n",
    "    return X_train, X_test\n",
    "\n",
    "  \n",
    "x_train_1, x_test_1 = normalize(x_train_1, x_test_1)\n",
    "x_train_2, x_test_2 = normalize(x_train_2, x_test_2)"
   ]
  },
  {
   "cell_type": "code",
   "execution_count": 75,
   "id": "965b43b8-d7db-4aad-b70e-5d1c92f109f4",
   "metadata": {},
   "outputs": [],
   "source": [
    "def difference(data1, data2):\n",
    "    sub = data1 - data2\n",
    "    return sub\n",
    "\n",
    "x_train_sub = difference(x_train_1, x_train_2)\n",
    "x_test_sub = difference(x_test_1, x_test_2)"
   ]
  },
  {
   "cell_type": "code",
   "execution_count": 76,
   "id": "fd646859-2d61-4fe3-9040-2207fd50ae20",
   "metadata": {},
   "outputs": [
    {
     "data": {
      "text/plain": [
       "((2200, 2914), (1000, 2914))"
      ]
     },
     "execution_count": 76,
     "metadata": {},
     "output_type": "execute_result"
    }
   ],
   "source": [
    "x_train_sub.shape, x_test_sub.shape"
   ]
  },
  {
   "cell_type": "code",
   "execution_count": 77,
   "id": "9a3c10d5-d533-44db-a5e0-5c940a081560",
   "metadata": {},
   "outputs": [],
   "source": [
    "# x_train_1 = x_train_1[:, 0]  # x_train_1.shape is (60000, 28, 28)\n",
    "# x_train_2 = x_train_2[:, 1]\n",
    "\n",
    "# x_test_1 = x_test_1[:, 0]  # x_val_1.shape = (60000, 28, 28)\n",
    "# x_test_2 = x_test_2[:, 1]"
   ]
  },
  {
   "cell_type": "code",
   "execution_count": 78,
   "id": "965f4440-625f-4626-a2ee-bc51bf1923c6",
   "metadata": {},
   "outputs": [],
   "source": [
    "def distances(data1, data2):\n",
    "    cosine  = []\n",
    "    euclidean = []\n",
    "    cityblock = []\n",
    "    for index, image in enumerate(data1):\n",
    "        cosine.append(distance.cosine(image, data2[index]))\n",
    "        euclidean.append(distance.euclidean(image, data2[index]))\n",
    "        cityblock.append(distance.chebyshev(image, data2[index]))\n",
    "    return cosine, euclidean, cityblock\n",
    "\n",
    "x_train_cosine, x_train_euclidean, x_train_cityblock = distances(x_train_1, x_train_2)\n",
    "x_test_cosine, x_test_euclidean, x_test_cityblock = distances(x_test_1, x_test_2)"
   ]
  },
  {
   "cell_type": "code",
   "execution_count": 79,
   "id": "d82e682e-01c3-421f-9d15-dddf3d0319ac",
   "metadata": {},
   "outputs": [],
   "source": [
    "df_train = pd.DataFrame(columns=[\"cosine_distance\", \"euclidean_distance\", \"cityblock\", \"difference\", \"label\"])\n",
    "\n",
    "df_test = pd.DataFrame(columns=[\"cosine_distance\", \"euclidean_distance\", \"cityblock\", \"difference\", \"label\"])"
   ]
  },
  {
   "cell_type": "code",
   "execution_count": 80,
   "id": "865242a8-45e8-4ca1-aa74-d7075ada45a0",
   "metadata": {},
   "outputs": [],
   "source": [
    "df_train[\"cosine_distance\"] = list(x_train_cosine)\n",
    "df_train[\"euclidean_distance\"] = list(x_train_euclidean)\n",
    "df_train[\"cityblock\"] = list(x_train_cityblock)\n",
    "df_train[\"difference\"] = list(x_train_sub)\n",
    "df_train[\"label\"] = list(y_train)"
   ]
  },
  {
   "cell_type": "code",
   "execution_count": 81,
   "id": "9963a40f-fa87-4713-af77-33469add3eca",
   "metadata": {},
   "outputs": [],
   "source": [
    "df_test[\"cosine_distance\"] = list(x_test_cosine)\n",
    "df_test[\"euclidean_distance\"] = list(x_test_euclidean)\n",
    "df_test[\"cityblock\"] = list(x_test_cityblock)\n",
    "df_test[\"difference\"] = list(x_test_sub)\n",
    "df_test[\"label\"] = list(y_test)"
   ]
  },
  {
   "cell_type": "code",
   "execution_count": 82,
   "id": "ce3ce579-abf0-4631-9201-4fe4e9ff0546",
   "metadata": {},
   "outputs": [
    {
     "data": {
      "text/html": [
       "<div>\n",
       "<style scoped>\n",
       "    .dataframe tbody tr th:only-of-type {\n",
       "        vertical-align: middle;\n",
       "    }\n",
       "\n",
       "    .dataframe tbody tr th {\n",
       "        vertical-align: top;\n",
       "    }\n",
       "\n",
       "    .dataframe thead th {\n",
       "        text-align: right;\n",
       "    }\n",
       "</style>\n",
       "<table border=\"1\" class=\"dataframe\">\n",
       "  <thead>\n",
       "    <tr style=\"text-align: right;\">\n",
       "      <th></th>\n",
       "      <th>cosine_distance</th>\n",
       "      <th>euclidean_distance</th>\n",
       "      <th>cityblock</th>\n",
       "      <th>difference</th>\n",
       "      <th>label</th>\n",
       "    </tr>\n",
       "  </thead>\n",
       "  <tbody>\n",
       "    <tr>\n",
       "      <th>0</th>\n",
       "      <td>0.621189</td>\n",
       "      <td>40.542305</td>\n",
       "      <td>2.914099</td>\n",
       "      <td>[0.32709953, 0.066055536, 0.060812466, 0.19297...</td>\n",
       "      <td>1</td>\n",
       "    </tr>\n",
       "    <tr>\n",
       "      <th>1</th>\n",
       "      <td>1.366259</td>\n",
       "      <td>86.276566</td>\n",
       "      <td>3.846085</td>\n",
       "      <td>[-0.243422, 0.78147167, 0.6042254, 0.6420846, ...</td>\n",
       "      <td>1</td>\n",
       "    </tr>\n",
       "    <tr>\n",
       "      <th>2</th>\n",
       "      <td>0.906725</td>\n",
       "      <td>74.652199</td>\n",
       "      <td>4.188267</td>\n",
       "      <td>[0.12834334, 0.0021681786, -0.102196336, -0.20...</td>\n",
       "      <td>1</td>\n",
       "    </tr>\n",
       "  </tbody>\n",
       "</table>\n",
       "</div>"
      ],
      "text/plain": [
       "   cosine_distance  euclidean_distance  cityblock  \\\n",
       "0         0.621189           40.542305   2.914099   \n",
       "1         1.366259           86.276566   3.846085   \n",
       "2         0.906725           74.652199   4.188267   \n",
       "\n",
       "                                          difference  label  \n",
       "0  [0.32709953, 0.066055536, 0.060812466, 0.19297...      1  \n",
       "1  [-0.243422, 0.78147167, 0.6042254, 0.6420846, ...      1  \n",
       "2  [0.12834334, 0.0021681786, -0.102196336, -0.20...      1  "
      ]
     },
     "execution_count": 82,
     "metadata": {},
     "output_type": "execute_result"
    }
   ],
   "source": [
    "df_train.head(3)"
   ]
  },
  {
   "cell_type": "code",
   "execution_count": 83,
   "id": "f081d033-ddb7-4b3e-9b82-14ae787cb560",
   "metadata": {},
   "outputs": [
    {
     "data": {
      "text/html": [
       "<div>\n",
       "<style scoped>\n",
       "    .dataframe tbody tr th:only-of-type {\n",
       "        vertical-align: middle;\n",
       "    }\n",
       "\n",
       "    .dataframe tbody tr th {\n",
       "        vertical-align: top;\n",
       "    }\n",
       "\n",
       "    .dataframe thead th {\n",
       "        text-align: right;\n",
       "    }\n",
       "</style>\n",
       "<table border=\"1\" class=\"dataframe\">\n",
       "  <thead>\n",
       "    <tr style=\"text-align: right;\">\n",
       "      <th></th>\n",
       "      <th>cosine_distance</th>\n",
       "      <th>euclidean_distance</th>\n",
       "      <th>cityblock</th>\n",
       "      <th>difference</th>\n",
       "      <th>label</th>\n",
       "    </tr>\n",
       "  </thead>\n",
       "  <tbody>\n",
       "    <tr>\n",
       "      <th>0</th>\n",
       "      <td>0.740514</td>\n",
       "      <td>50.444973</td>\n",
       "      <td>3.642340</td>\n",
       "      <td>[0.88399583, 0.3118025, 0.21575242, 0.23412043...</td>\n",
       "      <td>1</td>\n",
       "    </tr>\n",
       "    <tr>\n",
       "      <th>1</th>\n",
       "      <td>1.074314</td>\n",
       "      <td>78.348885</td>\n",
       "      <td>4.159446</td>\n",
       "      <td>[-0.118907735, -0.54705584, -0.33331823, -0.47...</td>\n",
       "      <td>1</td>\n",
       "    </tr>\n",
       "    <tr>\n",
       "      <th>2</th>\n",
       "      <td>1.107070</td>\n",
       "      <td>63.010399</td>\n",
       "      <td>2.976100</td>\n",
       "      <td>[-0.55708647, -0.5926435, -0.47381562, -0.4158...</td>\n",
       "      <td>1</td>\n",
       "    </tr>\n",
       "  </tbody>\n",
       "</table>\n",
       "</div>"
      ],
      "text/plain": [
       "   cosine_distance  euclidean_distance  cityblock  \\\n",
       "0         0.740514           50.444973   3.642340   \n",
       "1         1.074314           78.348885   4.159446   \n",
       "2         1.107070           63.010399   2.976100   \n",
       "\n",
       "                                          difference  label  \n",
       "0  [0.88399583, 0.3118025, 0.21575242, 0.23412043...      1  \n",
       "1  [-0.118907735, -0.54705584, -0.33331823, -0.47...      1  \n",
       "2  [-0.55708647, -0.5926435, -0.47381562, -0.4158...      1  "
      ]
     },
     "execution_count": 83,
     "metadata": {},
     "output_type": "execute_result"
    }
   ],
   "source": [
    "df_test.head(3)"
   ]
  },
  {
   "cell_type": "code",
   "execution_count": 84,
   "id": "6f6d941a-31ae-43c9-b673-d9fe08781883",
   "metadata": {},
   "outputs": [],
   "source": [
    "# convert True -> 1 and False -> 0\n",
    "df_train[\"label\"] = df_train[\"label\"].astype(int)\n",
    "df_test[\"label\"] = df_test[\"label\"].astype(int)\n",
    "\n",
    "features = df_train.drop(columns=[\"label\",\"difference\"]).columns.tolist()\n",
    "\n",
    "x_train = df_train.drop(columns=[\"label\",\"difference\"])\n",
    "y_train = df_train[\"label\"]\n",
    "x_test = df_test.drop(columns=[\"label\",\"difference\"])\n",
    "y_test = df_test[\"label\"]"
   ]
  },
  {
   "cell_type": "code",
   "execution_count": 85,
   "id": "15615b21-84f5-4e10-9125-f3a3ff71595b",
   "metadata": {},
   "outputs": [],
   "source": [
    "params = {\n",
    "    'objective': 'multi:softprob',\n",
    "    'num_class': 2,\n",
    "    'eval_metric': 'mlogloss',\n",
    "    'booster': 'gbtree'\n",
    "}"
   ]
  },
  {
   "cell_type": "code",
   "execution_count": 86,
   "id": "1b73189d-dc6a-4397-9633-a6c1a4395a08",
   "metadata": {},
   "outputs": [
    {
     "name": "stderr",
     "output_type": "stream",
     "text": [
      "/opt/conda/lib/python3.10/site-packages/xgboost/core.py:617: FutureWarning: Pass `objective` as keyword args.\n",
      "  warnings.warn(msg, FutureWarning)\n"
     ]
    }
   ],
   "source": [
    "xgb_cl = xgb.XGBClassifier(params)"
   ]
  },
  {
   "cell_type": "code",
   "execution_count": 87,
   "id": "2ed69f7d-5a0a-487b-9fb8-58b1cd3f6629",
   "metadata": {},
   "outputs": [],
   "source": [
    "dtrain = xgb.DMatrix(x_train, label=y_train)"
   ]
  },
  {
   "cell_type": "code",
   "execution_count": 88,
   "id": "ad840654-ee4c-4e21-8b7a-9f8df2bc06b0",
   "metadata": {},
   "outputs": [
    {
     "name": "stdout",
     "output_type": "stream",
     "text": [
      "Accuracy: 62.40%\n"
     ]
    }
   ],
   "source": [
    "# Train the XGBoost model\n",
    "num_rounds = 250\n",
    "model = xgb.train(params, dtrain, num_rounds)\n",
    "\n",
    "# Create the XGBoost DMatrix for test data\n",
    "dtest = xgb.DMatrix(x_test)\n",
    "\n",
    "# Make predictions on the test set\n",
    "y_pred_proba = model.predict(dtest)\n",
    "y_pred = y_pred_proba.argmax(axis=1)\n",
    "\n",
    "# Calculate accuracy\n",
    "accuracy = accuracy_score(y_test, y_pred)\n",
    "print(\"Accuracy: {:.2f}%\".format(accuracy * 100))"
   ]
  },
  {
   "cell_type": "code",
   "execution_count": 89,
   "id": "2b43181c-bf4e-48f4-8776-de23928af95b",
   "metadata": {},
   "outputs": [],
   "source": [
    "# # Fit\n",
    "# model.fit(x_train, y_train)\n",
    "\n",
    "# # Predict\n",
    "# y_pred = xgb_cl.predict(x_test)\n",
    "\n",
    "# # Score\n",
    "# accuracy_score(y_test, y_pred)"
   ]
  },
  {
   "cell_type": "code",
   "execution_count": 90,
   "id": "cb82f664-2c9c-4eae-8d34-80eb314a0d54",
   "metadata": {},
   "outputs": [
    {
     "name": "stdout",
     "output_type": "stream",
     "text": [
      "                   precision    recall  f1-score   support\n",
      "\n",
      "Different persons       0.64      0.62      0.63       520\n",
      "      Same person       0.60      0.63      0.62       480\n",
      "\n",
      "         accuracy                           0.62      1000\n",
      "        macro avg       0.62      0.62      0.62      1000\n",
      "     weighted avg       0.62      0.62      0.62      1000\n",
      "\n"
     ]
    }
   ],
   "source": [
    "from sklearn.metrics import confusion_matrix, classification_report\n",
    "\n",
    "target = lfw_dataset_test.target\n",
    "target_names = lfw_dataset_test.target_names\n",
    "\n",
    "\n",
    "print(classification_report(y_pred, y_test, target_names=target_names))"
   ]
  },
  {
   "cell_type": "code",
   "execution_count": 91,
   "id": "868a293a-ea38-4046-9c72-2126204d48ea",
   "metadata": {},
   "outputs": [],
   "source": [
    "import lightgbm as lgb"
   ]
  },
  {
   "cell_type": "code",
   "execution_count": 92,
   "id": "40e441a6-a080-4f01-8733-d550bc00da0f",
   "metadata": {},
   "outputs": [
    {
     "data": {
      "text/plain": [
       "<lightgbm.callback._EarlyStoppingCallback at 0x7f66732c13c0>"
      ]
     },
     "execution_count": 92,
     "metadata": {},
     "output_type": "execute_result"
    }
   ],
   "source": [
    "lgb_train = lgb.Dataset(x_train, y_train, feature_name=features)\n",
    "lgb_test = lgb.Dataset(x_test, y_test, feature_name = features)\n",
    "# lgb.early_stopping(15)"
   ]
  },
  {
   "cell_type": "code",
   "execution_count": 98,
   "id": "99c5e961-87cb-417f-a5b6-d98707bb0f72",
   "metadata": {},
   "outputs": [
    {
     "ename": "TypeError",
     "evalue": "train() got an unexpected keyword argument 'early_stopping_rounds'",
     "output_type": "error",
     "traceback": [
      "\u001b[0;31m---------------------------------------------------------------------------\u001b[0m",
      "\u001b[0;31mTypeError\u001b[0m                                 Traceback (most recent call last)",
      "Cell \u001b[0;32mIn[98], line 9\u001b[0m\n\u001b[1;32m      1\u001b[0m params \u001b[38;5;241m=\u001b[39m {\n\u001b[1;32m      2\u001b[0m \u001b[38;5;124m'\u001b[39m\u001b[38;5;124mtask\u001b[39m\u001b[38;5;124m'\u001b[39m: \u001b[38;5;124m'\u001b[39m\u001b[38;5;124mtrain\u001b[39m\u001b[38;5;124m'\u001b[39m\n\u001b[1;32m      3\u001b[0m , \u001b[38;5;124m'\u001b[39m\u001b[38;5;124mboosting_type\u001b[39m\u001b[38;5;124m'\u001b[39m: \u001b[38;5;124m'\u001b[39m\u001b[38;5;124mgbdt\u001b[39m\u001b[38;5;124m'\u001b[39m\n\u001b[0;32m   (...)\u001b[0m\n\u001b[1;32m      6\u001b[0m , \u001b[38;5;124m'\u001b[39m\u001b[38;5;124mmetric\u001b[39m\u001b[38;5;124m'\u001b[39m: \u001b[38;5;124m'\u001b[39m\u001b[38;5;124mmulti_logloss\u001b[39m\u001b[38;5;124m'\u001b[39m\n\u001b[1;32m      7\u001b[0m }\n\u001b[0;32m----> 9\u001b[0m gbm \u001b[38;5;241m=\u001b[39m \u001b[43mlgb\u001b[49m\u001b[38;5;241;43m.\u001b[39;49m\u001b[43mtrain\u001b[49m\u001b[43m(\u001b[49m\u001b[43mparams\u001b[49m\u001b[43m,\u001b[49m\u001b[43m \u001b[49m\u001b[43mlgb_train\u001b[49m\u001b[43m,\u001b[49m\u001b[43m \u001b[49m\u001b[43mnum_boost_round\u001b[49m\u001b[38;5;241;43m=\u001b[39;49m\u001b[38;5;241;43m250\u001b[39;49m\u001b[43m,\u001b[49m\u001b[43m \u001b[49m\u001b[43mvalid_sets\u001b[49m\u001b[38;5;241;43m=\u001b[39;49m\u001b[43m[\u001b[49m\u001b[43mlgb_test\u001b[49m\u001b[43m]\u001b[49m\u001b[43m,\u001b[49m\u001b[43m \u001b[49m\u001b[43mearly_stopping_rounds\u001b[49m\u001b[43m \u001b[49m\u001b[38;5;241;43m=\u001b[39;49m\u001b[43m \u001b[49m\u001b[38;5;241;43m15\u001b[39;49m\u001b[43m)\u001b[49m \u001b[38;5;66;03m#early_stopping_rounds = 15,\u001b[39;00m\n",
      "\u001b[0;31mTypeError\u001b[0m: train() got an unexpected keyword argument 'early_stopping_rounds'"
     ]
    }
   ],
   "source": [
    "params = {\n",
    "'task': 'train'\n",
    ", 'boosting_type': 'gbdt'\n",
    ", 'objective': 'multiclass'\n",
    ", 'num_class': 2\n",
    ", 'metric': 'multi_logloss'\n",
    "}\n",
    " \n",
    "gbm = lgb.train(params, lgb_train, num_boost_round=250, valid_sets=[lgb_test], early_stopping_rounds = 15) #early_stopping_rounds = 15,"
   ]
  },
  {
   "cell_type": "code",
   "execution_count": 95,
   "id": "6f150de6-edc2-4b0c-8678-bc3baa9de515",
   "metadata": {},
   "outputs": [],
   "source": [
    "predictions = gbm.predict(x_test)"
   ]
  },
  {
   "cell_type": "code",
   "execution_count": 96,
   "id": "ef07ca18-792f-44d4-98ef-f3bcf03141b0",
   "metadata": {},
   "outputs": [
    {
     "name": "stdout",
     "output_type": "stream",
     "text": [
      "accuracy: 61.4%\n"
     ]
    }
   ],
   "source": [
    "y_pred = []\n",
    "for prediction in predictions:\n",
    "  prediction_class = np.argmax(prediction)\n",
    "  y_pred.append(prediction_class)\n",
    "\n",
    "accuracy = accuracy_score(y_pred, y_test)\n",
    "print(\"accuracy: {:.1f}%\".format(accuracy * 100))"
   ]
  },
  {
   "cell_type": "code",
   "execution_count": 97,
   "id": "a90dab5a-b06e-4cd9-ba89-4f71c26b9a2a",
   "metadata": {},
   "outputs": [
    {
     "name": "stdout",
     "output_type": "stream",
     "text": [
      "                   precision    recall  f1-score   support\n",
      "\n",
      "Different persons       0.62      0.61      0.62       504\n",
      "      Same person       0.61      0.61      0.61       496\n",
      "\n",
      "         accuracy                           0.61      1000\n",
      "        macro avg       0.61      0.61      0.61      1000\n",
      "     weighted avg       0.61      0.61      0.61      1000\n",
      "\n"
     ]
    }
   ],
   "source": [
    "from sklearn.metrics import confusion_matrix, classification_report\n",
    "\n",
    "target = lfw_dataset_test.target\n",
    "target_names = lfw_dataset_test.target_names\n",
    "\n",
    "\n",
    "print(classification_report(y_pred, y_test, target_names=target_names))"
   ]
  },
  {
   "cell_type": "code",
   "execution_count": null,
   "id": "dfa78873-42ee-4054-bb13-05b7eca68846",
   "metadata": {},
   "outputs": [],
   "source": []
  }
 ],
 "metadata": {
  "environment": {
   "kernel": "python3",
   "name": "tf2-gpu.2-11.m109",
   "type": "gcloud",
   "uri": "gcr.io/deeplearning-platform-release/tf2-gpu.2-11:m109"
  },
  "kernelspec": {
   "display_name": "Python 3",
   "language": "python",
   "name": "python3"
  },
  "language_info": {
   "codemirror_mode": {
    "name": "ipython",
    "version": 3
   },
   "file_extension": ".py",
   "mimetype": "text/x-python",
   "name": "python",
   "nbconvert_exporter": "python",
   "pygments_lexer": "ipython3",
   "version": "3.10.11"
  }
 },
 "nbformat": 4,
 "nbformat_minor": 5
}
