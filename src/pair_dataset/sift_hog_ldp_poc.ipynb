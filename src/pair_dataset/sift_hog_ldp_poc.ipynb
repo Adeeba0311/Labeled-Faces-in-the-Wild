{
 "cells": [
  {
   "cell_type": "code",
   "execution_count": 1,
   "id": "9e3cdc9f-7039-49dd-8297-50b4ac572968",
   "metadata": {},
   "outputs": [],
   "source": [
    "from time import time\n",
    "from __future__ import print_function\n",
    "\n",
    "from time import time\n",
    "import logging\n",
    "import matplotlib.pyplot as plt\n",
    "\n",
    "from sklearn.model_selection import train_test_split\n",
    "from sklearn.model_selection import GridSearchCV\n",
    "from sklearn.datasets import fetch_lfw_people\n",
    "from sklearn.metrics import classification_report\n",
    "from sklearn.metrics import confusion_matrix\n",
    "from sklearn.decomposition import PCA\n",
    "from sklearn.svm import SVC\n",
    "\n",
    "import numpy as np\n",
    "from sklearn.model_selection import train_test_split\n",
    "from sklearn.linear_model import LogisticRegression\n",
    "from sklearn.metrics import accuracy_score\n",
    "from sklearn.preprocessing import StandardScaler\n",
    "\n",
    "from PIL import Image\n",
    "from sklearn.ensemble import RandomForestClassifier\n",
    "from sklearn.datasets import fetch_lfw_pairs\n",
    "\n",
    "import xgboost as xgb\n",
    "from sklearn.metrics import confusion_matrix, classification_report"
   ]
  },
  {
   "cell_type": "code",
   "execution_count": 2,
   "id": "11b1ee33-d2c1-4688-b0c3-b5836c7de794",
   "metadata": {},
   "outputs": [],
   "source": [
    "lfw_dataset_train = fetch_lfw_pairs(subset='train', resize=0.4, color=True)\n",
    "lfw_dataset_test = fetch_lfw_pairs(subset='test',resize=0.4, color=True)"
   ]
  },
  {
   "cell_type": "code",
   "execution_count": 3,
   "id": "7f37014d-e858-4423-99b0-892c6d805d19",
   "metadata": {},
   "outputs": [],
   "source": [
    "X_train = lfw_dataset_train.data\n",
    "y_train = lfw_dataset_train.target\n",
    "\n",
    "X_test = lfw_dataset_test.data\n",
    "y_test = lfw_dataset_test.target"
   ]
  },
  {
   "cell_type": "code",
   "execution_count": 9,
   "id": "a657fa0f-4a2f-449b-8ad2-eed2168ef961",
   "metadata": {},
   "outputs": [
    {
     "data": {
      "text/plain": [
       "array([1, 1, 1, ..., 0, 0, 0])"
      ]
     },
     "execution_count": 9,
     "metadata": {},
     "output_type": "execute_result"
    }
   ],
   "source": [
    "lfw_dataset_train.target"
   ]
  },
  {
   "cell_type": "code",
   "execution_count": 6,
   "id": "a63367f6-2f92-421b-b066-70d3ee66507f",
   "metadata": {},
   "outputs": [
    {
     "data": {
      "text/plain": [
       "(2200, 2, 50, 37, 3)"
      ]
     },
     "execution_count": 6,
     "metadata": {},
     "output_type": "execute_result"
    }
   ],
   "source": [
    "lfw_dataset_train.pairs.shape"
   ]
  },
  {
   "cell_type": "code",
   "execution_count": 17,
   "id": "c3eeaf61-ca81-48a6-be54-81d2d8a7fff6",
   "metadata": {},
   "outputs": [
    {
     "data": {
      "text/plain": [
       "11100"
      ]
     },
     "execution_count": 17,
     "metadata": {},
     "output_type": "execute_result"
    }
   ],
   "source": [
    "50*37*3*2"
   ]
  },
  {
   "cell_type": "code",
   "execution_count": 13,
   "id": "98058f78-7eed-4d53-9c13-e79892e86655",
   "metadata": {},
   "outputs": [
    {
     "data": {
      "text/plain": [
       "(1000, 2, 50, 37, 3)"
      ]
     },
     "execution_count": 13,
     "metadata": {},
     "output_type": "execute_result"
    }
   ],
   "source": [
    "lfw_dataset_test.pairs.shape"
   ]
  },
  {
   "cell_type": "code",
   "execution_count": 18,
   "id": "94799dfc-6ee9-4e2e-bc7a-66df1d442063",
   "metadata": {
    "collapsed": true,
    "jupyter": {
     "outputs_hidden": true
    },
    "tags": []
   },
   "outputs": [
    {
     "ename": "TypeError",
     "evalue": "Invalid shape (11100,) for image data",
     "output_type": "error",
     "traceback": [
      "\u001b[0;31m---------------------------------------------------------------------------\u001b[0m",
      "\u001b[0;31mTypeError\u001b[0m                                 Traceback (most recent call last)",
      "Cell \u001b[0;32mIn[18], line 1\u001b[0m\n\u001b[0;32m----> 1\u001b[0m \u001b[43mplt\u001b[49m\u001b[38;5;241;43m.\u001b[39;49m\u001b[43mimshow\u001b[49m\u001b[43m(\u001b[49m\u001b[43mlfw_dataset_train\u001b[49m\u001b[38;5;241;43m.\u001b[39;49m\u001b[43mdata\u001b[49m\u001b[43m[\u001b[49m\u001b[38;5;241;43m0\u001b[39;49m\u001b[43m]\u001b[49m\u001b[43m)\u001b[49m\n",
      "File \u001b[0;32m/opt/conda/lib/python3.10/site-packages/matplotlib/pyplot.py:2695\u001b[0m, in \u001b[0;36mimshow\u001b[0;34m(X, cmap, norm, aspect, interpolation, alpha, vmin, vmax, origin, extent, interpolation_stage, filternorm, filterrad, resample, url, data, **kwargs)\u001b[0m\n\u001b[1;32m   2689\u001b[0m \u001b[38;5;129m@_copy_docstring_and_deprecators\u001b[39m(Axes\u001b[38;5;241m.\u001b[39mimshow)\n\u001b[1;32m   2690\u001b[0m \u001b[38;5;28;01mdef\u001b[39;00m \u001b[38;5;21mimshow\u001b[39m(\n\u001b[1;32m   2691\u001b[0m         X, cmap\u001b[38;5;241m=\u001b[39m\u001b[38;5;28;01mNone\u001b[39;00m, norm\u001b[38;5;241m=\u001b[39m\u001b[38;5;28;01mNone\u001b[39;00m, \u001b[38;5;241m*\u001b[39m, aspect\u001b[38;5;241m=\u001b[39m\u001b[38;5;28;01mNone\u001b[39;00m, interpolation\u001b[38;5;241m=\u001b[39m\u001b[38;5;28;01mNone\u001b[39;00m,\n\u001b[1;32m   2692\u001b[0m         alpha\u001b[38;5;241m=\u001b[39m\u001b[38;5;28;01mNone\u001b[39;00m, vmin\u001b[38;5;241m=\u001b[39m\u001b[38;5;28;01mNone\u001b[39;00m, vmax\u001b[38;5;241m=\u001b[39m\u001b[38;5;28;01mNone\u001b[39;00m, origin\u001b[38;5;241m=\u001b[39m\u001b[38;5;28;01mNone\u001b[39;00m, extent\u001b[38;5;241m=\u001b[39m\u001b[38;5;28;01mNone\u001b[39;00m,\n\u001b[1;32m   2693\u001b[0m         interpolation_stage\u001b[38;5;241m=\u001b[39m\u001b[38;5;28;01mNone\u001b[39;00m, filternorm\u001b[38;5;241m=\u001b[39m\u001b[38;5;28;01mTrue\u001b[39;00m, filterrad\u001b[38;5;241m=\u001b[39m\u001b[38;5;241m4.0\u001b[39m,\n\u001b[1;32m   2694\u001b[0m         resample\u001b[38;5;241m=\u001b[39m\u001b[38;5;28;01mNone\u001b[39;00m, url\u001b[38;5;241m=\u001b[39m\u001b[38;5;28;01mNone\u001b[39;00m, data\u001b[38;5;241m=\u001b[39m\u001b[38;5;28;01mNone\u001b[39;00m, \u001b[38;5;241m*\u001b[39m\u001b[38;5;241m*\u001b[39mkwargs):\n\u001b[0;32m-> 2695\u001b[0m     __ret \u001b[38;5;241m=\u001b[39m \u001b[43mgca\u001b[49m\u001b[43m(\u001b[49m\u001b[43m)\u001b[49m\u001b[38;5;241;43m.\u001b[39;49m\u001b[43mimshow\u001b[49m\u001b[43m(\u001b[49m\n\u001b[1;32m   2696\u001b[0m \u001b[43m        \u001b[49m\u001b[43mX\u001b[49m\u001b[43m,\u001b[49m\u001b[43m \u001b[49m\u001b[43mcmap\u001b[49m\u001b[38;5;241;43m=\u001b[39;49m\u001b[43mcmap\u001b[49m\u001b[43m,\u001b[49m\u001b[43m \u001b[49m\u001b[43mnorm\u001b[49m\u001b[38;5;241;43m=\u001b[39;49m\u001b[43mnorm\u001b[49m\u001b[43m,\u001b[49m\u001b[43m \u001b[49m\u001b[43maspect\u001b[49m\u001b[38;5;241;43m=\u001b[39;49m\u001b[43maspect\u001b[49m\u001b[43m,\u001b[49m\n\u001b[1;32m   2697\u001b[0m \u001b[43m        \u001b[49m\u001b[43minterpolation\u001b[49m\u001b[38;5;241;43m=\u001b[39;49m\u001b[43minterpolation\u001b[49m\u001b[43m,\u001b[49m\u001b[43m \u001b[49m\u001b[43malpha\u001b[49m\u001b[38;5;241;43m=\u001b[39;49m\u001b[43malpha\u001b[49m\u001b[43m,\u001b[49m\u001b[43m \u001b[49m\u001b[43mvmin\u001b[49m\u001b[38;5;241;43m=\u001b[39;49m\u001b[43mvmin\u001b[49m\u001b[43m,\u001b[49m\n\u001b[1;32m   2698\u001b[0m \u001b[43m        \u001b[49m\u001b[43mvmax\u001b[49m\u001b[38;5;241;43m=\u001b[39;49m\u001b[43mvmax\u001b[49m\u001b[43m,\u001b[49m\u001b[43m \u001b[49m\u001b[43morigin\u001b[49m\u001b[38;5;241;43m=\u001b[39;49m\u001b[43morigin\u001b[49m\u001b[43m,\u001b[49m\u001b[43m \u001b[49m\u001b[43mextent\u001b[49m\u001b[38;5;241;43m=\u001b[39;49m\u001b[43mextent\u001b[49m\u001b[43m,\u001b[49m\n\u001b[1;32m   2699\u001b[0m \u001b[43m        \u001b[49m\u001b[43minterpolation_stage\u001b[49m\u001b[38;5;241;43m=\u001b[39;49m\u001b[43minterpolation_stage\u001b[49m\u001b[43m,\u001b[49m\n\u001b[1;32m   2700\u001b[0m \u001b[43m        \u001b[49m\u001b[43mfilternorm\u001b[49m\u001b[38;5;241;43m=\u001b[39;49m\u001b[43mfilternorm\u001b[49m\u001b[43m,\u001b[49m\u001b[43m \u001b[49m\u001b[43mfilterrad\u001b[49m\u001b[38;5;241;43m=\u001b[39;49m\u001b[43mfilterrad\u001b[49m\u001b[43m,\u001b[49m\u001b[43m \u001b[49m\u001b[43mresample\u001b[49m\u001b[38;5;241;43m=\u001b[39;49m\u001b[43mresample\u001b[49m\u001b[43m,\u001b[49m\n\u001b[1;32m   2701\u001b[0m \u001b[43m        \u001b[49m\u001b[43murl\u001b[49m\u001b[38;5;241;43m=\u001b[39;49m\u001b[43murl\u001b[49m\u001b[43m,\u001b[49m\u001b[43m \u001b[49m\u001b[38;5;241;43m*\u001b[39;49m\u001b[38;5;241;43m*\u001b[39;49m\u001b[43m(\u001b[49m\u001b[43m{\u001b[49m\u001b[38;5;124;43m\"\u001b[39;49m\u001b[38;5;124;43mdata\u001b[39;49m\u001b[38;5;124;43m\"\u001b[39;49m\u001b[43m:\u001b[49m\u001b[43m \u001b[49m\u001b[43mdata\u001b[49m\u001b[43m}\u001b[49m\u001b[43m \u001b[49m\u001b[38;5;28;43;01mif\u001b[39;49;00m\u001b[43m \u001b[49m\u001b[43mdata\u001b[49m\u001b[43m \u001b[49m\u001b[38;5;129;43;01mis\u001b[39;49;00m\u001b[43m \u001b[49m\u001b[38;5;129;43;01mnot\u001b[39;49;00m\u001b[43m \u001b[49m\u001b[38;5;28;43;01mNone\u001b[39;49;00m\u001b[43m \u001b[49m\u001b[38;5;28;43;01melse\u001b[39;49;00m\u001b[43m \u001b[49m\u001b[43m{\u001b[49m\u001b[43m}\u001b[49m\u001b[43m)\u001b[49m\u001b[43m,\u001b[49m\n\u001b[1;32m   2702\u001b[0m \u001b[43m        \u001b[49m\u001b[38;5;241;43m*\u001b[39;49m\u001b[38;5;241;43m*\u001b[39;49m\u001b[43mkwargs\u001b[49m\u001b[43m)\u001b[49m\n\u001b[1;32m   2703\u001b[0m     sci(__ret)\n\u001b[1;32m   2704\u001b[0m     \u001b[38;5;28;01mreturn\u001b[39;00m __ret\n",
      "File \u001b[0;32m/opt/conda/lib/python3.10/site-packages/matplotlib/__init__.py:1442\u001b[0m, in \u001b[0;36m_preprocess_data.<locals>.inner\u001b[0;34m(ax, data, *args, **kwargs)\u001b[0m\n\u001b[1;32m   1439\u001b[0m \u001b[38;5;129m@functools\u001b[39m\u001b[38;5;241m.\u001b[39mwraps(func)\n\u001b[1;32m   1440\u001b[0m \u001b[38;5;28;01mdef\u001b[39;00m \u001b[38;5;21minner\u001b[39m(ax, \u001b[38;5;241m*\u001b[39margs, data\u001b[38;5;241m=\u001b[39m\u001b[38;5;28;01mNone\u001b[39;00m, \u001b[38;5;241m*\u001b[39m\u001b[38;5;241m*\u001b[39mkwargs):\n\u001b[1;32m   1441\u001b[0m     \u001b[38;5;28;01mif\u001b[39;00m data \u001b[38;5;129;01mis\u001b[39;00m \u001b[38;5;28;01mNone\u001b[39;00m:\n\u001b[0;32m-> 1442\u001b[0m         \u001b[38;5;28;01mreturn\u001b[39;00m \u001b[43mfunc\u001b[49m\u001b[43m(\u001b[49m\u001b[43max\u001b[49m\u001b[43m,\u001b[49m\u001b[43m \u001b[49m\u001b[38;5;241;43m*\u001b[39;49m\u001b[38;5;28;43mmap\u001b[39;49m\u001b[43m(\u001b[49m\u001b[43msanitize_sequence\u001b[49m\u001b[43m,\u001b[49m\u001b[43m \u001b[49m\u001b[43margs\u001b[49m\u001b[43m)\u001b[49m\u001b[43m,\u001b[49m\u001b[43m \u001b[49m\u001b[38;5;241;43m*\u001b[39;49m\u001b[38;5;241;43m*\u001b[39;49m\u001b[43mkwargs\u001b[49m\u001b[43m)\u001b[49m\n\u001b[1;32m   1444\u001b[0m     bound \u001b[38;5;241m=\u001b[39m new_sig\u001b[38;5;241m.\u001b[39mbind(ax, \u001b[38;5;241m*\u001b[39margs, \u001b[38;5;241m*\u001b[39m\u001b[38;5;241m*\u001b[39mkwargs)\n\u001b[1;32m   1445\u001b[0m     auto_label \u001b[38;5;241m=\u001b[39m (bound\u001b[38;5;241m.\u001b[39marguments\u001b[38;5;241m.\u001b[39mget(label_namer)\n\u001b[1;32m   1446\u001b[0m                   \u001b[38;5;129;01mor\u001b[39;00m bound\u001b[38;5;241m.\u001b[39mkwargs\u001b[38;5;241m.\u001b[39mget(label_namer))\n",
      "File \u001b[0;32m/opt/conda/lib/python3.10/site-packages/matplotlib/axes/_axes.py:5665\u001b[0m, in \u001b[0;36mAxes.imshow\u001b[0;34m(self, X, cmap, norm, aspect, interpolation, alpha, vmin, vmax, origin, extent, interpolation_stage, filternorm, filterrad, resample, url, **kwargs)\u001b[0m\n\u001b[1;32m   5657\u001b[0m \u001b[38;5;28mself\u001b[39m\u001b[38;5;241m.\u001b[39mset_aspect(aspect)\n\u001b[1;32m   5658\u001b[0m im \u001b[38;5;241m=\u001b[39m mimage\u001b[38;5;241m.\u001b[39mAxesImage(\u001b[38;5;28mself\u001b[39m, cmap\u001b[38;5;241m=\u001b[39mcmap, norm\u001b[38;5;241m=\u001b[39mnorm,\n\u001b[1;32m   5659\u001b[0m                       interpolation\u001b[38;5;241m=\u001b[39minterpolation, origin\u001b[38;5;241m=\u001b[39morigin,\n\u001b[1;32m   5660\u001b[0m                       extent\u001b[38;5;241m=\u001b[39mextent, filternorm\u001b[38;5;241m=\u001b[39mfilternorm,\n\u001b[1;32m   5661\u001b[0m                       filterrad\u001b[38;5;241m=\u001b[39mfilterrad, resample\u001b[38;5;241m=\u001b[39mresample,\n\u001b[1;32m   5662\u001b[0m                       interpolation_stage\u001b[38;5;241m=\u001b[39minterpolation_stage,\n\u001b[1;32m   5663\u001b[0m                       \u001b[38;5;241m*\u001b[39m\u001b[38;5;241m*\u001b[39mkwargs)\n\u001b[0;32m-> 5665\u001b[0m \u001b[43mim\u001b[49m\u001b[38;5;241;43m.\u001b[39;49m\u001b[43mset_data\u001b[49m\u001b[43m(\u001b[49m\u001b[43mX\u001b[49m\u001b[43m)\u001b[49m\n\u001b[1;32m   5666\u001b[0m im\u001b[38;5;241m.\u001b[39mset_alpha(alpha)\n\u001b[1;32m   5667\u001b[0m \u001b[38;5;28;01mif\u001b[39;00m im\u001b[38;5;241m.\u001b[39mget_clip_path() \u001b[38;5;129;01mis\u001b[39;00m \u001b[38;5;28;01mNone\u001b[39;00m:\n\u001b[1;32m   5668\u001b[0m     \u001b[38;5;66;03m# image does not already have clipping set, clip to axes patch\u001b[39;00m\n",
      "File \u001b[0;32m/opt/conda/lib/python3.10/site-packages/matplotlib/image.py:710\u001b[0m, in \u001b[0;36m_ImageBase.set_data\u001b[0;34m(self, A)\u001b[0m\n\u001b[1;32m    706\u001b[0m     \u001b[38;5;28mself\u001b[39m\u001b[38;5;241m.\u001b[39m_A \u001b[38;5;241m=\u001b[39m \u001b[38;5;28mself\u001b[39m\u001b[38;5;241m.\u001b[39m_A[:, :, \u001b[38;5;241m0\u001b[39m]\n\u001b[1;32m    708\u001b[0m \u001b[38;5;28;01mif\u001b[39;00m \u001b[38;5;129;01mnot\u001b[39;00m (\u001b[38;5;28mself\u001b[39m\u001b[38;5;241m.\u001b[39m_A\u001b[38;5;241m.\u001b[39mndim \u001b[38;5;241m==\u001b[39m \u001b[38;5;241m2\u001b[39m\n\u001b[1;32m    709\u001b[0m         \u001b[38;5;129;01mor\u001b[39;00m \u001b[38;5;28mself\u001b[39m\u001b[38;5;241m.\u001b[39m_A\u001b[38;5;241m.\u001b[39mndim \u001b[38;5;241m==\u001b[39m \u001b[38;5;241m3\u001b[39m \u001b[38;5;129;01mand\u001b[39;00m \u001b[38;5;28mself\u001b[39m\u001b[38;5;241m.\u001b[39m_A\u001b[38;5;241m.\u001b[39mshape[\u001b[38;5;241m-\u001b[39m\u001b[38;5;241m1\u001b[39m] \u001b[38;5;129;01min\u001b[39;00m [\u001b[38;5;241m3\u001b[39m, \u001b[38;5;241m4\u001b[39m]):\n\u001b[0;32m--> 710\u001b[0m     \u001b[38;5;28;01mraise\u001b[39;00m \u001b[38;5;167;01mTypeError\u001b[39;00m(\u001b[38;5;124m\"\u001b[39m\u001b[38;5;124mInvalid shape \u001b[39m\u001b[38;5;132;01m{}\u001b[39;00m\u001b[38;5;124m for image data\u001b[39m\u001b[38;5;124m\"\u001b[39m\n\u001b[1;32m    711\u001b[0m                     \u001b[38;5;241m.\u001b[39mformat(\u001b[38;5;28mself\u001b[39m\u001b[38;5;241m.\u001b[39m_A\u001b[38;5;241m.\u001b[39mshape))\n\u001b[1;32m    713\u001b[0m \u001b[38;5;28;01mif\u001b[39;00m \u001b[38;5;28mself\u001b[39m\u001b[38;5;241m.\u001b[39m_A\u001b[38;5;241m.\u001b[39mndim \u001b[38;5;241m==\u001b[39m \u001b[38;5;241m3\u001b[39m:\n\u001b[1;32m    714\u001b[0m     \u001b[38;5;66;03m# If the input data has values outside the valid range (after\u001b[39;00m\n\u001b[1;32m    715\u001b[0m     \u001b[38;5;66;03m# normalisation), we issue a warning and then clip X to the bounds\u001b[39;00m\n\u001b[1;32m    716\u001b[0m     \u001b[38;5;66;03m# - otherwise casting wraps extreme values, hiding outliers and\u001b[39;00m\n\u001b[1;32m    717\u001b[0m     \u001b[38;5;66;03m# making reliable interpretation impossible.\u001b[39;00m\n\u001b[1;32m    718\u001b[0m     high \u001b[38;5;241m=\u001b[39m \u001b[38;5;241m255\u001b[39m \u001b[38;5;28;01mif\u001b[39;00m np\u001b[38;5;241m.\u001b[39missubdtype(\u001b[38;5;28mself\u001b[39m\u001b[38;5;241m.\u001b[39m_A\u001b[38;5;241m.\u001b[39mdtype, np\u001b[38;5;241m.\u001b[39minteger) \u001b[38;5;28;01melse\u001b[39;00m \u001b[38;5;241m1\u001b[39m\n",
      "\u001b[0;31mTypeError\u001b[0m: Invalid shape (11100,) for image data"
     ]
    },
    {
     "data": {
      "image/png": "[encoded data removed]",
      "text/plain": [
       "<Figure size 640x480 with 1 Axes>"
      ]
     },
     "metadata": {},
     "output_type": "display_data"
    }
   ],
   "source": [
    "plt.imshow(lfw_dataset_train.data[0])"
   ]
  },
  {
   "cell_type": "code",
   "execution_count": 10,
   "id": "a8a779d4-2dda-45bf-aabf-b673166457f5",
   "metadata": {},
   "outputs": [
    {
     "data": {
      "text/plain": [
       "<matplotlib.image.AxesImage at 0x7f0aeb752b60>"
      ]
     },
     "execution_count": 10,
     "metadata": {},
     "output_type": "execute_result"
    },
    {
     "data": {
      "image/png": "[encoded data removed]",
      "text/plain": [
       "<Figure size 640x480 with 1 Axes>"
      ]
     },
     "metadata": {},
     "output_type": "display_data"
    }
   ],
   "source": [
    "plt.imshow(lfw_dataset_train.pairs[1][0])"
   ]
  },
  {
   "cell_type": "code",
   "execution_count": 11,
   "id": "570855a4-9d72-4dfd-9e64-8798e3e3ab4a",
   "metadata": {},
   "outputs": [
    {
     "data": {
      "text/plain": [
       "<matplotlib.image.AxesImage at 0x7f0aec428e20>"
      ]
     },
     "execution_count": 11,
     "metadata": {},
     "output_type": "execute_result"
    },
    {
     "data": {
      "image/png": "[encoded data removed]",
      "text/plain": [
       "<Figure size 640x480 with 1 Axes>"
      ]
     },
     "metadata": {},
     "output_type": "display_data"
    }
   ],
   "source": [
    "plt.imshow(lfw_dataset_train.pairs[1][1])"
   ]
  },
  {
   "cell_type": "code",
   "execution_count": 19,
   "id": "696a8ab0-d917-41ec-97d0-d3199b1c22f2",
   "metadata": {},
   "outputs": [],
   "source": [
    "def prepare_dataset(lfw_dataset):\n",
    "    cnn_data = []\n",
    "    cnn_data_1 = []\n",
    "    cnn_data_2 = []\n",
    "    for images_paris in lfw_dataset['pairs']:\n",
    "        image1 = images_paris[0]\n",
    "        image2 = images_paris[1]\n",
    "        # Stack the two images along the channel axis to create a single image \n",
    "        # with dimensions (32, 32, 6)\n",
    "        combined_image = np.concatenate((image1, image2), axis=0)\n",
    "        # combined_image = combined_image[:, :, :3]\n",
    "        cnn_data_1.append(image1)\n",
    "        cnn_data_2.append(image2)\n",
    "        cnn_data.append(combined_image)\n",
    "    cnn_data  = np.stack(cnn_data, axis=0)\n",
    "    cnn_data_1  = np.stack(cnn_data_1, axis=0)\n",
    "    cnn_data_2  = np.stack(cnn_data_2, axis=0)\n",
    "    \n",
    "    return cnn_data, cnn_data_1, cnn_data_2\n",
    "\n",
    "\n",
    "cnn_train_data, cnn_train_data_1, cnn_train_data_2 = prepare_dataset(lfw_dataset_train)\n",
    "cnn_test_data, cnn_test_data_1, cnn_test_data_2 = prepare_dataset(lfw_dataset_test)"
   ]
  },
  {
   "cell_type": "code",
   "execution_count": 20,
   "id": "c69823c8-5c76-4d4d-bae1-94d2f0a4a52b",
   "metadata": {},
   "outputs": [],
   "source": [
    "# %load ../../python_script/feature_extraction\n",
    "import cv2\n",
    "import numpy as np\n",
    "from skimage import data\n",
    "from skimage.feature import hog\n",
    "from skimage import data, exposure\n",
    "from skimage.color import label2rgb\n",
    "from skimage.transform import rotate\n",
    "from skimage.feature import local_binary_pattern\n",
    "\n",
    "\n",
    "def histogram_oriented_gradients(image):\n",
    "    # Example usage on a single image\n",
    "    fd, hog_image = hog(image, orientations=8, pixels_per_cell=(16, 16),\n",
    "                        cells_per_block=(1, 1), visualize=True)\n",
    "\n",
    "    # Visualize the HOG image\n",
    "    hog_image_rescaled = exposure.rescale_intensity(hog_image, in_range=(0, 10))\n",
    "    return hog_image_rescaled\n",
    "  \n",
    "def scale_invariant_feature_transform(image):\n",
    "    \n",
    "    # Convert the image depth to CV_8U\n",
    "    image8bit = cv2.normalize(image, None, 0, 255, cv2.NORM_MINMAX).astype('uint8')\n",
    "    \n",
    "    #reading image\n",
    "    gray1 = cv2.cvtColor(image8bit, cv2.COLOR_BGR2GRAY)\n",
    "    \n",
    "    #keypoints\n",
    "    #keypoints``\n",
    "    sift = cv2.SIFT_create()\n",
    "    keypoints_1, descriptors_1 = sift.detectAndCompute(gray1, None)\n",
    "\n",
    "    img_1 = cv2.drawKeypoints(gray1,keypoints_1,image)\n",
    "    return img_1\n",
    "    \n",
    "def local_binary_patterns(image):\n",
    "    \n",
    "    # settings for LBP\n",
    "    radius = 3\n",
    "    n_points = 8 * radius\n",
    "    \n",
    "    # Convert the image depth to CV_8U\n",
    "    image8bit = cv2.normalize(image, None, 0, 255, cv2.NORM_MINMAX).astype('uint8')\n",
    "\n",
    "    # Convert the array to grayscale and reshape it to (height, width)\n",
    "    gray1 = cv2.cvtColor(image8bit, cv2.COLOR_BGR2GRAY)\n",
    "\n",
    "    lbp = local_binary_pattern(gray1, n_points, radius, method = \"uniform\")\n",
    "\n",
    "    return lbp"
   ]
  },
  {
   "cell_type": "markdown",
   "id": "2ce07a74-3e66-4060-a9ab-c0b1a181ab37",
   "metadata": {},
   "source": [
    "### 1. Preparing the scale_invariant_feature_transform data"
   ]
  },
  {
   "cell_type": "code",
   "execution_count": 21,
   "id": "77656098-ecda-4537-9577-261944914f17",
   "metadata": {},
   "outputs": [],
   "source": [
    "image_rescaled = {}\n",
    "def sift_data(data):\n",
    "    flattend_arr = []\n",
    "    sift_image = []\n",
    "    for image in data:\n",
    "        arr_2d = scale_invariant_feature_transform(image)\n",
    "        sift_image.append(arr_2d)\n",
    "        flattend_arr.append(arr_2d.flatten())\n",
    "        \n",
    "    return np.array(flattend_arr), np.array(sift_image)\n",
    "\n",
    "\n",
    "image_rescaled[\"sift_data_1\"], image_rescaled[\"sift_image_1\"] = sift_data(cnn_train_data_1)\n",
    "image_rescaled[\"sift_data_2\"], image_rescaled[\"sift_image_2\"] = sift_data(cnn_train_data_2)\n",
    "image_rescaled[\"sift_data_test_1\"],image_rescaled[\"sift_image_test_1\"] = sift_data(cnn_test_data_1)\n",
    "image_rescaled[\"sift_data_test_2\"],image_rescaled[\"sift_image_test_2\"] = sift_data(cnn_test_data_2)"
   ]
  },
  {
   "cell_type": "code",
   "execution_count": 22,
   "id": "83267594-0d63-485b-9822-53ddfca62c6b",
   "metadata": {},
   "outputs": [
    {
     "data": {
      "text/plain": [
       "<matplotlib.image.AxesImage at 0x7f0ae00c6aa0>"
      ]
     },
     "execution_count": 22,
     "metadata": {},
     "output_type": "execute_result"
    },
    {
     "data": {
      "image/png": "[encoded data removed]",
      "text/plain": [
       "<Figure size 640x480 with 1 Axes>"
      ]
     },
     "metadata": {},
     "output_type": "display_data"
    }
   ],
   "source": [
    "plt.imshow(image_rescaled[\"sift_image_1\"][1])"
   ]
  },
  {
   "cell_type": "code",
   "execution_count": 23,
   "id": "cdcc3486-c53d-42be-818f-d46e2ce6d3b6",
   "metadata": {},
   "outputs": [
    {
     "data": {
      "text/plain": [
       "<matplotlib.image.AxesImage at 0x7f0ac656c490>"
      ]
     },
     "execution_count": 23,
     "metadata": {},
     "output_type": "execute_result"
    },
    {
     "data": {
      "image/png": "[encoded data removed]",
      "text/plain": [
       "<Figure size 640x480 with 1 Axes>"
      ]
     },
     "metadata": {},
     "output_type": "display_data"
    }
   ],
   "source": [
    "plt.imshow(image_rescaled[\"sift_image_2\"][1])"
   ]
  },
  {
   "cell_type": "markdown",
   "id": "e78fcb3a-b0a4-46fb-ad55-699b72aa09d3",
   "metadata": {},
   "source": [
    "### 2. Preparing the histogram_oriented_gradients of sift_data"
   ]
  },
  {
   "cell_type": "code",
   "execution_count": 24,
   "id": "2eb16c65-49eb-4859-b667-3955f848c26c",
   "metadata": {},
   "outputs": [],
   "source": [
    "import cv2"
   ]
  },
  {
   "cell_type": "code",
   "execution_count": 25,
   "id": "19a656e5-8102-44b3-a8fe-86aa1445418d",
   "metadata": {},
   "outputs": [],
   "source": [
    "def hog_data(data):\n",
    "    flattend_arr = []\n",
    "    hog_image = []\n",
    "    for image in data:\n",
    "        gray_image = cv2.cvtColor(image, cv2.COLOR_BGR2GRAY)\n",
    "        arr_2d = histogram_oriented_gradients(gray_image)\n",
    "        hog_image.append(arr_2d)\n",
    "        flattend_arr.append(arr_2d.flatten())\n",
    "        \n",
    "    return np.array(flattend_arr), np.array(hog_image)\n",
    "\n",
    "image_rescaled[\"hog_data_1\"], image_rescaled[\"hog_image_1\"] = hog_data(cnn_train_data_1)\n",
    "image_rescaled[\"hog_data_2\"], image_rescaled[\"hog_image_2\"] = hog_data(cnn_train_data_2)\n",
    "image_rescaled[\"hog_data_test_1\"], image_rescaled[\"hog_image_test_1\"] = hog_data(cnn_test_data_1)\n",
    "image_rescaled[\"hog_data_test_2\"], image_rescaled[\"hog_image_test_2\"] = hog_data(cnn_test_data_2)"
   ]
  },
  {
   "cell_type": "code",
   "execution_count": 26,
   "id": "7f73cdb5-4d2a-4075-b5e6-1a81ffd9bd6b",
   "metadata": {},
   "outputs": [
    {
     "data": {
      "text/plain": [
       "<matplotlib.image.AxesImage at 0x7f0ac4f4f4c0>"
      ]
     },
     "execution_count": 26,
     "metadata": {},
     "output_type": "execute_result"
    },
    {
     "data": {
      "image/png": "[encoded data removed]",
      "text/plain": [
       "<Figure size 640x480 with 1 Axes>"
      ]
     },
     "metadata": {},
     "output_type": "display_data"
    }
   ],
   "source": [
    "plt.imshow(image_rescaled[\"hog_image_1\"][1])"
   ]
  },
  {
   "cell_type": "code",
   "execution_count": 27,
   "id": "74991bcb-c655-458f-83f1-af8d0cd6f764",
   "metadata": {},
   "outputs": [
    {
     "data": {
      "text/plain": [
       "<matplotlib.image.AxesImage at 0x7f0ac4fd9840>"
      ]
     },
     "execution_count": 27,
     "metadata": {},
     "output_type": "execute_result"
    },
    {
     "data": {
      "image/png": "[encoded data removed]",
      "text/plain": [
       "<Figure size 640x480 with 1 Axes>"
      ]
     },
     "metadata": {},
     "output_type": "display_data"
    }
   ],
   "source": [
    "plt.imshow(image_rescaled[\"hog_image_2\"][1])"
   ]
  },
  {
   "cell_type": "markdown",
   "id": "9a9fbb8d-9fd9-4c33-a5b6-19efb8cecc16",
   "metadata": {},
   "source": [
    "### 3. Preparing the local_binary_patterns data"
   ]
  },
  {
   "cell_type": "code",
   "execution_count": 28,
   "id": "8dc7b5f9-6927-4904-b790-85db9db21f58",
   "metadata": {},
   "outputs": [],
   "source": [
    "def ldp_data(data):\n",
    "    flattend_arr = []\n",
    "    lbp_image = []\n",
    "    for image in data:\n",
    "        arr_2d = local_binary_patterns(image)\n",
    "        lbp_image.append(arr_2d)\n",
    "        flattend_arr.append(arr_2d.flatten())\n",
    "        \n",
    "    return np.array(flattend_arr), np.array(lbp_image)\n",
    "\n",
    "image_rescaled[\"lbp_data_1\"], image_rescaled[\"lbp_image_1\"] = ldp_data(cnn_train_data_1)\n",
    "image_rescaled[\"lbp_data_2\"], image_rescaled[\"lbp_image_2\"] = ldp_data(cnn_train_data_2)\n",
    "image_rescaled[\"lbp_data_test_1\"], image_rescaled[\"lbp_image_test_1\"] = ldp_data(cnn_test_data_1)\n",
    "image_rescaled[\"lbp_data_test_2\"], image_rescaled[\"lbp_image_test_2\"] = ldp_data(cnn_test_data_2)"
   ]
  },
  {
   "cell_type": "code",
   "execution_count": 29,
   "id": "1dee4b6a-0604-4e4b-b448-3f0c6f0cde45",
   "metadata": {},
   "outputs": [
    {
     "data": {
      "text/plain": [
       "<matplotlib.image.AxesImage at 0x7f0ac42877c0>"
      ]
     },
     "execution_count": 29,
     "metadata": {},
     "output_type": "execute_result"
    },
    {
     "data": {
      "image/png": "[encoded data removed]",
      "text/plain": [
       "<Figure size 640x480 with 1 Axes>"
      ]
     },
     "metadata": {},
     "output_type": "display_data"
    }
   ],
   "source": [
    "plt.imshow(image_rescaled[\"lbp_image_1\"][1])"
   ]
  },
  {
   "cell_type": "code",
   "execution_count": 30,
   "id": "44c3047c-6e9a-45f3-83c6-d25b6de78cfd",
   "metadata": {},
   "outputs": [
    {
     "data": {
      "text/plain": [
       "<matplotlib.image.AxesImage at 0x7f0ac42f7af0>"
      ]
     },
     "execution_count": 30,
     "metadata": {},
     "output_type": "execute_result"
    },
    {
     "data": {
      "image/png": "[encoded data removed]",
      "text/plain": [
       "<Figure size 640x480 with 1 Axes>"
      ]
     },
     "metadata": {},
     "output_type": "display_data"
    }
   ],
   "source": [
    "plt.imshow(image_rescaled[\"lbp_image_2\"][1])"
   ]
  },
  {
   "cell_type": "markdown",
   "id": "d3fedc99-1242-4b99-a7a1-aaf72dea47cd",
   "metadata": {},
   "source": [
    "### 4. Implementing pca on lbp/sift/hog"
   ]
  },
  {
   "cell_type": "code",
   "execution_count": 31,
   "id": "bb1d584d-8cd0-4aa1-bbcd-2bb907f29857",
   "metadata": {},
   "outputs": [
    {
     "data": {
      "text/plain": [
       "dict_keys(['sift_data_1', 'sift_image_1', 'sift_data_2', 'sift_image_2', 'sift_data_test_1', 'sift_image_test_1', 'sift_data_test_2', 'sift_image_test_2', 'hog_data_1', 'hog_image_1', 'hog_data_2', 'hog_image_2', 'hog_data_test_1', 'hog_image_test_1', 'hog_data_test_2', 'hog_image_test_2', 'lbp_data_1', 'lbp_image_1', 'lbp_data_2', 'lbp_image_2', 'lbp_data_test_1', 'lbp_image_test_1', 'lbp_data_test_2', 'lbp_image_test_2'])"
      ]
     },
     "execution_count": 31,
     "metadata": {},
     "output_type": "execute_result"
    }
   ],
   "source": [
    "image_rescaled.keys()"
   ]
  },
  {
   "cell_type": "code",
   "execution_count": 32,
   "id": "62e2a19e-421f-4abe-b4b6-7c8eb1caa793",
   "metadata": {},
   "outputs": [
    {
     "data": {
      "text/plain": [
       "((50, 37), (50, 37))"
      ]
     },
     "execution_count": 32,
     "metadata": {},
     "output_type": "execute_result"
    }
   ],
   "source": [
    "image_rescaled['lbp_image_test_1'][0].shape, image_rescaled['lbp_image_1'][0].shape"
   ]
  },
  {
   "cell_type": "code",
   "execution_count": 33,
   "id": "175f1050-5344-45cd-b0fa-456d97de8e83",
   "metadata": {},
   "outputs": [
    {
     "data": {
      "text/plain": [
       "((50, 37), (50, 37))"
      ]
     },
     "execution_count": 33,
     "metadata": {},
     "output_type": "execute_result"
    }
   ],
   "source": [
    "image_rescaled['lbp_image_test_2'][0].shape, image_rescaled['lbp_image_2'][0].shape"
   ]
  },
  {
   "cell_type": "code",
   "execution_count": 34,
   "id": "81c4cd63-2333-4810-8da4-2d7dec685b37",
   "metadata": {},
   "outputs": [],
   "source": [
    "def pca_implementation(X_train, X_test):\n",
    "    # Compute a PCA (eigenfaces) on the face dataset (treated as unlabeled\n",
    "    # dataset): unsupervised feature extraction / dimensionality reduction\n",
    "    n_components = 150\n",
    "\n",
    "    print(\"Extracting the top %d eigenfaces from %d faces\"\n",
    "          % (n_components, X_train.shape[0]))\n",
    "    t0 = time()\n",
    "    pca = PCA(n_components=n_components, svd_solver='randomized',\n",
    "              whiten=True).fit(X_train)\n",
    "    print(\"done in %0.3fs\" % (time() - t0))\n",
    "\n",
    "    eigenfaces = pca.components_.reshape((n_components, 50, 37))\n",
    "\n",
    "    print(\"Projecting the input data on the eigenfaces orthonormal basis\")\n",
    "    t0 = time()\n",
    "    X_train_pca = pca.transform(X_train)\n",
    "    X_test_pca = pca.transform(X_test)\n",
    "    print(\"done in %0.3fs\" % (time() - t0))\n",
    "    return X_train_pca, X_test_pca"
   ]
  },
  {
   "cell_type": "markdown",
   "id": "98fc3111-2183-422d-aec3-054dff828c09",
   "metadata": {},
   "source": [
    "#### 4.1 LBP PCA Data"
   ]
  },
  {
   "cell_type": "code",
   "execution_count": 35,
   "id": "8e25abed-ac10-422d-ad5c-30568a88604d",
   "metadata": {},
   "outputs": [
    {
     "name": "stdout",
     "output_type": "stream",
     "text": [
      "Extracting the top 150 eigenfaces from 2200 faces\n",
      "done in 2.118s\n",
      "Projecting the input data on the eigenfaces orthonormal basis\n",
      "done in 0.105s\n",
      "Extracting the top 150 eigenfaces from 2200 faces\n",
      "done in 1.708s\n",
      "Projecting the input data on the eigenfaces orthonormal basis\n",
      "done in 0.092s\n",
      "shape of train:: (2200, 300) and test:: (1000, 300) on lbp \n"
     ]
    }
   ],
   "source": [
    "X_train_pca_lbp_1, X_test_pca_lbp_1 = pca_implementation(image_rescaled['lbp_data_1'], image_rescaled['lbp_data_test_1'])\n",
    "X_train_pca_lbp_2, X_test_pca_lbp_2 = pca_implementation(image_rescaled['lbp_data_2'], image_rescaled['lbp_data_test_2'])\n",
    "\n",
    "X_train_pca_lbp = np.hstack((X_train_pca_lbp_1,X_train_pca_lbp_2))\n",
    "X_test_pca_lbp = np.hstack((X_test_pca_lbp_1,X_test_pca_lbp_2))\n",
    "\n",
    "print(f\"shape of train:: {X_train_pca_lbp.shape} and test:: {X_test_pca_lbp.shape} on lbp \")"
   ]
  },
  {
   "cell_type": "code",
   "execution_count": 38,
   "id": "9904c544-78bd-468b-b085-f47346cb4f1a",
   "metadata": {},
   "outputs": [
    {
     "data": {
      "text/plain": [
       "((2200, 150), (2200, 150), (1000, 150), (1000, 150))"
      ]
     },
     "execution_count": 38,
     "metadata": {},
     "output_type": "execute_result"
    }
   ],
   "source": [
    "X_train_pca_lbp_1.shape, X_train_pca_lbp_2.shape, X_test_pca_lbp_1.shape, X_test_pca_lbp_2.shape"
   ]
  },
  {
   "cell_type": "markdown",
   "id": "e6879e86-145b-4441-aec3-6eec8b181d44",
   "metadata": {},
   "source": [
    "#### 4.2 HOG PCA DATA"
   ]
  },
  {
   "cell_type": "code",
   "execution_count": 58,
   "id": "0dd52508-39e7-4516-b77e-82ba99421e51",
   "metadata": {},
   "outputs": [
    {
     "data": {
      "text/plain": [
       "dict_keys(['sift_data_1', 'sift_image_1', 'sift_data_2', 'sift_image_2', 'hog_data_1', 'hog_image_1', 'hog_data_2', 'hog_image_2', 'lbp_data_1', 'lbp_image_1', 'lbp_data_2', 'lbp_image_2', 'sift_data_test_1', 'sift_image_test_1', 'sift_data_test_2', 'sift_image_test_2', 'hog_data_test_1', 'hog_image_test_1', 'hog_data_test_2', 'hog_image_test_2', 'lbp_data_test_1', 'lbp_image_test_1', 'lbp_data_test_2', 'lbp_image_test_2'])"
      ]
     },
     "execution_count": 58,
     "metadata": {},
     "output_type": "execute_result"
    }
   ],
   "source": [
    "image_rescaled.keys()"
   ]
  },
  {
   "cell_type": "code",
   "execution_count": 59,
   "id": "bb72a9eb-2dfb-43f2-b64d-4588c57841eb",
   "metadata": {},
   "outputs": [
    {
     "name": "stdout",
     "output_type": "stream",
     "text": [
      "Extracting the top 150 eigenfaces from 2200 faces\n",
      "done in 0.830s\n",
      "Projecting the input data on the eigenfaces orthonormal basis\n",
      "done in 0.035s\n",
      "Extracting the top 150 eigenfaces from 2200 faces\n",
      "done in 0.640s\n",
      "Projecting the input data on the eigenfaces orthonormal basis\n",
      "done in 0.038s\n",
      "shape of train:: (2200, 300) and test:: (1000, 300) on lbp \n"
     ]
    }
   ],
   "source": [
    "X_train_pca_hog_1, X_test_pca_hog_1 = pca_implementation(image_rescaled['hog_data_1'], image_rescaled['hog_data_test_1'])\n",
    "X_train_pca_hog_2, X_test_pca_hog_2 = pca_implementation(image_rescaled['hog_data_2'], image_rescaled['hog_data_test_2'])\n",
    "\n",
    "X_train_pca_hog = np.hstack((X_train_pca_hog_1,X_train_pca_hog_2))\n",
    "X_test_pca_hog = np.hstack((X_test_pca_hog_1,X_test_pca_hog_2))\n",
    "\n",
    "print(f\"shape of train:: {X_train_pca_hog.shape} and test:: {X_test_pca_hog.shape} on lbp \")"
   ]
  },
  {
   "cell_type": "markdown",
   "id": "a8159a91-7f0a-4d63-b6b6-a8e9e1c56e0b",
   "metadata": {},
   "source": [
    "#### 4.3 SIFT PCA DATA"
   ]
  },
  {
   "cell_type": "code",
   "execution_count": 73,
   "id": "ab058edb-b45d-46dd-ba5d-035b845ab897",
   "metadata": {},
   "outputs": [],
   "source": [
    "def pca_implementation_3d(X_train, X_test):\n",
    "    # Compute a PCA (eigenfaces) on the face dataset (treated as unlabeled\n",
    "    # dataset): unsupervised feature extraction / dimensionality reduction\n",
    "    n_components = 150\n",
    "\n",
    "    print(\"Extracting the top %d eigenfaces from %d faces\"\n",
    "          % (n_components, X_train.shape[0]))\n",
    "    t0 = time()\n",
    "    pca = PCA(n_components=n_components, svd_solver='randomized',\n",
    "              whiten=True).fit(X_train)\n",
    "    print(\"done in %0.3fs\" % (time() - t0))\n",
    "\n",
    "    eigenfaces = pca.components_.reshape((n_components, 50, 37, 3))\n",
    "\n",
    "    print(\"Projecting the input data on the eigenfaces orthonormal basis\")\n",
    "    t0 = time()\n",
    "    X_train_pca = pca.transform(X_train)\n",
    "    X_test_pca = pca.transform(X_test)\n",
    "    print(\"done in %0.3fs\" % (time() - t0))\n",
    "    return X_train_pca, X_test_pca"
   ]
  },
  {
   "cell_type": "code",
   "execution_count": 74,
   "id": "057c01c9-4077-4dc7-be2c-ccd72c439330",
   "metadata": {},
   "outputs": [
    {
     "name": "stdout",
     "output_type": "stream",
     "text": [
      "Extracting the top 150 eigenfaces from 2200 faces\n",
      "done in 3.332s\n",
      "Projecting the input data on the eigenfaces orthonormal basis\n",
      "done in 0.366s\n",
      "Extracting the top 150 eigenfaces from 2200 faces\n",
      "done in 3.162s\n",
      "Projecting the input data on the eigenfaces orthonormal basis\n",
      "done in 0.259s\n",
      "shape of train:: (2200, 300) and test:: (1000, 300) on lbp \n"
     ]
    }
   ],
   "source": [
    "X_train_pca_sift_1, X_test_pca_sift_1 = pca_implementation_3d(image_rescaled['sift_data_1'], image_rescaled['sift_data_test_1'])\n",
    "X_train_pca_sift_2, X_test_pca_sift_2 = pca_implementation_3d(image_rescaled['sift_data_2'], image_rescaled['sift_data_test_2'])\n",
    "\n",
    "X_train_pca_sift = np.hstack((X_train_pca_sift_1,X_train_pca_sift_2))\n",
    "X_test_pca_sift = np.hstack((X_test_pca_sift_1,X_test_pca_sift_2))\n",
    "\n",
    "print(f\"shape of train:: {X_train_pca_sift.shape} and test:: {X_test_pca_sift.shape} on lbp \")"
   ]
  },
  {
   "cell_type": "markdown",
   "id": "d6d7824f-746b-4183-87e4-774c6d0127f3",
   "metadata": {},
   "source": [
    "### 5. XGBOOST"
   ]
  },
  {
   "cell_type": "markdown",
   "id": "22ebbd5d-0c27-4647-a433-41d76e8515a3",
   "metadata": {},
   "source": [
    "#### 5.1 Using SIFT PCA and LBP PCA data "
   ]
  },
  {
   "cell_type": "code",
   "execution_count": 76,
   "id": "fc3650a9-1cc0-4d19-a6e1-14773b2a77ff",
   "metadata": {},
   "outputs": [],
   "source": [
    "X_train = np.hstack((X_train_pca_sift, X_train_pca_lbp))\n",
    "X_test = np.hstack((X_test_pca_sift, X_test_pca_lbp))"
   ]
  },
  {
   "cell_type": "code",
   "execution_count": 77,
   "id": "ed4ba4bf-9cd4-4c67-8aeb-073c92de7d02",
   "metadata": {},
   "outputs": [
    {
     "data": {
      "text/plain": [
       "array([1, 1, 1, ..., 0, 0, 0])"
      ]
     },
     "execution_count": 77,
     "metadata": {},
     "output_type": "execute_result"
    }
   ],
   "source": [
    "y_train"
   ]
  },
  {
   "cell_type": "code",
   "execution_count": 80,
   "id": "6c82d390-4625-44cc-a1d0-54cff0e450a5",
   "metadata": {},
   "outputs": [
    {
     "data": {
      "text/plain": [
       "0.497"
      ]
     },
     "execution_count": 80,
     "metadata": {},
     "output_type": "execute_result"
    }
   ],
   "source": [
    "\n",
    "xgb_cl = xgb.XGBClassifier()\n",
    "\n",
    "# Fit\n",
    "xgb_cl.fit(X_train, y_train)\n",
    "\n",
    "# Predict\n",
    "y_pred = xgb_cl.predict(X_test)\n",
    "\n",
    "# Score\n",
    "accuracy_score(y_test, preds)"
   ]
  },
  {
   "cell_type": "code",
   "execution_count": 81,
   "id": "838acdfa-479c-4105-bfa8-da563774088e",
   "metadata": {},
   "outputs": [
    {
     "name": "stdout",
     "output_type": "stream",
     "text": [
      "                   precision    recall  f1-score   support\n",
      "\n",
      "Different persons       0.39      0.50      0.43       389\n",
      "      Same person       0.61      0.50      0.55       611\n",
      "\n",
      "         accuracy                           0.50      1000\n",
      "        macro avg       0.50      0.50      0.49      1000\n",
      "     weighted avg       0.52      0.50      0.50      1000\n",
      "\n"
     ]
    }
   ],
   "source": [
    "\n",
    "\n",
    "target = lfw_dataset_test.target\n",
    "target_names = lfw_dataset_test.target_names\n",
    "\n",
    "\n",
    "print(classification_report(y_pred, y_test, target_names=target_names))"
   ]
  },
  {
   "cell_type": "markdown",
   "id": "c7b59a9e-6a9c-4803-b2ed-bff55c35d671",
   "metadata": {},
   "source": [
    "#### 5.2 Using HOG PCA and LBP PCA data"
   ]
  },
  {
   "cell_type": "code",
   "execution_count": 82,
   "id": "101a8811-bb21-4be0-ad53-c48d06ec5050",
   "metadata": {},
   "outputs": [
    {
     "data": {
      "text/plain": [
       "0.497"
      ]
     },
     "execution_count": 82,
     "metadata": {},
     "output_type": "execute_result"
    }
   ],
   "source": [
    "X_train = np.hstack((X_train_pca_hog, X_train_pca_lbp))\n",
    "X_test = np.hstack((X_test_pca_hog, X_test_pca_lbp))\n",
    "\n",
    "xgb_cl = xgb.XGBClassifier()\n",
    "\n",
    "# Fit\n",
    "xgb_cl.fit(X_train, y_train)\n",
    "\n",
    "# Predict\n",
    "y_pred = xgb_cl.predict(X_test)\n",
    "\n",
    "# Score\n",
    "accuracy_score(y_test, preds)"
   ]
  },
  {
   "cell_type": "code",
   "execution_count": 83,
   "id": "dc747754-97a2-42db-8098-21e4d990f9ee",
   "metadata": {},
   "outputs": [
    {
     "name": "stdout",
     "output_type": "stream",
     "text": [
      "                   precision    recall  f1-score   support\n",
      "\n",
      "Different persons       0.40      0.53      0.46       376\n",
      "      Same person       0.65      0.52      0.58       624\n",
      "\n",
      "         accuracy                           0.53      1000\n",
      "        macro avg       0.53      0.53      0.52      1000\n",
      "     weighted avg       0.56      0.53      0.53      1000\n",
      "\n"
     ]
    }
   ],
   "source": [
    "target = lfw_dataset_test.target\n",
    "target_names = lfw_dataset_test.target_names\n",
    "\n",
    "\n",
    "print(classification_report(y_pred, y_test, target_names=target_names))"
   ]
  },
  {
   "cell_type": "markdown",
   "id": "bd7838db-9bbc-4870-84ef-766d723e3e81",
   "metadata": {},
   "source": [
    "### 5.3 Using HOG PCA and SIFT PCA data"
   ]
  },
  {
   "cell_type": "code",
   "execution_count": 84,
   "id": "5ffe9141-98ea-49ac-bc9a-34aa45f51361",
   "metadata": {},
   "outputs": [
    {
     "data": {
      "text/plain": [
       "0.497"
      ]
     },
     "execution_count": 84,
     "metadata": {},
     "output_type": "execute_result"
    }
   ],
   "source": [
    "X_train = np.hstack((X_train_pca_hog, X_train_pca_sift))\n",
    "X_test = np.hstack((X_test_pca_hog, X_test_pca_sift))\n",
    "\n",
    "xgb_cl = xgb.XGBClassifier()\n",
    "\n",
    "# Fit\n",
    "xgb_cl.fit(X_train, y_train)\n",
    "\n",
    "# Predict\n",
    "y_pred = xgb_cl.predict(X_test)\n",
    "\n",
    "# Score\n",
    "accuracy_score(y_test, preds)"
   ]
  },
  {
   "cell_type": "code",
   "execution_count": 85,
   "id": "76a75ebb-139e-44a5-a34c-0a5ad8103d03",
   "metadata": {},
   "outputs": [
    {
     "name": "stdout",
     "output_type": "stream",
     "text": [
      "                   precision    recall  f1-score   support\n",
      "\n",
      "Different persons       0.48      0.51      0.50       469\n",
      "      Same person       0.54      0.51      0.53       531\n",
      "\n",
      "         accuracy                           0.51      1000\n",
      "        macro avg       0.51      0.51      0.51      1000\n",
      "     weighted avg       0.51      0.51      0.51      1000\n",
      "\n"
     ]
    }
   ],
   "source": [
    "target = lfw_dataset_test.target\n",
    "target_names = lfw_dataset_test.target_names\n",
    "\n",
    "\n",
    "print(classification_report(y_pred, y_test, target_names=target_names))"
   ]
  },
  {
   "cell_type": "code",
   "execution_count": null,
   "id": "de62f1cc-e5f3-43d1-b77e-f42ddcc5ff4f",
   "metadata": {},
   "outputs": [],
   "source": []
  }
 ],
 "metadata": {
  "environment": {
   "kernel": "python3",
   "name": "tf2-gpu.2-11.m109",
   "type": "gcloud",
   "uri": "gcr.io/deeplearning-platform-release/tf2-gpu.2-11:m109"
  },
  "kernelspec": {
   "display_name": "Python 3",
   "language": "python",
   "name": "python3"
  },
  "language_info": {
   "codemirror_mode": {
    "name": "ipython",
    "version": 3
   },
   "file_extension": ".py",
   "mimetype": "text/x-python",
   "name": "python",
   "nbconvert_exporter": "python",
   "pygments_lexer": "ipython3",
   "version": "3.10.11"
  }
 },
 "nbformat": 4,
 "nbformat_minor": 5
}
