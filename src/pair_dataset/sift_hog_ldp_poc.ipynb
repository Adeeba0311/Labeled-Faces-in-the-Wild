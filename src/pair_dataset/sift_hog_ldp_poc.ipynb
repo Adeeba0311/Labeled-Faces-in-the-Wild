{
 "cells": [
  {
   "cell_type": "code",
   "execution_count": 2,
   "id": "9e3cdc9f-7039-49dd-8297-50b4ac572968",
   "metadata": {},
   "outputs": [],
   "source": [
    "from time import time\n",
    "from __future__ import print_function\n",
    "\n",
    "from time import time\n",
    "import logging\n",
    "import matplotlib.pyplot as plt\n",
    "\n",
    "from sklearn.model_selection import train_test_split\n",
    "from sklearn.model_selection import GridSearchCV\n",
    "from sklearn.datasets import fetch_lfw_people\n",
    "from sklearn.metrics import classification_report\n",
    "from sklearn.metrics import confusion_matrix\n",
    "from sklearn.decomposition import PCA\n",
    "from sklearn.svm import SVC\n",
    "\n",
    "import numpy as np\n",
    "from sklearn.model_selection import train_test_split\n",
    "from sklearn.linear_model import LogisticRegression\n",
    "from sklearn.metrics import accuracy_score\n",
    "from sklearn.preprocessing import StandardScaler"
   ]
  },
  {
   "cell_type": "code",
   "execution_count": 3,
   "id": "43c73609-eddf-4a83-839f-863484ce08b4",
   "metadata": {},
   "outputs": [],
   "source": [
    "from PIL import Image\n",
    "from sklearn.ensemble import RandomForestClassifier"
   ]
  },
  {
   "cell_type": "code",
   "execution_count": 14,
   "id": "11b1ee33-d2c1-4688-b0c3-b5836c7de794",
   "metadata": {},
   "outputs": [],
   "source": [
    "from sklearn.datasets import fetch_lfw_pairs\n",
    "\n",
    "lfw_dataset_train = fetch_lfw_pairs(subset='train', resize=0.4, color=True)\n",
    "lfw_dataset_test = fetch_lfw_pairs(subset='test',resize=0.4, color=True)"
   ]
  },
  {
   "cell_type": "code",
   "execution_count": 15,
   "id": "7f37014d-e858-4423-99b0-892c6d805d19",
   "metadata": {},
   "outputs": [],
   "source": [
    "X_train = lfw_dataset_train.data\n",
    "y_train = lfw_dataset_train.target\n",
    "\n",
    "X_test = lfw_dataset_test.data\n",
    "y_test = lfw_dataset_test.target"
   ]
  },
  {
   "cell_type": "code",
   "execution_count": 16,
   "id": "696a8ab0-d917-41ec-97d0-d3199b1c22f2",
   "metadata": {},
   "outputs": [],
   "source": [
    "cnn_train_data = []\n",
    "cnn_train_data_1 = []\n",
    "cnn_train_data_2 = []\n",
    "for images_paris in lfw_dataset_train['pairs']:\n",
    "    image1 = images_paris[0]\n",
    "    image2 = images_paris[1]\n",
    "    # Stack the two images along the channel axis to create a single image \n",
    "    # with dimensions (32, 32, 6)\n",
    "    combined_image = np.concatenate((image1, image2), axis=0)\n",
    "    # combined_image = combined_image[:, :, :3]\n",
    "    cnn_train_data_1.append(image1)\n",
    "    cnn_train_data_2.append(image2)\n",
    "    cnn_train_data.append(combined_image)\n",
    "cnn_train_data  = np.stack(cnn_train_data, axis=0)\n",
    "cnn_train_data_1  = np.stack(cnn_train_data_1, axis=0)\n",
    "cnn_train_data_2  = np.stack(cnn_train_data_2, axis=0)\n",
    "\n",
    "cnn_test_data = []\n",
    "cnn_test_data_1 = []\n",
    "cnn_test_data_2 = []\n",
    "for images_paris in lfw_dataset_test['pairs']:\n",
    "    image1 = images_paris[0]\n",
    "    image2 = images_paris[1]\n",
    "    # Stack the two images along the channel axis to create a single image \n",
    "    # with dimensions (32, 32, 6)\n",
    "    combined_image = np.concatenate((image1, image2), axis=0)\n",
    "    # combined_image = combined_image[:, :, :3]\n",
    "    cnn_test_data_1.append(image1)\n",
    "    cnn_test_data_2.append(image2)\n",
    "    cnn_test_data.append(combined_image)\n",
    "cnn_test_data  = np.stack(cnn_test_data, axis=0)\n",
    "cnn_test_data_1  = np.stack(cnn_test_data_1, axis=0)\n",
    "cnn_test_data_2  = np.stack(cnn_test_data_2, axis=0)"
   ]
  },
  {
   "cell_type": "code",
   "execution_count": 17,
   "id": "c4d84b0e-49da-4a1d-a5b6-442ab06ca259",
   "metadata": {},
   "outputs": [],
   "source": [
    "# ### passing the single image to the function to check the result\n",
    "# X_train_1 = []\n",
    "# X_train_2 = []\n",
    "# for image in cnn_train_data_1:\n",
    "#     X_train_1.append(image.flatten())\n",
    "\n",
    "# X_train_1 = np.array(X_train_1)\n",
    "\n",
    "# for image in cnn_train_data_2:\n",
    "#     X_train_2.append(image.flatten())\n",
    "# X_train_2 = np.array(X_train_2)"
   ]
  },
  {
   "cell_type": "code",
   "execution_count": 26,
   "id": "c69823c8-5c76-4d4d-bae1-94d2f0a4a52b",
   "metadata": {},
   "outputs": [],
   "source": [
    "# %load ../../python_script/feature_extraction\n",
    "import cv2\n",
    "import numpy as np\n",
    "from skimage import data\n",
    "from skimage.feature import hog\n",
    "from skimage import data, exposure\n",
    "from skimage.color import label2rgb\n",
    "from skimage.transform import rotate\n",
    "from skimage.feature import local_binary_pattern\n",
    "\n",
    "\n",
    "def histogram_oriented_gradients(image):\n",
    "    # Example usage on a single image\n",
    "    fd, hog_image = hog(image, orientations=8, pixels_per_cell=(16, 16),\n",
    "                        cells_per_block=(1, 1), visualize=True)\n",
    "\n",
    "    # Visualize the HOG image\n",
    "    hog_image_rescaled = exposure.rescale_intensity(hog_image, in_range=(0, 10))\n",
    "    return hog_image_rescaled\n",
    "  \n",
    "def scale_invariant_feature_transform(image):\n",
    "    \n",
    "    # Convert the image depth to CV_8U\n",
    "    image8bit = cv2.normalize(image, None, 0, 255, cv2.NORM_MINMAX).astype('uint8')\n",
    "    \n",
    "    #reading image\n",
    "    gray1 = cv2.cvtColor(image8bit, cv2.COLOR_BGR2GRAY)\n",
    "    \n",
    "    #keypoints\n",
    "    #keypoints``\n",
    "    sift = cv2.SIFT_create()\n",
    "    keypoints_1, descriptors_1 = sift.detectAndCompute(gray1, None)\n",
    "\n",
    "    img_1 = cv2.drawKeypoints(gray1,keypoints_1,image)\n",
    "    return img_1\n",
    "    \n",
    "def local_binary_patterns(image):\n",
    "    \n",
    "    # settings for LBP\n",
    "    radius = 3\n",
    "    n_points = 8 * radius\n",
    "    \n",
    "    # Convert the image depth to CV_8U\n",
    "    image8bit = cv2.normalize(image, None, 0, 255, cv2.NORM_MINMAX).astype('uint8')\n",
    "\n",
    "    # Convert the array to grayscale and reshape it to (height, width)\n",
    "    gray1 = cv2.cvtColor(image8bit, cv2.COLOR_BGR2GRAY)\n",
    "\n",
    "    lbp = local_binary_pattern(gray1, n_points, radius, method = \"uniform\")\n",
    "\n",
    "    return lbp"
   ]
  },
  {
   "cell_type": "markdown",
   "id": "2ce07a74-3e66-4060-a9ab-c0b1a181ab37",
   "metadata": {},
   "source": [
    "### 1. Preparing the scale_invariant_feature_transform data"
   ]
  },
  {
   "cell_type": "code",
   "execution_count": 20,
   "id": "da1cf0ea-2cd9-46bf-8962-8bafec9070a5",
   "metadata": {},
   "outputs": [],
   "source": [
    "### passing the single image to the function to check the result\n",
    "image_rescaled = {}\n",
    "flattend_arr = []\n",
    "sift_image = []\n",
    "for image in cnn_train_data_1:\n",
    "    arr_2d = scale_invariant_feature_transform(image)\n",
    "    sift_image.append(arr_2d)\n",
    "    flattend_arr.append(arr_2d.flatten())\n",
    "\n",
    "image_rescaled[\"sift_data_1\"] = np.array(flattend_arr)\n",
    "image_rescaled[\"sift_image_1\"] = np.array(sift_image)\n",
    "\n",
    "\n",
    "### passing the single image to the function to check the result\n",
    "flattend_arr = []\n",
    "sift_image = []\n",
    "for image in cnn_train_data_2:\n",
    "    arr_2d = scale_invariant_feature_transform(image)\n",
    "    sift_image.append(arr_2d)\n",
    "    flattend_arr.append(arr_2d.flatten())\n",
    "\n",
    "image_rescaled[\"sift_data_2\"] = np.array(flattend_arr)\n",
    "image_rescaled[\"sift_image_2\"] = np.array(sift_image)"
   ]
  },
  {
   "cell_type": "code",
   "execution_count": 39,
   "id": "81beb2e6-c1ec-4982-afdc-72c598dc057f",
   "metadata": {},
   "outputs": [],
   "source": [
    "### passing the single image to the function to check the result\n",
    "flattend_arr = []\n",
    "sift_image = []\n",
    "for image in cnn_test_data_1:\n",
    "    arr_2d = scale_invariant_feature_transform(image)\n",
    "    sift_image.append(arr_2d)\n",
    "    flattend_arr.append(arr_2d.flatten())\n",
    "\n",
    "image_rescaled[\"sift_data_test_1\"] = np.array(flattend_arr)\n",
    "image_rescaled[\"sift_image_test_1\"] = np.array(sift_image)\n",
    "\n",
    "\n",
    "### passing the single image to the function to check the result\n",
    "flattend_arr = []\n",
    "sift_image = []\n",
    "for image in cnn_test_data_2:\n",
    "    arr_2d = scale_invariant_feature_transform(image)\n",
    "    sift_image.append(arr_2d)\n",
    "    flattend_arr.append(arr_2d.flatten())\n",
    "\n",
    "image_rescaled[\"sift_data_test_2\"] = np.array(flattend_arr)\n",
    "image_rescaled[\"sift_image_test_2\"] = np.array(sift_image)"
   ]
  },
  {
   "cell_type": "code",
   "execution_count": 21,
   "id": "83267594-0d63-485b-9822-53ddfca62c6b",
   "metadata": {},
   "outputs": [
    {
     "data": {
      "text/plain": [
       "<matplotlib.image.AxesImage at 0x7f3577f2ece0>"
      ]
     },
     "execution_count": 21,
     "metadata": {},
     "output_type": "execute_result"
    },
    {
     "data": {
      "image/png": "[encoded data removed]",
      "text/plain": [
       "<Figure size 640x480 with 1 Axes>"
      ]
     },
     "metadata": {},
     "output_type": "display_data"
    }
   ],
   "source": [
    "plt.imshow(image_rescaled[\"sift_image_1\"][1])"
   ]
  },
  {
   "cell_type": "code",
   "execution_count": 22,
   "id": "cdcc3486-c53d-42be-818f-d46e2ce6d3b6",
   "metadata": {},
   "outputs": [
    {
     "data": {
      "text/plain": [
       "<matplotlib.image.AxesImage at 0x7f3578522fe0>"
      ]
     },
     "execution_count": 22,
     "metadata": {},
     "output_type": "execute_result"
    },
    {
     "data": {
      "image/png": "[encoded data removed]",
      "text/plain": [
       "<Figure size 640x480 with 1 Axes>"
      ]
     },
     "metadata": {},
     "output_type": "display_data"
    }
   ],
   "source": [
    "plt.imshow(image_rescaled[\"sift_image_2\"][1])"
   ]
  },
  {
   "cell_type": "markdown",
   "id": "e78fcb3a-b0a4-46fb-ad55-699b72aa09d3",
   "metadata": {},
   "source": [
    "### 2. Preparing the histogram_oriented_gradients of sift_data"
   ]
  },
  {
   "cell_type": "code",
   "execution_count": 28,
   "id": "2eb16c65-49eb-4859-b667-3955f848c26c",
   "metadata": {},
   "outputs": [],
   "source": [
    "import cv2"
   ]
  },
  {
   "cell_type": "code",
   "execution_count": 31,
   "id": "222f0b0e-0916-4012-9377-101b21f84f23",
   "metadata": {},
   "outputs": [],
   "source": [
    "### passing the single image to the function to check the result\n",
    "flattend_arr = []\n",
    "hog_image = []\n",
    "for image in cnn_train_data_1:\n",
    "    gray_image = cv2.cvtColor(image, cv2.COLOR_BGR2GRAY)\n",
    "    arr_2d = histogram_oriented_gradients(gray_image)\n",
    "    hog_image.append(arr_2d)\n",
    "    flattend_arr.append(arr_2d.flatten())\n",
    "\n",
    "image_rescaled[\"hog_data_1\"] = np.array(flattend_arr)\n",
    "image_rescaled[\"hog_image_1\"] = np.array(hog_image)\n",
    "\n",
    "\n",
    "### passing the single image to the function to check the result\n",
    "flattend_arr = []\n",
    "hog_image = []\n",
    "for image in cnn_train_data_2:\n",
    "    # Convert the image to grayscale\n",
    "    gray_image = cv2.cvtColor(image, cv2.COLOR_BGR2GRAY)\n",
    "    arr_2d = histogram_oriented_gradients(gray_image)\n",
    "    hog_image.append(arr_2d)\n",
    "    flattend_arr.append(arr_2d.flatten())\n",
    "\n",
    "image_rescaled[\"hog_data_2\"] = np.array(flattend_arr)\n",
    "image_rescaled[\"hog_image_2\"] = np.array(hog_image)"
   ]
  },
  {
   "cell_type": "code",
   "execution_count": 40,
   "id": "afe8a061-7310-4d18-9608-33ceecd9c476",
   "metadata": {},
   "outputs": [],
   "source": [
    "### passing the single image to the function to check the result\n",
    "flattend_arr = []\n",
    "hog_image = []\n",
    "for image in cnn_test_data_1:\n",
    "    gray_image = cv2.cvtColor(image, cv2.COLOR_BGR2GRAY)\n",
    "    arr_2d = histogram_oriented_gradients(gray_image)\n",
    "    hog_image.append(arr_2d)\n",
    "    flattend_arr.append(arr_2d.flatten())\n",
    "\n",
    "image_rescaled[\"hog_data_test_1\"] = np.array(flattend_arr)\n",
    "image_rescaled[\"hog_image_test_1\"] = np.array(hog_image)\n",
    "\n",
    "\n",
    "### passing the single image to the function to check the result\n",
    "flattend_arr = []\n",
    "hog_image = []\n",
    "for image in cnn_test_data_2:\n",
    "    # Convert the image to grayscale\n",
    "    gray_image = cv2.cvtColor(image, cv2.COLOR_BGR2GRAY)\n",
    "    arr_2d = histogram_oriented_gradients(gray_image)\n",
    "    hog_image.append(arr_2d)\n",
    "    flattend_arr.append(arr_2d.flatten())\n",
    "\n",
    "image_rescaled[\"hog_data_test_2\"] = np.array(flattend_arr)\n",
    "image_rescaled[\"hog_image_test_2\"] = np.array(hog_image)"
   ]
  },
  {
   "cell_type": "code",
   "execution_count": 32,
   "id": "7f73cdb5-4d2a-4075-b5e6-1a81ffd9bd6b",
   "metadata": {},
   "outputs": [
    {
     "data": {
      "text/plain": [
       "<matplotlib.image.AxesImage at 0x7f355043ab60>"
      ]
     },
     "execution_count": 32,
     "metadata": {},
     "output_type": "execute_result"
    },
    {
     "data": {
      "image/png": "[encoded data removed]",
      "text/plain": [
       "<Figure size 640x480 with 1 Axes>"
      ]
     },
     "metadata": {},
     "output_type": "display_data"
    }
   ],
   "source": [
    "plt.imshow(image_rescaled[\"hog_image_1\"][1])"
   ]
  },
  {
   "cell_type": "code",
   "execution_count": 33,
   "id": "74991bcb-c655-458f-83f1-af8d0cd6f764",
   "metadata": {},
   "outputs": [
    {
     "data": {
      "text/plain": [
       "<matplotlib.image.AxesImage at 0x7f355048bfd0>"
      ]
     },
     "execution_count": 33,
     "metadata": {},
     "output_type": "execute_result"
    },
    {
     "data": {
      "image/png": "[encoded data removed]",
      "text/plain": [
       "<Figure size 640x480 with 1 Axes>"
      ]
     },
     "metadata": {},
     "output_type": "display_data"
    }
   ],
   "source": [
    "plt.imshow(image_rescaled[\"hog_image_2\"][1])"
   ]
  },
  {
   "cell_type": "markdown",
   "id": "9a9fbb8d-9fd9-4c33-a5b6-19efb8cecc16",
   "metadata": {},
   "source": [
    "### 3. Preparing the local_binary_patterns data"
   ]
  },
  {
   "cell_type": "code",
   "execution_count": 34,
   "id": "7970a038-9828-4df2-8c17-e3db9c5f12f2",
   "metadata": {},
   "outputs": [],
   "source": [
    "### passing the single image to the function to check the result\n",
    "flattend_arr = []\n",
    "lbp_image = []\n",
    "for image in cnn_train_data_1:\n",
    "    arr_2d = local_binary_patterns(image)\n",
    "    lbp_image.append(arr_2d)\n",
    "    flattend_arr.append(arr_2d.flatten())\n",
    "\n",
    "image_rescaled[\"lbp_data_1\"] = np.array(flattend_arr)\n",
    "image_rescaled[\"lbp_image_1\"] = np.array(lbp_image)\n",
    "\n",
    "\n",
    "### passing the single image to the function to check the result\n",
    "flattend_arr = []\n",
    "lbp_image = []\n",
    "for image in cnn_train_data_2:\n",
    "    arr_2d = local_binary_patterns(image)\n",
    "    lbp_image.append(arr_2d)\n",
    "    flattend_arr.append(arr_2d.flatten())\n",
    "\n",
    "image_rescaled[\"lbp_data_2\"] = np.array(flattend_arr)\n",
    "image_rescaled[\"lbp_image_2\"] = np.array(lbp_image)"
   ]
  },
  {
   "cell_type": "code",
   "execution_count": 41,
   "id": "7398496e-7796-4f03-a6e7-78170065467b",
   "metadata": {},
   "outputs": [],
   "source": [
    "### passing the single image to the function to check the result\n",
    "flattend_arr = []\n",
    "lbp_image = []\n",
    "for image in cnn_test_data_1:\n",
    "    arr_2d = local_binary_patterns(image)\n",
    "    lbp_image.append(arr_2d)\n",
    "    flattend_arr.append(arr_2d.flatten())\n",
    "\n",
    "image_rescaled[\"lbp_data_test_1\"] = np.array(flattend_arr)\n",
    "image_rescaled[\"lbp_image_test_1\"] = np.array(lbp_image)\n",
    "\n",
    "\n",
    "### passing the single image to the function to check the result\n",
    "flattend_arr = []\n",
    "lbp_image = []\n",
    "for image in cnn_test_data_2:\n",
    "    arr_2d = local_binary_patterns(image)\n",
    "    lbp_image.append(arr_2d)\n",
    "    flattend_arr.append(arr_2d.flatten())\n",
    "\n",
    "image_rescaled[\"lbp_data_test_2\"] = np.array(flattend_arr)\n",
    "image_rescaled[\"lbp_image_test_2\"] = np.array(lbp_image)"
   ]
  },
  {
   "cell_type": "code",
   "execution_count": 35,
   "id": "1dee4b6a-0604-4e4b-b448-3f0c6f0cde45",
   "metadata": {},
   "outputs": [
    {
     "data": {
      "text/plain": [
       "<matplotlib.image.AxesImage at 0x7f3577ea0340>"
      ]
     },
     "execution_count": 35,
     "metadata": {},
     "output_type": "execute_result"
    },
    {
     "data": {
      "image/png": "[encoded data removed]",
      "text/plain": [
       "<Figure size 640x480 with 1 Axes>"
      ]
     },
     "metadata": {},
     "output_type": "display_data"
    }
   ],
   "source": [
    "plt.imshow(image_rescaled[\"lbp_image_1\"][1])"
   ]
  },
  {
   "cell_type": "code",
   "execution_count": 36,
   "id": "44c3047c-6e9a-45f3-83c6-d25b6de78cfd",
   "metadata": {},
   "outputs": [
    {
     "data": {
      "text/plain": [
       "<matplotlib.image.AxesImage at 0x7f35504aacb0>"
      ]
     },
     "execution_count": 36,
     "metadata": {},
     "output_type": "execute_result"
    },
    {
     "data": {
      "image/png": "[encoded data removed]",
      "text/plain": [
       "<Figure size 640x480 with 1 Axes>"
      ]
     },
     "metadata": {},
     "output_type": "display_data"
    }
   ],
   "source": [
    "plt.imshow(image_rescaled[\"lbp_image_2\"][1])"
   ]
  },
  {
   "cell_type": "markdown",
   "id": "d3fedc99-1242-4b99-a7a1-aaf72dea47cd",
   "metadata": {},
   "source": [
    "### 4. Implementing poc on lbp/sift/hog"
   ]
  },
  {
   "cell_type": "code",
   "execution_count": 42,
   "id": "bb1d584d-8cd0-4aa1-bbcd-2bb907f29857",
   "metadata": {},
   "outputs": [
    {
     "data": {
      "text/plain": [
       "dict_keys(['sift_data_1', 'sift_image_1', 'sift_data_2', 'sift_image_2', 'hog_data_1', 'hog_image_1', 'hog_data_2', 'hog_image_2', 'lbp_data_1', 'lbp_image_1', 'lbp_data_2', 'lbp_image_2', 'sift_data_test_1', 'sift_image_test_1', 'sift_data_test_2', 'sift_image_test_2', 'hog_data_test_1', 'hog_image_test_1', 'hog_data_test_2', 'hog_image_test_2', 'lbp_data_test_1', 'lbp_image_test_1', 'lbp_data_test_2', 'lbp_image_test_2'])"
      ]
     },
     "execution_count": 42,
     "metadata": {},
     "output_type": "execute_result"
    }
   ],
   "source": [
    "image_rescaled.keys()"
   ]
  },
  {
   "cell_type": "code",
   "execution_count": 48,
   "id": "62e2a19e-421f-4abe-b4b6-7c8eb1caa793",
   "metadata": {},
   "outputs": [
    {
     "data": {
      "text/plain": [
       "((50, 37), (50, 37))"
      ]
     },
     "execution_count": 48,
     "metadata": {},
     "output_type": "execute_result"
    }
   ],
   "source": [
    "image_rescaled['lbp_image_test_1'][0].shape, image_rescaled['lbp_image_1'][0].shape"
   ]
  },
  {
   "cell_type": "code",
   "execution_count": 50,
   "id": "175f1050-5344-45cd-b0fa-456d97de8e83",
   "metadata": {},
   "outputs": [
    {
     "data": {
      "text/plain": [
       "((50, 37), (50, 37))"
      ]
     },
     "execution_count": 50,
     "metadata": {},
     "output_type": "execute_result"
    }
   ],
   "source": [
    "image_rescaled['lbp_image_test_2'][0].shape, image_rescaled['lbp_image_2'][0].shape"
   ]
  },
  {
   "cell_type": "code",
   "execution_count": 49,
   "id": "81c4cd63-2333-4810-8da4-2d7dec685b37",
   "metadata": {},
   "outputs": [],
   "source": [
    "def pca_implementation(X_train, X_test):\n",
    "    # Compute a PCA (eigenfaces) on the face dataset (treated as unlabeled\n",
    "    # dataset): unsupervised feature extraction / dimensionality reduction\n",
    "    n_components = 150\n",
    "\n",
    "    print(\"Extracting the top %d eigenfaces from %d faces\"\n",
    "          % (n_components, X_train.shape[0]))\n",
    "    t0 = time()\n",
    "    pca = PCA(n_components=n_components, svd_solver='randomized',\n",
    "              whiten=True).fit(X_train)\n",
    "    print(\"done in %0.3fs\" % (time() - t0))\n",
    "\n",
    "    eigenfaces = pca.components_.reshape((n_components, 50, 37))\n",
    "\n",
    "    print(\"Projecting the input data on the eigenfaces orthonormal basis\")\n",
    "    t0 = time()\n",
    "    X_train_pca = pca.transform(X_train)\n",
    "    X_test_pca = pca.transform(X_test)\n",
    "    print(\"done in %0.3fs\" % (time() - t0))\n",
    "    return X_train_pca, X_test_pca"
   ]
  },
  {
   "cell_type": "markdown",
   "id": "98fc3111-2183-422d-aec3-054dff828c09",
   "metadata": {},
   "source": [
    "#### 4.1 LBP PCA Data"
   ]
  },
  {
   "cell_type": "code",
   "execution_count": 52,
   "id": "1cf8d73b-b939-4157-a470-9ac6b5ae310d",
   "metadata": {},
   "outputs": [
    {
     "name": "stdout",
     "output_type": "stream",
     "text": [
      "Extracting the top 150 eigenfaces from 2200 faces\n",
      "done in 1.898s\n",
      "Projecting the input data on the eigenfaces orthonormal basis\n",
      "done in 0.087s\n"
     ]
    }
   ],
   "source": [
    "X_train_pca_lbp_1, X_test_pca_lbp_1 = pca_implementation(image_rescaled['lbp_data_1'], image_rescaled['lbp_data_test_1'])"
   ]
  },
  {
   "cell_type": "code",
   "execution_count": 53,
   "id": "7b34e692-5839-4a2e-9bd4-6ecf2284e124",
   "metadata": {},
   "outputs": [
    {
     "name": "stdout",
     "output_type": "stream",
     "text": [
      "Extracting the top 150 eigenfaces from 2200 faces\n",
      "done in 2.184s\n",
      "Projecting the input data on the eigenfaces orthonormal basis\n",
      "done in 0.106s\n"
     ]
    }
   ],
   "source": [
    "X_train_pca_lbp_2, X_test_pca_lbp_2 = pca_implementation(image_rescaled['lbp_data_2'], image_rescaled['lbp_data_test_2'])"
   ]
  },
  {
   "cell_type": "code",
   "execution_count": 55,
   "id": "94e95d33-b69c-4f2f-bf64-c24c3662ca70",
   "metadata": {},
   "outputs": [
    {
     "name": "stdout",
     "output_type": "stream",
     "text": [
      "shape of train:: (2200, 300) and test:: (1000, 300) on lbp \n"
     ]
    }
   ],
   "source": [
    "X_train_pca_lbp = np.hstack((X_train_pca_lbp_1,X_train_pca_lbp_2))\n",
    "X_test_pca_lbp = np.hstack((X_test_pca_lbp_1,X_test_pca_lbp_2))\n",
    "\n",
    "print(f\"shape of train:: {X_train_pca_lbp.shape} and test:: {X_test_pca_lbp.shape} on lbp \")"
   ]
  },
  {
   "cell_type": "markdown",
   "id": "e6879e86-145b-4441-aec3-6eec8b181d44",
   "metadata": {},
   "source": [
    "#### 4.2 HOG PCA DATA"
   ]
  },
  {
   "cell_type": "code",
   "execution_count": 58,
   "id": "0dd52508-39e7-4516-b77e-82ba99421e51",
   "metadata": {},
   "outputs": [
    {
     "data": {
      "text/plain": [
       "dict_keys(['sift_data_1', 'sift_image_1', 'sift_data_2', 'sift_image_2', 'hog_data_1', 'hog_image_1', 'hog_data_2', 'hog_image_2', 'lbp_data_1', 'lbp_image_1', 'lbp_data_2', 'lbp_image_2', 'sift_data_test_1', 'sift_image_test_1', 'sift_data_test_2', 'sift_image_test_2', 'hog_data_test_1', 'hog_image_test_1', 'hog_data_test_2', 'hog_image_test_2', 'lbp_data_test_1', 'lbp_image_test_1', 'lbp_data_test_2', 'lbp_image_test_2'])"
      ]
     },
     "execution_count": 58,
     "metadata": {},
     "output_type": "execute_result"
    }
   ],
   "source": [
    "image_rescaled.keys()"
   ]
  },
  {
   "cell_type": "code",
   "execution_count": 59,
   "id": "bb72a9eb-2dfb-43f2-b64d-4588c57841eb",
   "metadata": {},
   "outputs": [
    {
     "name": "stdout",
     "output_type": "stream",
     "text": [
      "Extracting the top 150 eigenfaces from 2200 faces\n",
      "done in 0.830s\n",
      "Projecting the input data on the eigenfaces orthonormal basis\n",
      "done in 0.035s\n",
      "Extracting the top 150 eigenfaces from 2200 faces\n",
      "done in 0.640s\n",
      "Projecting the input data on the eigenfaces orthonormal basis\n",
      "done in 0.038s\n",
      "shape of train:: (2200, 300) and test:: (1000, 300) on lbp \n"
     ]
    }
   ],
   "source": [
    "X_train_pca_hog_1, X_test_pca_hog_1 = pca_implementation(image_rescaled['hog_data_1'], image_rescaled['hog_data_test_1'])\n",
    "X_train_pca_hog_2, X_test_pca_hog_2 = pca_implementation(image_rescaled['hog_data_2'], image_rescaled['hog_data_test_2'])\n",
    "\n",
    "X_train_pca_hog = np.hstack((X_train_pca_hog_1,X_train_pca_hog_2))\n",
    "X_test_pca_hog = np.hstack((X_test_pca_hog_1,X_test_pca_hog_2))\n",
    "\n",
    "print(f\"shape of train:: {X_train_pca_hog.shape} and test:: {X_test_pca_hog.shape} on lbp \")"
   ]
  },
  {
   "cell_type": "markdown",
   "id": "a8159a91-7f0a-4d63-b6b6-a8e9e1c56e0b",
   "metadata": {},
   "source": [
    "#### 4.3 SIFT PCA DATA"
   ]
  },
  {
   "cell_type": "code",
   "execution_count": 73,
   "id": "ab058edb-b45d-46dd-ba5d-035b845ab897",
   "metadata": {},
   "outputs": [],
   "source": [
    "def pca_implementation_3d(X_train, X_test):\n",
    "    # Compute a PCA (eigenfaces) on the face dataset (treated as unlabeled\n",
    "    # dataset): unsupervised feature extraction / dimensionality reduction\n",
    "    n_components = 150\n",
    "\n",
    "    print(\"Extracting the top %d eigenfaces from %d faces\"\n",
    "          % (n_components, X_train.shape[0]))\n",
    "    t0 = time()\n",
    "    pca = PCA(n_components=n_components, svd_solver='randomized',\n",
    "              whiten=True).fit(X_train)\n",
    "    print(\"done in %0.3fs\" % (time() - t0))\n",
    "\n",
    "    eigenfaces = pca.components_.reshape((n_components, 50, 37, 3))\n",
    "\n",
    "    print(\"Projecting the input data on the eigenfaces orthonormal basis\")\n",
    "    t0 = time()\n",
    "    X_train_pca = pca.transform(X_train)\n",
    "    X_test_pca = pca.transform(X_test)\n",
    "    print(\"done in %0.3fs\" % (time() - t0))\n",
    "    return X_train_pca, X_test_pca"
   ]
  },
  {
   "cell_type": "code",
   "execution_count": 74,
   "id": "057c01c9-4077-4dc7-be2c-ccd72c439330",
   "metadata": {},
   "outputs": [
    {
     "name": "stdout",
     "output_type": "stream",
     "text": [
      "Extracting the top 150 eigenfaces from 2200 faces\n",
      "done in 3.332s\n",
      "Projecting the input data on the eigenfaces orthonormal basis\n",
      "done in 0.366s\n",
      "Extracting the top 150 eigenfaces from 2200 faces\n",
      "done in 3.162s\n",
      "Projecting the input data on the eigenfaces orthonormal basis\n",
      "done in 0.259s\n",
      "shape of train:: (2200, 300) and test:: (1000, 300) on lbp \n"
     ]
    }
   ],
   "source": [
    "X_train_pca_sift_1, X_test_pca_sift_1 = pca_implementation_3d(image_rescaled['sift_data_1'], image_rescaled['sift_data_test_1'])\n",
    "X_train_pca_sift_2, X_test_pca_sift_2 = pca_implementation_3d(image_rescaled['sift_data_2'], image_rescaled['sift_data_test_2'])\n",
    "\n",
    "X_train_pca_sift = np.hstack((X_train_pca_sift_1,X_train_pca_sift_2))\n",
    "X_test_pca_sift = np.hstack((X_test_pca_sift_1,X_test_pca_sift_2))\n",
    "\n",
    "print(f\"shape of train:: {X_train_pca_sift.shape} and test:: {X_test_pca_sift.shape} on lbp \")"
   ]
  },
  {
   "cell_type": "markdown",
   "id": "d6d7824f-746b-4183-87e4-774c6d0127f3",
   "metadata": {},
   "source": [
    "### 5. XGBOOST"
   ]
  },
  {
   "cell_type": "markdown",
   "id": "22ebbd5d-0c27-4647-a433-41d76e8515a3",
   "metadata": {},
   "source": [
    "#### 5.1 Using SIFT PCA and LBP PCA data "
   ]
  },
  {
   "cell_type": "code",
   "execution_count": 76,
   "id": "fc3650a9-1cc0-4d19-a6e1-14773b2a77ff",
   "metadata": {},
   "outputs": [],
   "source": [
    "X_train = np.hstack((X_train_pca_sift, X_train_pca_lbp))\n",
    "X_test = np.hstack((X_test_pca_sift, X_test_pca_lbp))"
   ]
  },
  {
   "cell_type": "code",
   "execution_count": 77,
   "id": "ed4ba4bf-9cd4-4c67-8aeb-073c92de7d02",
   "metadata": {},
   "outputs": [
    {
     "data": {
      "text/plain": [
       "array([1, 1, 1, ..., 0, 0, 0])"
      ]
     },
     "execution_count": 77,
     "metadata": {},
     "output_type": "execute_result"
    }
   ],
   "source": [
    "y_train"
   ]
  },
  {
   "cell_type": "code",
   "execution_count": 80,
   "id": "6c82d390-4625-44cc-a1d0-54cff0e450a5",
   "metadata": {},
   "outputs": [
    {
     "data": {
      "text/plain": [
       "0.497"
      ]
     },
     "execution_count": 80,
     "metadata": {},
     "output_type": "execute_result"
    }
   ],
   "source": [
    "import xgboost as xgb\n",
    "xgb_cl = xgb.XGBClassifier()\n",
    "\n",
    "# Fit\n",
    "xgb_cl.fit(X_train, y_train)\n",
    "\n",
    "# Predict\n",
    "y_pred = xgb_cl.predict(X_test)\n",
    "\n",
    "# Score\n",
    "accuracy_score(y_test, preds)"
   ]
  },
  {
   "cell_type": "code",
   "execution_count": 81,
   "id": "838acdfa-479c-4105-bfa8-da563774088e",
   "metadata": {},
   "outputs": [
    {
     "name": "stdout",
     "output_type": "stream",
     "text": [
      "                   precision    recall  f1-score   support\n",
      "\n",
      "Different persons       0.39      0.50      0.43       389\n",
      "      Same person       0.61      0.50      0.55       611\n",
      "\n",
      "         accuracy                           0.50      1000\n",
      "        macro avg       0.50      0.50      0.49      1000\n",
      "     weighted avg       0.52      0.50      0.50      1000\n",
      "\n"
     ]
    }
   ],
   "source": [
    "from sklearn.metrics import confusion_matrix, classification_report\n",
    "\n",
    "target = lfw_dataset_test.target\n",
    "target_names = lfw_dataset_test.target_names\n",
    "\n",
    "\n",
    "print(classification_report(y_pred, y_test, target_names=target_names))"
   ]
  },
  {
   "cell_type": "markdown",
   "id": "c7b59a9e-6a9c-4803-b2ed-bff55c35d671",
   "metadata": {},
   "source": [
    "#### 5.2 Using HOG PCA and LBP PCA data"
   ]
  },
  {
   "cell_type": "code",
   "execution_count": 82,
   "id": "101a8811-bb21-4be0-ad53-c48d06ec5050",
   "metadata": {},
   "outputs": [
    {
     "data": {
      "text/plain": [
       "0.497"
      ]
     },
     "execution_count": 82,
     "metadata": {},
     "output_type": "execute_result"
    }
   ],
   "source": [
    "X_train = np.hstack((X_train_pca_hog, X_train_pca_lbp))\n",
    "X_test = np.hstack((X_test_pca_hog, X_test_pca_lbp))\n",
    "\n",
    "import xgboost as xgb\n",
    "xgb_cl = xgb.XGBClassifier()\n",
    "\n",
    "# Fit\n",
    "xgb_cl.fit(X_train, y_train)\n",
    "\n",
    "# Predict\n",
    "y_pred = xgb_cl.predict(X_test)\n",
    "\n",
    "# Score\n",
    "accuracy_score(y_test, preds)"
   ]
  },
  {
   "cell_type": "code",
   "execution_count": 83,
   "id": "dc747754-97a2-42db-8098-21e4d990f9ee",
   "metadata": {},
   "outputs": [
    {
     "name": "stdout",
     "output_type": "stream",
     "text": [
      "                   precision    recall  f1-score   support\n",
      "\n",
      "Different persons       0.40      0.53      0.46       376\n",
      "      Same person       0.65      0.52      0.58       624\n",
      "\n",
      "         accuracy                           0.53      1000\n",
      "        macro avg       0.53      0.53      0.52      1000\n",
      "     weighted avg       0.56      0.53      0.53      1000\n",
      "\n"
     ]
    }
   ],
   "source": [
    "from sklearn.metrics import confusion_matrix, classification_report\n",
    "\n",
    "target = lfw_dataset_test.target\n",
    "target_names = lfw_dataset_test.target_names\n",
    "\n",
    "\n",
    "print(classification_report(y_pred, y_test, target_names=target_names))"
   ]
  },
  {
   "cell_type": "markdown",
   "id": "bd7838db-9bbc-4870-84ef-766d723e3e81",
   "metadata": {},
   "source": [
    "### 5.3 Using HOG PCA and SIFT PCA data"
   ]
  },
  {
   "cell_type": "code",
   "execution_count": 84,
   "id": "5ffe9141-98ea-49ac-bc9a-34aa45f51361",
   "metadata": {},
   "outputs": [
    {
     "data": {
      "text/plain": [
       "0.497"
      ]
     },
     "execution_count": 84,
     "metadata": {},
     "output_type": "execute_result"
    }
   ],
   "source": [
    "X_train = np.hstack((X_train_pca_hog, X_train_pca_sift))\n",
    "X_test = np.hstack((X_test_pca_hog, X_test_pca_sift))\n",
    "\n",
    "import xgboost as xgb\n",
    "xgb_cl = xgb.XGBClassifier()\n",
    "\n",
    "# Fit\n",
    "xgb_cl.fit(X_train, y_train)\n",
    "\n",
    "# Predict\n",
    "y_pred = xgb_cl.predict(X_test)\n",
    "\n",
    "# Score\n",
    "accuracy_score(y_test, preds)"
   ]
  },
  {
   "cell_type": "code",
   "execution_count": 85,
   "id": "76a75ebb-139e-44a5-a34c-0a5ad8103d03",
   "metadata": {},
   "outputs": [
    {
     "name": "stdout",
     "output_type": "stream",
     "text": [
      "                   precision    recall  f1-score   support\n",
      "\n",
      "Different persons       0.48      0.51      0.50       469\n",
      "      Same person       0.54      0.51      0.53       531\n",
      "\n",
      "         accuracy                           0.51      1000\n",
      "        macro avg       0.51      0.51      0.51      1000\n",
      "     weighted avg       0.51      0.51      0.51      1000\n",
      "\n"
     ]
    }
   ],
   "source": [
    "from sklearn.metrics import confusion_matrix, classification_report\n",
    "\n",
    "target = lfw_dataset_test.target\n",
    "target_names = lfw_dataset_test.target_names\n",
    "\n",
    "\n",
    "print(classification_report(y_pred, y_test, target_names=target_names))"
   ]
  },
  {
   "cell_type": "code",
   "execution_count": null,
   "id": "de62f1cc-e5f3-43d1-b77e-f42ddcc5ff4f",
   "metadata": {},
   "outputs": [],
   "source": []
  }
 ],
 "metadata": {
  "environment": {
   "kernel": "python3",
   "name": "tf2-gpu.2-11.m109",
   "type": "gcloud",
   "uri": "gcr.io/deeplearning-platform-release/tf2-gpu.2-11:m109"
  },
  "kernelspec": {
   "display_name": "Python 3",
   "language": "python",
   "name": "python3"
  },
  "language_info": {
   "codemirror_mode": {
    "name": "ipython",
    "version": 3
   },
   "file_extension": ".py",
   "mimetype": "text/x-python",
   "name": "python",
   "nbconvert_exporter": "python",
   "pygments_lexer": "ipython3",
   "version": "3.10.11"
  }
 },
 "nbformat": 4,
 "nbformat_minor": 5
}
