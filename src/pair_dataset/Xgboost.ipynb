{
 "cells": [
  {
   "cell_type": "code",
   "execution_count": 14,
   "id": "a1f17dcb-cc13-4953-9ea4-72edb10c54b5",
   "metadata": {},
   "outputs": [],
   "source": [
    "from time import time\n",
    "from __future__ import print_function\n",
    "\n",
    "from time import time\n",
    "import logging\n",
    "import matplotlib.pyplot as plt\n",
    "\n",
    "from sklearn.model_selection import train_test_split\n",
    "from sklearn.model_selection import GridSearchCV\n",
    "from sklearn.datasets import fetch_lfw_people\n",
    "from sklearn.metrics import classification_report\n",
    "from sklearn.metrics import confusion_matrix\n",
    "from sklearn.decomposition import PCA\n",
    "from sklearn.svm import SVC"
   ]
  },
  {
   "cell_type": "code",
   "execution_count": 15,
   "id": "5fac77e7-40da-443b-b9a5-13dec775bb3b",
   "metadata": {},
   "outputs": [],
   "source": [
    "import numpy as np\n",
    "from sklearn.model_selection import train_test_split\n",
    "from sklearn.linear_model import LogisticRegression\n",
    "from sklearn.metrics import accuracy_score\n",
    "from sklearn.preprocessing import StandardScaler"
   ]
  },
  {
   "cell_type": "code",
   "execution_count": 16,
   "id": "512805b5-4e26-4205-a92c-a78e85da7329",
   "metadata": {},
   "outputs": [],
   "source": [
    "from PIL import Image\n",
    "from sklearn.ensemble import RandomForestClassifier"
   ]
  },
  {
   "cell_type": "code",
   "execution_count": 44,
   "id": "1155a630-e951-4c22-870b-94ae66cf9490",
   "metadata": {},
   "outputs": [],
   "source": [
    "from sklearn.datasets import fetch_lfw_pairs\n",
    "\n",
    "lfw_dataset_train = fetch_lfw_pairs(subset='train', resize=0.4)\n",
    "lfw_dataset_test = fetch_lfw_pairs(subset='test',resize=0.4)"
   ]
  },
  {
   "cell_type": "code",
   "execution_count": 45,
   "id": "f8bb63f2-4feb-49e8-8787-044e291e4ae1",
   "metadata": {},
   "outputs": [
    {
     "data": {
      "text/plain": [
       "dict_keys(['data', 'pairs', 'target', 'target_names', 'DESCR'])"
      ]
     },
     "execution_count": 45,
     "metadata": {},
     "output_type": "execute_result"
    }
   ],
   "source": [
    "lfw_dataset_test.keys()"
   ]
  },
  {
   "cell_type": "code",
   "execution_count": 47,
   "id": "e5bcf243-d984-4ad2-ba48-af81d76932f0",
   "metadata": {},
   "outputs": [],
   "source": [
    "X_train = lfw_dataset_train.data\n",
    "y_train = lfw_dataset_train.target\n",
    "\n",
    "X_test = lfw_dataset_test.data\n",
    "y_test = lfw_dataset_test.target"
   ]
  },
  {
   "cell_type": "code",
   "execution_count": 48,
   "id": "fed8d129-d347-4f5f-8a2e-b250bd26ea0c",
   "metadata": {},
   "outputs": [],
   "source": [
    "cnn_train_data = []\n",
    "cnn_train_data_1 = []\n",
    "cnn_train_data_2 = []\n",
    "for images_paris in lfw_dataset_train['pairs']:\n",
    "    image1 = images_paris[0]\n",
    "    image2 = images_paris[1]\n",
    "    # Stack the two images along the channel axis to create a single image \n",
    "    # with dimensions (32, 32, 6)\n",
    "    combined_image = np.concatenate((image1, image2), axis=0)\n",
    "    # combined_image = combined_image[:, :, :3]\n",
    "    cnn_train_data_1.append(image1)\n",
    "    cnn_train_data_2.append(image2)\n",
    "    cnn_train_data.append(combined_image)\n",
    "cnn_train_data  = np.stack(cnn_train_data, axis=0)\n",
    "cnn_train_data_1  = np.stack(cnn_train_data_1, axis=0)\n",
    "cnn_train_data_2  = np.stack(cnn_train_data_2, axis=0)\n",
    "\n",
    "cnn_test_data = []\n",
    "cnn_test_data_1 = []\n",
    "cnn_test_data_2 = []\n",
    "for images_paris in lfw_dataset_test['pairs']:\n",
    "    image1 = images_paris[0]\n",
    "    image2 = images_paris[1]\n",
    "    # Stack the two images along the channel axis to create a single image \n",
    "    # with dimensions (32, 32, 6)\n",
    "    combined_image = np.concatenate((image1, image2), axis=0)\n",
    "    # combined_image = combined_image[:, :, :3]\n",
    "    cnn_test_data_1.append(image1)\n",
    "    cnn_test_data_2.append(image2)\n",
    "    cnn_test_data.append(combined_image)\n",
    "cnn_test_data  = np.stack(cnn_test_data, axis=0)\n",
    "cnn_test_data_1  = np.stack(cnn_test_data_1, axis=0)\n",
    "cnn_test_data_2  = np.stack(cnn_test_data_2, axis=0)"
   ]
  },
  {
   "cell_type": "code",
   "execution_count": 49,
   "id": "51d24e9a-3b7f-4ba6-928f-c39a462443e9",
   "metadata": {},
   "outputs": [
    {
     "data": {
      "text/plain": [
       "((2200, 50, 37), (2200, 50, 37))"
      ]
     },
     "execution_count": 49,
     "metadata": {},
     "output_type": "execute_result"
    }
   ],
   "source": [
    "cnn_train_data_2.shape, cnn_train_data_1.shape"
   ]
  },
  {
   "cell_type": "code",
   "execution_count": 50,
   "id": "b1f73d60-be95-4b7a-991a-4f44d5b1c6fc",
   "metadata": {},
   "outputs": [
    {
     "data": {
      "text/plain": [
       "((1000, 50, 37), (1000, 50, 37))"
      ]
     },
     "execution_count": 50,
     "metadata": {},
     "output_type": "execute_result"
    }
   ],
   "source": [
    "cnn_test_data_1.shape, cnn_test_data_2.shape"
   ]
  },
  {
   "cell_type": "code",
   "execution_count": 51,
   "id": "b8e01c18-fc9a-402c-9eba-8c293a1b728c",
   "metadata": {},
   "outputs": [],
   "source": [
    "### passing the single image to the function to check the result\n",
    "X_train_1 = []\n",
    "X_train_2 = []\n",
    "for image in cnn_train_data_1:\n",
    "    X_train_1.append(image.flatten())\n",
    "\n",
    "X_train_1 = np.array(X_train_1)\n",
    "\n",
    "for image in cnn_train_data_2:\n",
    "    X_train_2.append(image.flatten())\n",
    "X_train_2 = np.array(X_train_2)"
   ]
  },
  {
   "cell_type": "code",
   "execution_count": 52,
   "id": "bc203505-b880-478f-b6ea-51ab3763e338",
   "metadata": {},
   "outputs": [
    {
     "data": {
      "text/plain": [
       "((2200, 1850), (2200, 1850))"
      ]
     },
     "execution_count": 52,
     "metadata": {},
     "output_type": "execute_result"
    }
   ],
   "source": [
    "X_train_1.shape, X_train_2.shape"
   ]
  },
  {
   "cell_type": "code",
   "execution_count": 53,
   "id": "5be6ea79-9c00-4f0d-bbdf-7c1527e9a9f2",
   "metadata": {},
   "outputs": [],
   "source": [
    "### passing the single image to the function to check the result\n",
    "X_test_1 = []\n",
    "X_test_2 = []\n",
    "for image in cnn_test_data_1:\n",
    "    X_test_1.append(image.flatten())\n",
    "\n",
    "X_test_1 = np.array(X_test_1)\n",
    "\n",
    "for image in cnn_test_data_2:\n",
    "    X_test_2.append(image.flatten())\n",
    "X_test_2 = np.array(X_test_2)"
   ]
  },
  {
   "cell_type": "code",
   "execution_count": 54,
   "id": "cf6b8dce-68ce-4937-932f-e1fb84624fd8",
   "metadata": {},
   "outputs": [
    {
     "data": {
      "text/plain": [
       "((1000, 1850), (1000, 1850))"
      ]
     },
     "execution_count": 54,
     "metadata": {},
     "output_type": "execute_result"
    }
   ],
   "source": [
    "X_test_1.shape, X_test_2.shape"
   ]
  },
  {
   "cell_type": "code",
   "execution_count": 57,
   "id": "a4f3b48f-959a-477d-acdb-cf3cdd2e6f61",
   "metadata": {},
   "outputs": [],
   "source": [
    "def pca_implementation(X_train, X_test):\n",
    "    # Compute a PCA (eigenfaces) on the face dataset (treated as unlabeled\n",
    "    # dataset): unsupervised feature extraction / dimensionality reduction\n",
    "    n_components = 150\n",
    "\n",
    "    print(\"Extracting the top %d eigenfaces from %d faces\"\n",
    "          % (n_components, X_train.shape[0]))\n",
    "    t0 = time()\n",
    "    pca = PCA(n_components=n_components, svd_solver='randomized',\n",
    "              whiten=True).fit(X_train)\n",
    "    print(\"done in %0.3fs\" % (time() - t0))\n",
    "\n",
    "    eigenfaces = pca.components_.reshape((n_components, 50, 37))\n",
    "\n",
    "    print(\"Projecting the input data on the eigenfaces orthonormal basis\")\n",
    "    t0 = time()\n",
    "    X_train_pca = pca.transform(X_train)\n",
    "    X_test_pca = pca.transform(X_test)\n",
    "    print(\"done in %0.3fs\" % (time() - t0))\n",
    "    return X_train_pca, X_test_pca\n",
    "   "
   ]
  },
  {
   "cell_type": "code",
   "execution_count": 58,
   "id": "03e25332-77a0-4844-b0f8-bbcc70dfeb62",
   "metadata": {},
   "outputs": [
    {
     "name": "stdout",
     "output_type": "stream",
     "text": [
      "Extracting the top 150 eigenfaces from 2200 faces\n",
      "done in 0.774s\n",
      "Projecting the input data on the eigenfaces orthonormal basis\n",
      "done in 0.037s\n"
     ]
    }
   ],
   "source": [
    "X_train_pca_1, X_test_pca_1 = pca_implementation(X_train_1, X_test_1)"
   ]
  },
  {
   "cell_type": "code",
   "execution_count": 59,
   "id": "bee964cf-9881-4fd6-8c64-c7358f9ef578",
   "metadata": {},
   "outputs": [
    {
     "name": "stdout",
     "output_type": "stream",
     "text": [
      "Extracting the top 150 eigenfaces from 2200 faces\n",
      "done in 0.625s\n",
      "Projecting the input data on the eigenfaces orthonormal basis\n",
      "done in 0.052s\n"
     ]
    }
   ],
   "source": [
    "X_train_pca_2, X_test_pca_2 = pca_implementation(X_train_2, X_test_2)"
   ]
  },
  {
   "cell_type": "code",
   "execution_count": 62,
   "id": "57ec0c2c-7e80-48ea-926e-f01d32634098",
   "metadata": {},
   "outputs": [],
   "source": [
    "X_train_combined = np.hstack((X_train_pca_1,X_train_pca_2))"
   ]
  },
  {
   "cell_type": "code",
   "execution_count": 63,
   "id": "1bc39136-cf5e-443d-8a8c-c8f0a2307641",
   "metadata": {},
   "outputs": [
    {
     "data": {
      "text/plain": [
       "(2200, 300)"
      ]
     },
     "execution_count": 63,
     "metadata": {},
     "output_type": "execute_result"
    }
   ],
   "source": [
    "X_train_combined.shape"
   ]
  },
  {
   "cell_type": "code",
   "execution_count": 61,
   "id": "06f2e8e6-9b14-40b8-9ebd-54c560066b7c",
   "metadata": {},
   "outputs": [],
   "source": [
    "X_test_combined = np.hstack((X_test_pca_1,X_test_pca_2))"
   ]
  },
  {
   "cell_type": "code",
   "execution_count": 64,
   "id": "737407d4-0e27-4d3c-8adf-2994c3324704",
   "metadata": {},
   "outputs": [
    {
     "data": {
      "text/plain": [
       "(1000, 300)"
      ]
     },
     "execution_count": 64,
     "metadata": {},
     "output_type": "execute_result"
    }
   ],
   "source": [
    "X_test_combined.shape"
   ]
  },
  {
   "cell_type": "code",
   "execution_count": 77,
   "id": "6872448c-e880-46ba-bdb5-1cbac5412750",
   "metadata": {},
   "outputs": [
    {
     "data": {
      "text/plain": [
       "0.531"
      ]
     },
     "execution_count": 77,
     "metadata": {},
     "output_type": "execute_result"
    }
   ],
   "source": [
    "import xgboost as xgb\n",
    "xgb_cl = xgb.XGBClassifier()\n",
    "\n",
    "# Fit\n",
    "xgb_cl.fit(X_train_combined, y_train)\n",
    "\n",
    "# Predict\n",
    "y_pred = xgb_cl.predict(X_test_combined)\n",
    "\n",
    "# Score\n",
    "accuracy_score(y_test, y_pred)"
   ]
  },
  {
   "cell_type": "code",
   "execution_count": 78,
   "id": "1edd3708-5e30-47ac-bf9d-7856b53457f4",
   "metadata": {},
   "outputs": [
    {
     "name": "stdout",
     "output_type": "stream",
     "text": [
      "                   precision    recall  f1-score   support\n",
      "\n",
      "Different persons       0.51      0.53      0.52       479\n",
      "      Same person       0.55      0.53      0.54       521\n",
      "\n",
      "         accuracy                           0.53      1000\n",
      "        macro avg       0.53      0.53      0.53      1000\n",
      "     weighted avg       0.53      0.53      0.53      1000\n",
      "\n"
     ]
    }
   ],
   "source": [
    "from sklearn.metrics import confusion_matrix, classification_report\n",
    "\n",
    "target = lfw_dataset_test.target\n",
    "target_names = lfw_dataset_test.target_names\n",
    "\n",
    "\n",
    "print(classification_report(y_pred, y_test, target_names=target_names))"
   ]
  },
  {
   "cell_type": "code",
   "execution_count": null,
   "id": "f8e9f6fa-b42e-4460-8d88-41bb4307f1c9",
   "metadata": {},
   "outputs": [],
   "source": []
  }
 ],
 "metadata": {
  "environment": {
   "kernel": "python3",
   "name": "tf2-gpu.2-11.m109",
   "type": "gcloud",
   "uri": "gcr.io/deeplearning-platform-release/tf2-gpu.2-11:m109"
  },
  "kernelspec": {
   "display_name": "Python 3",
   "language": "python",
   "name": "python3"
  },
  "language_info": {
   "codemirror_mode": {
    "name": "ipython",
    "version": 3
   },
   "file_extension": ".py",
   "mimetype": "text/x-python",
   "name": "python",
   "nbconvert_exporter": "python",
   "pygments_lexer": "ipython3",
   "version": "3.10.11"
  }
 },
 "nbformat": 4,
 "nbformat_minor": 5
}
