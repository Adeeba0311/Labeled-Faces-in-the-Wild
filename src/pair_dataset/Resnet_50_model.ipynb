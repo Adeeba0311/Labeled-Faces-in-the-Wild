{
 "cells": [
  {
   "cell_type": "markdown",
   "id": "49d9d1ad-a72b-4cc5-a7fd-ebffac3f6f11",
   "metadata": {},
   "source": [
    "### Simple Deep learning Model "
   ]
  },
  {
   "cell_type": "markdown",
   "id": "03d435b5-db59-4396-8a70-1fb242b89b67",
   "metadata": {},
   "source": [
    "#### 1. Importing the necessary import"
   ]
  },
  {
   "cell_type": "code",
   "execution_count": 1,
   "id": "76ed0b74-ca41-4d8f-8a6c-4067ce4716ba",
   "metadata": {},
   "outputs": [],
   "source": [
    "import os\n",
    "from os import listdir\n",
    "from os.path import isfile, join\n",
    "from glob import glob\n",
    "\n",
    "import random\n",
    "import numpy as np\n",
    "import pandas as pd\n",
    "from tqdm import tqdm \n",
    "\n",
    "from imgaug import augmenters as iaa\n",
    "import PIL.Image as Image\n",
    "import matplotlib.pyplot as plt\n",
    "# %matplotlib notebook \n",
    "\n",
    "# from IPython.core.display import display, HTML\n",
    "# from IPython.display import display\n",
    "# display(HTML(\"<style>.container { width:90% !important; }</style>\"))\n",
    "\n",
    "import warnings\n",
    "warnings.filterwarnings('ignore')\n",
    "# # %autoreload\n",
    "# %load_ext autoreload"
   ]
  },
  {
   "cell_type": "code",
   "execution_count": 2,
   "id": "4d5e2539-331a-45a8-a381-ef7aeeeca86a",
   "metadata": {
    "collapsed": true,
    "jupyter": {
     "outputs_hidden": true
    },
    "tags": []
   },
   "outputs": [
    {
     "name": "stderr",
     "output_type": "stream",
     "text": [
      "2023-07-26 18:50:52.895538: I tensorflow/core/platform/cpu_feature_guard.cc:193] This TensorFlow binary is optimized with oneAPI Deep Neural Network Library (oneDNN) to use the following CPU instructions in performance-critical operations:  AVX2 FMA\n",
      "To enable them in other operations, rebuild TensorFlow with the appropriate compiler flags.\n",
      "2023-07-26 18:50:53.782129: W tensorflow/compiler/xla/stream_executor/platform/default/dso_loader.cc:64] Could not load dynamic library 'libnvinfer.so.7'; dlerror: libnvinfer.so.7: cannot open shared object file: No such file or directory; LD_LIBRARY_PATH: /opt/conda/lib/python3.10/site-packages/cv2/../../lib64:/usr/local/cuda/lib64:/usr/local/nccl2/lib:/usr/local/cuda/extras/CUPTI/lib64\n",
      "2023-07-26 18:50:53.782283: W tensorflow/compiler/xla/stream_executor/platform/default/dso_loader.cc:64] Could not load dynamic library 'libnvinfer_plugin.so.7'; dlerror: libnvinfer_plugin.so.7: cannot open shared object file: No such file or directory; LD_LIBRARY_PATH: /opt/conda/lib/python3.10/site-packages/cv2/../../lib64:/usr/local/cuda/lib64:/usr/local/nccl2/lib:/usr/local/cuda/extras/CUPTI/lib64\n",
      "2023-07-26 18:50:53.782295: W tensorflow/compiler/tf2tensorrt/utils/py_utils.cc:38] TF-TRT Warning: Cannot dlopen some TensorRT libraries. If you would like to use Nvidia GPU with TensorRT, please make sure the missing libraries mentioned above are installed properly.\n"
     ]
    },
    {
     "name": "stdout",
     "output_type": "stream",
     "text": [
      "Default GPU Device:/device:GPU:0\n",
      "Num GPUs Available:  1\n"
     ]
    },
    {
     "name": "stderr",
     "output_type": "stream",
     "text": [
      "2023-07-26 18:50:54.476775: I tensorflow/core/platform/cpu_feature_guard.cc:193] This TensorFlow binary is optimized with oneAPI Deep Neural Network Library (oneDNN) to use the following CPU instructions in performance-critical operations:  AVX2 FMA\n",
      "To enable them in other operations, rebuild TensorFlow with the appropriate compiler flags.\n",
      "2023-07-26 18:50:56.349864: I tensorflow/compiler/xla/stream_executor/cuda/cuda_gpu_executor.cc:981] successful NUMA node read from SysFS had negative value (-1), but there must be at least one NUMA node, so returning NUMA node zero\n",
      "2023-07-26 18:50:56.363272: I tensorflow/compiler/xla/stream_executor/cuda/cuda_gpu_executor.cc:981] successful NUMA node read from SysFS had negative value (-1), but there must be at least one NUMA node, so returning NUMA node zero\n",
      "2023-07-26 18:50:56.364974: I tensorflow/compiler/xla/stream_executor/cuda/cuda_gpu_executor.cc:981] successful NUMA node read from SysFS had negative value (-1), but there must be at least one NUMA node, so returning NUMA node zero\n",
      "2023-07-26 18:50:57.244097: I tensorflow/compiler/xla/stream_executor/cuda/cuda_gpu_executor.cc:981] successful NUMA node read from SysFS had negative value (-1), but there must be at least one NUMA node, so returning NUMA node zero\n",
      "2023-07-26 18:50:57.246033: I tensorflow/compiler/xla/stream_executor/cuda/cuda_gpu_executor.cc:981] successful NUMA node read from SysFS had negative value (-1), but there must be at least one NUMA node, so returning NUMA node zero\n",
      "2023-07-26 18:50:57.247741: I tensorflow/compiler/xla/stream_executor/cuda/cuda_gpu_executor.cc:981] successful NUMA node read from SysFS had negative value (-1), but there must be at least one NUMA node, so returning NUMA node zero\n",
      "2023-07-26 18:50:57.249325: I tensorflow/core/common_runtime/gpu/gpu_device.cc:1613] Created device /device:GPU:0 with 13582 MB memory:  -> device: 0, name: Tesla T4, pci bus id: 0000:00:04.0, compute capability: 7.5\n",
      "2023-07-26 18:50:57.250842: I tensorflow/compiler/xla/stream_executor/cuda/cuda_gpu_executor.cc:981] successful NUMA node read from SysFS had negative value (-1), but there must be at least one NUMA node, so returning NUMA node zero\n",
      "2023-07-26 18:50:57.252570: I tensorflow/compiler/xla/stream_executor/cuda/cuda_gpu_executor.cc:981] successful NUMA node read from SysFS had negative value (-1), but there must be at least one NUMA node, so returning NUMA node zero\n",
      "2023-07-26 18:50:57.254193: I tensorflow/compiler/xla/stream_executor/cuda/cuda_gpu_executor.cc:981] successful NUMA node read from SysFS had negative value (-1), but there must be at least one NUMA node, so returning NUMA node zero\n",
      "2023-07-26 18:50:57.255899: I tensorflow/compiler/xla/stream_executor/cuda/cuda_gpu_executor.cc:981] successful NUMA node read from SysFS had negative value (-1), but there must be at least one NUMA node, so returning NUMA node zero\n",
      "2023-07-26 18:50:57.257530: I tensorflow/compiler/xla/stream_executor/cuda/cuda_gpu_executor.cc:981] successful NUMA node read from SysFS had negative value (-1), but there must be at least one NUMA node, so returning NUMA node zero\n",
      "2023-07-26 18:50:57.259075: I tensorflow/core/common_runtime/gpu/gpu_device.cc:1613] Created device /device:GPU:0 with 13582 MB memory:  -> device: 0, name: Tesla T4, pci bus id: 0000:00:04.0, compute capability: 7.5\n",
      "2023-07-26 18:50:57.260034: I tensorflow/compiler/xla/stream_executor/cuda/cuda_gpu_executor.cc:981] successful NUMA node read from SysFS had negative value (-1), but there must be at least one NUMA node, so returning NUMA node zero\n",
      "2023-07-26 18:50:57.261796: I tensorflow/compiler/xla/stream_executor/cuda/cuda_gpu_executor.cc:981] successful NUMA node read from SysFS had negative value (-1), but there must be at least one NUMA node, so returning NUMA node zero\n",
      "2023-07-26 18:50:57.263477: I tensorflow/compiler/xla/stream_executor/cuda/cuda_gpu_executor.cc:981] successful NUMA node read from SysFS had negative value (-1), but there must be at least one NUMA node, so returning NUMA node zero\n"
     ]
    }
   ],
   "source": [
    "import tensorflow as tf \n",
    "if tf.test.gpu_device_name(): \n",
    "    print('Default GPU Device:{}'.format(tf.test.gpu_device_name()))\n",
    "    print(\"Num GPUs Available: \", len(tf.config.list_physical_devices('GPU')))\n",
    "else:\n",
    "    print(\"Please install GPU version of TF\")"
   ]
  },
  {
   "cell_type": "code",
   "execution_count": 3,
   "id": "165d6487-7903-40e5-918d-ebe15ec33a2a",
   "metadata": {
    "tags": []
   },
   "outputs": [
    {
     "name": "stdout",
     "output_type": "stream",
     "text": [
      "[PhysicalDevice(name='/physical_device:GPU:0', device_type='GPU')]\n"
     ]
    }
   ],
   "source": [
    "import tensorflow as tf\n",
    "print(tf.config.list_physical_devices('GPU'))"
   ]
  },
  {
   "cell_type": "markdown",
   "id": "cd793fa8-f03d-4504-a41f-818c36b2a5fa",
   "metadata": {},
   "source": [
    "#### 2. Loading the dataset"
   ]
  },
  {
   "cell_type": "code",
   "execution_count": 4,
   "id": "cd0d523d-f2a0-44c8-80e9-80b52ec53c72",
   "metadata": {},
   "outputs": [],
   "source": [
    "from sklearn.datasets import fetch_lfw_pairs\n",
    "\n",
    "lfw_dataset_train = fetch_lfw_pairs(subset='train',color=True)\n",
    "lfw_dataset_test = fetch_lfw_pairs(subset='test',color=True)"
   ]
  },
  {
   "cell_type": "code",
   "execution_count": 5,
   "id": "cd04c81b-8586-45b2-82dc-a55623123814",
   "metadata": {},
   "outputs": [],
   "source": [
    "cnn_train_data = []\n",
    "for images_paris in lfw_dataset_train['pairs']:\n",
    "    image1 = images_paris[0]\n",
    "    image2 = images_paris[1]\n",
    "    # Stack the two images along the channel axis to create a single image \n",
    "    # with dimensions (32, 32, 6)\n",
    "    combined_image = np.concatenate((image1, image2), axis=0)\n",
    "    # combined_image = combined_image[:, :, :3]\n",
    "    cnn_train_data.append(combined_image)\n",
    "cnn_train_data  = np.stack(cnn_train_data, axis=0)\n",
    "\n",
    "\n",
    "cnn_test_data = []\n",
    "for images_paris in lfw_dataset_test['pairs']:\n",
    "    image1 = images_paris[0]\n",
    "    image2 = images_paris[1]\n",
    "    # Stack the two images along the channel axis to create a single image \n",
    "    # with dimensions (32, 32, 6)\n",
    "    combined_image = np.concatenate((image1, image2), axis=0)\n",
    "    # combined_image = combined_image[:, :, :3]\n",
    "    cnn_test_data.append(combined_image)\n",
    "cnn_test_data  = np.stack(cnn_test_data, axis=0)"
   ]
  },
  {
   "cell_type": "code",
   "execution_count": 6,
   "id": "418c050a-c189-4b1a-bda1-d97cb5f3e431",
   "metadata": {},
   "outputs": [],
   "source": [
    "X_train = cnn_train_data\n",
    "y_train = lfw_dataset_train['target']"
   ]
  },
  {
   "cell_type": "code",
   "execution_count": 7,
   "id": "49fe8c34-dd3a-4d4f-8d3b-b091621efe83",
   "metadata": {},
   "outputs": [],
   "source": [
    "X_test = cnn_test_data\n",
    "y_test = lfw_dataset_test['target']"
   ]
  },
  {
   "cell_type": "code",
   "execution_count": 8,
   "id": "8ee158e4-5065-4cac-b9a0-c07fd7337bdd",
   "metadata": {},
   "outputs": [],
   "source": [
    "from sklearn.preprocessing import LabelBinarizer\n",
    "label_as_binary = LabelBinarizer()\n",
    "y_train = label_as_binary.fit_transform(y_train)\n",
    "y_test = label_as_binary.fit_transform(y_test)"
   ]
  },
  {
   "cell_type": "code",
   "execution_count": 9,
   "id": "12a0f2ef-12f2-48ef-993b-89cc411a691e",
   "metadata": {},
   "outputs": [],
   "source": [
    "from sklearn import preprocessing\n",
    "ohe = preprocessing.OneHotEncoder()\n",
    "y_train = ohe.fit_transform(y_train).toarray()\n",
    "y_test = ohe.fit_transform(y_test).toarray()"
   ]
  },
  {
   "cell_type": "code",
   "execution_count": 10,
   "id": "5cc4d817-3666-4b50-bce1-9fad8024416e",
   "metadata": {},
   "outputs": [],
   "source": [
    "import tensorflow as tf\n",
    "tf.config.run_functions_eagerly(True)\n",
    "\n",
    "from keras import backend as K\n",
    "from keras.callbacks import ModelCheckpoint, ReduceLROnPlateau, EarlyStopping, LambdaCallback\n",
    "from keras.layers import Input, Dropout, GlobalAveragePooling2D, AveragePooling2D, BatchNormalization, Conv2D\n",
    "from keras.layers import Flatten, Dense\n",
    "from keras.models import Model, load_model\n",
    "from keras.models import Sequential\n",
    "\n",
    "import warnings\n",
    "warnings.filterwarnings('ignore')"
   ]
  },
  {
   "cell_type": "markdown",
   "id": "bf6126ff-f2d0-4178-8604-bcb8f6b958cd",
   "metadata": {},
   "source": [
    "#### 3. Preparing the model "
   ]
  },
  {
   "cell_type": "code",
   "execution_count": 11,
   "id": "14f1747a-002c-477b-b200-d501721ff7bd",
   "metadata": {},
   "outputs": [],
   "source": [
    "def create_simple_model(input_shape, n_out):\n",
    "    n_out=2\n",
    "    inputs = tf.keras.Input(shape=(124, 47, 3))\n",
    "     # = tf.keras.Input(shape=(2,))\n",
    "\n",
    "    # Load the pre-trained MobileNetV2 model (backbone)\n",
    "    base_model = tf.keras.applications.ResNet50(include_top=False,\n",
    "                                                input_tensor=None,\n",
    "                                                pooling=None,\n",
    "                                                classes=2\n",
    "                                                )\n",
    "\n",
    "    x = base_model(inputs, training=True)\n",
    "    x = BatchNormalization()(x)\n",
    "    x = Dropout(0.5)(x)\n",
    "    x = Flatten()(x)\n",
    "    x = Dense(128, kernel_initializer='he_normal')(x)    \n",
    "    x = BatchNormalization()(x)\n",
    "    x = Dense(n_out, activation='softmax')(x)\n",
    "    # outputs = tf.keras.layers.Dense(2)(x)\n",
    "\n",
    "    model = Model(inputs, x)\n",
    "    return model"
   ]
  },
  {
   "cell_type": "code",
   "execution_count": 12,
   "id": "09e35786-aeff-494c-a02d-de1535e866dd",
   "metadata": {},
   "outputs": [],
   "source": [
    "# Draw learning curve\n",
    "def show_history(history):\n",
    "    fig, ax = plt.subplots(1, 2, figsize=(15,5))\n",
    "    ax[0].set_title('loss')\n",
    "    ax[0].plot(history.epoch, history.history[\"loss\"], label=\"Train loss\")\n",
    "    ax[0].plot(history.epoch, history.history[\"val_loss\"], label=\"Validation loss\")\n",
    "    ax[1].set_title('acc')\n",
    "    ax[1].plot(history.epoch, history.history[\"accuracy\"], label=\"Train accuracy\")\n",
    "    ax[1].plot(history.epoch, history.history[\"val_accuracy\"], label=\"Validation accuracy\")\n",
    "    ax[0].legend()\n",
    "    ax[1].legend()"
   ]
  },
  {
   "cell_type": "code",
   "execution_count": 13,
   "id": "a0bf00aa-26a2-45ed-86c7-92128347d032",
   "metadata": {},
   "outputs": [],
   "source": [
    "batch_size = 40\n",
    "\n",
    "model_path = os.path.join(\"weights\", \"Resnet_image_classification.hd5\")\n",
    "checkPoint = ModelCheckpoint(model_path, monitor='val_loss', verbose=1, save_best_only=True)\n",
    "reduceLROnPlato = ReduceLROnPlateau(monitor='val_loss', factor=0.5, patience=5, verbose=1, mode='min')\n",
    "earlyStop = EarlyStopping(monitor='val_loss', mode='auto', verbose=1, patience=10)\n",
    "\n",
    "# train_gen = generator.get_batch(batch_size, is_augmented=True, validation=False)\n",
    "# test_gen = generator.get_batch(400, is_augmented=False, validation=True)"
   ]
  },
  {
   "cell_type": "code",
   "execution_count": 14,
   "id": "07bf684d-5e31-4b79-a8b2-c2d02f4c4142",
   "metadata": {
    "tags": []
   },
   "outputs": [
    {
     "name": "stderr",
     "output_type": "stream",
     "text": [
      "2023-07-26 18:51:11.783802: I tensorflow/compiler/xla/stream_executor/cuda/cuda_gpu_executor.cc:981] successful NUMA node read from SysFS had negative value (-1), but there must be at least one NUMA node, so returning NUMA node zero\n",
      "2023-07-26 18:51:11.785928: I tensorflow/compiler/xla/stream_executor/cuda/cuda_gpu_executor.cc:981] successful NUMA node read from SysFS had negative value (-1), but there must be at least one NUMA node, so returning NUMA node zero\n",
      "2023-07-26 18:51:11.787667: I tensorflow/compiler/xla/stream_executor/cuda/cuda_gpu_executor.cc:981] successful NUMA node read from SysFS had negative value (-1), but there must be at least one NUMA node, so returning NUMA node zero\n",
      "2023-07-26 18:51:11.789453: I tensorflow/compiler/xla/stream_executor/cuda/cuda_gpu_executor.cc:981] successful NUMA node read from SysFS had negative value (-1), but there must be at least one NUMA node, so returning NUMA node zero\n",
      "2023-07-26 18:51:11.791160: I tensorflow/compiler/xla/stream_executor/cuda/cuda_gpu_executor.cc:981] successful NUMA node read from SysFS had negative value (-1), but there must be at least one NUMA node, so returning NUMA node zero\n",
      "2023-07-26 18:51:11.792780: I tensorflow/core/common_runtime/gpu/gpu_device.cc:1613] Created device /job:localhost/replica:0/task:0/device:GPU:0 with 13582 MB memory:  -> device: 0, name: Tesla T4, pci bus id: 0000:00:04.0, compute capability: 7.5\n"
     ]
    },
    {
     "name": "stdout",
     "output_type": "stream",
     "text": [
      "Model: \"model\"\n",
      "_________________________________________________________________\n",
      " Layer (type)                Output Shape              Param #   \n",
      "=================================================================\n",
      " input_1 (InputLayer)        [(None, 124, 47, 3)]      0         \n",
      "                                                                 \n",
      " resnet50 (Functional)       (None, None, None, 2048)  23587712  \n",
      "                                                                 \n",
      " batch_normalization (BatchN  (None, 4, 2, 2048)       8192      \n",
      " ormalization)                                                   \n",
      "                                                                 \n",
      " dropout (Dropout)           (None, 4, 2, 2048)        0         \n",
      "                                                                 \n",
      " flatten (Flatten)           (None, 16384)             0         \n",
      "                                                                 \n",
      " dense (Dense)               (None, 128)               2097280   \n",
      "                                                                 \n",
      " batch_normalization_1 (Batc  (None, 128)              512       \n",
      " hNormalization)                                                 \n",
      "                                                                 \n",
      " dense_1 (Dense)             (None, 2)                 258       \n",
      "                                                                 \n",
      "=================================================================\n",
      "Total params: 25,693,954\n",
      "Trainable params: 25,636,482\n",
      "Non-trainable params: 57,472\n",
      "_________________________________________________________________\n"
     ]
    }
   ],
   "source": [
    "opt = tf.keras.optimizers.Adam(learning_rate=1e-2)\n",
    "\n",
    "# batch_img, _ = next(train_gen)\n",
    "simple_model = create_simple_model((124,47,3), 2)\n",
    "simple_model.compile(loss='categorical_crossentropy', optimizer=opt, metrics=['accuracy'])\n",
    "simple_model.summary()                                                                            "
   ]
  },
  {
   "cell_type": "markdown",
   "id": "b93ef2a4-bb4b-487a-86f7-ae45deb6ebdc",
   "metadata": {},
   "source": [
    "#### 4. Running the model"
   ]
  },
  {
   "cell_type": "code",
   "execution_count": 15,
   "id": "4e91e2ac-ba4e-483b-8eed-1b1af6c3ee19",
   "metadata": {
    "tags": []
   },
   "outputs": [
    {
     "name": "stdout",
     "output_type": "stream",
     "text": [
      "Epoch 1/100\n"
     ]
    },
    {
     "name": "stderr",
     "output_type": "stream",
     "text": [
      "2023-07-26 18:51:15.085445: I tensorflow/compiler/xla/stream_executor/cuda/cuda_dnn.cc:428] Loaded cuDNN version 8200\n"
     ]
    },
    {
     "name": "stdout",
     "output_type": "stream",
     "text": [
      "55/55 [==============================] - ETA: 0s - loss: 0.9286 - accuracy: 0.4918\n",
      "Epoch 1: val_loss improved from inf to 0.71277, saving model to weights/Resnet_image_classification.hd5\n"
     ]
    },
    {
     "name": "stderr",
     "output_type": "stream",
     "text": [
      "WARNING:absl:Found untraced functions such as _update_step_xla, _jit_compiled_convolution_op, _jit_compiled_convolution_op, _jit_compiled_convolution_op, _jit_compiled_convolution_op while saving (showing 5 of 54). These functions will not be directly callable after loading.\n"
     ]
    },
    {
     "name": "stdout",
     "output_type": "stream",
     "text": [
      "INFO:tensorflow:Assets written to: weights/Resnet_image_classification.hd5/assets\n"
     ]
    },
    {
     "name": "stderr",
     "output_type": "stream",
     "text": [
      "INFO:tensorflow:Assets written to: weights/Resnet_image_classification.hd5/assets\n"
     ]
    },
    {
     "name": "stdout",
     "output_type": "stream",
     "text": [
      "55/55 [==============================] - 74s 1s/step - loss: 0.9286 - accuracy: 0.4918 - val_loss: 0.7128 - val_accuracy: 0.5010 - lr: 0.0100\n",
      "Epoch 2/100\n",
      "55/55 [==============================] - ETA: 0s - loss: 0.7666 - accuracy: 0.5077\n",
      "Epoch 2: val_loss did not improve from 0.71277\n",
      "55/55 [==============================] - 41s 748ms/step - loss: 0.7666 - accuracy: 0.5077 - val_loss: 0.8093 - val_accuracy: 0.5080 - lr: 0.0100\n",
      "Epoch 3/100\n",
      "55/55 [==============================] - ETA: 0s - loss: 0.7340 - accuracy: 0.5118\n",
      "Epoch 3: val_loss did not improve from 0.71277\n",
      "55/55 [==============================] - 40s 736ms/step - loss: 0.7340 - accuracy: 0.5118 - val_loss: 0.8079 - val_accuracy: 0.5010 - lr: 0.0100\n",
      "Epoch 4/100\n",
      "55/55 [==============================] - ETA: 0s - loss: 0.7433 - accuracy: 0.4936\n",
      "Epoch 4: val_loss improved from 0.71277 to 0.70098, saving model to weights/Resnet_image_classification.hd5\n"
     ]
    },
    {
     "name": "stderr",
     "output_type": "stream",
     "text": [
      "WARNING:absl:Found untraced functions such as _update_step_xla, _jit_compiled_convolution_op, _jit_compiled_convolution_op, _jit_compiled_convolution_op, _jit_compiled_convolution_op while saving (showing 5 of 54). These functions will not be directly callable after loading.\n"
     ]
    },
    {
     "name": "stdout",
     "output_type": "stream",
     "text": [
      "INFO:tensorflow:Assets written to: weights/Resnet_image_classification.hd5/assets\n"
     ]
    },
    {
     "name": "stderr",
     "output_type": "stream",
     "text": [
      "INFO:tensorflow:Assets written to: weights/Resnet_image_classification.hd5/assets\n"
     ]
    },
    {
     "name": "stdout",
     "output_type": "stream",
     "text": [
      "55/55 [==============================] - 74s 1s/step - loss: 0.7433 - accuracy: 0.4936 - val_loss: 0.7010 - val_accuracy: 0.5080 - lr: 0.0100\n",
      "Epoch 5/100\n",
      "55/55 [==============================] - ETA: 0s - loss: 0.7060 - accuracy: 0.5014\n",
      "Epoch 5: val_loss improved from 0.70098 to 0.69956, saving model to weights/Resnet_image_classification.hd5\n"
     ]
    },
    {
     "name": "stderr",
     "output_type": "stream",
     "text": [
      "WARNING:absl:Found untraced functions such as _update_step_xla, _jit_compiled_convolution_op, _jit_compiled_convolution_op, _jit_compiled_convolution_op, _jit_compiled_convolution_op while saving (showing 5 of 54). These functions will not be directly callable after loading.\n"
     ]
    },
    {
     "name": "stdout",
     "output_type": "stream",
     "text": [
      "INFO:tensorflow:Assets written to: weights/Resnet_image_classification.hd5/assets\n"
     ]
    },
    {
     "name": "stderr",
     "output_type": "stream",
     "text": [
      "INFO:tensorflow:Assets written to: weights/Resnet_image_classification.hd5/assets\n"
     ]
    },
    {
     "name": "stdout",
     "output_type": "stream",
     "text": [
      "55/55 [==============================] - 71s 1s/step - loss: 0.7060 - accuracy: 0.5014 - val_loss: 0.6996 - val_accuracy: 0.5080 - lr: 0.0100\n",
      "Epoch 6/100\n",
      "55/55 [==============================] - ETA: 0s - loss: 0.7346 - accuracy: 0.5068\n",
      "Epoch 6: val_loss did not improve from 0.69956\n",
      "55/55 [==============================] - 39s 705ms/step - loss: 0.7346 - accuracy: 0.5068 - val_loss: 0.7008 - val_accuracy: 0.5120 - lr: 0.0100\n",
      "Epoch 7/100\n",
      "55/55 [==============================] - ETA: 0s - loss: 0.7145 - accuracy: 0.5141\n",
      "Epoch 7: val_loss did not improve from 0.69956\n",
      "55/55 [==============================] - 39s 708ms/step - loss: 0.7145 - accuracy: 0.5141 - val_loss: 0.7092 - val_accuracy: 0.4930 - lr: 0.0100\n",
      "Epoch 8/100\n",
      "55/55 [==============================] - ETA: 0s - loss: 0.7630 - accuracy: 0.5082\n",
      "Epoch 8: val_loss did not improve from 0.69956\n",
      "55/55 [==============================] - 40s 720ms/step - loss: 0.7630 - accuracy: 0.5082 - val_loss: 0.7416 - val_accuracy: 0.4990 - lr: 0.0100\n",
      "Epoch 9/100\n",
      "55/55 [==============================] - ETA: 0s - loss: 0.7121 - accuracy: 0.4914\n",
      "Epoch 9: val_loss improved from 0.69956 to 0.69613, saving model to weights/Resnet_image_classification.hd5\n"
     ]
    },
    {
     "name": "stderr",
     "output_type": "stream",
     "text": [
      "WARNING:absl:Found untraced functions such as _update_step_xla, _jit_compiled_convolution_op, _jit_compiled_convolution_op, _jit_compiled_convolution_op, _jit_compiled_convolution_op while saving (showing 5 of 54). These functions will not be directly callable after loading.\n"
     ]
    },
    {
     "name": "stdout",
     "output_type": "stream",
     "text": [
      "INFO:tensorflow:Assets written to: weights/Resnet_image_classification.hd5/assets\n"
     ]
    },
    {
     "name": "stderr",
     "output_type": "stream",
     "text": [
      "INFO:tensorflow:Assets written to: weights/Resnet_image_classification.hd5/assets\n"
     ]
    },
    {
     "name": "stdout",
     "output_type": "stream",
     "text": [
      "55/55 [==============================] - 71s 1s/step - loss: 0.7121 - accuracy: 0.4914 - val_loss: 0.6961 - val_accuracy: 0.5110 - lr: 0.0100\n",
      "Epoch 10/100\n",
      "55/55 [==============================] - ETA: 0s - loss: 0.7126 - accuracy: 0.5086\n",
      "Epoch 10: val_loss did not improve from 0.69613\n",
      "55/55 [==============================] - 41s 747ms/step - loss: 0.7126 - accuracy: 0.5086 - val_loss: 0.7345 - val_accuracy: 0.4990 - lr: 0.0100\n",
      "Epoch 11/100\n",
      "55/55 [==============================] - ETA: 0s - loss: 0.7036 - accuracy: 0.5005\n",
      "Epoch 11: val_loss did not improve from 0.69613\n",
      "55/55 [==============================] - 38s 690ms/step - loss: 0.7036 - accuracy: 0.5005 - val_loss: 0.7163 - val_accuracy: 0.4890 - lr: 0.0100\n",
      "Epoch 12/100\n",
      "55/55 [==============================] - ETA: 0s - loss: 0.7120 - accuracy: 0.4909\n",
      "Epoch 12: val_loss did not improve from 0.69613\n",
      "55/55 [==============================] - 38s 696ms/step - loss: 0.7120 - accuracy: 0.4909 - val_loss: 0.7405 - val_accuracy: 0.5020 - lr: 0.0100\n",
      "Epoch 13/100\n",
      "55/55 [==============================] - ETA: 0s - loss: 0.7035 - accuracy: 0.5055\n",
      "Epoch 13: val_loss did not improve from 0.69613\n",
      "55/55 [==============================] - 38s 687ms/step - loss: 0.7035 - accuracy: 0.5055 - val_loss: 0.6983 - val_accuracy: 0.5060 - lr: 0.0100\n",
      "Epoch 14/100\n",
      "55/55 [==============================] - ETA: 0s - loss: 0.7059 - accuracy: 0.4941\n",
      "Epoch 14: ReduceLROnPlateau reducing learning rate to 0.004999999888241291.\n",
      "\n",
      "Epoch 14: val_loss did not improve from 0.69613\n",
      "55/55 [==============================] - 38s 692ms/step - loss: 0.7059 - accuracy: 0.4941 - val_loss: 0.7226 - val_accuracy: 0.4930 - lr: 0.0100\n",
      "Epoch 15/100\n",
      "55/55 [==============================] - ETA: 0s - loss: 0.7102 - accuracy: 0.4864\n",
      "Epoch 15: val_loss did not improve from 0.69613\n",
      "55/55 [==============================] - 38s 693ms/step - loss: 0.7102 - accuracy: 0.4864 - val_loss: 0.7031 - val_accuracy: 0.4890 - lr: 0.0050\n",
      "Epoch 16/100\n",
      "55/55 [==============================] - ETA: 0s - loss: 0.6957 - accuracy: 0.5100\n",
      "Epoch 16: val_loss did not improve from 0.69613\n",
      "55/55 [==============================] - 38s 699ms/step - loss: 0.6957 - accuracy: 0.5100 - val_loss: 0.7018 - val_accuracy: 0.5080 - lr: 0.0050\n",
      "Epoch 17/100\n",
      "55/55 [==============================] - ETA: 0s - loss: 0.6950 - accuracy: 0.5245\n",
      "Epoch 17: val_loss improved from 0.69613 to 0.69530, saving model to weights/Resnet_image_classification.hd5\n"
     ]
    },
    {
     "name": "stderr",
     "output_type": "stream",
     "text": [
      "WARNING:absl:Found untraced functions such as _update_step_xla, _jit_compiled_convolution_op, _jit_compiled_convolution_op, _jit_compiled_convolution_op, _jit_compiled_convolution_op while saving (showing 5 of 54). These functions will not be directly callable after loading.\n"
     ]
    },
    {
     "name": "stdout",
     "output_type": "stream",
     "text": [
      "INFO:tensorflow:Assets written to: weights/Resnet_image_classification.hd5/assets\n"
     ]
    },
    {
     "name": "stderr",
     "output_type": "stream",
     "text": [
      "INFO:tensorflow:Assets written to: weights/Resnet_image_classification.hd5/assets\n"
     ]
    },
    {
     "name": "stdout",
     "output_type": "stream",
     "text": [
      "55/55 [==============================] - 70s 1s/step - loss: 0.6950 - accuracy: 0.5245 - val_loss: 0.6953 - val_accuracy: 0.4930 - lr: 0.0050\n",
      "Epoch 18/100\n",
      "55/55 [==============================] - ETA: 0s - loss: 0.6948 - accuracy: 0.5091\n",
      "Epoch 18: val_loss improved from 0.69530 to 0.69355, saving model to weights/Resnet_image_classification.hd5\n"
     ]
    },
    {
     "name": "stderr",
     "output_type": "stream",
     "text": [
      "WARNING:absl:Found untraced functions such as _update_step_xla, _jit_compiled_convolution_op, _jit_compiled_convolution_op, _jit_compiled_convolution_op, _jit_compiled_convolution_op while saving (showing 5 of 54). These functions will not be directly callable after loading.\n"
     ]
    },
    {
     "name": "stdout",
     "output_type": "stream",
     "text": [
      "INFO:tensorflow:Assets written to: weights/Resnet_image_classification.hd5/assets\n"
     ]
    },
    {
     "name": "stderr",
     "output_type": "stream",
     "text": [
      "INFO:tensorflow:Assets written to: weights/Resnet_image_classification.hd5/assets\n"
     ]
    },
    {
     "name": "stdout",
     "output_type": "stream",
     "text": [
      "55/55 [==============================] - 71s 1s/step - loss: 0.6948 - accuracy: 0.5091 - val_loss: 0.6935 - val_accuracy: 0.4900 - lr: 0.0050\n",
      "Epoch 19/100\n",
      "55/55 [==============================] - ETA: 0s - loss: 0.6961 - accuracy: 0.5132\n",
      "Epoch 19: val_loss did not improve from 0.69355\n",
      "55/55 [==============================] - 38s 696ms/step - loss: 0.6961 - accuracy: 0.5132 - val_loss: 0.6937 - val_accuracy: 0.4990 - lr: 0.0050\n",
      "Epoch 20/100\n",
      "55/55 [==============================] - ETA: 0s - loss: 0.6927 - accuracy: 0.5268\n",
      "Epoch 20: val_loss did not improve from 0.69355\n",
      "55/55 [==============================] - 39s 707ms/step - loss: 0.6927 - accuracy: 0.5268 - val_loss: 0.6942 - val_accuracy: 0.4940 - lr: 0.0050\n",
      "Epoch 21/100\n",
      "55/55 [==============================] - ETA: 0s - loss: 0.6935 - accuracy: 0.5132\n",
      "Epoch 21: val_loss improved from 0.69355 to 0.69285, saving model to weights/Resnet_image_classification.hd5\n"
     ]
    },
    {
     "name": "stderr",
     "output_type": "stream",
     "text": [
      "WARNING:absl:Found untraced functions such as _update_step_xla, _jit_compiled_convolution_op, _jit_compiled_convolution_op, _jit_compiled_convolution_op, _jit_compiled_convolution_op while saving (showing 5 of 54). These functions will not be directly callable after loading.\n"
     ]
    },
    {
     "name": "stdout",
     "output_type": "stream",
     "text": [
      "INFO:tensorflow:Assets written to: weights/Resnet_image_classification.hd5/assets\n"
     ]
    },
    {
     "name": "stderr",
     "output_type": "stream",
     "text": [
      "INFO:tensorflow:Assets written to: weights/Resnet_image_classification.hd5/assets\n"
     ]
    },
    {
     "name": "stdout",
     "output_type": "stream",
     "text": [
      "55/55 [==============================] - 71s 1s/step - loss: 0.6935 - accuracy: 0.5132 - val_loss: 0.6929 - val_accuracy: 0.5070 - lr: 0.0050\n",
      "Epoch 22/100\n",
      "55/55 [==============================] - ETA: 0s - loss: 0.6940 - accuracy: 0.5127\n",
      "Epoch 22: val_loss did not improve from 0.69285\n",
      "55/55 [==============================] - 38s 697ms/step - loss: 0.6940 - accuracy: 0.5127 - val_loss: 0.6954 - val_accuracy: 0.5170 - lr: 0.0050\n",
      "Epoch 23/100\n",
      "55/55 [==============================] - ETA: 0s - loss: 0.7014 - accuracy: 0.5136\n",
      "Epoch 23: val_loss improved from 0.69285 to 0.69174, saving model to weights/Resnet_image_classification.hd5\n"
     ]
    },
    {
     "name": "stderr",
     "output_type": "stream",
     "text": [
      "WARNING:absl:Found untraced functions such as _update_step_xla, _jit_compiled_convolution_op, _jit_compiled_convolution_op, _jit_compiled_convolution_op, _jit_compiled_convolution_op while saving (showing 5 of 54). These functions will not be directly callable after loading.\n"
     ]
    },
    {
     "name": "stdout",
     "output_type": "stream",
     "text": [
      "INFO:tensorflow:Assets written to: weights/Resnet_image_classification.hd5/assets\n"
     ]
    },
    {
     "name": "stderr",
     "output_type": "stream",
     "text": [
      "INFO:tensorflow:Assets written to: weights/Resnet_image_classification.hd5/assets\n"
     ]
    },
    {
     "name": "stdout",
     "output_type": "stream",
     "text": [
      "55/55 [==============================] - 71s 1s/step - loss: 0.7014 - accuracy: 0.5136 - val_loss: 0.6917 - val_accuracy: 0.5120 - lr: 0.0050\n",
      "Epoch 24/100\n",
      "55/55 [==============================] - ETA: 0s - loss: 0.6944 - accuracy: 0.5164\n",
      "Epoch 24: val_loss did not improve from 0.69174\n",
      "55/55 [==============================] - 38s 690ms/step - loss: 0.6944 - accuracy: 0.5164 - val_loss: 0.6960 - val_accuracy: 0.5060 - lr: 0.0050\n",
      "Epoch 25/100\n",
      "55/55 [==============================] - ETA: 0s - loss: 0.6934 - accuracy: 0.5177\n",
      "Epoch 25: val_loss did not improve from 0.69174\n",
      "55/55 [==============================] - 39s 703ms/step - loss: 0.6934 - accuracy: 0.5177 - val_loss: 0.6922 - val_accuracy: 0.5240 - lr: 0.0050\n",
      "Epoch 26/100\n",
      "55/55 [==============================] - ETA: 0s - loss: 0.6929 - accuracy: 0.5205\n",
      "Epoch 26: val_loss did not improve from 0.69174\n",
      "55/55 [==============================] - 39s 706ms/step - loss: 0.6929 - accuracy: 0.5205 - val_loss: 0.6953 - val_accuracy: 0.5150 - lr: 0.0050\n",
      "Epoch 27/100\n",
      "55/55 [==============================] - ETA: 0s - loss: 0.6921 - accuracy: 0.5332\n",
      "Epoch 27: val_loss did not improve from 0.69174\n",
      "55/55 [==============================] - 39s 707ms/step - loss: 0.6921 - accuracy: 0.5332 - val_loss: 0.6955 - val_accuracy: 0.5090 - lr: 0.0050\n",
      "Epoch 28/100\n",
      "55/55 [==============================] - ETA: 0s - loss: 0.6966 - accuracy: 0.5205\n",
      "Epoch 28: ReduceLROnPlateau reducing learning rate to 0.0024999999441206455.\n",
      "\n",
      "Epoch 28: val_loss did not improve from 0.69174\n",
      "55/55 [==============================] - 38s 695ms/step - loss: 0.6966 - accuracy: 0.5205 - val_loss: 0.6957 - val_accuracy: 0.5060 - lr: 0.0050\n",
      "Epoch 29/100\n",
      "55/55 [==============================] - ETA: 0s - loss: 0.6898 - accuracy: 0.5332\n",
      "Epoch 29: val_loss did not improve from 0.69174\n",
      "55/55 [==============================] - 38s 691ms/step - loss: 0.6898 - accuracy: 0.5332 - val_loss: 0.6918 - val_accuracy: 0.5180 - lr: 0.0025\n",
      "Epoch 30/100\n",
      "55/55 [==============================] - ETA: 0s - loss: 0.6905 - accuracy: 0.5159\n",
      "Epoch 30: val_loss did not improve from 0.69174\n",
      "55/55 [==============================] - 38s 688ms/step - loss: 0.6905 - accuracy: 0.5159 - val_loss: 0.6919 - val_accuracy: 0.5130 - lr: 0.0025\n",
      "Epoch 31/100\n",
      "55/55 [==============================] - ETA: 0s - loss: 0.6905 - accuracy: 0.5309\n",
      "Epoch 31: val_loss improved from 0.69174 to 0.69170, saving model to weights/Resnet_image_classification.hd5\n"
     ]
    },
    {
     "name": "stderr",
     "output_type": "stream",
     "text": [
      "WARNING:absl:Found untraced functions such as _update_step_xla, _jit_compiled_convolution_op, _jit_compiled_convolution_op, _jit_compiled_convolution_op, _jit_compiled_convolution_op while saving (showing 5 of 54). These functions will not be directly callable after loading.\n"
     ]
    },
    {
     "name": "stdout",
     "output_type": "stream",
     "text": [
      "INFO:tensorflow:Assets written to: weights/Resnet_image_classification.hd5/assets\n"
     ]
    },
    {
     "name": "stderr",
     "output_type": "stream",
     "text": [
      "INFO:tensorflow:Assets written to: weights/Resnet_image_classification.hd5/assets\n"
     ]
    },
    {
     "name": "stdout",
     "output_type": "stream",
     "text": [
      "55/55 [==============================] - 70s 1s/step - loss: 0.6905 - accuracy: 0.5309 - val_loss: 0.6917 - val_accuracy: 0.5170 - lr: 0.0025\n",
      "Epoch 32/100\n",
      "55/55 [==============================] - ETA: 0s - loss: 0.6914 - accuracy: 0.5268\n",
      "Epoch 32: val_loss did not improve from 0.69170\n",
      "55/55 [==============================] - 37s 681ms/step - loss: 0.6914 - accuracy: 0.5268 - val_loss: 0.6926 - val_accuracy: 0.5150 - lr: 0.0025\n",
      "Epoch 33/100\n",
      "55/55 [==============================] - ETA: 0s - loss: 0.6897 - accuracy: 0.5359\n",
      "Epoch 33: ReduceLROnPlateau reducing learning rate to 0.0012499999720603228.\n",
      "\n",
      "Epoch 33: val_loss did not improve from 0.69170\n",
      "55/55 [==============================] - 37s 683ms/step - loss: 0.6897 - accuracy: 0.5359 - val_loss: 0.6959 - val_accuracy: 0.5110 - lr: 0.0025\n",
      "Epoch 34/100\n",
      "55/55 [==============================] - ETA: 0s - loss: 0.6880 - accuracy: 0.5518\n",
      "Epoch 34: val_loss did not improve from 0.69170\n",
      "55/55 [==============================] - 38s 684ms/step - loss: 0.6880 - accuracy: 0.5518 - val_loss: 0.6922 - val_accuracy: 0.5210 - lr: 0.0012\n",
      "Epoch 35/100\n",
      "55/55 [==============================] - ETA: 0s - loss: 0.6856 - accuracy: 0.5450\n",
      "Epoch 35: val_loss did not improve from 0.69170\n",
      "55/55 [==============================] - 39s 704ms/step - loss: 0.6856 - accuracy: 0.5450 - val_loss: 0.6936 - val_accuracy: 0.5160 - lr: 0.0012\n",
      "Epoch 36/100\n",
      "55/55 [==============================] - ETA: 0s - loss: 0.6869 - accuracy: 0.5464\n",
      "Epoch 36: val_loss did not improve from 0.69170\n",
      "55/55 [==============================] - 39s 702ms/step - loss: 0.6869 - accuracy: 0.5464 - val_loss: 0.6931 - val_accuracy: 0.5190 - lr: 0.0012\n",
      "Epoch 37/100\n",
      "55/55 [==============================] - ETA: 0s - loss: 0.6861 - accuracy: 0.5418\n",
      "Epoch 37: val_loss did not improve from 0.69170\n",
      "55/55 [==============================] - 37s 681ms/step - loss: 0.6861 - accuracy: 0.5418 - val_loss: 0.6931 - val_accuracy: 0.5230 - lr: 0.0012\n",
      "Epoch 38/100\n",
      "55/55 [==============================] - ETA: 0s - loss: 0.6863 - accuracy: 0.5468\n",
      "Epoch 38: ReduceLROnPlateau reducing learning rate to 0.0006249999860301614.\n",
      "\n",
      "Epoch 38: val_loss did not improve from 0.69170\n",
      "55/55 [==============================] - 37s 679ms/step - loss: 0.6863 - accuracy: 0.5468 - val_loss: 0.6920 - val_accuracy: 0.5180 - lr: 0.0012\n",
      "Epoch 39/100\n",
      "55/55 [==============================] - ETA: 0s - loss: 0.6882 - accuracy: 0.5418\n",
      "Epoch 39: val_loss improved from 0.69170 to 0.69032, saving model to weights/Resnet_image_classification.hd5\n"
     ]
    },
    {
     "name": "stderr",
     "output_type": "stream",
     "text": [
      "WARNING:absl:Found untraced functions such as _update_step_xla, _jit_compiled_convolution_op, _jit_compiled_convolution_op, _jit_compiled_convolution_op, _jit_compiled_convolution_op while saving (showing 5 of 54). These functions will not be directly callable after loading.\n"
     ]
    },
    {
     "name": "stdout",
     "output_type": "stream",
     "text": [
      "INFO:tensorflow:Assets written to: weights/Resnet_image_classification.hd5/assets\n"
     ]
    },
    {
     "name": "stderr",
     "output_type": "stream",
     "text": [
      "INFO:tensorflow:Assets written to: weights/Resnet_image_classification.hd5/assets\n"
     ]
    },
    {
     "name": "stdout",
     "output_type": "stream",
     "text": [
      "55/55 [==============================] - 70s 1s/step - loss: 0.6882 - accuracy: 0.5418 - val_loss: 0.6903 - val_accuracy: 0.5240 - lr: 6.2500e-04\n",
      "Epoch 40/100\n",
      "55/55 [==============================] - ETA: 0s - loss: 0.6857 - accuracy: 0.5409\n",
      "Epoch 40: val_loss did not improve from 0.69032\n",
      "55/55 [==============================] - 38s 687ms/step - loss: 0.6857 - accuracy: 0.5409 - val_loss: 0.6924 - val_accuracy: 0.5150 - lr: 6.2500e-04\n",
      "Epoch 41/100\n",
      "55/55 [==============================] - ETA: 0s - loss: 0.6842 - accuracy: 0.5514\n",
      "Epoch 41: val_loss did not improve from 0.69032\n",
      "55/55 [==============================] - 38s 691ms/step - loss: 0.6842 - accuracy: 0.5514 - val_loss: 0.6928 - val_accuracy: 0.5070 - lr: 6.2500e-04\n",
      "Epoch 42/100\n",
      "55/55 [==============================] - ETA: 0s - loss: 0.6826 - accuracy: 0.5427\n",
      "Epoch 42: val_loss did not improve from 0.69032\n",
      "55/55 [==============================] - 38s 686ms/step - loss: 0.6826 - accuracy: 0.5427 - val_loss: 0.6920 - val_accuracy: 0.5220 - lr: 6.2500e-04\n",
      "Epoch 43/100\n",
      "55/55 [==============================] - ETA: 0s - loss: 0.6817 - accuracy: 0.5559\n",
      "Epoch 43: val_loss did not improve from 0.69032\n",
      "55/55 [==============================] - 38s 689ms/step - loss: 0.6817 - accuracy: 0.5559 - val_loss: 0.6945 - val_accuracy: 0.5140 - lr: 6.2500e-04\n",
      "Epoch 44/100\n",
      "55/55 [==============================] - ETA: 0s - loss: 0.6831 - accuracy: 0.5491\n",
      "Epoch 44: ReduceLROnPlateau reducing learning rate to 0.0003124999930150807.\n",
      "\n",
      "Epoch 44: val_loss did not improve from 0.69032\n",
      "55/55 [==============================] - 38s 684ms/step - loss: 0.6831 - accuracy: 0.5491 - val_loss: 0.6927 - val_accuracy: 0.5100 - lr: 6.2500e-04\n",
      "Epoch 45/100\n",
      "55/55 [==============================] - ETA: 0s - loss: 0.6792 - accuracy: 0.5623\n",
      "Epoch 45: val_loss did not improve from 0.69032\n",
      "55/55 [==============================] - 38s 685ms/step - loss: 0.6792 - accuracy: 0.5623 - val_loss: 0.6937 - val_accuracy: 0.5190 - lr: 3.1250e-04\n",
      "Epoch 46/100\n",
      "55/55 [==============================] - ETA: 0s - loss: 0.6816 - accuracy: 0.5623\n",
      "Epoch 46: val_loss did not improve from 0.69032\n",
      "55/55 [==============================] - 38s 688ms/step - loss: 0.6816 - accuracy: 0.5623 - val_loss: 0.6932 - val_accuracy: 0.5150 - lr: 3.1250e-04\n",
      "Epoch 47/100\n",
      "55/55 [==============================] - ETA: 0s - loss: 0.6809 - accuracy: 0.5555\n",
      "Epoch 47: val_loss did not improve from 0.69032\n",
      "55/55 [==============================] - 38s 684ms/step - loss: 0.6809 - accuracy: 0.5555 - val_loss: 0.6931 - val_accuracy: 0.5160 - lr: 3.1250e-04\n",
      "Epoch 48/100\n",
      "55/55 [==============================] - ETA: 0s - loss: 0.6808 - accuracy: 0.5482\n",
      "Epoch 48: val_loss did not improve from 0.69032\n",
      "55/55 [==============================] - 38s 684ms/step - loss: 0.6808 - accuracy: 0.5482 - val_loss: 0.6932 - val_accuracy: 0.5130 - lr: 3.1250e-04\n",
      "Epoch 49/100\n",
      "55/55 [==============================] - ETA: 0s - loss: 0.6812 - accuracy: 0.5491\n",
      "Epoch 49: ReduceLROnPlateau reducing learning rate to 0.00015624999650754035.\n",
      "\n",
      "Epoch 49: val_loss did not improve from 0.69032\n",
      "55/55 [==============================] - 38s 686ms/step - loss: 0.6812 - accuracy: 0.5491 - val_loss: 0.6927 - val_accuracy: 0.5180 - lr: 3.1250e-04\n",
      "Epoch 50/100\n",
      "55/55 [==============================] - ETA: 0s - loss: 0.6761 - accuracy: 0.5641\n",
      "Epoch 50: val_loss did not improve from 0.69032\n",
      "55/55 [==============================] - 38s 687ms/step - loss: 0.6761 - accuracy: 0.5641 - val_loss: 0.6931 - val_accuracy: 0.5090 - lr: 1.5625e-04\n",
      "Epoch 51/100\n",
      "55/55 [==============================] - ETA: 0s - loss: 0.6763 - accuracy: 0.5650\n",
      "Epoch 51: val_loss did not improve from 0.69032\n",
      "55/55 [==============================] - 38s 687ms/step - loss: 0.6763 - accuracy: 0.5650 - val_loss: 0.6932 - val_accuracy: 0.5150 - lr: 1.5625e-04\n",
      "Epoch 52/100\n",
      "55/55 [==============================] - ETA: 0s - loss: 0.6785 - accuracy: 0.5627\n",
      "Epoch 52: val_loss did not improve from 0.69032\n",
      "55/55 [==============================] - 37s 683ms/step - loss: 0.6785 - accuracy: 0.5627 - val_loss: 0.6927 - val_accuracy: 0.5190 - lr: 1.5625e-04\n",
      "Epoch 53/100\n",
      "55/55 [==============================] - ETA: 0s - loss: 0.6799 - accuracy: 0.5618\n",
      "Epoch 53: val_loss did not improve from 0.69032\n",
      "55/55 [==============================] - 38s 687ms/step - loss: 0.6799 - accuracy: 0.5618 - val_loss: 0.6935 - val_accuracy: 0.5220 - lr: 1.5625e-04\n",
      "Epoch 54/100\n",
      "55/55 [==============================] - ETA: 0s - loss: 0.6754 - accuracy: 0.5636\n",
      "Epoch 54: ReduceLROnPlateau reducing learning rate to 7.812499825377017e-05.\n",
      "\n",
      "Epoch 54: val_loss did not improve from 0.69032\n",
      "55/55 [==============================] - 37s 682ms/step - loss: 0.6754 - accuracy: 0.5636 - val_loss: 0.6935 - val_accuracy: 0.5130 - lr: 1.5625e-04\n",
      "Epoch 55/100\n",
      "55/55 [==============================] - ETA: 0s - loss: 0.6754 - accuracy: 0.5659\n",
      "Epoch 55: val_loss did not improve from 0.69032\n",
      "55/55 [==============================] - 38s 695ms/step - loss: 0.6754 - accuracy: 0.5659 - val_loss: 0.6930 - val_accuracy: 0.5150 - lr: 7.8125e-05\n",
      "Epoch 56/100\n",
      "55/55 [==============================] - ETA: 0s - loss: 0.6751 - accuracy: 0.5636\n",
      "Epoch 56: val_loss did not improve from 0.69032\n",
      "55/55 [==============================] - 38s 684ms/step - loss: 0.6751 - accuracy: 0.5636 - val_loss: 0.6929 - val_accuracy: 0.5150 - lr: 7.8125e-05\n",
      "Epoch 57/100\n",
      "55/55 [==============================] - ETA: 0s - loss: 0.6773 - accuracy: 0.5636\n",
      "Epoch 57: val_loss did not improve from 0.69032\n",
      "55/55 [==============================] - 39s 714ms/step - loss: 0.6773 - accuracy: 0.5636 - val_loss: 0.6934 - val_accuracy: 0.5180 - lr: 7.8125e-05\n",
      "Epoch 58/100\n",
      "55/55 [==============================] - ETA: 0s - loss: 0.6751 - accuracy: 0.5636\n",
      "Epoch 58: val_loss did not improve from 0.69032\n",
      "55/55 [==============================] - 38s 687ms/step - loss: 0.6751 - accuracy: 0.5636 - val_loss: 0.6938 - val_accuracy: 0.5170 - lr: 7.8125e-05\n",
      "Epoch 59/100\n",
      "55/55 [==============================] - ETA: 0s - loss: 0.6742 - accuracy: 0.5591\n",
      "Epoch 59: ReduceLROnPlateau reducing learning rate to 3.9062499126885086e-05.\n",
      "\n",
      "Epoch 59: val_loss did not improve from 0.69032\n",
      "55/55 [==============================] - 37s 682ms/step - loss: 0.6742 - accuracy: 0.5591 - val_loss: 0.6934 - val_accuracy: 0.5160 - lr: 7.8125e-05\n",
      "Epoch 60/100\n",
      "55/55 [==============================] - ETA: 0s - loss: 0.6765 - accuracy: 0.5641\n",
      "Epoch 60: val_loss did not improve from 0.69032\n",
      "55/55 [==============================] - 37s 682ms/step - loss: 0.6765 - accuracy: 0.5641 - val_loss: 0.6933 - val_accuracy: 0.5170 - lr: 3.9062e-05\n",
      "Epoch 61/100\n",
      "55/55 [==============================] - ETA: 0s - loss: 0.6746 - accuracy: 0.5682\n",
      "Epoch 61: val_loss did not improve from 0.69032\n",
      "55/55 [==============================] - 37s 677ms/step - loss: 0.6746 - accuracy: 0.5682 - val_loss: 0.6935 - val_accuracy: 0.5130 - lr: 3.9062e-05\n",
      "Epoch 62/100\n",
      "55/55 [==============================] - ETA: 0s - loss: 0.6738 - accuracy: 0.5636\n",
      "Epoch 62: val_loss did not improve from 0.69032\n",
      "55/55 [==============================] - 37s 683ms/step - loss: 0.6738 - accuracy: 0.5636 - val_loss: 0.6934 - val_accuracy: 0.5150 - lr: 3.9062e-05\n",
      "Epoch 63/100\n",
      "55/55 [==============================] - ETA: 0s - loss: 0.6736 - accuracy: 0.5618\n",
      "Epoch 63: val_loss did not improve from 0.69032\n",
      "55/55 [==============================] - 37s 681ms/step - loss: 0.6736 - accuracy: 0.5618 - val_loss: 0.6935 - val_accuracy: 0.5150 - lr: 3.9062e-05\n",
      "Epoch 64/100\n",
      "55/55 [==============================] - ETA: 0s - loss: 0.6741 - accuracy: 0.5691\n",
      "Epoch 64: ReduceLROnPlateau reducing learning rate to 1.9531249563442543e-05.\n",
      "\n",
      "Epoch 64: val_loss did not improve from 0.69032\n",
      "55/55 [==============================] - 37s 682ms/step - loss: 0.6741 - accuracy: 0.5691 - val_loss: 0.6931 - val_accuracy: 0.5210 - lr: 3.9062e-05\n",
      "Epoch 65/100\n",
      "55/55 [==============================] - ETA: 0s - loss: 0.6716 - accuracy: 0.5695\n",
      "Epoch 65: val_loss did not improve from 0.69032\n",
      "55/55 [==============================] - 37s 680ms/step - loss: 0.6716 - accuracy: 0.5695 - val_loss: 0.6930 - val_accuracy: 0.5190 - lr: 1.9531e-05\n",
      "Epoch 66/100\n",
      "55/55 [==============================] - ETA: 0s - loss: 0.6715 - accuracy: 0.5695\n",
      "Epoch 66: val_loss did not improve from 0.69032\n",
      "55/55 [==============================] - 37s 678ms/step - loss: 0.6715 - accuracy: 0.5695 - val_loss: 0.6930 - val_accuracy: 0.5200 - lr: 1.9531e-05\n",
      "Epoch 67/100\n",
      "55/55 [==============================] - ETA: 0s - loss: 0.6746 - accuracy: 0.5673\n",
      "Epoch 67: val_loss did not improve from 0.69032\n",
      "55/55 [==============================] - 38s 683ms/step - loss: 0.6746 - accuracy: 0.5673 - val_loss: 0.6930 - val_accuracy: 0.5190 - lr: 1.9531e-05\n",
      "Epoch 68/100\n",
      "55/55 [==============================] - ETA: 0s - loss: 0.6771 - accuracy: 0.5559\n",
      "Epoch 68: val_loss did not improve from 0.69032\n",
      "55/55 [==============================] - 38s 685ms/step - loss: 0.6771 - accuracy: 0.5559 - val_loss: 0.6933 - val_accuracy: 0.5200 - lr: 1.9531e-05\n",
      "Epoch 69/100\n",
      "55/55 [==============================] - ETA: 0s - loss: 0.6731 - accuracy: 0.5718\n",
      "Epoch 69: ReduceLROnPlateau reducing learning rate to 9.765624781721272e-06.\n",
      "\n",
      "Epoch 69: val_loss did not improve from 0.69032\n",
      "55/55 [==============================] - 37s 676ms/step - loss: 0.6731 - accuracy: 0.5718 - val_loss: 0.6933 - val_accuracy: 0.5190 - lr: 1.9531e-05\n",
      "Epoch 70/100\n",
      "55/55 [==============================] - ETA: 0s - loss: 0.6719 - accuracy: 0.5705\n",
      "Epoch 70: val_loss did not improve from 0.69032\n",
      "55/55 [==============================] - 37s 678ms/step - loss: 0.6719 - accuracy: 0.5705 - val_loss: 0.6933 - val_accuracy: 0.5180 - lr: 9.7656e-06\n",
      "Epoch 71/100\n",
      "55/55 [==============================] - ETA: 0s - loss: 0.6724 - accuracy: 0.5600\n",
      "Epoch 71: val_loss did not improve from 0.69032\n",
      "55/55 [==============================] - 37s 680ms/step - loss: 0.6724 - accuracy: 0.5600 - val_loss: 0.6933 - val_accuracy: 0.5180 - lr: 9.7656e-06\n",
      "Epoch 72/100\n",
      "55/55 [==============================] - ETA: 0s - loss: 0.6721 - accuracy: 0.5650\n",
      "Epoch 72: val_loss did not improve from 0.69032\n",
      "55/55 [==============================] - 37s 678ms/step - loss: 0.6721 - accuracy: 0.5650 - val_loss: 0.6932 - val_accuracy: 0.5220 - lr: 9.7656e-06\n",
      "Epoch 73/100\n",
      "55/55 [==============================] - ETA: 0s - loss: 0.6715 - accuracy: 0.5695\n",
      "Epoch 73: val_loss did not improve from 0.69032\n",
      "55/55 [==============================] - 37s 678ms/step - loss: 0.6715 - accuracy: 0.5695 - val_loss: 0.6932 - val_accuracy: 0.5220 - lr: 9.7656e-06\n",
      "Epoch 74/100\n",
      "55/55 [==============================] - ETA: 0s - loss: 0.6710 - accuracy: 0.5705\n",
      "Epoch 74: ReduceLROnPlateau reducing learning rate to 4.882812390860636e-06.\n",
      "\n",
      "Epoch 74: val_loss did not improve from 0.69032\n",
      "55/55 [==============================] - 37s 676ms/step - loss: 0.6710 - accuracy: 0.5705 - val_loss: 0.6933 - val_accuracy: 0.5230 - lr: 9.7656e-06\n",
      "Epoch 75/100\n",
      "55/55 [==============================] - ETA: 0s - loss: 0.6729 - accuracy: 0.5623\n",
      "Epoch 75: val_loss did not improve from 0.69032\n",
      "55/55 [==============================] - 37s 683ms/step - loss: 0.6729 - accuracy: 0.5623 - val_loss: 0.6932 - val_accuracy: 0.5230 - lr: 4.8828e-06\n",
      "Epoch 76/100\n",
      "55/55 [==============================] - ETA: 0s - loss: 0.6711 - accuracy: 0.5677\n",
      "Epoch 76: val_loss did not improve from 0.69032\n",
      "55/55 [==============================] - 37s 681ms/step - loss: 0.6711 - accuracy: 0.5677 - val_loss: 0.6934 - val_accuracy: 0.5230 - lr: 4.8828e-06\n",
      "Epoch 77/100\n",
      "55/55 [==============================] - ETA: 0s - loss: 0.6738 - accuracy: 0.5614\n",
      "Epoch 77: val_loss did not improve from 0.69032\n",
      "55/55 [==============================] - 37s 678ms/step - loss: 0.6738 - accuracy: 0.5614 - val_loss: 0.6934 - val_accuracy: 0.5230 - lr: 4.8828e-06\n",
      "Epoch 78/100\n",
      "55/55 [==============================] - ETA: 0s - loss: 0.6687 - accuracy: 0.5732\n",
      "Epoch 78: val_loss did not improve from 0.69032\n",
      "55/55 [==============================] - 37s 676ms/step - loss: 0.6687 - accuracy: 0.5732 - val_loss: 0.6935 - val_accuracy: 0.5220 - lr: 4.8828e-06\n",
      "Epoch 79/100\n",
      "55/55 [==============================] - ETA: 0s - loss: 0.6728 - accuracy: 0.5655\n",
      "Epoch 79: ReduceLROnPlateau reducing learning rate to 2.441406195430318e-06.\n",
      "\n",
      "Epoch 79: val_loss did not improve from 0.69032\n",
      "55/55 [==============================] - 37s 680ms/step - loss: 0.6728 - accuracy: 0.5655 - val_loss: 0.6935 - val_accuracy: 0.5220 - lr: 4.8828e-06\n",
      "Epoch 80/100\n",
      "55/55 [==============================] - ETA: 0s - loss: 0.6725 - accuracy: 0.5659\n",
      "Epoch 80: val_loss did not improve from 0.69032\n",
      "55/55 [==============================] - 37s 681ms/step - loss: 0.6725 - accuracy: 0.5659 - val_loss: 0.6934 - val_accuracy: 0.5220 - lr: 2.4414e-06\n",
      "Epoch 81/100\n",
      "55/55 [==============================] - ETA: 0s - loss: 0.6737 - accuracy: 0.5795\n",
      "Epoch 81: val_loss did not improve from 0.69032\n",
      "55/55 [==============================] - 37s 676ms/step - loss: 0.6737 - accuracy: 0.5795 - val_loss: 0.6935 - val_accuracy: 0.5210 - lr: 2.4414e-06\n",
      "Epoch 82/100\n",
      "55/55 [==============================] - ETA: 0s - loss: 0.6705 - accuracy: 0.5732\n",
      "Epoch 82: val_loss did not improve from 0.69032\n",
      "55/55 [==============================] - 37s 679ms/step - loss: 0.6705 - accuracy: 0.5732 - val_loss: 0.6934 - val_accuracy: 0.5230 - lr: 2.4414e-06\n",
      "Epoch 83/100\n",
      "55/55 [==============================] - ETA: 0s - loss: 0.6716 - accuracy: 0.5673\n",
      "Epoch 83: val_loss did not improve from 0.69032\n",
      "55/55 [==============================] - 37s 683ms/step - loss: 0.6716 - accuracy: 0.5673 - val_loss: 0.6935 - val_accuracy: 0.5230 - lr: 2.4414e-06\n",
      "Epoch 84/100\n",
      "55/55 [==============================] - ETA: 0s - loss: 0.6708 - accuracy: 0.5668\n",
      "Epoch 84: ReduceLROnPlateau reducing learning rate to 1.220703097715159e-06.\n",
      "\n",
      "Epoch 84: val_loss did not improve from 0.69032\n",
      "55/55 [==============================] - 37s 682ms/step - loss: 0.6708 - accuracy: 0.5668 - val_loss: 0.6934 - val_accuracy: 0.5210 - lr: 2.4414e-06\n",
      "Epoch 85/100\n",
      "55/55 [==============================] - ETA: 0s - loss: 0.6734 - accuracy: 0.5668\n",
      "Epoch 85: val_loss did not improve from 0.69032\n",
      "55/55 [==============================] - 38s 684ms/step - loss: 0.6734 - accuracy: 0.5668 - val_loss: 0.6934 - val_accuracy: 0.5220 - lr: 1.2207e-06\n",
      "Epoch 86/100\n",
      "55/55 [==============================] - ETA: 0s - loss: 0.6681 - accuracy: 0.5818\n",
      "Epoch 86: val_loss did not improve from 0.69032\n",
      "55/55 [==============================] - 38s 686ms/step - loss: 0.6681 - accuracy: 0.5818 - val_loss: 0.6934 - val_accuracy: 0.5230 - lr: 1.2207e-06\n",
      "Epoch 87/100\n",
      "55/55 [==============================] - ETA: 0s - loss: 0.6705 - accuracy: 0.5718\n",
      "Epoch 87: val_loss did not improve from 0.69032\n",
      "55/55 [==============================] - 37s 673ms/step - loss: 0.6705 - accuracy: 0.5718 - val_loss: 0.6935 - val_accuracy: 0.5230 - lr: 1.2207e-06\n",
      "Epoch 88/100\n",
      "55/55 [==============================] - ETA: 0s - loss: 0.6706 - accuracy: 0.5695\n",
      "Epoch 88: val_loss did not improve from 0.69032\n",
      "55/55 [==============================] - 37s 683ms/step - loss: 0.6706 - accuracy: 0.5695 - val_loss: 0.6935 - val_accuracy: 0.5220 - lr: 1.2207e-06\n",
      "Epoch 89/100\n",
      "55/55 [==============================] - ETA: 0s - loss: 0.6736 - accuracy: 0.5641\n",
      "Epoch 89: ReduceLROnPlateau reducing learning rate to 6.103515488575795e-07.\n",
      "\n",
      "Epoch 89: val_loss did not improve from 0.69032\n",
      "55/55 [==============================] - 36s 660ms/step - loss: 0.6736 - accuracy: 0.5641 - val_loss: 0.6935 - val_accuracy: 0.5230 - lr: 1.2207e-06\n",
      "Epoch 90/100\n",
      "55/55 [==============================] - ETA: 0s - loss: 0.6753 - accuracy: 0.5632\n",
      "Epoch 90: val_loss did not improve from 0.69032\n",
      "55/55 [==============================] - 36s 661ms/step - loss: 0.6753 - accuracy: 0.5632 - val_loss: 0.6937 - val_accuracy: 0.5220 - lr: 6.1035e-07\n",
      "Epoch 91/100\n",
      "55/55 [==============================] - ETA: 0s - loss: 0.6745 - accuracy: 0.5705\n",
      "Epoch 91: val_loss did not improve from 0.69032\n",
      "55/55 [==============================] - 37s 665ms/step - loss: 0.6745 - accuracy: 0.5705 - val_loss: 0.6937 - val_accuracy: 0.5220 - lr: 6.1035e-07\n",
      "Epoch 92/100\n",
      "55/55 [==============================] - ETA: 0s - loss: 0.6758 - accuracy: 0.5691\n",
      "Epoch 92: val_loss did not improve from 0.69032\n",
      "55/55 [==============================] - 36s 655ms/step - loss: 0.6758 - accuracy: 0.5691 - val_loss: 0.6937 - val_accuracy: 0.5210 - lr: 6.1035e-07\n",
      "Epoch 93/100\n",
      "55/55 [==============================] - ETA: 0s - loss: 0.6751 - accuracy: 0.5582\n",
      "Epoch 93: val_loss did not improve from 0.69032\n",
      "55/55 [==============================] - 36s 660ms/step - loss: 0.6751 - accuracy: 0.5582 - val_loss: 0.6935 - val_accuracy: 0.5230 - lr: 6.1035e-07\n",
      "Epoch 94/100\n",
      "55/55 [==============================] - ETA: 0s - loss: 0.6686 - accuracy: 0.5745\n",
      "Epoch 94: ReduceLROnPlateau reducing learning rate to 3.0517577442878974e-07.\n",
      "\n",
      "Epoch 94: val_loss did not improve from 0.69032\n",
      "55/55 [==============================] - 36s 658ms/step - loss: 0.6686 - accuracy: 0.5745 - val_loss: 0.6935 - val_accuracy: 0.5230 - lr: 6.1035e-07\n",
      "Epoch 95/100\n",
      "55/55 [==============================] - ETA: 0s - loss: 0.6725 - accuracy: 0.5695\n",
      "Epoch 95: val_loss did not improve from 0.69032\n",
      "55/55 [==============================] - 37s 666ms/step - loss: 0.6725 - accuracy: 0.5695 - val_loss: 0.6936 - val_accuracy: 0.5230 - lr: 3.0518e-07\n",
      "Epoch 96/100\n",
      "55/55 [==============================] - ETA: 0s - loss: 0.6709 - accuracy: 0.5750\n",
      "Epoch 96: val_loss did not improve from 0.69032\n",
      "55/55 [==============================] - 36s 662ms/step - loss: 0.6709 - accuracy: 0.5750 - val_loss: 0.6936 - val_accuracy: 0.5220 - lr: 3.0518e-07\n",
      "Epoch 97/100\n",
      "55/55 [==============================] - ETA: 0s - loss: 0.6710 - accuracy: 0.5714\n",
      "Epoch 97: val_loss did not improve from 0.69032\n",
      "55/55 [==============================] - 36s 658ms/step - loss: 0.6710 - accuracy: 0.5714 - val_loss: 0.6936 - val_accuracy: 0.5230 - lr: 3.0518e-07\n",
      "Epoch 98/100\n",
      "55/55 [==============================] - ETA: 0s - loss: 0.6743 - accuracy: 0.5636\n",
      "Epoch 98: val_loss did not improve from 0.69032\n",
      "55/55 [==============================] - 36s 658ms/step - loss: 0.6743 - accuracy: 0.5636 - val_loss: 0.6936 - val_accuracy: 0.5230 - lr: 3.0518e-07\n",
      "Epoch 99/100\n",
      "55/55 [==============================] - ETA: 0s - loss: 0.6705 - accuracy: 0.5705\n",
      "Epoch 99: ReduceLROnPlateau reducing learning rate to 1.5258788721439487e-07.\n",
      "\n",
      "Epoch 99: val_loss did not improve from 0.69032\n",
      "55/55 [==============================] - 37s 668ms/step - loss: 0.6705 - accuracy: 0.5705 - val_loss: 0.6935 - val_accuracy: 0.5210 - lr: 3.0518e-07\n",
      "Epoch 100/100\n",
      "55/55 [==============================] - ETA: 0s - loss: 0.6729 - accuracy: 0.5695\n",
      "Epoch 100: val_loss did not improve from 0.69032\n",
      "55/55 [==============================] - 36s 656ms/step - loss: 0.6729 - accuracy: 0.5695 - val_loss: 0.6935 - val_accuracy: 0.5210 - lr: 1.5259e-07\n"
     ]
    }
   ],
   "source": [
    "with tf.device('/GPU:0'):\n",
    "    history = simple_model.fit(\n",
    "        X_train, y_train,\n",
    "        steps_per_epoch=len(X_train) // batch_size,\n",
    "        validation_data=(X_test,y_test),\n",
    "        epochs=100,\n",
    "        verbose=1,\n",
    "        callbacks=[reduceLROnPlato, checkPoint]\n",
    "    )"
   ]
  },
  {
   "cell_type": "markdown",
   "id": "3b7bb2e1-4361-43bb-8ff2-a476a9580a69",
   "metadata": {},
   "source": [
    "#### 5. Evaluation"
   ]
  },
  {
   "cell_type": "code",
   "execution_count": 16,
   "id": "63a68076-ec96-464f-9b17-b9ffe89f5e82",
   "metadata": {},
   "outputs": [
    {
     "data": {
      "image/png": "[encoded data removed]",
      "text/plain": [
       "<Figure size 1500x500 with 2 Axes>"
      ]
     },
     "metadata": {},
     "output_type": "display_data"
    }
   ],
   "source": [
    "show_history(history)"
   ]
  },
  {
   "cell_type": "code",
   "execution_count": 17,
   "id": "e7a8fde6-5480-48e5-b468-2971b5c9ae4b",
   "metadata": {},
   "outputs": [
    {
     "name": "stdout",
     "output_type": "stream",
     "text": [
      "25/25 [==============================] - 2s 93ms/step\n",
      "[[164 336]\n",
      " [140 360]]\n"
     ]
    }
   ],
   "source": [
    "from sklearn.metrics import confusion_matrix, classification_report\n",
    "\n",
    "predict_idxs = simple_model.predict(X_test, batch_size=batch_size)\n",
    "predict_idxs = np.argmax(predict_idxs, axis=1)\n",
    "\n",
    "y_test = label_as_binary.fit_transform(y_test)\n",
    "\n",
    "cm = confusion_matrix(np.argmax(y_test, axis=1), predict_idxs)\n",
    "print(cm)"
   ]
  },
  {
   "cell_type": "code",
   "execution_count": 18,
   "id": "c0867dbf-9dc1-4c64-8378-a29e04a16b2f",
   "metadata": {},
   "outputs": [],
   "source": [
    "target = lfw_dataset_test.target\n",
    "target_names = lfw_dataset_test.target_names"
   ]
  },
  {
   "cell_type": "code",
   "execution_count": 19,
   "id": "b439418b-5dee-40b4-81d8-4cd2edad4e82",
   "metadata": {},
   "outputs": [
    {
     "data": {
      "text/plain": [
       "array(['Different persons', 'Same person'], dtype='<U17')"
      ]
     },
     "execution_count": 19,
     "metadata": {},
     "output_type": "execute_result"
    }
   ],
   "source": [
    "target_names"
   ]
  },
  {
   "cell_type": "code",
   "execution_count": 20,
   "id": "6551b5ae-cd8e-4be0-b318-68ff689ed3f9",
   "metadata": {},
   "outputs": [
    {
     "name": "stdout",
     "output_type": "stream",
     "text": [
      "                   precision    recall  f1-score   support\n",
      "\n",
      "Different persons       0.54      0.33      0.41       500\n",
      "      Same person       0.52      0.72      0.60       500\n",
      "\n",
      "         accuracy                           0.52      1000\n",
      "        macro avg       0.53      0.52      0.50      1000\n",
      "     weighted avg       0.53      0.52      0.50      1000\n",
      "\n"
     ]
    }
   ],
   "source": [
    "print(classification_report(np.argmax(y_test, axis=1), predict_idxs, target_names=target_names))"
   ]
  },
  {
   "cell_type": "code",
   "execution_count": null,
   "id": "2a9dd8b4-d776-4d97-ab9c-1af74d68a896",
   "metadata": {},
   "outputs": [],
   "source": []
  }
 ],
 "metadata": {
  "environment": {
   "kernel": "python3",
   "name": "tf2-gpu.2-11.m109",
   "type": "gcloud",
   "uri": "gcr.io/deeplearning-platform-release/tf2-gpu.2-11:m109"
  },
  "kernelspec": {
   "display_name": "Python 3",
   "language": "python",
   "name": "python3"
  },
  "language_info": {
   "codemirror_mode": {
    "name": "ipython",
    "version": 3
   },
   "file_extension": ".py",
   "mimetype": "text/x-python",
   "name": "python",
   "nbconvert_exporter": "python",
   "pygments_lexer": "ipython3",
   "version": "3.10.11"
  }
 },
 "nbformat": 4,
 "nbformat_minor": 5
}
