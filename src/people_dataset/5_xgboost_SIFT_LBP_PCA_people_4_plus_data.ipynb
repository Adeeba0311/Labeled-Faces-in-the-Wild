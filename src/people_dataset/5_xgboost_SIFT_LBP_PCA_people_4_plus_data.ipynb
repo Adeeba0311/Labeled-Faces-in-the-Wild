{
 "cells": [
  {
   "cell_type": "code",
   "execution_count": 10,
   "id": "4211001f-d29f-49fe-b826-6afd6216c6e8",
   "metadata": {},
   "outputs": [],
   "source": [
    "# Import necessary libraries\n",
    "import os                        # Library to interact with the operating system\n",
    "import cv2                       # OpenCV library for computer vision tasks\n",
    "import numpy as np               # NumPy library for numerical operations\n",
    "from sklearn.datasets import fetch_lfw_people   # Function to load the LFW dataset\n",
    "from sklearn.model_selection import train_test_split   # Function to split dataset into train and test subsets\n",
    "\n",
    "# # Function to split augmented dataset into training and testing subsets\n",
    "# def split_augmented_dataset(augmented_dir, test_size=0.2):\n",
    "#     # Get the list of label names (subdirectories in augmented_dir)\n",
    "#     label_names = os.listdir(augmented_dir)   # Fetch the names of subdirectories in the augmented dataset\n",
    "#     images = []   # Initialize an empty list to store images\n",
    "#     labels = []   # Initialize an empty list to store corresponding labels\n",
    "\n",
    "#     # Loop through each label and read images from subdirectories\n",
    "#     for label_idx, label_name in enumerate(label_names):\n",
    "#         label_dir = os.path.join(augmented_dir, label_name)   # Create the full path of the label subdirectory\n",
    "#         for image_file in os.listdir(label_dir):   # Loop through each image file in the subdirectory\n",
    "#             image_path = os.path.join(label_dir, image_file)   # Create the full path of the image file\n",
    "#             image = cv2.imread(image_path)   # Read the image using OpenCV\n",
    "#             try:\n",
    "#                 if image.ndim == 2:  # Grayscale image\n",
    "#                     # Convert the grayscale image to RGB format\n",
    "#                     image = cv2.cvtColor(image, cv2.COLOR_GRAY2RGB)\n",
    "#                 images.append(image)   # Append the image to the images list\n",
    "#                 labels.append(label_idx)   # Append the corresponding label to the labels list\n",
    "#             except:\n",
    "#                 pass\n",
    "#     images = np.stack(images, axis=0)\n",
    "#     # images = np.array(images)   # Convert the list of images to a NumPy array\n",
    "#     labels = np.array(labels)   # Convert the list of labels to a NumPy array\n",
    "#     print(images.shape)\n",
    "#     print(labels.shape)\n",
    "\n",
    "#     # Split the images and labels into training and testing subsets\n",
    "#     X_train, X_test, y_train, y_test = train_test_split(images, labels, test_size=test_size, random_state=42)   # Split using sklearn's train_test_split\n",
    "#     return X_train, X_test, y_train, y_test   # Return the training and testing subsets of images and labels"
   ]
  },
  {
   "cell_type": "code",
   "execution_count": 11,
   "id": "d7bad685-ae94-43cc-9c85-09498428611e",
   "metadata": {},
   "outputs": [],
   "source": [
    "# Function to perform image augmentation using OpenCV\n",
    "def augment_image(image):\n",
    "    # Check if the image is grayscale (2-dimensional)\n",
    "    if image.ndim == 2:  # Grayscale image\n",
    "        # Convert the grayscale image to RGB format\n",
    "        image = cv2.cvtColor(image, cv2.COLOR_GRAY2RGB)\n",
    "\n",
    "    rows, cols, _ = image.shape   # Get the dimensions of the image\n",
    "\n",
    "    # Random rotation between -10 to 10 degrees\n",
    "    random_angle = np.random.randint(-10, 11)   # Generate a random angle between -10 and 10 degrees\n",
    "    M = cv2.getRotationMatrix2D((cols / 2, rows / 2), random_angle, 1)   # Get the rotation matrix for the random angle\n",
    "    augmented_image = cv2.warpAffine(image, M, (cols, rows))   # Apply the rotation to the image using warpAffine\n",
    "\n",
    "    # Random horizontal flipping\n",
    "    if np.random.rand() > 0.5:   # Generate a random number between 0 and 1, and check if it's greater than 0.5\n",
    "        flipped_image = cv2.flip(augmented_image, 1)  # 1 means horizontal flip. Flip the image horizontally\n",
    "    else:\n",
    "        flipped_image = augmented_image   # Keep the image as is (no horizontal flip)\n",
    "\n",
    "    # Random brightness adjustment\n",
    "    brightness_factor = np.random.uniform(0.7, 1.3)   # Generate a random brightness factor between 0.7 and 1.3\n",
    "    hsv_image = cv2.cvtColor(flipped_image, cv2.COLOR_RGB2HSV)   # Convert the RGB image to HSV color space\n",
    "    hsv_image[:, :, 2] = hsv_image[:, :, 2] * brightness_factor   # Adjust the brightness (V channel) by the brightness factor\n",
    "    augmented_image = cv2.cvtColor(hsv_image, cv2.COLOR_HSV2RGB)   # Convert the HSV image back to RGB color space\n",
    "\n",
    "    return augmented_image   # Return the augmented image"
   ]
  },
  {
   "cell_type": "code",
   "execution_count": 12,
   "id": "6e143386-2750-40a8-b87b-4ed61403c970",
   "metadata": {},
   "outputs": [],
   "source": [
    "def augment_lfw_people_dataset(lfw_people, target_count=10, output_directory='lfw_augmented'):\n",
    "    # Create a new directory for the augmented dataset\n",
    "    augmented_dir = os.path.join(lfw_people.target_names[0], output_directory)   # Create the full path of the augmented directory\n",
    "    os.makedirs(augmented_dir, exist_ok=True)   # Create the augmented directory if it doesn't exist\n",
    "\n",
    "    # Loop through each label in the dataset\n",
    "    for label_idx, label_name in enumerate(lfw_people.target_names):\n",
    "        label_dir = os.path.join(augmented_dir, label_name)   # Create the full path of the label subdirectory\n",
    "        os.makedirs(label_dir, exist_ok=True)   # Create the label subdirectory if it doesn't exist\n",
    "\n",
    "        # Get images belonging to the current label\n",
    "        label_images = lfw_people.images[lfw_people.target == label_idx]   # Fetch the images with the current label\n",
    "\n",
    "        # Check if the label folder already has enough images (>= target_count)\n",
    "        if len(label_images) >= target_count:   # If the label already has enough images\n",
    "            selected_images = label_images[:target_count]   # Select the first target_count number of images\n",
    "        else:\n",
    "            # If the label folder has fewer images, duplicate and augment the existing images\n",
    "            selected_images = []\n",
    "            while len(selected_images) < target_count:\n",
    "                for image in label_images:\n",
    "                    selected_images.append(image)   # Augment the image and add to selected_images\n",
    "                    if len(selected_images) == target_count:   # Check if we have enough augmented images\n",
    "                        break\n",
    "\n",
    "        # Perform augmentation for images with count < target_count\n",
    "        for idx, image in enumerate(selected_images):\n",
    "            image_path = os.path.join(label_dir, f'{label_name}_{idx}.png')   # Create the full path of the augmented image\n",
    "            image = cv2.convertScaleAbs(image, alpha=(255.0))\n",
    "            cv2.imwrite(image_path, image)   # Write the augmented image to the specified path"
   ]
  },
  {
   "cell_type": "code",
   "execution_count": 15,
   "id": "742ab514-6311-47bb-ad2e-7d2dfe772580",
   "metadata": {
    "tags": []
   },
   "outputs": [],
   "source": [
    "# Load the LFW dataset\n",
    "lfw_people = fetch_lfw_people(min_faces_per_person=4, resize=0.4)   # Fetch the LFW dataset with specified parameters\n",
    "\n",
    "# Augment the LFW dataset\n",
    "augment_lfw_people_dataset(lfw_people, target_count=10)   # Augment the dataset with 10 images per class"
   ]
  },
  {
   "cell_type": "code",
   "execution_count": 16,
   "id": "b5b0c961-191c-4c10-a2ea-1d42b0162e14",
   "metadata": {},
   "outputs": [
    {
     "name": "stdout",
     "output_type": "stream",
     "text": [
      "Data split completed successfully!\n"
     ]
    }
   ],
   "source": [
    "#This is splitting code:\n",
    "import os\n",
    "import shutil\n",
    "import random\n",
    "\n",
    "# Define the directory containing your data\n",
    "data_directory = './Aaron Peirsol/lfw_augmented'\n",
    "\n",
    "# Define the output directories for training and test data\n",
    "train_directory = 'training_data'\n",
    "test_directory = 'test_data'\n",
    "\n",
    "# Create the output directories if they don't exist\n",
    "os.makedirs(train_directory, exist_ok=True)\n",
    "os.makedirs(test_directory, exist_ok=True)\n",
    "\n",
    "# Loop through each person's data directory\n",
    "for person_dir in os.listdir(data_directory):\n",
    "    person_path = os.path.join(data_directory, person_dir)\n",
    "\n",
    "    # Get all the image filenames in the person's directory\n",
    "    image_files = [f for f in os.listdir(person_path) if f.endswith('.png')]\n",
    "\n",
    "    # Shuffle the image files randomly\n",
    "    random.shuffle(image_files)\n",
    "\n",
    "    # Calculate the split index for training and test sets\n",
    "    split_index = int(0.8 * len(image_files))\n",
    "\n",
    "    # Split the image files into training and test sets\n",
    "    train_images = image_files[:split_index]\n",
    "    test_images = image_files[split_index:]\n",
    "\n",
    "    # Move the training images to the training data directory\n",
    "    for train_img in train_images:\n",
    "        src = os.path.join(person_path, train_img)\n",
    "        # dest = os.path.join(train_directory, person_dir, train_img)\n",
    "        \n",
    "        dest_dir = os.path.join(train_directory, person_dir)\n",
    "        dest_dir = dest_dir.replace(\" \", \"_\")\n",
    "        dest = os.path.join(dest_dir, train_img)\n",
    "        os.makedirs(dest_dir, exist_ok=True)\n",
    "        shutil.copy(src, dest)\n",
    "\n",
    "    # Move the test images to the test data directory\n",
    "    for test_img in test_images:\n",
    "        src = os.path.join(person_path, test_img)\n",
    "        # dest = dest.replace(\" \", \"_\")\n",
    "        dest_dir = os.path.join(test_directory, person_dir)\n",
    "        dest_dir = dest_dir.replace(\" \", \"_\")\n",
    "        dest = os.path.join(dest_dir, test_img)\n",
    "        os.makedirs(dest_dir, exist_ok=True)\n",
    "        shutil.copy(src, dest)\n",
    "\n",
    "print(\"Data split completed successfully!\")"
   ]
  },
  {
   "cell_type": "code",
   "execution_count": 17,
   "id": "ae60cf47-e972-4d39-b0e3-2fc05282ffcd",
   "metadata": {},
   "outputs": [],
   "source": [
    "# Reading the images\n",
    "# Define the output directories for training and test data\n",
    "train_directory = 'training_data'\n",
    "test_directory = 'test_data'"
   ]
  },
  {
   "cell_type": "code",
   "execution_count": 18,
   "id": "55db4093-d0d2-48e3-9a14-289afc3bca13",
   "metadata": {},
   "outputs": [],
   "source": [
    "# Define the output directories for training and test data\n",
    "train_directory = './training_data'\n",
    "test_directory = './test_data'\n",
    "\n",
    "x_train = []\n",
    "y_train = []\n",
    "# Loop through train data\n",
    "for person_dir in os.listdir(train_directory):\n",
    "    train_image = os.path.join(train_directory, person_dir)\n",
    "    # Get all the image filenames in the person's directory\n",
    "    image_files = [f for f in os.listdir(train_image) if f.endswith('.png')]\n",
    "    x_train.extend(image_files)\n",
    "    for label in image_files:\n",
    "        y_train.append(person_dir)\n",
    "    # label_image.extend(temp_label)"
   ]
  },
  {
   "cell_type": "code",
   "execution_count": 19,
   "id": "1dd06b9a-490a-43c1-a95b-3b2ebf668dd9",
   "metadata": {},
   "outputs": [],
   "source": [
    "import numpy as np"
   ]
  },
  {
   "cell_type": "code",
   "execution_count": 20,
   "id": "9f4a1526-9903-43cb-bc58-5c67269c2c31",
   "metadata": {
    "tags": []
   },
   "outputs": [],
   "source": [
    "from PIL import Image\n",
    "arr = []\n",
    "for idx, image_path in enumerate(x_train):\n",
    "    image_path = f\"./training_data/{y_train[idx]}/\"+image_path\n",
    "    image = Image.open(image_path)\n",
    "    arr.append(np.asarray(image))\n",
    "x_train = np.array(arr)"
   ]
  },
  {
   "cell_type": "code",
   "execution_count": 21,
   "id": "4364ceb9-ff12-4dfb-8d56-f8f754a5af43",
   "metadata": {},
   "outputs": [],
   "source": [
    "x_test = []\n",
    "y_test = []\n",
    "# Loop through train data\n",
    "for person_dir in os.listdir(test_directory):\n",
    "    test_image = os.path.join(test_directory, person_dir)\n",
    "    # Get all the image filenames in the person's directory\n",
    "    image_files = [f for f in os.listdir(test_image) if f.endswith('.png')]\n",
    "    x_test.extend(image_files)\n",
    "    for label in image_files:\n",
    "        y_test.append(person_dir)\n",
    "    # label_image.extend(temp_label)\n",
    "    \n",
    "arr = []\n",
    "for idx, image_path in enumerate(x_test):\n",
    "    image_path = f\"./test_data/{y_test[idx]}/\"+image_path\n",
    "    image = Image.open(image_path)\n",
    "    arr.append(np.asarray(image))\n",
    "x_test = np.array(arr)"
   ]
  },
  {
   "cell_type": "code",
   "execution_count": 22,
   "id": "62399c28-bfb4-4bf4-8c46-cbe9823c0581",
   "metadata": {},
   "outputs": [
    {
     "data": {
      "text/plain": [
       "((1220, 50, 37), 1220)"
      ]
     },
     "execution_count": 22,
     "metadata": {},
     "output_type": "execute_result"
    }
   ],
   "source": [
    "x_test.shape, len(y_test)"
   ]
  },
  {
   "cell_type": "code",
   "execution_count": 23,
   "id": "1af813d1-89a1-4e05-99fb-541cb2894c26",
   "metadata": {},
   "outputs": [
    {
     "data": {
      "text/plain": [
       "((4880, 50, 37), 4880)"
      ]
     },
     "execution_count": 23,
     "metadata": {},
     "output_type": "execute_result"
    }
   ],
   "source": [
    "x_train.shape, len(y_train)"
   ]
  },
  {
   "cell_type": "code",
   "execution_count": 24,
   "id": "78424a5f-7cf8-4f56-b062-d094063553f3",
   "metadata": {},
   "outputs": [],
   "source": [
    "# X_train = X_train.reshape(-1, 50 * 37 * 3)\n",
    "# X_test = X_test.reshape(-1, 50 * 37 * 3)"
   ]
  },
  {
   "cell_type": "code",
   "execution_count": 25,
   "id": "7fb61ca1-3853-44a7-a576-f7f2d7eaa78e",
   "metadata": {},
   "outputs": [],
   "source": [
    "from skimage.feature import hog, local_binary_pattern\n",
    "import xgboost as xgb\n",
    "from sklearn.metrics import classification_report, accuracy_score\n",
    "from skimage import exposure\n",
    "  \n",
    "def scale_invariant_feature_transform(image):\n",
    "    \n",
    "    image = cv2.cvtColor(image,cv2.COLOR_GRAY2RGB)\n",
    "    \n",
    "    # Convert the image depth to CV_8U\n",
    "    image8bit = cv2.normalize(image, None, 0, 255, cv2.NORM_MINMAX).astype('uint8')\n",
    "    \n",
    "    #reading image\n",
    "    gray1 = cv2.cvtColor(image8bit, cv2.COLOR_BGR2GRAY)\n",
    "    \n",
    "    #keypoints\n",
    "    #keypoints``\n",
    "    sift = cv2.SIFT_create()\n",
    "    keypoints_1, descriptors_1 = sift.detectAndCompute(gray1, None)\n",
    "\n",
    "    img_1 = cv2.drawKeypoints(gray1,keypoints_1,image)\n",
    "    return img_1\n",
    "    \n",
    "def local_binary_patterns(image):\n",
    "    \n",
    "    # settings for LBP\n",
    "    radius = 3\n",
    "    n_points = 8 * radius\n",
    "    \n",
    "    image = cv2.cvtColor(image,cv2.COLOR_GRAY2RGB)\n",
    "    \n",
    "    # Convert the image depth to CV_8U\n",
    "    image8bit = cv2.normalize(image, None, 0, 255, cv2.NORM_MINMAX).astype('uint8')\n",
    "\n",
    "    # Convert the array to grayscale and reshape it to (height, width)\n",
    "    gray1 = cv2.cvtColor(image8bit, cv2.COLOR_BGR2GRAY)\n",
    "\n",
    "    lbp = local_binary_pattern(gray1, n_points, radius, method = \"uniform\")\n",
    "\n",
    "    return lbp\n",
    "\n",
    "# Function to extract combined features (HOG, SIFT, and LBP) from an image\n",
    "def extract_combined_features(image):\n",
    "    sift_features = scale_invariant_feature_transform(image)\n",
    "    lbp_features = local_binary_patterns(image)\n",
    "    \n",
    "    sift_features = sift_features.flatten()\n",
    "    lbp_features = lbp_features.flatten()\n",
    "    \n",
    "    merged_feature = np.hstack((sift_features,lbp_features))\n",
    "    return merged_feature\n",
    "    "
   ]
  },
  {
   "cell_type": "code",
   "execution_count": 26,
   "id": "18cbbb1c-9d26-4e9a-b1cf-a597e9eac20b",
   "metadata": {},
   "outputs": [],
   "source": [
    "# Extract combined features from the training and testing images\n",
    "X_train_features = np.array([extract_combined_features(image) for image in x_train])\n",
    "X_test_features = np.array([extract_combined_features(image) for image in x_test])"
   ]
  },
  {
   "cell_type": "code",
   "execution_count": 27,
   "id": "d1cdbc48-0289-4139-9a46-fd1c24a1ebf7",
   "metadata": {},
   "outputs": [
    {
     "data": {
      "text/plain": [
       "(4880, 7400)"
      ]
     },
     "execution_count": 27,
     "metadata": {},
     "output_type": "execute_result"
    }
   ],
   "source": [
    "X_train_features.shape"
   ]
  },
  {
   "cell_type": "code",
   "execution_count": 28,
   "id": "15497f15-e6a2-4589-8e1b-ccbf1a31a2a8",
   "metadata": {},
   "outputs": [],
   "source": [
    "from time import time\n",
    "from sklearn.decomposition import PCA\n",
    "def pca_implementation(X_train, X_test):\n",
    "    # Compute a PCA (eigenfaces) on the face dataset (treated as unlabeled\n",
    "    # dataset): unsupervised feature extraction / dimensionality reduction\n",
    "    n_components = 60\n",
    "\n",
    "    print(\"Extracting the top %d eigenfaces from %d faces\"\n",
    "          % (n_components, X_train.shape[0]))\n",
    "    t0 = time()\n",
    "    pca = PCA(n_components=n_components, svd_solver='randomized',\n",
    "              whiten=True).fit(X_train)\n",
    "    print(\"done in %0.3fs\" % (time() - t0))\n",
    "\n",
    "    print(\"Projecting the input data on the eigenfaces orthonormal basis\")\n",
    "    t0 = time()\n",
    "    X_train_pca = pca.transform(X_train)\n",
    "    X_test_pca = pca.transform(X_test)\n",
    "    print(\"done in %0.3fs\" % (time() - t0))\n",
    "    return X_train_pca, X_test_pca"
   ]
  },
  {
   "cell_type": "code",
   "execution_count": 29,
   "id": "05592b3b-d510-4167-b2b2-f721ee82b616",
   "metadata": {},
   "outputs": [
    {
     "name": "stdout",
     "output_type": "stream",
     "text": [
      "Extracting the top 60 eigenfaces from 4880 faces\n",
      "done in 5.066s\n",
      "Projecting the input data on the eigenfaces orthonormal basis\n",
      "done in 0.354s\n"
     ]
    }
   ],
   "source": [
    "X_train, X_test= pca_implementation(X_train_features, X_test_features)"
   ]
  },
  {
   "cell_type": "code",
   "execution_count": 30,
   "id": "0b9926f2-cb24-4982-9bba-e36004cae0ef",
   "metadata": {},
   "outputs": [
    {
     "data": {
      "text/plain": [
       "(4880, 60)"
      ]
     },
     "execution_count": 30,
     "metadata": {},
     "output_type": "execute_result"
    }
   ],
   "source": [
    "X_train.shape"
   ]
  },
  {
   "cell_type": "code",
   "execution_count": 31,
   "id": "54aff6a1-cecb-4357-a35a-1dbf72f19c63",
   "metadata": {},
   "outputs": [],
   "source": [
    "from sklearn import preprocessing\n",
    "le = preprocessing.LabelEncoder()\n",
    "yy_train = le.fit_transform(y_train)"
   ]
  },
  {
   "cell_type": "code",
   "execution_count": 32,
   "id": "2b199315-5c63-436b-9e51-0190df7ac46b",
   "metadata": {},
   "outputs": [],
   "source": [
    "yy_test = le.fit_transform(y_test)"
   ]
  },
  {
   "cell_type": "code",
   "execution_count": 33,
   "id": "5c0f23fb-1214-4ae9-bf97-a524508d5b9c",
   "metadata": {},
   "outputs": [
    {
     "data": {
      "text/plain": [
       "((1220,), (4880,))"
      ]
     },
     "execution_count": 33,
     "metadata": {},
     "output_type": "execute_result"
    }
   ],
   "source": [
    "yy_test.shape, yy_train.shape"
   ]
  },
  {
   "cell_type": "code",
   "execution_count": 34,
   "id": "c9c7f7d1-d7e1-4c92-84dc-b69bf18f828b",
   "metadata": {},
   "outputs": [
    {
     "data": {
      "text/html": [
       "<style>#sk-container-id-1 {color: black;background-color: white;}#sk-container-id-1 pre{padding: 0;}#sk-container-id-1 div.sk-toggleable {background-color: white;}#sk-container-id-1 label.sk-toggleable__label {cursor: pointer;display: block;width: 100%;margin-bottom: 0;padding: 0.3em;box-sizing: border-box;text-align: center;}#sk-container-id-1 label.sk-toggleable__label-arrow:before {content: \"▸\";float: left;margin-right: 0.25em;color: #696969;}#sk-container-id-1 label.sk-toggleable__label-arrow:hover:before {color: black;}#sk-container-id-1 div.sk-estimator:hover label.sk-toggleable__label-arrow:before {color: black;}#sk-container-id-1 div.sk-toggleable__content {max-height: 0;max-width: 0;overflow: hidden;text-align: left;background-color: #f0f8ff;}#sk-container-id-1 div.sk-toggleable__content pre {margin: 0.2em;color: black;border-radius: 0.25em;background-color: #f0f8ff;}#sk-container-id-1 input.sk-toggleable__control:checked~div.sk-toggleable__content {max-height: 200px;max-width: 100%;overflow: auto;}#sk-container-id-1 input.sk-toggleable__control:checked~label.sk-toggleable__label-arrow:before {content: \"▾\";}#sk-container-id-1 div.sk-estimator input.sk-toggleable__control:checked~label.sk-toggleable__label {background-color: #d4ebff;}#sk-container-id-1 div.sk-label input.sk-toggleable__control:checked~label.sk-toggleable__label {background-color: #d4ebff;}#sk-container-id-1 input.sk-hidden--visually {border: 0;clip: rect(1px 1px 1px 1px);clip: rect(1px, 1px, 1px, 1px);height: 1px;margin: -1px;overflow: hidden;padding: 0;position: absolute;width: 1px;}#sk-container-id-1 div.sk-estimator {font-family: monospace;background-color: #f0f8ff;border: 1px dotted black;border-radius: 0.25em;box-sizing: border-box;margin-bottom: 0.5em;}#sk-container-id-1 div.sk-estimator:hover {background-color: #d4ebff;}#sk-container-id-1 div.sk-parallel-item::after {content: \"\";width: 100%;border-bottom: 1px solid gray;flex-grow: 1;}#sk-container-id-1 div.sk-label:hover label.sk-toggleable__label {background-color: #d4ebff;}#sk-container-id-1 div.sk-serial::before {content: \"\";position: absolute;border-left: 1px solid gray;box-sizing: border-box;top: 0;bottom: 0;left: 50%;z-index: 0;}#sk-container-id-1 div.sk-serial {display: flex;flex-direction: column;align-items: center;background-color: white;padding-right: 0.2em;padding-left: 0.2em;position: relative;}#sk-container-id-1 div.sk-item {position: relative;z-index: 1;}#sk-container-id-1 div.sk-parallel {display: flex;align-items: stretch;justify-content: center;background-color: white;position: relative;}#sk-container-id-1 div.sk-item::before, #sk-container-id-1 div.sk-parallel-item::before {content: \"\";position: absolute;border-left: 1px solid gray;box-sizing: border-box;top: 0;bottom: 0;left: 50%;z-index: -1;}#sk-container-id-1 div.sk-parallel-item {display: flex;flex-direction: column;z-index: 1;position: relative;background-color: white;}#sk-container-id-1 div.sk-parallel-item:first-child::after {align-self: flex-end;width: 50%;}#sk-container-id-1 div.sk-parallel-item:last-child::after {align-self: flex-start;width: 50%;}#sk-container-id-1 div.sk-parallel-item:only-child::after {width: 0;}#sk-container-id-1 div.sk-dashed-wrapped {border: 1px dashed gray;margin: 0 0.4em 0.5em 0.4em;box-sizing: border-box;padding-bottom: 0.4em;background-color: white;}#sk-container-id-1 div.sk-label label {font-family: monospace;font-weight: bold;display: inline-block;line-height: 1.2em;}#sk-container-id-1 div.sk-label-container {text-align: center;}#sk-container-id-1 div.sk-container {/* jupyter's `normalize.less` sets `[hidden] { display: none; }` but bootstrap.min.css set `[hidden] { display: none !important; }` so we also need the `!important` here to be able to override the default hidden behavior on the sphinx rendered scikit-learn.org. See: https://github.com/scikit-learn/scikit-learn/issues/21755 */display: inline-block !important;position: relative;}#sk-container-id-1 div.sk-text-repr-fallback {display: none;}</style><div id=\"sk-container-id-1\" class=\"sk-top-container\"><div class=\"sk-text-repr-fallback\"><pre>XGBClassifier(base_score=None, booster=None, callbacks=None,\n",
       "              colsample_bylevel=None, colsample_bynode=None,\n",
       "              colsample_bytree=None, early_stopping_rounds=None,\n",
       "              enable_categorical=False, eval_metric=None, feature_types=None,\n",
       "              gamma=None, gpu_id=0, grow_policy=None, importance_type=None,\n",
       "              interaction_constraints=None, learning_rate=None, max_bin=None,\n",
       "              max_cat_threshold=None, max_cat_to_onehot=None,\n",
       "              max_delta_step=None, max_depth=8, max_leaves=None,\n",
       "              min_child_weight=None, missing=nan, monotone_constraints=None,\n",
       "              n_estimators=250, n_jobs=None, num_parallel_tree=None,\n",
       "              objective=&#x27;multi:softprob&#x27;, predictor=None, ...)</pre><b>In a Jupyter environment, please rerun this cell to show the HTML representation or trust the notebook. <br />On GitHub, the HTML representation is unable to render, please try loading this page with nbviewer.org.</b></div><div class=\"sk-container\" hidden><div class=\"sk-item\"><div class=\"sk-estimator sk-toggleable\"><input class=\"sk-toggleable__control sk-hidden--visually\" id=\"sk-estimator-id-1\" type=\"checkbox\" checked><label for=\"sk-estimator-id-1\" class=\"sk-toggleable__label sk-toggleable__label-arrow\">XGBClassifier</label><div class=\"sk-toggleable__content\"><pre>XGBClassifier(base_score=None, booster=None, callbacks=None,\n",
       "              colsample_bylevel=None, colsample_bynode=None,\n",
       "              colsample_bytree=None, early_stopping_rounds=None,\n",
       "              enable_categorical=False, eval_metric=None, feature_types=None,\n",
       "              gamma=None, gpu_id=0, grow_policy=None, importance_type=None,\n",
       "              interaction_constraints=None, learning_rate=None, max_bin=None,\n",
       "              max_cat_threshold=None, max_cat_to_onehot=None,\n",
       "              max_delta_step=None, max_depth=8, max_leaves=None,\n",
       "              min_child_weight=None, missing=nan, monotone_constraints=None,\n",
       "              n_estimators=250, n_jobs=None, num_parallel_tree=None,\n",
       "              objective=&#x27;multi:softprob&#x27;, predictor=None, ...)</pre></div></div></div></div></div>"
      ],
      "text/plain": [
       "XGBClassifier(base_score=None, booster=None, callbacks=None,\n",
       "              colsample_bylevel=None, colsample_bynode=None,\n",
       "              colsample_bytree=None, early_stopping_rounds=None,\n",
       "              enable_categorical=False, eval_metric=None, feature_types=None,\n",
       "              gamma=None, gpu_id=0, grow_policy=None, importance_type=None,\n",
       "              interaction_constraints=None, learning_rate=None, max_bin=None,\n",
       "              max_cat_threshold=None, max_cat_to_onehot=None,\n",
       "              max_delta_step=None, max_depth=8, max_leaves=None,\n",
       "              min_child_weight=None, missing=nan, monotone_constraints=None,\n",
       "              n_estimators=250, n_jobs=None, num_parallel_tree=None,\n",
       "              objective='multi:softprob', predictor=None, ...)"
      ]
     },
     "execution_count": 34,
     "metadata": {},
     "output_type": "execute_result"
    }
   ],
   "source": [
    "# Train an XGBoost model\n",
    "model = xgb.XGBClassifier(n_estimators=250,\n",
    "                          max_depth=8,\n",
    "                          objective= 'binary:logistic',\n",
    "                          seed=27, \n",
    "                          tree_method='gpu_hist', gpu_id=0)\n",
    "model.fit(X_train, yy_train)"
   ]
  },
  {
   "cell_type": "code",
   "execution_count": 35,
   "id": "ea69baa8-5fbb-461f-82c4-a1023461cd59",
   "metadata": {},
   "outputs": [
    {
     "data": {
      "text/plain": [
       "(1220, 60)"
      ]
     },
     "execution_count": 35,
     "metadata": {},
     "output_type": "execute_result"
    }
   ],
   "source": [
    "X_test.shape"
   ]
  },
  {
   "cell_type": "code",
   "execution_count": 36,
   "id": "508b7911-0903-4c74-8ad2-5a26a8a11879",
   "metadata": {},
   "outputs": [],
   "source": [
    "# Predict using the XGBoost model\n",
    "y_pred = model.predict(X_test)"
   ]
  },
  {
   "cell_type": "code",
   "execution_count": 37,
   "id": "c95e510f-158e-42a8-ad9a-9ae4b0227f44",
   "metadata": {},
   "outputs": [
    {
     "name": "stdout",
     "output_type": "stream",
     "text": [
      "Accuracy Score: 0.22049180327868853\n"
     ]
    }
   ],
   "source": [
    "accuracy = accuracy_score(yy_test, y_pred)\n",
    "\n",
    "# Print the results\n",
    "print(\"Accuracy Score:\", accuracy)"
   ]
  },
  {
   "cell_type": "code",
   "execution_count": 38,
   "id": "498b2062-6e23-4779-9fde-a1e8f1750ee9",
   "metadata": {
    "collapsed": true,
    "jupyter": {
     "outputs_hidden": true
    },
    "tags": []
   },
   "outputs": [
    {
     "name": "stdout",
     "output_type": "stream",
     "text": [
      "Classification Report:\n",
      "              precision    recall  f1-score   support\n",
      "\n",
      "           0       0.00      0.00      0.00         2\n",
      "           1       0.25      0.50      0.33         2\n",
      "           2       0.33      0.50      0.40         2\n",
      "           3       0.00      0.00      0.00         2\n",
      "           4       1.00      0.50      0.67         2\n",
      "           5       0.33      0.50      0.40         2\n",
      "           6       0.00      0.00      0.00         2\n",
      "           7       0.50      0.50      0.50         2\n",
      "           8       0.00      0.00      0.00         2\n",
      "           9       0.00      0.00      0.00         2\n",
      "          10       0.25      0.50      0.33         2\n",
      "          11       1.00      0.50      0.67         2\n",
      "          12       0.00      0.00      0.00         2\n",
      "          13       0.00      0.00      0.00         2\n",
      "          14       0.00      0.00      0.00         2\n",
      "          15       1.00      0.50      0.67         2\n",
      "          16       1.00      1.00      1.00         2\n",
      "          17       0.50      0.50      0.50         2\n",
      "          18       0.00      0.00      0.00         2\n",
      "          19       0.00      0.00      0.00         2\n",
      "          20       0.00      0.00      0.00         2\n",
      "          21       0.00      0.00      0.00         2\n",
      "          22       0.00      0.00      0.00         2\n",
      "          23       0.00      0.00      0.00         2\n",
      "          24       0.00      0.00      0.00         2\n",
      "          25       0.00      0.00      0.00         2\n",
      "          26       0.00      0.00      0.00         2\n",
      "          27       0.20      0.50      0.29         2\n",
      "          28       0.00      0.00      0.00         2\n",
      "          29       0.00      0.00      0.00         2\n",
      "          30       0.00      0.00      0.00         2\n",
      "          31       0.00      0.00      0.00         2\n",
      "          32       0.00      0.00      0.00         2\n",
      "          33       0.00      0.00      0.00         2\n",
      "          34       0.00      0.00      0.00         2\n",
      "          35       0.20      0.50      0.29         2\n",
      "          36       0.00      0.00      0.00         2\n",
      "          37       0.00      0.00      0.00         2\n",
      "          38       0.00      0.00      0.00         2\n",
      "          39       0.50      0.50      0.50         2\n",
      "          40       1.00      1.00      1.00         2\n",
      "          41       0.00      0.00      0.00         2\n",
      "          42       0.25      0.50      0.33         2\n",
      "          43       0.00      0.00      0.00         2\n",
      "          44       0.50      0.50      0.50         2\n",
      "          45       0.00      0.00      0.00         2\n",
      "          46       1.00      1.00      1.00         2\n",
      "          47       0.00      0.00      0.00         2\n",
      "          48       0.00      0.00      0.00         2\n",
      "          49       0.00      0.00      0.00         2\n",
      "          50       0.25      1.00      0.40         2\n",
      "          51       0.67      1.00      0.80         2\n",
      "          52       0.33      0.50      0.40         2\n",
      "          53       1.00      0.50      0.67         2\n",
      "          54       0.00      0.00      0.00         2\n",
      "          55       1.00      0.50      0.67         2\n",
      "          56       0.14      0.50      0.22         2\n",
      "          57       0.50      0.50      0.50         2\n",
      "          58       0.00      0.00      0.00         2\n",
      "          59       0.50      0.50      0.50         2\n",
      "          60       0.00      0.00      0.00         2\n",
      "          61       0.00      0.00      0.00         2\n",
      "          62       0.00      0.00      0.00         2\n",
      "          63       0.33      0.50      0.40         2\n",
      "          64       0.00      0.00      0.00         2\n",
      "          65       0.00      0.00      0.00         2\n",
      "          66       0.50      0.50      0.50         2\n",
      "          67       0.00      0.00      0.00         2\n",
      "          68       0.00      0.00      0.00         2\n",
      "          69       0.33      0.50      0.40         2\n",
      "          70       0.00      0.00      0.00         2\n",
      "          71       0.00      0.00      0.00         2\n",
      "          72       0.67      1.00      0.80         2\n",
      "          73       0.50      0.50      0.50         2\n",
      "          74       0.00      0.00      0.00         2\n",
      "          75       0.50      1.00      0.67         2\n",
      "          76       1.00      0.50      0.67         2\n",
      "          77       0.00      0.00      0.00         2\n",
      "          78       0.00      0.00      0.00         2\n",
      "          79       0.33      0.50      0.40         2\n",
      "          80       0.00      0.00      0.00         2\n",
      "          81       0.00      0.00      0.00         2\n",
      "          82       0.00      0.00      0.00         2\n",
      "          83       0.33      0.50      0.40         2\n",
      "          84       0.00      0.00      0.00         2\n",
      "          85       0.00      0.00      0.00         2\n",
      "          86       0.00      0.00      0.00         2\n",
      "          87       1.00      0.50      0.67         2\n",
      "          88       0.33      0.50      0.40         2\n",
      "          89       0.00      0.00      0.00         2\n",
      "          90       0.00      0.00      0.00         2\n",
      "          91       0.33      0.50      0.40         2\n",
      "          92       0.50      1.00      0.67         2\n",
      "          93       0.00      0.00      0.00         2\n",
      "          94       0.50      0.50      0.50         2\n",
      "          95       0.00      0.00      0.00         2\n",
      "          96       0.00      0.00      0.00         2\n",
      "          97       0.00      0.00      0.00         2\n",
      "          98       0.00      0.00      0.00         2\n",
      "          99       1.00      0.50      0.67         2\n",
      "         100       0.00      0.00      0.00         2\n",
      "         101       0.67      1.00      0.80         2\n",
      "         102       0.00      0.00      0.00         2\n",
      "         103       0.25      0.50      0.33         2\n",
      "         104       0.00      0.00      0.00         2\n",
      "         105       0.50      0.50      0.50         2\n",
      "         106       0.50      0.50      0.50         2\n",
      "         107       0.50      0.50      0.50         2\n",
      "         108       0.67      1.00      0.80         2\n",
      "         109       0.33      0.50      0.40         2\n",
      "         110       0.50      0.50      0.50         2\n",
      "         111       0.67      1.00      0.80         2\n",
      "         112       0.50      0.50      0.50         2\n",
      "         113       0.00      0.00      0.00         2\n",
      "         114       0.00      0.00      0.00         2\n",
      "         115       0.00      0.00      0.00         2\n",
      "         116       0.00      0.00      0.00         2\n",
      "         117       0.00      0.00      0.00         2\n",
      "         118       0.00      0.00      0.00         2\n",
      "         119       0.50      1.00      0.67         2\n",
      "         120       0.00      0.00      0.00         2\n",
      "         121       0.00      0.00      0.00         2\n",
      "         122       0.50      1.00      0.67         2\n",
      "         123       0.20      0.50      0.29         2\n",
      "         124       0.33      0.50      0.40         2\n",
      "         125       0.00      0.00      0.00         2\n",
      "         126       0.00      0.00      0.00         2\n",
      "         127       0.00      0.00      0.00         2\n",
      "         128       0.33      0.50      0.40         2\n",
      "         129       0.00      0.00      0.00         2\n",
      "         130       0.00      0.00      0.00         2\n",
      "         131       1.00      1.00      1.00         2\n",
      "         132       0.50      0.50      0.50         2\n",
      "         133       0.00      0.00      0.00         2\n",
      "         134       1.00      1.00      1.00         2\n",
      "         135       1.00      0.50      0.67         2\n",
      "         136       0.00      0.00      0.00         2\n",
      "         137       0.33      0.50      0.40         2\n",
      "         138       0.33      0.50      0.40         2\n",
      "         139       0.00      0.00      0.00         2\n",
      "         140       0.20      0.50      0.29         2\n",
      "         141       0.00      0.00      0.00         2\n",
      "         142       0.00      0.00      0.00         2\n",
      "         143       0.00      0.00      0.00         2\n",
      "         144       0.00      0.00      0.00         2\n",
      "         145       0.00      0.00      0.00         2\n",
      "         146       0.00      0.00      0.00         2\n",
      "         147       0.00      0.00      0.00         2\n",
      "         148       0.50      0.50      0.50         2\n",
      "         149       0.00      0.00      0.00         2\n",
      "         150       0.00      0.00      0.00         2\n",
      "         151       0.50      1.00      0.67         2\n",
      "         152       0.25      0.50      0.33         2\n",
      "         153       0.67      1.00      0.80         2\n",
      "         154       0.67      1.00      0.80         2\n",
      "         155       0.00      0.00      0.00         2\n",
      "         156       0.00      0.00      0.00         2\n",
      "         157       0.00      0.00      0.00         2\n",
      "         158       0.00      0.00      0.00         2\n",
      "         159       0.50      0.50      0.50         2\n",
      "         160       1.00      0.50      0.67         2\n",
      "         161       0.67      1.00      0.80         2\n",
      "         162       1.00      1.00      1.00         2\n",
      "         163       1.00      0.50      0.67         2\n",
      "         164       1.00      1.00      1.00         2\n",
      "         165       0.00      0.00      0.00         2\n",
      "         166       0.00      0.00      0.00         2\n",
      "         167       0.20      0.50      0.29         2\n",
      "         168       0.33      0.50      0.40         2\n",
      "         169       1.00      0.50      0.67         2\n",
      "         170       0.00      0.00      0.00         2\n",
      "         171       0.00      0.00      0.00         2\n",
      "         172       0.00      0.00      0.00         2\n",
      "         173       0.00      0.00      0.00         2\n",
      "         174       0.00      0.00      0.00         2\n",
      "         175       0.00      0.00      0.00         2\n",
      "         176       1.00      1.00      1.00         2\n",
      "         177       0.00      0.00      0.00         2\n",
      "         178       0.00      0.00      0.00         2\n",
      "         179       0.00      0.00      0.00         2\n",
      "         180       0.67      1.00      0.80         2\n",
      "         181       0.00      0.00      0.00         2\n",
      "         182       0.50      0.50      0.50         2\n",
      "         183       0.00      0.00      0.00         2\n",
      "         184       0.00      0.00      0.00         2\n",
      "         185       0.00      0.00      0.00         2\n",
      "         186       0.00      0.00      0.00         2\n",
      "         187       0.00      0.00      0.00         2\n",
      "         188       1.00      0.50      0.67         2\n",
      "         189       0.00      0.00      0.00         2\n",
      "         190       0.50      0.50      0.50         2\n",
      "         191       0.00      0.00      0.00         2\n",
      "         192       0.00      0.00      0.00         2\n",
      "         193       1.00      0.50      0.67         2\n",
      "         194       0.00      0.00      0.00         2\n",
      "         195       0.00      0.00      0.00         2\n",
      "         196       0.00      0.00      0.00         2\n",
      "         197       0.50      0.50      0.50         2\n",
      "         198       0.00      0.00      0.00         2\n",
      "         199       0.00      0.00      0.00         2\n",
      "         200       0.33      0.50      0.40         2\n",
      "         201       0.00      0.00      0.00         2\n",
      "         202       1.00      0.50      0.67         2\n",
      "         203       1.00      0.50      0.67         2\n",
      "         204       0.50      1.00      0.67         2\n",
      "         205       0.00      0.00      0.00         2\n",
      "         206       0.00      0.00      0.00         2\n",
      "         207       0.00      0.00      0.00         2\n",
      "         208       0.25      0.50      0.33         2\n",
      "         209       0.00      0.00      0.00         2\n",
      "         210       0.00      0.00      0.00         2\n",
      "         211       0.00      0.00      0.00         2\n",
      "         212       0.33      0.50      0.40         2\n",
      "         213       0.00      0.00      0.00         2\n",
      "         214       1.00      1.00      1.00         2\n",
      "         215       0.11      0.50      0.18         2\n",
      "         216       0.33      0.50      0.40         2\n",
      "         217       1.00      1.00      1.00         2\n",
      "         218       0.00      0.00      0.00         2\n",
      "         219       0.50      0.50      0.50         2\n",
      "         220       1.00      0.50      0.67         2\n",
      "         221       1.00      0.50      0.67         2\n",
      "         222       0.00      0.00      0.00         2\n",
      "         223       0.33      0.50      0.40         2\n",
      "         224       0.00      0.00      0.00         2\n",
      "         225       0.00      0.00      0.00         2\n",
      "         226       0.00      0.00      0.00         2\n",
      "         227       0.00      0.00      0.00         2\n",
      "         228       0.00      0.00      0.00         2\n",
      "         229       0.00      0.00      0.00         2\n",
      "         230       0.50      0.50      0.50         2\n",
      "         231       0.00      0.00      0.00         2\n",
      "         232       1.00      1.00      1.00         2\n",
      "         233       0.00      0.00      0.00         2\n",
      "         234       0.00      0.00      0.00         2\n",
      "         235       0.00      0.00      0.00         2\n",
      "         236       0.00      0.00      0.00         2\n",
      "         237       0.00      0.00      0.00         2\n",
      "         238       0.00      0.00      0.00         2\n",
      "         239       0.00      0.00      0.00         2\n",
      "         240       0.00      0.00      0.00         2\n",
      "         241       0.00      0.00      0.00         2\n",
      "         242       0.00      0.00      0.00         2\n",
      "         243       0.00      0.00      0.00         2\n",
      "         244       0.00      0.00      0.00         2\n",
      "         245       0.00      0.00      0.00         2\n",
      "         246       0.00      0.00      0.00         2\n",
      "         247       0.25      0.50      0.33         2\n",
      "         248       0.00      0.00      0.00         2\n",
      "         249       0.33      0.50      0.40         2\n",
      "         250       1.00      0.50      0.67         2\n",
      "         251       0.00      0.00      0.00         2\n",
      "         252       0.00      0.00      0.00         2\n",
      "         253       0.00      0.00      0.00         2\n",
      "         254       0.00      0.00      0.00         2\n",
      "         255       0.00      0.00      0.00         2\n",
      "         256       0.20      0.50      0.29         2\n",
      "         257       0.00      0.00      0.00         2\n",
      "         258       0.00      0.00      0.00         2\n",
      "         259       1.00      0.50      0.67         2\n",
      "         260       0.00      0.00      0.00         2\n",
      "         261       0.40      1.00      0.57         2\n",
      "         262       0.00      0.00      0.00         2\n",
      "         263       0.00      0.00      0.00         2\n",
      "         264       0.00      0.00      0.00         2\n",
      "         265       0.00      0.00      0.00         2\n",
      "         266       0.00      0.00      0.00         2\n",
      "         267       0.00      0.00      0.00         2\n",
      "         268       0.00      0.00      0.00         2\n",
      "         269       1.00      1.00      1.00         2\n",
      "         270       0.40      1.00      0.57         2\n",
      "         271       0.00      0.00      0.00         2\n",
      "         272       0.00      0.00      0.00         2\n",
      "         273       0.33      0.50      0.40         2\n",
      "         274       0.00      0.00      0.00         2\n",
      "         275       0.00      0.00      0.00         2\n",
      "         276       0.00      0.00      0.00         2\n",
      "         277       0.00      0.00      0.00         2\n",
      "         278       0.00      0.00      0.00         2\n",
      "         279       0.00      0.00      0.00         2\n",
      "         280       0.00      0.00      0.00         2\n",
      "         281       0.50      0.50      0.50         2\n",
      "         282       0.50      0.50      0.50         2\n",
      "         283       0.00      0.00      0.00         2\n",
      "         284       0.00      0.00      0.00         2\n",
      "         285       0.50      0.50      0.50         2\n",
      "         286       0.33      0.50      0.40         2\n",
      "         287       0.00      0.00      0.00         2\n",
      "         288       0.40      1.00      0.57         2\n",
      "         289       0.00      0.00      0.00         2\n",
      "         290       0.00      0.00      0.00         2\n",
      "         291       0.00      0.00      0.00         2\n",
      "         292       0.00      0.00      0.00         2\n",
      "         293       0.67      1.00      0.80         2\n",
      "         294       0.00      0.00      0.00         2\n",
      "         295       1.00      0.50      0.67         2\n",
      "         296       0.00      0.00      0.00         2\n",
      "         297       0.00      0.00      0.00         2\n",
      "         298       0.00      0.00      0.00         2\n",
      "         299       0.00      0.00      0.00         2\n",
      "         300       0.00      0.00      0.00         2\n",
      "         301       0.00      0.00      0.00         2\n",
      "         302       0.00      0.00      0.00         2\n",
      "         303       0.00      0.00      0.00         2\n",
      "         304       0.00      0.00      0.00         2\n",
      "         305       0.00      0.00      0.00         2\n",
      "         306       0.00      0.00      0.00         2\n",
      "         307       0.00      0.00      0.00         2\n",
      "         308       0.00      0.00      0.00         2\n",
      "         309       0.50      1.00      0.67         2\n",
      "         310       1.00      1.00      1.00         2\n",
      "         311       0.00      0.00      0.00         2\n",
      "         312       0.00      0.00      0.00         2\n",
      "         313       0.50      0.50      0.50         2\n",
      "         314       0.67      1.00      0.80         2\n",
      "         315       0.00      0.00      0.00         2\n",
      "         316       0.00      0.00      0.00         2\n",
      "         317       0.00      0.00      0.00         2\n",
      "         318       0.67      1.00      0.80         2\n",
      "         319       0.00      0.00      0.00         2\n",
      "         320       0.00      0.00      0.00         2\n",
      "         321       0.67      1.00      0.80         2\n",
      "         322       0.00      0.00      0.00         2\n",
      "         323       0.00      0.00      0.00         2\n",
      "         324       0.00      0.00      0.00         2\n",
      "         325       0.00      0.00      0.00         2\n",
      "         326       0.00      0.00      0.00         2\n",
      "         327       0.00      0.00      0.00         2\n",
      "         328       0.67      1.00      0.80         2\n",
      "         329       0.00      0.00      0.00         2\n",
      "         330       0.20      0.50      0.29         2\n",
      "         331       0.50      0.50      0.50         2\n",
      "         332       0.00      0.00      0.00         2\n",
      "         333       1.00      0.50      0.67         2\n",
      "         334       0.50      0.50      0.50         2\n",
      "         335       0.00      0.00      0.00         2\n",
      "         336       0.50      0.50      0.50         2\n",
      "         337       1.00      0.50      0.67         2\n",
      "         338       0.00      0.00      0.00         2\n",
      "         339       0.00      0.00      0.00         2\n",
      "         340       0.00      0.00      0.00         2\n",
      "         341       0.33      0.50      0.40         2\n",
      "         342       0.00      0.00      0.00         2\n",
      "         343       0.00      0.00      0.00         2\n",
      "         344       0.00      0.00      0.00         2\n",
      "         345       0.50      0.50      0.50         2\n",
      "         346       0.50      1.00      0.67         2\n",
      "         347       0.00      0.00      0.00         2\n",
      "         348       0.25      0.50      0.33         2\n",
      "         349       0.00      0.00      0.00         2\n",
      "         350       0.00      0.00      0.00         2\n",
      "         351       0.00      0.00      0.00         2\n",
      "         352       0.00      0.00      0.00         2\n",
      "         353       0.00      0.00      0.00         2\n",
      "         354       0.00      0.00      0.00         2\n",
      "         355       1.00      0.50      0.67         2\n",
      "         356       1.00      0.50      0.67         2\n",
      "         357       0.50      0.50      0.50         2\n",
      "         358       0.00      0.00      0.00         2\n",
      "         359       0.50      1.00      0.67         2\n",
      "         360       0.00      0.00      0.00         2\n",
      "         361       0.67      1.00      0.80         2\n",
      "         362       0.00      0.00      0.00         2\n",
      "         363       0.00      0.00      0.00         2\n",
      "         364       0.50      1.00      0.67         2\n",
      "         365       0.00      0.00      0.00         2\n",
      "         366       0.67      1.00      0.80         2\n",
      "         367       0.00      0.00      0.00         2\n",
      "         368       0.00      0.00      0.00         2\n",
      "         369       0.00      0.00      0.00         2\n",
      "         370       0.50      0.50      0.50         2\n",
      "         371       0.00      0.00      0.00         2\n",
      "         372       0.00      0.00      0.00         2\n",
      "         373       0.00      0.00      0.00         2\n",
      "         374       0.25      0.50      0.33         2\n",
      "         375       0.00      0.00      0.00         2\n",
      "         376       1.00      0.50      0.67         2\n",
      "         377       0.00      0.00      0.00         2\n",
      "         378       0.50      0.50      0.50         2\n",
      "         379       0.00      0.00      0.00         2\n",
      "         380       0.00      0.00      0.00         2\n",
      "         381       1.00      0.50      0.67         2\n",
      "         382       0.00      0.00      0.00         2\n",
      "         383       0.33      0.50      0.40         2\n",
      "         384       0.33      0.50      0.40         2\n",
      "         385       1.00      0.50      0.67         2\n",
      "         386       0.00      0.00      0.00         2\n",
      "         387       0.00      0.00      0.00         2\n",
      "         388       0.00      0.00      0.00         2\n",
      "         389       1.00      0.50      0.67         2\n",
      "         390       0.00      0.00      0.00         2\n",
      "         391       0.00      0.00      0.00         2\n",
      "         392       0.00      0.00      0.00         2\n",
      "         393       0.33      1.00      0.50         2\n",
      "         394       0.00      0.00      0.00         2\n",
      "         395       0.50      0.50      0.50         2\n",
      "         396       0.25      0.50      0.33         2\n",
      "         397       0.00      0.00      0.00         2\n",
      "         398       0.00      0.00      0.00         2\n",
      "         399       0.00      0.00      0.00         2\n",
      "         400       0.00      0.00      0.00         2\n",
      "         401       0.00      0.00      0.00         2\n",
      "         402       0.50      0.50      0.50         2\n",
      "         403       0.00      0.00      0.00         2\n",
      "         404       0.00      0.00      0.00         2\n",
      "         405       0.00      0.00      0.00         2\n",
      "         406       0.25      0.50      0.33         2\n",
      "         407       0.00      0.00      0.00         2\n",
      "         408       0.25      0.50      0.33         2\n",
      "         409       0.50      0.50      0.50         2\n",
      "         410       0.00      0.00      0.00         2\n",
      "         411       0.00      0.00      0.00         2\n",
      "         412       0.00      0.00      0.00         2\n",
      "         413       0.00      0.00      0.00         2\n",
      "         414       0.50      0.50      0.50         2\n",
      "         415       0.00      0.00      0.00         2\n",
      "         416       0.00      0.00      0.00         2\n",
      "         417       0.00      0.00      0.00         2\n",
      "         418       1.00      0.50      0.67         2\n",
      "         419       0.00      0.00      0.00         2\n",
      "         420       0.00      0.00      0.00         2\n",
      "         421       1.00      0.50      0.67         2\n",
      "         422       0.00      0.00      0.00         2\n",
      "         423       0.67      1.00      0.80         2\n",
      "         424       0.00      0.00      0.00         2\n",
      "         425       0.00      0.00      0.00         2\n",
      "         426       0.50      0.50      0.50         2\n",
      "         427       1.00      0.50      0.67         2\n",
      "         428       0.00      0.00      0.00         2\n",
      "         429       0.00      0.00      0.00         2\n",
      "         430       0.00      0.00      0.00         2\n",
      "         431       0.00      0.00      0.00         2\n",
      "         432       0.33      0.50      0.40         2\n",
      "         433       0.00      0.00      0.00         2\n",
      "         434       0.00      0.00      0.00         2\n",
      "         435       1.00      0.50      0.67         2\n",
      "         436       0.00      0.00      0.00         2\n",
      "         437       0.00      0.00      0.00         2\n",
      "         438       0.00      0.00      0.00         2\n",
      "         439       0.00      0.00      0.00         2\n",
      "         440       0.50      0.50      0.50         2\n",
      "         441       0.00      0.00      0.00         2\n",
      "         442       0.33      0.50      0.40         2\n",
      "         443       0.00      0.00      0.00         2\n",
      "         444       0.00      0.00      0.00         2\n",
      "         445       0.00      0.00      0.00         2\n",
      "         446       0.00      0.00      0.00         2\n",
      "         447       0.00      0.00      0.00         2\n",
      "         448       0.00      0.00      0.00         2\n",
      "         449       0.00      0.00      0.00         2\n",
      "         450       0.00      0.00      0.00         2\n",
      "         451       0.00      0.00      0.00         2\n",
      "         452       0.00      0.00      0.00         2\n",
      "         453       1.00      0.50      0.67         2\n",
      "         454       0.50      0.50      0.50         2\n",
      "         455       1.00      0.50      0.67         2\n",
      "         456       0.00      0.00      0.00         2\n",
      "         457       0.00      0.00      0.00         2\n",
      "         458       0.00      0.00      0.00         2\n",
      "         459       0.00      0.00      0.00         2\n",
      "         460       0.00      0.00      0.00         2\n",
      "         461       0.00      0.00      0.00         2\n",
      "         462       0.00      0.00      0.00         2\n",
      "         463       0.50      0.50      0.50         2\n",
      "         464       1.00      0.50      0.67         2\n",
      "         465       0.00      0.00      0.00         2\n",
      "         466       0.00      0.00      0.00         2\n",
      "         467       0.67      1.00      0.80         2\n",
      "         468       0.00      0.00      0.00         2\n",
      "         469       0.00      0.00      0.00         2\n",
      "         470       0.00      0.00      0.00         2\n",
      "         471       0.00      0.00      0.00         2\n",
      "         472       0.33      0.50      0.40         2\n",
      "         473       0.00      0.00      0.00         2\n",
      "         474       0.00      0.00      0.00         2\n",
      "         475       0.00      0.00      0.00         2\n",
      "         476       0.00      0.00      0.00         2\n",
      "         477       0.50      0.50      0.50         2\n",
      "         478       1.00      1.00      1.00         2\n",
      "         479       0.50      0.50      0.50         2\n",
      "         480       0.33      0.50      0.40         2\n",
      "         481       0.00      0.00      0.00         2\n",
      "         482       0.14      0.50      0.22         2\n",
      "         483       0.00      0.00      0.00         2\n",
      "         484       0.00      0.00      0.00         2\n",
      "         485       0.00      0.00      0.00         2\n",
      "         486       0.00      0.00      0.00         2\n",
      "         487       1.00      0.50      0.67         2\n",
      "         488       0.00      0.00      0.00         2\n",
      "         489       0.00      0.00      0.00         2\n",
      "         490       0.00      0.00      0.00         2\n",
      "         491       0.00      0.00      0.00         2\n",
      "         492       0.00      0.00      0.00         2\n",
      "         493       0.00      0.00      0.00         2\n",
      "         494       0.00      0.00      0.00         2\n",
      "         495       0.50      0.50      0.50         2\n",
      "         496       0.00      0.00      0.00         2\n",
      "         497       0.00      0.00      0.00         2\n",
      "         498       0.33      0.50      0.40         2\n",
      "         499       0.33      0.50      0.40         2\n",
      "         500       0.50      0.50      0.50         2\n",
      "         501       0.00      0.00      0.00         2\n",
      "         502       0.00      0.00      0.00         2\n",
      "         503       1.00      0.50      0.67         2\n",
      "         504       0.67      1.00      0.80         2\n",
      "         505       0.00      0.00      0.00         2\n",
      "         506       0.33      0.50      0.40         2\n",
      "         507       0.00      0.00      0.00         2\n",
      "         508       0.50      0.50      0.50         2\n",
      "         509       0.50      0.50      0.50         2\n",
      "         510       0.50      1.00      0.67         2\n",
      "         511       0.17      0.50      0.25         2\n",
      "         512       0.00      0.00      0.00         2\n",
      "         513       0.00      0.00      0.00         2\n",
      "         514       0.00      0.00      0.00         2\n",
      "         515       0.00      0.00      0.00         2\n",
      "         516       0.00      0.00      0.00         2\n",
      "         517       0.00      0.00      0.00         2\n",
      "         518       0.00      0.00      0.00         2\n",
      "         519       0.00      0.00      0.00         2\n",
      "         520       0.00      0.00      0.00         2\n",
      "         521       0.00      0.00      0.00         2\n",
      "         522       0.00      0.00      0.00         2\n",
      "         523       1.00      0.50      0.67         2\n",
      "         524       0.33      0.50      0.40         2\n",
      "         525       0.00      0.00      0.00         2\n",
      "         526       1.00      1.00      1.00         2\n",
      "         527       0.00      0.00      0.00         2\n",
      "         528       0.00      0.00      0.00         2\n",
      "         529       0.50      1.00      0.67         2\n",
      "         530       0.00      0.00      0.00         2\n",
      "         531       0.00      0.00      0.00         2\n",
      "         532       1.00      0.50      0.67         2\n",
      "         533       0.00      0.00      0.00         2\n",
      "         534       0.00      0.00      0.00         2\n",
      "         535       0.00      0.00      0.00         2\n",
      "         536       1.00      0.50      0.67         2\n",
      "         537       0.00      0.00      0.00         2\n",
      "         538       0.00      0.00      0.00         2\n",
      "         539       0.00      0.00      0.00         2\n",
      "         540       0.50      0.50      0.50         2\n",
      "         541       0.00      0.00      0.00         2\n",
      "         542       0.00      0.00      0.00         2\n",
      "         543       0.00      0.00      0.00         2\n",
      "         544       0.25      0.50      0.33         2\n",
      "         545       0.00      0.00      0.00         2\n",
      "         546       0.00      0.00      0.00         2\n",
      "         547       0.00      0.00      0.00         2\n",
      "         548       0.00      0.00      0.00         2\n",
      "         549       0.00      0.00      0.00         2\n",
      "         550       0.25      0.50      0.33         2\n",
      "         551       0.00      0.00      0.00         2\n",
      "         552       1.00      0.50      0.67         2\n",
      "         553       0.00      0.00      0.00         2\n",
      "         554       0.50      0.50      0.50         2\n",
      "         555       0.00      0.00      0.00         2\n",
      "         556       0.00      0.00      0.00         2\n",
      "         557       0.00      0.00      0.00         2\n",
      "         558       0.00      0.00      0.00         2\n",
      "         559       0.00      0.00      0.00         2\n",
      "         560       0.00      0.00      0.00         2\n",
      "         561       0.00      0.00      0.00         2\n",
      "         562       0.00      0.00      0.00         2\n",
      "         563       0.00      0.00      0.00         2\n",
      "         564       0.20      0.50      0.29         2\n",
      "         565       0.00      0.00      0.00         2\n",
      "         566       0.00      0.00      0.00         2\n",
      "         567       0.00      0.00      0.00         2\n",
      "         568       0.50      0.50      0.50         2\n",
      "         569       0.00      0.00      0.00         2\n",
      "         570       0.00      0.00      0.00         2\n",
      "         571       0.00      0.00      0.00         2\n",
      "         572       0.00      0.00      0.00         2\n",
      "         573       0.00      0.00      0.00         2\n",
      "         574       0.00      0.00      0.00         2\n",
      "         575       0.00      0.00      0.00         2\n",
      "         576       0.00      0.00      0.00         2\n",
      "         577       0.00      0.00      0.00         2\n",
      "         578       0.00      0.00      0.00         2\n",
      "         579       0.00      0.00      0.00         2\n",
      "         580       1.00      0.50      0.67         2\n",
      "         581       0.00      0.00      0.00         2\n",
      "         582       0.00      0.00      0.00         2\n",
      "         583       0.00      0.00      0.00         2\n",
      "         584       0.00      0.00      0.00         2\n",
      "         585       1.00      1.00      1.00         2\n",
      "         586       0.00      0.00      0.00         2\n",
      "         587       0.00      0.00      0.00         2\n",
      "         588       0.00      0.00      0.00         2\n",
      "         589       0.00      0.00      0.00         2\n",
      "         590       0.25      0.50      0.33         2\n",
      "         591       0.33      0.50      0.40         2\n",
      "         592       0.33      0.50      0.40         2\n",
      "         593       0.00      0.00      0.00         2\n",
      "         594       0.33      0.50      0.40         2\n",
      "         595       0.00      0.00      0.00         2\n",
      "         596       1.00      0.50      0.67         2\n",
      "         597       0.33      0.50      0.40         2\n",
      "         598       0.00      0.00      0.00         2\n",
      "         599       0.00      0.00      0.00         2\n",
      "         600       0.50      0.50      0.50         2\n",
      "         601       0.00      0.00      0.00         2\n",
      "         602       0.50      0.50      0.50         2\n",
      "         603       0.00      0.00      0.00         2\n",
      "         604       0.25      0.50      0.33         2\n",
      "         605       0.00      0.00      0.00         2\n",
      "         606       0.50      0.50      0.50         2\n",
      "         607       0.00      0.00      0.00         2\n",
      "         608       0.50      0.50      0.50         2\n",
      "         609       1.00      1.00      1.00         2\n",
      "\n",
      "    accuracy                           0.22      1220\n",
      "   macro avg       0.21      0.22      0.20      1220\n",
      "weighted avg       0.21      0.22      0.20      1220\n",
      "\n"
     ]
    },
    {
     "name": "stderr",
     "output_type": "stream",
     "text": [
      "/opt/conda/lib/python3.10/site-packages/sklearn/metrics/_classification.py:1344: UndefinedMetricWarning: Precision and F-score are ill-defined and being set to 0.0 in labels with no predicted samples. Use `zero_division` parameter to control this behavior.\n",
      "  _warn_prf(average, modifier, msg_start, len(result))\n",
      "/opt/conda/lib/python3.10/site-packages/sklearn/metrics/_classification.py:1344: UndefinedMetricWarning: Precision and F-score are ill-defined and being set to 0.0 in labels with no predicted samples. Use `zero_division` parameter to control this behavior.\n",
      "  _warn_prf(average, modifier, msg_start, len(result))\n",
      "/opt/conda/lib/python3.10/site-packages/sklearn/metrics/_classification.py:1344: UndefinedMetricWarning: Precision and F-score are ill-defined and being set to 0.0 in labels with no predicted samples. Use `zero_division` parameter to control this behavior.\n",
      "  _warn_prf(average, modifier, msg_start, len(result))\n"
     ]
    }
   ],
   "source": [
    "print(\"Classification Report:\")\n",
    "# Calculate classification report and accuracy score\n",
    "classification_report_output = classification_report(yy_test, y_pred)\n",
    "print(classification_report_output)"
   ]
  },
  {
   "cell_type": "code",
   "execution_count": 30,
   "id": "4e01c3a0-428a-4ea6-ab7d-c5e441344276",
   "metadata": {},
   "outputs": [],
   "source": [
    "from sklearn.metrics import roc_curve\n",
    "from sklearn.metrics import roc_auc_score"
   ]
  },
  {
   "cell_type": "code",
   "execution_count": 20,
   "id": "c2041832-424b-45e5-a53a-b13e6da87c95",
   "metadata": {},
   "outputs": [],
   "source": [
    "y_pred_prob = model.predict_proba(X_test)"
   ]
  },
  {
   "cell_type": "code",
   "execution_count": 23,
   "id": "49028f56-7cac-4b3d-be93-fa99a152841c",
   "metadata": {},
   "outputs": [],
   "source": [
    "y_pred_prob_1 = y_pred_prob[:,1]"
   ]
  },
  {
   "cell_type": "code",
   "execution_count": 25,
   "id": "49854a44-a2f5-4d2e-914c-2f4f1768b935",
   "metadata": {},
   "outputs": [
    {
     "data": {
      "text/plain": [
       "((1220, 610), (1220,))"
      ]
     },
     "execution_count": 25,
     "metadata": {},
     "output_type": "execute_result"
    }
   ],
   "source": [
    "y_pred_prob.shape, y_pred_prob_1.shape"
   ]
  },
  {
   "cell_type": "code",
   "execution_count": 26,
   "id": "d13869b4-01a2-4414-92d5-3a4319755738",
   "metadata": {},
   "outputs": [],
   "source": [
    "# generate a no skill prediction (majority class)\n",
    "ns_probs = [0 for _ in range(len(y_test))]"
   ]
  },
  {
   "cell_type": "code",
   "execution_count": 28,
   "id": "5d1e12e0-3ac5-467a-bfbe-886ee5d234c9",
   "metadata": {},
   "outputs": [
    {
     "data": {
      "text/plain": [
       "1220"
      ]
     },
     "execution_count": 28,
     "metadata": {},
     "output_type": "execute_result"
    }
   ],
   "source": [
    "len(ns_probs)"
   ]
  },
  {
   "cell_type": "code",
   "execution_count": 31,
   "id": "c46f01b9-9d0f-4c73-b9d9-12bbcb912b25",
   "metadata": {
    "collapsed": true,
    "jupyter": {
     "outputs_hidden": true
    },
    "tags": []
   },
   "outputs": [
    {
     "ename": "ValueError",
     "evalue": "multi_class must be in ('ovo', 'ovr')",
     "output_type": "error",
     "traceback": [
      "\u001b[0;31m---------------------------------------------------------------------------\u001b[0m",
      "\u001b[0;31mValueError\u001b[0m                                Traceback (most recent call last)",
      "Cell \u001b[0;32mIn[31], line 2\u001b[0m\n\u001b[1;32m      1\u001b[0m \u001b[38;5;66;03m# calculate scores\u001b[39;00m\n\u001b[0;32m----> 2\u001b[0m ns_auc \u001b[38;5;241m=\u001b[39m \u001b[43mroc_auc_score\u001b[49m\u001b[43m(\u001b[49m\u001b[43my_test\u001b[49m\u001b[43m,\u001b[49m\u001b[43m \u001b[49m\u001b[43mns_probs\u001b[49m\u001b[43m)\u001b[49m\n\u001b[1;32m      3\u001b[0m lr_auc \u001b[38;5;241m=\u001b[39m roc_auc_score(y_test, y_pred_prob_1)\n",
      "File \u001b[0;32m/opt/conda/lib/python3.10/site-packages/sklearn/metrics/_ranking.py:565\u001b[0m, in \u001b[0;36mroc_auc_score\u001b[0;34m(y_true, y_score, average, sample_weight, max_fpr, multi_class, labels)\u001b[0m\n\u001b[1;32m    558\u001b[0m         \u001b[38;5;28;01mraise\u001b[39;00m \u001b[38;5;167;01mValueError\u001b[39;00m(\n\u001b[1;32m    559\u001b[0m             \u001b[38;5;124m\"\u001b[39m\u001b[38;5;124mPartial AUC computation not available in \u001b[39m\u001b[38;5;124m\"\u001b[39m\n\u001b[1;32m    560\u001b[0m             \u001b[38;5;124m\"\u001b[39m\u001b[38;5;124mmulticlass setting, \u001b[39m\u001b[38;5;124m'\u001b[39m\u001b[38;5;124mmax_fpr\u001b[39m\u001b[38;5;124m'\u001b[39m\u001b[38;5;124m must be\u001b[39m\u001b[38;5;124m\"\u001b[39m\n\u001b[1;32m    561\u001b[0m             \u001b[38;5;124m\"\u001b[39m\u001b[38;5;124m set to `None`, received `max_fpr=\u001b[39m\u001b[38;5;132;01m{0}\u001b[39;00m\u001b[38;5;124m` \u001b[39m\u001b[38;5;124m\"\u001b[39m\n\u001b[1;32m    562\u001b[0m             \u001b[38;5;124m\"\u001b[39m\u001b[38;5;124minstead\u001b[39m\u001b[38;5;124m\"\u001b[39m\u001b[38;5;241m.\u001b[39mformat(max_fpr)\n\u001b[1;32m    563\u001b[0m         )\n\u001b[1;32m    564\u001b[0m     \u001b[38;5;28;01mif\u001b[39;00m multi_class \u001b[38;5;241m==\u001b[39m \u001b[38;5;124m\"\u001b[39m\u001b[38;5;124mraise\u001b[39m\u001b[38;5;124m\"\u001b[39m:\n\u001b[0;32m--> 565\u001b[0m         \u001b[38;5;28;01mraise\u001b[39;00m \u001b[38;5;167;01mValueError\u001b[39;00m(\u001b[38;5;124m\"\u001b[39m\u001b[38;5;124mmulti_class must be in (\u001b[39m\u001b[38;5;124m'\u001b[39m\u001b[38;5;124movo\u001b[39m\u001b[38;5;124m'\u001b[39m\u001b[38;5;124m, \u001b[39m\u001b[38;5;124m'\u001b[39m\u001b[38;5;124movr\u001b[39m\u001b[38;5;124m'\u001b[39m\u001b[38;5;124m)\u001b[39m\u001b[38;5;124m\"\u001b[39m)\n\u001b[1;32m    566\u001b[0m     \u001b[38;5;28;01mreturn\u001b[39;00m _multiclass_roc_auc_score(\n\u001b[1;32m    567\u001b[0m         y_true, y_score, labels, multi_class, average, sample_weight\n\u001b[1;32m    568\u001b[0m     )\n\u001b[1;32m    569\u001b[0m \u001b[38;5;28;01melif\u001b[39;00m y_type \u001b[38;5;241m==\u001b[39m \u001b[38;5;124m\"\u001b[39m\u001b[38;5;124mbinary\u001b[39m\u001b[38;5;124m\"\u001b[39m:\n",
      "\u001b[0;31mValueError\u001b[0m: multi_class must be in ('ovo', 'ovr')"
     ]
    }
   ],
   "source": [
    "# calculate scores\n",
    "ns_auc = roc_auc_score(y_test, ns_probs)\n",
    "lr_auc = roc_auc_score(y_test, y_pred_prob_1)"
   ]
  },
  {
   "cell_type": "code",
   "execution_count": null,
   "id": "461cec52-7b2d-4de1-bdf2-3fc8d3b70313",
   "metadata": {},
   "outputs": [],
   "source": [
    "# summarize scores\n",
    "print('No Skill: ROC AUC=%.3f' % (ns_auc))\n",
    "print('Logistic: ROC AUC=%.3f' % (lr_auc))"
   ]
  },
  {
   "cell_type": "code",
   "execution_count": null,
   "id": "f7e3120a-e2ea-4627-9101-4b387bfe90f0",
   "metadata": {},
   "outputs": [],
   "source": [
    "# calculate roc curves\n",
    "ns_fpr, ns_tpr, _ = roc_curve(testy, ns_probs)\n",
    "lr_fpr, lr_tpr, _ = roc_curve(testy, lr_probs)"
   ]
  },
  {
   "cell_type": "code",
   "execution_count": null,
   "id": "a6fb37c1-813e-4a75-8f6f-b3a39e1da340",
   "metadata": {},
   "outputs": [],
   "source": [
    "# plot the roc curve for the model\n",
    "pyplot.plot(ns_fpr, ns_tpr, linestyle='--', label='No Skill')\n",
    "pyplot.plot(lr_fpr, lr_tpr, marker='.', label='Logistic')\n",
    "# axis labels\n",
    "pyplot.xlabel('False Positive Rate')\n",
    "pyplot.ylabel('True Positive Rate')\n",
    "# show the legend\n",
    "pyplot.legend()\n",
    "# show the plot\n",
    "pyplot.show()"
   ]
  },
  {
   "cell_type": "code",
   "execution_count": 32,
   "id": "c1399fb5-23b1-4792-9c8a-edb85e272b8b",
   "metadata": {},
   "outputs": [
    {
     "data": {
      "text/plain": [
       "(1220, 610)"
      ]
     },
     "execution_count": 32,
     "metadata": {},
     "output_type": "execute_result"
    }
   ],
   "source": [
    "from sklearn.preprocessing import LabelBinarizer\n",
    "\n",
    "label_binarizer = LabelBinarizer().fit(y_train)\n",
    "y_onehot_test = label_binarizer.transform(y_test)\n",
    "y_onehot_test.shape  # (n_samples, n_classes)"
   ]
  },
  {
   "cell_type": "code",
   "execution_count": 35,
   "id": "1e930af1-54e5-4cf2-83ff-087959e85436",
   "metadata": {},
   "outputs": [
    {
     "data": {
      "text/plain": [
       "187"
      ]
     },
     "execution_count": 35,
     "metadata": {},
     "output_type": "execute_result"
    }
   ],
   "source": [
    "list(lfw_people.target_names).index(\"George W Bush\")"
   ]
  },
  {
   "cell_type": "code",
   "execution_count": 36,
   "id": "7e12aa84-176a-4d15-a246-2f18c0326642",
   "metadata": {
    "collapsed": true,
    "jupyter": {
     "outputs_hidden": true
    },
    "tags": []
   },
   "outputs": [
    {
     "data": {
      "text/plain": [
       "array([[0, 0, 0, 0, 0, 0, 0, 0, 0, 0, 0, 0, 0, 0, 0, 0, 0, 0, 0, 0, 0, 0,\n",
       "        0, 0, 0, 0, 0, 0, 0, 0, 0, 0, 0, 0, 0, 0, 0, 0, 0, 0, 0, 0, 0, 0,\n",
       "        0, 0, 0, 0, 0, 0, 0, 0, 0, 0, 0, 0, 0, 0, 0, 0, 0, 0, 0, 0, 0, 0,\n",
       "        0, 0, 0, 0, 0, 0, 0, 0, 0, 0, 0, 0, 0, 0, 0, 0, 0, 0, 0, 0, 0, 0,\n",
       "        0, 0, 0, 0, 0, 0, 0, 0, 0, 0, 0, 0, 0, 0, 0, 0, 0, 0, 0, 0, 0, 0,\n",
       "        0, 0, 0, 0, 0, 0, 0, 0, 0, 0, 0, 0, 0, 0, 0, 0, 0, 0, 0, 0, 0, 0,\n",
       "        0, 0, 0, 0, 0, 0, 0, 0, 0, 0, 0, 0, 0, 0, 0, 0, 0, 0, 0, 0, 0, 0,\n",
       "        0, 0, 0, 0, 0, 0, 0, 0, 0, 0, 0, 0, 0, 0, 0, 0, 0, 0, 0, 0, 0, 0,\n",
       "        0, 0, 0, 0, 0, 0, 0, 0, 0, 0, 0, 1, 0, 0, 0, 0, 0, 0, 0, 0, 0, 0,\n",
       "        0, 0, 0, 0, 0, 0, 0, 0, 0, 0, 0, 0, 0, 0, 0, 0, 0, 0, 0, 0, 0, 0,\n",
       "        0, 0, 0, 0, 0, 0, 0, 0, 0, 0, 0, 0, 0, 0, 0, 0, 0, 0, 0, 0, 0, 0,\n",
       "        0, 0, 0, 0, 0, 0, 0, 0, 0, 0, 0, 0, 0, 0, 0, 0, 0, 0, 0, 0, 0, 0,\n",
       "        0, 0, 0, 0, 0, 0, 0, 0, 0, 0, 0, 0, 0, 0, 0, 0, 0, 0, 0, 0, 0, 0,\n",
       "        0, 0, 0, 0, 0, 0, 0, 0, 0, 0, 0, 0, 0, 0, 0, 0, 0, 0, 0, 0, 0, 0,\n",
       "        0, 0, 0, 0, 0, 0, 0, 0, 0, 0, 0, 0, 0, 0, 0, 0, 0, 0, 0, 0, 0, 0,\n",
       "        0, 0, 0, 0, 0, 0, 0, 0, 0, 0, 0, 0, 0, 0, 0, 0, 0, 0, 0, 0, 0, 0,\n",
       "        0, 0, 0, 0, 0, 0, 0, 0, 0, 0, 0, 0, 0, 0, 0, 0, 0, 0, 0, 0, 0, 0,\n",
       "        0, 0, 0, 0, 0, 0, 0, 0, 0, 0, 0, 0, 0, 0, 0, 0, 0, 0, 0, 0, 0, 0,\n",
       "        0, 0, 0, 0, 0, 0, 0, 0, 0, 0, 0, 0, 0, 0, 0, 0, 0, 0, 0, 0, 0, 0,\n",
       "        0, 0, 0, 0, 0, 0, 0, 0, 0, 0, 0, 0, 0, 0, 0, 0, 0, 0, 0, 0, 0, 0,\n",
       "        0, 0, 0, 0, 0, 0, 0, 0, 0, 0, 0, 0, 0, 0, 0, 0, 0, 0, 0, 0, 0, 0,\n",
       "        0, 0, 0, 0, 0, 0, 0, 0, 0, 0, 0, 0, 0, 0, 0, 0, 0, 0, 0, 0, 0, 0,\n",
       "        0, 0, 0, 0, 0, 0, 0, 0, 0, 0, 0, 0, 0, 0, 0, 0, 0, 0, 0, 0, 0, 0,\n",
       "        0, 0, 0, 0, 0, 0, 0, 0, 0, 0, 0, 0, 0, 0, 0, 0, 0, 0, 0, 0, 0, 0,\n",
       "        0, 0, 0, 0, 0, 0, 0, 0, 0, 0, 0, 0, 0, 0, 0, 0, 0, 0, 0, 0, 0, 0,\n",
       "        0, 0, 0, 0, 0, 0, 0, 0, 0, 0, 0, 0, 0, 0, 0, 0, 0, 0, 0, 0, 0, 0,\n",
       "        0, 0, 0, 0, 0, 0, 0, 0, 0, 0, 0, 0, 0, 0, 0, 0, 0, 0, 0, 0, 0, 0,\n",
       "        0, 0, 0, 0, 0, 0, 0, 0, 0, 0, 0, 0, 0, 0, 0, 0]])"
      ]
     },
     "execution_count": 36,
     "metadata": {},
     "output_type": "execute_result"
    }
   ],
   "source": [
    "label_binarizer.transform([187])"
   ]
  },
  {
   "cell_type": "code",
   "execution_count": 37,
   "id": "aec8fd40-c28a-4d6e-a45c-37fdde05e144",
   "metadata": {},
   "outputs": [
    {
     "data": {
      "text/plain": [
       "187"
      ]
     },
     "execution_count": 37,
     "metadata": {},
     "output_type": "execute_result"
    }
   ],
   "source": [
    "class_of_interest = 187\n",
    "class_id = np.flatnonzero(label_binarizer.classes_ == class_of_interest)[0]\n",
    "class_id"
   ]
  },
  {
   "cell_type": "code",
   "execution_count": 44,
   "id": "f99df532-4d7a-4836-9394-42e9031c4af6",
   "metadata": {},
   "outputs": [
    {
     "data": {
      "image/png": "[encoded data removed]",
      "text/plain": [
       "<Figure size 1200x800 with 1 Axes>"
      ]
     },
     "metadata": {},
     "output_type": "display_data"
    }
   ],
   "source": [
    "import numpy as np\n",
    "import matplotlib.pyplot as plt\n",
    "from sklearn.datasets import make_classification\n",
    "from sklearn.model_selection import train_test_split\n",
    "from sklearn.ensemble import RandomForestClassifier\n",
    "from sklearn.metrics import roc_curve, auc\n",
    "\n",
    "\n",
    "# Specify the subset of classes to plot\n",
    "subset_classes = [0, 1, 2, 3]  # Replace with the class indices you want to plot\n",
    "\n",
    "# Calculate ROC curves and AUC scores for the subset of classes\n",
    "fpr = {}\n",
    "tpr = {}\n",
    "roc_auc = {}\n",
    "for i in subset_classes:\n",
    "    fpr[i], tpr[i], _ = roc_curve(y_onehot_test[:, i], model.predict_proba(X_test)[:, i])\n",
    "    roc_auc[i] = auc(fpr[i], tpr[i])\n",
    "\n",
    "# Plot ROC curves for the subset of classes\n",
    "plt.figure(figsize=(12, 8))\n",
    "for i in subset_classes:\n",
    "    plt.plot(fpr[i], tpr[i], label='Class %d (AUC = %0.2f)' % (i, roc_auc[i]))\n",
    "\n",
    "plt.plot([0, 1], [0, 1], 'k--')\n",
    "plt.xlim([0.0, 1.0])\n",
    "plt.ylim([0.0, 1.05])\n",
    "plt.xlabel('False Positive Rate')\n",
    "plt.ylabel('True Positive Rate')\n",
    "plt.title('ROC AUC Curve for Subset of Classes')\n",
    "plt.legend(loc=\"lower right\")\n",
    "plt.show()"
   ]
  },
  {
   "cell_type": "code",
   "execution_count": 43,
   "id": "4aabdc22-1234-49a1-9f61-3d6bc1e73752",
   "metadata": {},
   "outputs": [
    {
     "data": {
      "text/plain": [
       "array([279, 259, 535, ...,  73, 197, 116])"
      ]
     },
     "execution_count": 43,
     "metadata": {},
     "output_type": "execute_result"
    }
   ],
   "source": [
    "y_test"
   ]
  },
  {
   "cell_type": "code",
   "execution_count": null,
   "id": "153743df-91bc-4aa4-979e-58fbf6ed7df1",
   "metadata": {},
   "outputs": [],
   "source": []
  }
 ],
 "metadata": {
  "environment": {
   "kernel": "python3",
   "name": "tf2-gpu.2-11.m109",
   "type": "gcloud",
   "uri": "gcr.io/deeplearning-platform-release/tf2-gpu.2-11:m109"
  },
  "kernelspec": {
   "display_name": "Python 3",
   "language": "python",
   "name": "python3"
  },
  "language_info": {
   "codemirror_mode": {
    "name": "ipython",
    "version": 3
   },
   "file_extension": ".py",
   "mimetype": "text/x-python",
   "name": "python",
   "nbconvert_exporter": "python",
   "pygments_lexer": "ipython3",
   "version": "3.10.11"
  }
 },
 "nbformat": 4,
 "nbformat_minor": 5
}
