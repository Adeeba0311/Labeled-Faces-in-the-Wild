{
 "cells": [
  {
   "cell_type": "markdown",
   "id": "49d9d1ad-a72b-4cc5-a7fd-ebffac3f6f11",
   "metadata": {},
   "source": [
    "### Simple Deep learning Model "
   ]
  },
  {
   "cell_type": "markdown",
   "id": "03d435b5-db59-4396-8a70-1fb242b89b67",
   "metadata": {},
   "source": [
    "#### 1. Importing the necessary import"
   ]
  },
  {
   "cell_type": "code",
   "execution_count": 53,
   "id": "76ed0b74-ca41-4d8f-8a6c-4067ce4716ba",
   "metadata": {},
   "outputs": [
    {
     "name": "stdout",
     "output_type": "stream",
     "text": [
      "The autoreload extension is already loaded. To reload it, use:\n",
      "  %reload_ext autoreload\n"
     ]
    }
   ],
   "source": [
    "import os\n",
    "from os import listdir\n",
    "from os.path import isfile, join\n",
    "from glob import glob\n",
    "\n",
    "import random\n",
    "import numpy as np\n",
    "import pandas as pd\n",
    "from tqdm import tqdm \n",
    "\n",
    "from imgaug import augmenters as iaa\n",
    "import PIL.Image as Image\n",
    "import matplotlib.pyplot as plt\n",
    "# %matplotlib notebook \n",
    "\n",
    "# from IPython.core.display import display, HTML\n",
    "# from IPython.display import display\n",
    "# display(HTML(\"<style>.container { width:90% !important; }</style>\"))\n",
    "\n",
    "import warnings\n",
    "warnings.filterwarnings('ignore')\n",
    "# %autoreload\n",
    "%load_ext autoreload"
   ]
  },
  {
   "cell_type": "code",
   "execution_count": null,
   "id": "4d5e2539-331a-45a8-a381-ef7aeeeca86a",
   "metadata": {
    "collapsed": true,
    "jupyter": {
     "outputs_hidden": true
    },
    "tags": []
   },
   "outputs": [
    {
     "name": "stderr",
     "output_type": "stream",
     "text": [
      "2023-07-18 14:54:12.194825: I tensorflow/core/platform/cpu_feature_guard.cc:182] This TensorFlow binary is optimized to use available CPU instructions in performance-critical operations.\n",
      "To enable the following instructions: AVX2 FMA, in other operations, rebuild TensorFlow with the appropriate compiler flags.\n"
     ]
    },
    {
     "name": "stdout",
     "output_type": "stream",
     "text": [
      "Please install GPU version of TF\n"
     ]
    },
    {
     "name": "stderr",
     "output_type": "stream",
     "text": [
      "2023-07-18 14:54:14.968442: I tensorflow/compiler/xla/stream_executor/cuda/cuda_gpu_executor.cc:996] successful NUMA node read from SysFS had negative value (-1), but there must be at least one NUMA node, so returning NUMA node zero. See more at https://github.com/torvalds/linux/blob/v6.0/Documentation/ABI/testing/sysfs-bus-pci#L344-L355\n",
      "2023-07-18 14:54:14.974822: W tensorflow/core/common_runtime/gpu/gpu_device.cc:1956] Cannot dlopen some GPU libraries. Please make sure the missing libraries mentioned above are installed properly if you would like to use GPU. Follow the guide at https://www.tensorflow.org/install/gpu for how to download and setup the required libraries for your platform.\n",
      "Skipping registering GPU devices...\n"
     ]
    }
   ],
   "source": [
    "import tensorflow as tf \n",
    "if tf.test.gpu_device_name(): \n",
    "    print('Default GPU Device:{}'.format(tf.test.gpu_device_name()))\n",
    "    print(\"Num GPUs Available: \", len(tf.config.list_physical_devices('GPU')))\n",
    "else:\n",
    "    print(\"Please install GPU version of TF\")"
   ]
  },
  {
   "cell_type": "code",
   "execution_count": 3,
   "id": "165d6487-7903-40e5-918d-ebe15ec33a2a",
   "metadata": {
    "collapsed": true,
    "jupyter": {
     "outputs_hidden": true
    },
    "tags": []
   },
   "outputs": [
    {
     "name": "stdout",
     "output_type": "stream",
     "text": [
      "[]\n"
     ]
    },
    {
     "name": "stderr",
     "output_type": "stream",
     "text": [
      "2023-07-18 14:54:15.202924: I tensorflow/compiler/xla/stream_executor/cuda/cuda_gpu_executor.cc:996] successful NUMA node read from SysFS had negative value (-1), but there must be at least one NUMA node, so returning NUMA node zero. See more at https://github.com/torvalds/linux/blob/v6.0/Documentation/ABI/testing/sysfs-bus-pci#L344-L355\n",
      "2023-07-18 14:54:15.204495: W tensorflow/core/common_runtime/gpu/gpu_device.cc:1956] Cannot dlopen some GPU libraries. Please make sure the missing libraries mentioned above are installed properly if you would like to use GPU. Follow the guide at https://www.tensorflow.org/install/gpu for how to download and setup the required libraries for your platform.\n",
      "Skipping registering GPU devices...\n"
     ]
    }
   ],
   "source": [
    "import tensorflow as tf\n",
    "print(tf.config.list_physical_devices('GPU'))"
   ]
  },
  {
   "cell_type": "markdown",
   "id": "cd793fa8-f03d-4504-a41f-818c36b2a5fa",
   "metadata": {},
   "source": [
    "#### 2. Loading the dataset"
   ]
  },
  {
   "cell_type": "code",
   "execution_count": 4,
   "id": "cd0d523d-f2a0-44c8-80e9-80b52ec53c72",
   "metadata": {},
   "outputs": [],
   "source": [
    "from sklearn.datasets import fetch_lfw_people\n",
    "lfw_dataset = fetch_lfw_people(min_faces_per_person=70,color=True)"
   ]
  },
  {
   "cell_type": "code",
   "execution_count": 5,
   "id": "cd04c81b-8586-45b2-82dc-a55623123814",
   "metadata": {},
   "outputs": [],
   "source": [
    "X = lfw_dataset.images\n",
    "y = lfw_dataset.target"
   ]
  },
  {
   "cell_type": "code",
   "execution_count": 6,
   "id": "528536a4-442d-40f9-87ae-c982bd1a28df",
   "metadata": {},
   "outputs": [],
   "source": [
    "from sklearn.model_selection import train_test_split\n",
    "X_train, X_test, y_train, y_test = train_test_split(X, y, test_size=0.2, random_state=42)"
   ]
  },
  {
   "cell_type": "code",
   "execution_count": 8,
   "id": "8ee158e4-5065-4cac-b9a0-c07fd7337bdd",
   "metadata": {},
   "outputs": [],
   "source": [
    "from sklearn.preprocessing import LabelBinarizer\n",
    "label_as_binary = LabelBinarizer()\n",
    "y_train = label_as_binary.fit_transform(y_train)\n",
    "y_test = label_as_binary.fit_transform(y_test)"
   ]
  },
  {
   "cell_type": "code",
   "execution_count": 13,
   "id": "5cc4d817-3666-4b50-bce1-9fad8024416e",
   "metadata": {},
   "outputs": [],
   "source": [
    "import tensorflow as tf\n",
    "tf.config.run_functions_eagerly(True)\n",
    "\n",
    "from keras import backend as K\n",
    "from keras.callbacks import ModelCheckpoint, ReduceLROnPlateau, EarlyStopping, LambdaCallback\n",
    "from keras.layers import Input, Dropout, GlobalAveragePooling2D, AveragePooling2D, BatchNormalization, Conv2D\n",
    "from keras.layers import Flatten, Dense\n",
    "from keras.models import Model, load_model\n",
    "from keras.models import Sequential\n",
    "\n",
    "import warnings\n",
    "warnings.filterwarnings('ignore')"
   ]
  },
  {
   "cell_type": "markdown",
   "id": "bf6126ff-f2d0-4178-8604-bcb8f6b958cd",
   "metadata": {},
   "source": [
    "#### 3. Preparing the model "
   ]
  },
  {
   "cell_type": "code",
   "execution_count": 16,
   "id": "5250d3ca-0d21-4948-a4e6-4f05714a6748",
   "metadata": {},
   "outputs": [],
   "source": [
    "def create_simple_model(input_shape, n_out):\n",
    "    input_tensor = Input(shape=input_shape)\n",
    "    \n",
    "    x = Conv2D(32, kernel_size=(3, 3), activation='relu')(input_tensor)\n",
    "    x = AveragePooling2D(pool_size=(3, 3))(x)\n",
    "    \n",
    "    x = BatchNormalization()(x)\n",
    "    x = Dropout(0.5)(x)\n",
    "    x = Flatten()(x)\n",
    "    x = Dense(64, kernel_initializer='he_normal')(x)    \n",
    "    x = BatchNormalization()(x)        \n",
    "    x = Dense(n_out, activation='softmax')(x)\n",
    "    \n",
    "    model = Model(input_tensor, x)\n",
    "    return model"
   ]
  },
  {
   "cell_type": "code",
   "execution_count": 17,
   "id": "09e35786-aeff-494c-a02d-de1535e866dd",
   "metadata": {},
   "outputs": [],
   "source": [
    "# Draw learning curve\n",
    "def show_history(history):\n",
    "    fig, ax = plt.subplots(1, 2, figsize=(15,5))\n",
    "    ax[0].set_title('loss')\n",
    "    ax[0].plot(history.epoch, history.history[\"loss\"], label=\"Train loss\")\n",
    "    ax[0].plot(history.epoch, history.history[\"val_loss\"], label=\"Validation loss\")\n",
    "    ax[1].set_title('acc')\n",
    "    ax[1].plot(history.epoch, history.history[\"accuracy\"], label=\"Train accuracy\")\n",
    "    ax[1].plot(history.epoch, history.history[\"val_accuracy\"], label=\"Validation accuracy\")\n",
    "    ax[0].legend()\n",
    "    ax[1].legend()"
   ]
  },
  {
   "cell_type": "code",
   "execution_count": 19,
   "id": "a0bf00aa-26a2-45ed-86c7-92128347d032",
   "metadata": {},
   "outputs": [],
   "source": [
    "batch_size = 40\n",
    "\n",
    "model_path = os.path.join(\"weights\", \"image_classification.hd5\")\n",
    "checkPoint = ModelCheckpoint(model_path, monitor='val_loss', verbose=1, save_best_only=True)\n",
    "reduceLROnPlato = ReduceLROnPlateau(monitor='val_loss', factor=0.5, patience=5, verbose=1, mode='min')\n",
    "earlyStop = EarlyStopping(monitor='val_loss', mode='auto', verbose=1, patience=10)\n",
    "\n",
    "# train_gen = generator.get_batch(batch_size, is_augmented=True, validation=False)\n",
    "# test_gen = generator.get_batch(400, is_augmented=False, validation=True)"
   ]
  },
  {
   "cell_type": "code",
   "execution_count": 20,
   "id": "07bf684d-5e31-4b79-a8b2-c2d02f4c4142",
   "metadata": {
    "tags": []
   },
   "outputs": [
    {
     "name": "stdout",
     "output_type": "stream",
     "text": [
      "Model: \"model\"\n",
      "_________________________________________________________________\n",
      " Layer (type)                Output Shape              Param #   \n",
      "=================================================================\n",
      " input_1 (InputLayer)        [(None, 62, 47, 3)]       0         \n",
      "                                                                 \n",
      " conv2d (Conv2D)             (None, 60, 45, 32)        896       \n",
      "                                                                 \n",
      " average_pooling2d (AverageP  (None, 20, 15, 32)       0         \n",
      " ooling2D)                                                       \n",
      "                                                                 \n",
      " batch_normalization (BatchN  (None, 20, 15, 32)       128       \n",
      " ormalization)                                                   \n",
      "                                                                 \n",
      " dropout (Dropout)           (None, 20, 15, 32)        0         \n",
      "                                                                 \n",
      " flatten (Flatten)           (None, 9600)              0         \n",
      "                                                                 \n",
      " dense (Dense)               (None, 64)                614464    \n",
      "                                                                 \n",
      " batch_normalization_1 (Batc  (None, 64)               256       \n",
      " hNormalization)                                                 \n",
      "                                                                 \n",
      " dense_1 (Dense)             (None, 7)                 455       \n",
      "                                                                 \n",
      "=================================================================\n",
      "Total params: 616,199\n",
      "Trainable params: 616,007\n",
      "Non-trainable params: 192\n",
      "_________________________________________________________________\n"
     ]
    }
   ],
   "source": [
    "opt = tf.keras.optimizers.Adam(learning_rate=1e-2)\n",
    "\n",
    "# batch_img, _ = next(train_gen)\n",
    "simple_model = create_simple_model((62,47,3), 7)\n",
    "simple_model.compile(loss='categorical_crossentropy', optimizer=opt, metrics=['accuracy'])\n",
    "simple_model.summary()                                                                            "
   ]
  },
  {
   "cell_type": "code",
   "execution_count": 101,
   "id": "af8f3799-9045-4e58-bf11-0f284acda19e",
   "metadata": {},
   "outputs": [],
   "source": [
    "# model_path = os.path.join(\"weights\", \"image_classification.hd5\")\n",
    "# simple_model = load_model(model_path)\n",
    "# simple_model.summary()"
   ]
  },
  {
   "cell_type": "markdown",
   "id": "b93ef2a4-bb4b-487a-86f7-ae45deb6ebdc",
   "metadata": {},
   "source": [
    "#### 4. Running the model"
   ]
  },
  {
   "cell_type": "code",
   "execution_count": 83,
   "id": "4e91e2ac-ba4e-483b-8eed-1b1af6c3ee19",
   "metadata": {
    "tags": []
   },
   "outputs": [
    {
     "name": "stdout",
     "output_type": "stream",
     "text": [
      "Epoch 1/100\n",
      "31/32 [============================>.] - ETA: 0s - loss: 0.0947 - accuracy: 0.9687\n",
      "Epoch 1: val_loss did not improve from 0.45067\n",
      "32/32 [==============================] - 2s 69ms/step - loss: 0.0941 - accuracy: 0.9689 - val_loss: 0.5312 - val_accuracy: 0.8605 - lr: 0.0050\n",
      "Epoch 2/100\n",
      "32/32 [==============================] - ETA: 0s - loss: 0.0667 - accuracy: 0.9748\n",
      "Epoch 2: val_loss improved from 0.45067 to 0.40219, saving model to weights/arcface_weights.hd5\n"
     ]
    },
    {
     "name": "stderr",
     "output_type": "stream",
     "text": [
      "WARNING:absl:Found untraced functions such as _jit_compiled_convolution_op, _update_step_xla while saving (showing 2 of 2). These functions will not be directly callable after loading.\n"
     ]
    },
    {
     "name": "stdout",
     "output_type": "stream",
     "text": [
      "INFO:tensorflow:Assets written to: weights/arcface_weights.hd5/assets\n"
     ]
    },
    {
     "name": "stderr",
     "output_type": "stream",
     "text": [
      "INFO:tensorflow:Assets written to: weights/arcface_weights.hd5/assets\n"
     ]
    },
    {
     "name": "stdout",
     "output_type": "stream",
     "text": [
      "32/32 [==============================] - 4s 114ms/step - loss: 0.0667 - accuracy: 0.9748 - val_loss: 0.4022 - val_accuracy: 0.9109 - lr: 0.0050\n",
      "Epoch 3/100\n",
      "31/32 [============================>.] - ETA: 0s - loss: 0.0775 - accuracy: 0.9717\n",
      "Epoch 3: val_loss did not improve from 0.40219\n",
      "32/32 [==============================] - 2s 74ms/step - loss: 0.0771 - accuracy: 0.9718 - val_loss: 0.4969 - val_accuracy: 0.8837 - lr: 0.0050\n",
      "Epoch 4/100\n",
      "32/32 [==============================] - ETA: 0s - loss: 0.0833 - accuracy: 0.9660\n",
      "Epoch 4: val_loss did not improve from 0.40219\n",
      "32/32 [==============================] - 2s 75ms/step - loss: 0.0833 - accuracy: 0.9660 - val_loss: 0.6484 - val_accuracy: 0.8527 - lr: 0.0050\n",
      "Epoch 5/100\n",
      "31/32 [============================>.] - ETA: 0s - loss: 0.0727 - accuracy: 0.9765\n",
      "Epoch 5: val_loss did not improve from 0.40219\n",
      "32/32 [==============================] - 2s 74ms/step - loss: 0.0723 - accuracy: 0.9767 - val_loss: 0.4153 - val_accuracy: 0.9225 - lr: 0.0050\n",
      "Epoch 6/100\n",
      "31/32 [============================>.] - ETA: 0s - loss: 0.0662 - accuracy: 0.9775\n",
      "Epoch 6: val_loss did not improve from 0.40219\n",
      "32/32 [==============================] - 2s 75ms/step - loss: 0.0658 - accuracy: 0.9777 - val_loss: 0.4530 - val_accuracy: 0.8915 - lr: 0.0050\n",
      "Epoch 7/100\n",
      "31/32 [============================>.] - ETA: 0s - loss: 0.0832 - accuracy: 0.9717\n",
      "Epoch 7: ReduceLROnPlateau reducing learning rate to 0.0024999999441206455.\n",
      "\n",
      "Epoch 7: val_loss did not improve from 0.40219\n",
      "32/32 [==============================] - 2s 73ms/step - loss: 0.0837 - accuracy: 0.9709 - val_loss: 0.4434 - val_accuracy: 0.8992 - lr: 0.0050\n",
      "Epoch 8/100\n",
      "31/32 [============================>.] - ETA: 0s - loss: 0.0594 - accuracy: 0.9795\n",
      "Epoch 8: val_loss did not improve from 0.40219\n",
      "32/32 [==============================] - 2s 68ms/step - loss: 0.0603 - accuracy: 0.9796 - val_loss: 0.4458 - val_accuracy: 0.9070 - lr: 0.0025\n",
      "Epoch 9/100\n",
      "31/32 [============================>.] - ETA: 0s - loss: 0.0715 - accuracy: 0.9726\n",
      "Epoch 9: val_loss did not improve from 0.40219\n",
      "32/32 [==============================] - 2s 68ms/step - loss: 0.0713 - accuracy: 0.9728 - val_loss: 0.4051 - val_accuracy: 0.9070 - lr: 0.0025\n",
      "Epoch 10/100\n",
      "31/32 [============================>.] - ETA: 0s - loss: 0.0613 - accuracy: 0.9785\n",
      "Epoch 10: val_loss did not improve from 0.40219\n",
      "32/32 [==============================] - 2s 67ms/step - loss: 0.0624 - accuracy: 0.9777 - val_loss: 0.4263 - val_accuracy: 0.9070 - lr: 0.0025\n",
      "Epoch 11/100\n",
      "31/32 [============================>.] - ETA: 0s - loss: 0.0819 - accuracy: 0.9717\n",
      "Epoch 11: val_loss did not improve from 0.40219\n",
      "32/32 [==============================] - 2s 68ms/step - loss: 0.0823 - accuracy: 0.9709 - val_loss: 0.4505 - val_accuracy: 0.9147 - lr: 0.0025\n",
      "Epoch 12/100\n",
      "31/32 [============================>.] - ETA: 0s - loss: 0.0441 - accuracy: 0.9853\n",
      "Epoch 12: ReduceLROnPlateau reducing learning rate to 0.0012499999720603228.\n",
      "\n",
      "Epoch 12: val_loss did not improve from 0.40219\n",
      "32/32 [==============================] - 2s 68ms/step - loss: 0.0444 - accuracy: 0.9854 - val_loss: 0.4372 - val_accuracy: 0.9186 - lr: 0.0025\n",
      "Epoch 12: early stopping\n"
     ]
    }
   ],
   "source": [
    "history = simple_model.fit(\n",
    "    X_train, y_train,\n",
    "    steps_per_epoch=len(X_train) // batch_size,\n",
    "    validation_data=(X_test,y_test),\n",
    "    epochs=100,\n",
    "    verbose=1,\n",
    "    callbacks=[reduceLROnPlato, checkPoint, earlyStop]\n",
    ")"
   ]
  },
  {
   "cell_type": "markdown",
   "id": "3b7bb2e1-4361-43bb-8ff2-a476a9580a69",
   "metadata": {},
   "source": [
    "#### 5. Evaluation"
   ]
  },
  {
   "cell_type": "code",
   "execution_count": 84,
   "id": "63a68076-ec96-464f-9b17-b9ffe89f5e82",
   "metadata": {},
   "outputs": [
    {
     "data": {
      "image/png": "[encoded data removed]",
      "text/plain": [
       "<Figure size 1500x500 with 2 Axes>"
      ]
     },
     "metadata": {},
     "output_type": "display_data"
    }
   ],
   "source": [
    "show_history(history)"
   ]
  },
  {
   "cell_type": "code",
   "execution_count": 85,
   "id": "e7a8fde6-5480-48e5-b468-2971b5c9ae4b",
   "metadata": {},
   "outputs": [
    {
     "name": "stdout",
     "output_type": "stream",
     "text": [
      "9/9 [==============================] - 0s 10ms/step\n",
      "[[  8   0   2   0   0   0   1]\n",
      " [  1  45   0   1   0   0   0]\n",
      " [  2   0  19   0   0   0   1]\n",
      " [  0   1   4 113   1   0   0]\n",
      " [  0   1   0   0  18   0   0]\n",
      " [  0   1   0   0   1  11   0]\n",
      " [  0   1   0   1   2   0  23]]\n"
     ]
    }
   ],
   "source": [
    "from sklearn.metrics import confusion_matrix, classification_report\n",
    "\n",
    "predict_idxs = simple_model.predict(X_test, batch_size=batch_size)\n",
    "predict_idxs = np.argmax(predict_idxs, axis=1)\n",
    "\n",
    "y_test = label_as_binary.fit_transform(y_test)\n",
    "\n",
    "cm = confusion_matrix(np.argmax(y_test, axis=1), predict_idxs)\n",
    "print(cm)"
   ]
  },
  {
   "cell_type": "code",
   "execution_count": 87,
   "id": "c0867dbf-9dc1-4c64-8378-a29e04a16b2f",
   "metadata": {},
   "outputs": [],
   "source": [
    "target = lfw_dataset.target\n",
    "target_names = lfw_dataset.target_names"
   ]
  },
  {
   "cell_type": "code",
   "execution_count": 88,
   "id": "b439418b-5dee-40b4-81d8-4cd2edad4e82",
   "metadata": {},
   "outputs": [
    {
     "data": {
      "text/plain": [
       "array(['Ariel Sharon', 'Colin Powell', 'Donald Rumsfeld', 'George W Bush',\n",
       "       'Gerhard Schroeder', 'Hugo Chavez', 'Tony Blair'], dtype='<U17')"
      ]
     },
     "execution_count": 88,
     "metadata": {},
     "output_type": "execute_result"
    }
   ],
   "source": [
    "target_names"
   ]
  },
  {
   "cell_type": "code",
   "execution_count": 89,
   "id": "6551b5ae-cd8e-4be0-b318-68ff689ed3f9",
   "metadata": {},
   "outputs": [
    {
     "name": "stdout",
     "output_type": "stream",
     "text": [
      "                   precision    recall  f1-score   support\n",
      "\n",
      "     Ariel Sharon       0.73      0.73      0.73        11\n",
      "     Colin Powell       0.92      0.96      0.94        47\n",
      "  Donald Rumsfeld       0.76      0.86      0.81        22\n",
      "    George W Bush       0.98      0.95      0.97       119\n",
      "Gerhard Schroeder       0.82      0.95      0.88        19\n",
      "      Hugo Chavez       1.00      0.85      0.92        13\n",
      "       Tony Blair       0.92      0.85      0.88        27\n",
      "\n",
      "         accuracy                           0.92       258\n",
      "        macro avg       0.88      0.88      0.87       258\n",
      "     weighted avg       0.92      0.92      0.92       258\n",
      "\n"
     ]
    }
   ],
   "source": [
    "print(classification_report(np.argmax(y_test, axis=1), predict_idxs, target_names=target_names))"
   ]
  },
  {
   "cell_type": "code",
   "execution_count": null,
   "id": "2a9dd8b4-d776-4d97-ab9c-1af74d68a896",
   "metadata": {},
   "outputs": [],
   "source": []
  }
 ],
 "metadata": {
  "environment": {
   "kernel": "python38",
   "name": "common-cu110.m102",
   "type": "gcloud",
   "uri": "gcr.io/deeplearning-platform-release/base-cu110:m102"
  },
  "kernelspec": {
   "display_name": "python38",
   "language": "python",
   "name": "python38"
  },
  "language_info": {
   "codemirror_mode": {
    "name": "ipython",
    "version": 3
   },
   "file_extension": ".py",
   "mimetype": "text/x-python",
   "name": "python",
   "nbconvert_exporter": "python",
   "pygments_lexer": "ipython3",
   "version": "3.8.15"
  }
 },
 "nbformat": 4,
 "nbformat_minor": 5
}
