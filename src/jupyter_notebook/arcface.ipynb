{
 "cells": [
  {
   "cell_type": "markdown",
   "id": "f26deace-d03a-487b-bec1-7ea1aebb54b4",
   "metadata": {},
   "source": [
    "#### 1. Necessary import"
   ]
  },
  {
   "cell_type": "code",
   "execution_count": 1,
   "id": "c51fa92a-017f-469a-94a0-ada1acd918a4",
   "metadata": {},
   "outputs": [],
   "source": [
    "import os\n",
    "from os import listdir\n",
    "from os.path import isfile, join\n",
    "from glob import glob\n",
    "\n",
    "import random\n",
    "import numpy as np\n",
    "import pandas as pd\n",
    "from tqdm import tqdm \n",
    "\n",
    "from imgaug import augmenters as iaa\n",
    "import PIL.Image as Image\n",
    "import matplotlib.pyplot as plt\n",
    "# %matplotlib notebook \n",
    "\n",
    "# from IPython.core.display import display, HTML\n",
    "# from IPython.display import display\n",
    "# display(HTML(\"<style>.container { width:90% !important; }</style>\"))\n",
    "\n",
    "import warnings\n",
    "warnings.filterwarnings('ignore')"
   ]
  },
  {
   "cell_type": "markdown",
   "id": "57a6cf27-fe73-4cfb-ab14-8d85df05f258",
   "metadata": {},
   "source": [
    "#### 2. Loading the Model dataset"
   ]
  },
  {
   "cell_type": "code",
   "execution_count": 2,
   "id": "b30c286c-60a3-4605-8917-affa1a2fff71",
   "metadata": {},
   "outputs": [],
   "source": [
    "from sklearn.datasets import fetch_lfw_people\n",
    "from sklearn.model_selection import train_test_split\n",
    "lfw_dataset = fetch_lfw_people(min_faces_per_person=70,color=True)\n",
    "X = lfw_dataset.images\n",
    "y = lfw_dataset.target\n",
    "X_train, X_test, y_train, y_test = train_test_split(X, y, test_size=0.2, random_state=42)"
   ]
  },
  {
   "cell_type": "code",
   "execution_count": null,
   "id": "57371cf0",
   "metadata": {},
   "outputs": [],
   "source": [
    "target = lfw_dataset.target\n",
    "target_names = lfw_dataset.target_names\n",
    "\n",
    "unique, counts = np.unique(target, return_counts=True)"
   ]
  },
  {
   "cell_type": "markdown",
   "id": "f35b923b",
   "metadata": {},
   "source": [
    "#### Current data in the table\n",
    "\n",
    "| Target_names | Number of images per person |\n",
    "| --- | :-------------:|\n",
    "| Ariel Sharon | 77 |\n",
    "| Colin Powell | 236 |\n",
    "| Donald Rumsfeld | 121 |\n",
    "| George W Bush | 530 |\n",
    "| Gerhard Schroeder | 109 |\n",
    "| Hugo Chavez | 71 |\n",
    "| Tony Blair | 144 |"
   ]
  },
  {
   "cell_type": "code",
   "execution_count": 3,
   "id": "0dcf9d67-80f8-41d4-9a82-1060a3df2f41",
   "metadata": {},
   "outputs": [],
   "source": [
    "from sklearn.preprocessing import LabelBinarizer\n",
    "label_as_binary = LabelBinarizer()\n",
    "y_train = label_as_binary.fit_transform(y_train)\n",
    "y_test = label_as_binary.fit_transform(y_test)"
   ]
  },
  {
   "cell_type": "markdown",
   "id": "0063a145-3200-4b90-a859-6b774903878a",
   "metadata": {},
   "source": [
    "#### 3. Creating and running Model"
   ]
  },
  {
   "cell_type": "code",
   "execution_count": 4,
   "id": "487992d9-56c7-4d55-b5a4-e55f4766bb28",
   "metadata": {},
   "outputs": [
    {
     "name": "stderr",
     "output_type": "stream",
     "text": [
      "2023-07-18 18:30:41.905208: I tensorflow/core/platform/cpu_feature_guard.cc:182] This TensorFlow binary is optimized to use available CPU instructions in performance-critical operations.\n",
      "To enable the following instructions: AVX2 FMA, in other operations, rebuild TensorFlow with the appropriate compiler flags.\n"
     ]
    }
   ],
   "source": [
    "import tensorflow as tf\n",
    "tf.config.run_functions_eagerly(True)\n",
    "\n",
    "from keras import backend as K\n",
    "from keras.callbacks import ModelCheckpoint, ReduceLROnPlateau, EarlyStopping, LambdaCallback\n",
    "from keras.layers import Input, Dropout, GlobalAveragePooling2D, AveragePooling2D, BatchNormalization, Conv2D\n",
    "from keras.layers import Flatten, Dense\n",
    "from keras.models import Model, load_model\n",
    "from keras.models import Sequential\n",
    "\n",
    "import warnings\n",
    "warnings.filterwarnings('ignore')"
   ]
  },
  {
   "cell_type": "code",
   "execution_count": 5,
   "id": "f8d73f2b-205f-48a0-9260-c3aca3ab5bda",
   "metadata": {},
   "outputs": [],
   "source": [
    "import cv2\n",
    "\n",
    "class arc_datagenerator(object):\n",
    "    def __init__(self, X_train, y_train, X_test, y_test, image_shape=(62, 47)):     \n",
    "        self.image_shape = image_shape\n",
    "        \n",
    "        self.train_images = X_train\n",
    "        self.ytrain_images = y_train\n",
    "        self.test_images = X_test\n",
    "        self.ytest_images = y_test\n",
    "    \n",
    "    def get_batch(self, batch_size, is_augmented=False, validation=False):        \n",
    "        while True:\n",
    "            if validation:\n",
    "                image_set_ = self.test_images\n",
    "                yimage_set_ = self.ytest_images\n",
    "            else:\n",
    "                image_set_ = self.train_images\n",
    "                yimage_set_ = self.ytrain_images\n",
    "                \n",
    "            random_indexes = np.random.choice(len(image_set_), batch_size)                   \n",
    "            batch_images = image_set_[random_indexes]\n",
    "            batch_labels = yimage_set_[random_indexes]\n",
    "            \n",
    "            # preparing images\n",
    "            prep_images = []\n",
    "            for image in batch_images:                 \n",
    "                # image normalization\n",
    "                image = np.divide(image, 255)\n",
    "                prep_images.append(image)\n",
    "            \n",
    "            batch_images = prep_images\n",
    "                \n",
    "            yield [np.array(batch_images), np.array(batch_labels)], np.array(batch_labels)"
   ]
  },
  {
   "cell_type": "code",
   "execution_count": 6,
   "id": "bcd96bad-0bda-499d-a35f-8a263b5f25c6",
   "metadata": {},
   "outputs": [],
   "source": [
    "arc_generator = arc_datagenerator(X_train, y_train, X_test, y_test,)\n",
    "gen_batch = arc_generator.get_batch(5, is_augmented=False, validation=False)\n",
    "(batch_img, _), batch_label = next(gen_batch)"
   ]
  },
  {
   "cell_type": "code",
   "execution_count": 50,
   "id": "b3e4bb69-e66c-492a-9c0f-3661ae77a23f",
   "metadata": {},
   "outputs": [],
   "source": [
    "##### Displaying images"
   ]
  },
  {
   "cell_type": "code",
   "execution_count": 48,
   "id": "d5a86005-98c5-4784-bf40-be442776b5d0",
   "metadata": {},
   "outputs": [],
   "source": [
    "def show_images(images, title=\"\"):\n",
    "    fig, ax = plt.subplots(1, len(images), figsize=(15, 15), dpi=100)   \n",
    "    for i, img in enumerate(images):\n",
    "        ax[i].imshow(img*255, cmap='summer')\n",
    "        ax[i].set_title(title)\n",
    "    [x.axis('off') for x in ax]\n",
    "    plt.show()"
   ]
  },
  {
   "cell_type": "code",
   "execution_count": 49,
   "id": "c0947a4c-54ba-47d4-b2d2-7a049a85f09f",
   "metadata": {},
   "outputs": [
    {
     "name": "stdout",
     "output_type": "stream",
     "text": [
      "[0 1 0 0 0 0 0] Colin Powell\n",
      "[0 1 0 0 0 0 0] Colin Powell\n",
      "[0 0 0 1 0 0 0] George W Bush\n",
      "[0 1 0 0 0 0 0] Colin Powell\n",
      "[0 0 0 1 0 0 0] George W Bush\n"
     ]
    },
    {
     "data": {
      "image/png": "[encoded data removed]",
      "text/plain": [
       "<Figure size 1500x1500 with 5 Axes>"
      ]
     },
     "metadata": {},
     "output_type": "display_data"
    }
   ],
   "source": [
    "target = lfw_dataset.target\n",
    "target_names = lfw_dataset.target_names\n",
    "\n",
    "# visualise generate images\n",
    "for l in batch_label[:5]:\n",
    "    print(l, target_names[np.argmax(l)])\n",
    "    \n",
    "show_images(batch_img[0][:5])"
   ]
  },
  {
   "cell_type": "code",
   "execution_count": 7,
   "id": "d0c5cd65-3983-4858-be2a-a477b1e0ed15",
   "metadata": {},
   "outputs": [],
   "source": [
    "from metrics import *\n",
    "import os"
   ]
  },
  {
   "cell_type": "code",
   "execution_count": 8,
   "id": "6f421af9-ff5a-4442-aabf-141fe4071263",
   "metadata": {},
   "outputs": [],
   "source": [
    "# For reference\n",
    "def create_simple_model(input_shape, n_out):\n",
    "    input_tensor = Input(shape=input_shape)\n",
    "    \n",
    "    x = Conv2D(32, kernel_size=(3, 3), activation='relu')(input_tensor)\n",
    "    x = AveragePooling2D(pool_size=(3, 3))(x)\n",
    "    \n",
    "    x = BatchNormalization()(x)\n",
    "    x = Dropout(0.5)(x)\n",
    "    x = Flatten()(x)\n",
    "    x = Dense(128, kernel_initializer='he_normal')(x)    \n",
    "    x = BatchNormalization()(x)\n",
    "    x = Dense(n_out, activation='softmax')(x)\n",
    "    \n",
    "    model = Model(input_tensor, x)\n",
    "    return model\n",
    "\n",
    "# Finetune simple model by dropping for the softmax classification head\n",
    "# s is a scale for logits, setting too low will cause logits to return -1 and u will usual 100% acurracy\n",
    "# m is a modifier on how much it rely on softmax. setting it to 0 will cause arcface to behave as softmax\n",
    "def finetune_simple_arcface_model(premodel, n_out):\n",
    "    output_tensor = Input(shape=n_out)\n",
    "    \n",
    "    # remove classification head\n",
    "    model = Sequential()\n",
    "    for layer in premodel.layers[:-1]:\n",
    "        model.add(layer)\n",
    "    \n",
    "    # freeze layer, only train layers after flatten\n",
    "    for layer in model.layers[:-3]:\n",
    "        layer.trainable = False\n",
    "    \n",
    "    # model.add(Dense(128, kernel_initializer='he_normal'))\n",
    "    output = ArcFace(n_classes=n_out, s=6.0, m=2.0)([model.output, output_tensor])\n",
    "    \n",
    "    model = Model([model.input, output_tensor], output)\n",
    "    return model\n",
    "\n",
    "# Adding CosFace directly to simple model architecture\n",
    "def create_simple_arcface_model(input_shape, n_out):\n",
    "    input_tensor = Input(shape=input_shape)\n",
    "    output_tensor = Input(shape=n_out)\n",
    "    \n",
    "    x = Conv2D(32, kernel_size=(3, 3), activation='relu')(input_tensor)\n",
    "    x = AveragePooling2D(pool_size=(2, 2))(x)\n",
    "    \n",
    "    x = BatchNormalization()(x)\n",
    "    x = Dropout(0.5)(x)\n",
    "    x = Flatten()(x)\n",
    "    x = Dense(64, kernel_initializer='he_normal')(x)    \n",
    "    x = BatchNormalization()(x)\n",
    "    output = ArcFace(n_classes=n_out, s=6.0, m=2.0)([x, output_tensor])\n",
    "    \n",
    "    model = Model([input_tensor, output_tensor], output)\n",
    "    return model"
   ]
  },
  {
   "cell_type": "code",
   "execution_count": 9,
   "id": "ba52e424-1cf3-439d-b6fb-7e7f8db8a42c",
   "metadata": {},
   "outputs": [],
   "source": [
    "batch_size = 40\n",
    "\n",
    "model_path = os.path.join(\"weights\", \"arcface_weights.hd5\")\n",
    "checkPoint = ModelCheckpoint(model_path, monitor='val_loss', verbose=1, save_best_only=True)\n",
    "reduceLROnPlato = ReduceLROnPlateau(monitor='val_loss', factor=0.5, patience=5, verbose=1, mode='min')\n",
    "earlyStop = EarlyStopping(monitor='val_loss', mode='auto', verbose=1, patience=10)"
   ]
  },
  {
   "cell_type": "code",
   "execution_count": 12,
   "id": "2c37d743-cf43-43f2-9edb-578c0c6bd07c",
   "metadata": {},
   "outputs": [],
   "source": [
    "train_gen = arc_generator.get_batch(batch_size, is_augmented=True, validation=False)\n",
    "test_gen = arc_generator.get_batch(258, is_augmented=False, validation=True)"
   ]
  },
  {
   "cell_type": "code",
   "execution_count": 13,
   "id": "6f73c9e0-8fa5-4a7d-8703-dc2035fa6c04",
   "metadata": {},
   "outputs": [
    {
     "name": "stderr",
     "output_type": "stream",
     "text": [
      "2023-07-18 18:32:08.945468: I tensorflow/compiler/xla/stream_executor/cuda/cuda_gpu_executor.cc:996] successful NUMA node read from SysFS had negative value (-1), but there must be at least one NUMA node, so returning NUMA node zero. See more at https://github.com/torvalds/linux/blob/v6.0/Documentation/ABI/testing/sysfs-bus-pci#L344-L355\n",
      "2023-07-18 18:32:08.951407: W tensorflow/core/common_runtime/gpu/gpu_device.cc:1956] Cannot dlopen some GPU libraries. Please make sure the missing libraries mentioned above are installed properly if you would like to use GPU. Follow the guide at https://www.tensorflow.org/install/gpu for how to download and setup the required libraries for your platform.\n",
      "Skipping registering GPU devices...\n"
     ]
    }
   ],
   "source": [
    "simple_model = create_simple_model((62,47,3), 7)"
   ]
  },
  {
   "cell_type": "code",
   "execution_count": 14,
   "id": "e9cd639b-c0b8-462b-995f-0807a32944cd",
   "metadata": {},
   "outputs": [
    {
     "name": "stdout",
     "output_type": "stream",
     "text": [
      "Model: \"model_1\"\n",
      "__________________________________________________________________________________________________\n",
      " Layer (type)                   Output Shape         Param #     Connected to                     \n",
      "==================================================================================================\n",
      " input_1 (InputLayer)           [(None, 62, 47, 3)]  0           []                               \n",
      "                                                                                                  \n",
      " conv2d (Conv2D)                (None, 60, 45, 32)   896         ['input_1[0][0]']                \n",
      "                                                                                                  \n",
      " average_pooling2d (AveragePool  (None, 20, 15, 32)  0           ['conv2d[1][0]']                 \n",
      " ing2D)                                                                                           \n",
      "                                                                                                  \n",
      " batch_normalization (BatchNorm  (None, 20, 15, 32)  128         ['average_pooling2d[1][0]']      \n",
      " alization)                                                                                       \n",
      "                                                                                                  \n",
      " dropout (Dropout)              (None, 20, 15, 32)   0           ['batch_normalization[1][0]']    \n",
      "                                                                                                  \n",
      " flatten (Flatten)              (None, 9600)         0           ['dropout[1][0]']                \n",
      "                                                                                                  \n",
      " dense (Dense)                  (None, 128)          1228928     ['flatten[1][0]']                \n",
      "                                                                                                  \n",
      " batch_normalization_1 (BatchNo  (None, 128)         512         ['dense[1][0]']                  \n",
      " rmalization)                                                                                     \n",
      "                                                                                                  \n",
      " input_2 (InputLayer)           [(None, 7)]          0           []                               \n",
      "                                                                                                  \n",
      " arc_face (ArcFace)             (None, 7)            896         ['batch_normalization_1[1][0]',  \n",
      "                                                                  'input_2[0][0]']                \n",
      "                                                                                                  \n",
      "==================================================================================================\n",
      "Total params: 1,231,360\n",
      "Trainable params: 1,230,080\n",
      "Non-trainable params: 1,280\n",
      "__________________________________________________________________________________________________\n"
     ]
    }
   ],
   "source": [
    "opt = tf.keras.optimizers.Adam(learning_rate=1e-2)\n",
    "\n",
    "#X_train, y_train = next(train_gen)\n",
    "# simple_arcface_model = create_simple_arcface_model((224,224, 3), 4)\n",
    "\n",
    "simple_arcface_model = finetune_simple_arcface_model(simple_model, 7)\n",
    "simple_arcface_model.compile(loss='categorical_crossentropy', optimizer=opt, metrics=['accuracy'], run_eagerly=True)\n",
    "simple_arcface_model.summary()  "
   ]
  },
  {
   "cell_type": "code",
   "execution_count": 15,
   "id": "e1633775-b852-4a50-8e23-3b2c243e8000",
   "metadata": {},
   "outputs": [
    {
     "name": "stdout",
     "output_type": "stream",
     "text": [
      "Epoch 1/10\n"
     ]
    },
    {
     "name": "stderr",
     "output_type": "stream",
     "text": [
      "2023-07-18 18:32:13.633329: I tensorflow/core/common_runtime/executor.cc:1197] [/device:CPU:0] (DEBUG INFO) Executor start aborting (this does not indicate an error and you can ignore this message): INVALID_ARGUMENT: You must feed a value for placeholder tensor 'Placeholder/_0' with dtype int32\n",
      "\t [[{{node Placeholder/_0}}]]\n"
     ]
    },
    {
     "name": "stdout",
     "output_type": "stream",
     "text": [
      "25/25 [==============================] - 2s 78ms/step - loss: 2.4748 - accuracy: 0.5080 - val_loss: 0.0155 - val_accuracy: 1.0000\n",
      "Epoch 2/10\n",
      "25/25 [==============================] - 2s 74ms/step - loss: 0.0415 - accuracy: 1.0000 - val_loss: 0.0054 - val_accuracy: 1.0000\n",
      "Epoch 3/10\n",
      "25/25 [==============================] - 2s 75ms/step - loss: 0.0184 - accuracy: 1.0000 - val_loss: 0.0042 - val_accuracy: 1.0000\n",
      "Epoch 4/10\n",
      "25/25 [==============================] - 2s 79ms/step - loss: 0.0150 - accuracy: 1.0000 - val_loss: 0.0036 - val_accuracy: 1.0000\n",
      "Epoch 5/10\n",
      "25/25 [==============================] - 2s 76ms/step - loss: 0.0128 - accuracy: 1.0000 - val_loss: 0.0033 - val_accuracy: 1.0000\n",
      "Epoch 6/10\n",
      "25/25 [==============================] - 2s 75ms/step - loss: 0.0106 - accuracy: 1.0000 - val_loss: 0.0030 - val_accuracy: 1.0000\n",
      "Epoch 7/10\n",
      "25/25 [==============================] - 2s 76ms/step - loss: 0.0098 - accuracy: 1.0000 - val_loss: 0.0028 - val_accuracy: 1.0000\n",
      "Epoch 8/10\n",
      "25/25 [==============================] - 2s 74ms/step - loss: 0.0087 - accuracy: 1.0000 - val_loss: 0.0026 - val_accuracy: 1.0000\n",
      "Epoch 9/10\n",
      "25/25 [==============================] - 2s 75ms/step - loss: 0.0079 - accuracy: 1.0000 - val_loss: 0.0024 - val_accuracy: 1.0000\n",
      "Epoch 10/10\n",
      "25/25 [==============================] - 2s 74ms/step - loss: 0.0072 - accuracy: 1.0000 - val_loss: 0.0023 - val_accuracy: 1.0000\n"
     ]
    }
   ],
   "source": [
    "history = simple_arcface_model.fit(\n",
    "    train_gen,\n",
    "    steps_per_epoch=len(X_train) // batch_size,\n",
    "    validation_data=next(test_gen),\n",
    "    epochs=10,\n",
    "    verbose=1, \n",
    "    # callbacks=[reduceLROnPlato, checkPoint, earlyStop]\n",
    ") "
   ]
  },
  {
   "cell_type": "markdown",
   "id": "83076149-087a-41ba-aeff-c3a6ad06d177",
   "metadata": {},
   "source": [
    "#### 4. Evaluation"
   ]
  },
  {
   "cell_type": "code",
   "execution_count": 16,
   "id": "c6bd6565-d644-4cde-a37a-8062016224d2",
   "metadata": {},
   "outputs": [
    {
     "data": {
      "image/png": "[encoded data removed]",
      "text/plain": [
       "<Figure size 1500x500 with 2 Axes>"
      ]
     },
     "metadata": {},
     "output_type": "display_data"
    }
   ],
   "source": [
    "# Draw learning curve\n",
    "def show_history(history):\n",
    "    fig, ax = plt.subplots(1, 2, figsize=(15,5))\n",
    "    ax[0].set_title('loss')\n",
    "    ax[0].plot(history.epoch, history.history[\"loss\"], label=\"Train loss\")\n",
    "    ax[0].plot(history.epoch, history.history[\"val_loss\"], label=\"Validation loss\")\n",
    "    ax[1].set_title('acc')\n",
    "    ax[1].plot(history.epoch, history.history[\"accuracy\"], label=\"Train accuracy\")\n",
    "    ax[1].plot(history.epoch, history.history[\"val_accuracy\"], label=\"Validation accuracy\")\n",
    "    ax[0].legend()\n",
    "    ax[1].legend()\n",
    "    \n",
    "show_history(history)"
   ]
  },
  {
   "cell_type": "code",
   "execution_count": 17,
   "id": "2a05a51f-1840-41eb-8fa0-52dcf1c079b9",
   "metadata": {},
   "outputs": [
    {
     "data": {
      "text/plain": [
       "(258, 62, 47, 3)"
      ]
     },
     "execution_count": 17,
     "metadata": {},
     "output_type": "execute_result"
    }
   ],
   "source": [
    "X_test.shape"
   ]
  },
  {
   "cell_type": "code",
   "execution_count": 18,
   "id": "019c5b4c-91a6-4bb5-9444-0f6243f709d5",
   "metadata": {},
   "outputs": [
    {
     "name": "stdout",
     "output_type": "stream",
     "text": [
      "9/9 [==============================] - 0s 13ms/step\n",
      "[[  6   0   0   0   0   0   0]\n",
      " [  0  63   0   0   0   0   0]\n",
      " [  0   0  20   0   0   0   0]\n",
      " [  0   0   0 117   0   0   0]\n",
      " [  0   0   0   0  18   0   0]\n",
      " [  0   0   0   0   0  15   0]\n",
      " [  0   0   0   0   0   0  19]]\n"
     ]
    }
   ],
   "source": [
    "from sklearn.metrics import confusion_matrix, classification_report\n",
    "\n",
    "test_gen = arc_generator.get_batch(258, is_augmented=False, validation=True)\n",
    "batch_img, batch_label = next(test_gen)\n",
    "\n",
    "predict_idxs = simple_arcface_model.predict(batch_img)\n",
    "predict_idxs = np.argmax(predict_idxs, axis=1)\n",
    "\n",
    "cm = confusion_matrix(np.argmax(batch_label, axis=1), predict_idxs)\n",
    "print(cm)"
   ]
  },
  {
   "cell_type": "code",
   "execution_count": 19,
   "id": "33cf5a47-fc99-40a2-b043-0776144549ed",
   "metadata": {},
   "outputs": [
    {
     "name": "stdout",
     "output_type": "stream",
     "text": [
      "                   precision    recall  f1-score   support\n",
      "\n",
      "     Ariel Sharon       1.00      1.00      1.00         6\n",
      "     Colin Powell       1.00      1.00      1.00        63\n",
      "  Donald Rumsfeld       1.00      1.00      1.00        20\n",
      "    George W Bush       1.00      1.00      1.00       117\n",
      "Gerhard Schroeder       1.00      1.00      1.00        18\n",
      "      Hugo Chavez       1.00      1.00      1.00        15\n",
      "       Tony Blair       1.00      1.00      1.00        19\n",
      "\n",
      "         accuracy                           1.00       258\n",
      "        macro avg       1.00      1.00      1.00       258\n",
      "     weighted avg       1.00      1.00      1.00       258\n",
      "\n"
     ]
    }
   ],
   "source": [
    "target = lfw_dataset.target\n",
    "target_names = lfw_dataset.target_names\n",
    "\n",
    "\n",
    "print(classification_report(np.argmax(batch_label, axis=1), predict_idxs, target_names=target_names))"
   ]
  },
  {
   "cell_type": "code",
   "execution_count": null,
   "id": "89255041-ba22-4485-aad7-e7e382dcbf8e",
   "metadata": {},
   "outputs": [],
   "source": []
  },
  {
   "cell_type": "code",
   "execution_count": null,
   "id": "709a515c-ea28-4e04-86a7-0d37836ce0db",
   "metadata": {},
   "outputs": [],
   "source": []
  }
 ],
 "metadata": {
  "environment": {
   "kernel": "python38",
   "name": "common-cu110.m102",
   "type": "gcloud",
   "uri": "gcr.io/deeplearning-platform-release/base-cu110:m102"
  },
  "kernelspec": {
   "display_name": "python38",
   "language": "python",
   "name": "python38"
  },
  "language_info": {
   "codemirror_mode": {
    "name": "ipython",
    "version": 3
   },
   "file_extension": ".py",
   "mimetype": "text/x-python",
   "name": "python",
   "nbconvert_exporter": "python",
   "pygments_lexer": "ipython3",
   "version": "3.8.15"
  }
 },
 "nbformat": 4,
 "nbformat_minor": 5
}
