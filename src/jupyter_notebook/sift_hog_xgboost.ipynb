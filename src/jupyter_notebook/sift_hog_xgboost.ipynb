{
 "cells": [
  {
   "cell_type": "code",
   "execution_count": 54,
   "id": "7aaadd31-3766-4eed-a9a4-eb15278bffb1",
   "metadata": {},
   "outputs": [],
   "source": [
    "# %load ../python_script/feature_extraction\n",
    "import cv2\n",
    "import numpy as np\n",
    "from skimage import data\n",
    "from skimage.feature import hog\n",
    "from skimage import data, exposure\n",
    "from skimage.color import label2rgb\n",
    "from skimage.transform import rotate\n",
    "from skimage.feature import local_binary_pattern\n",
    "\n",
    "\n",
    "def histogram_oriented_gradients(image):\n",
    "    # Example usage on a single image\n",
    "    fd, hog_image = hog(image, orientations=8, pixels_per_cell=(1, 1),\n",
    "                        cells_per_block=(1, 1), visualize=True, multichannel=True)\n",
    "\n",
    "    # Visualize the HOG image\n",
    "    hog_image_rescaled = exposure.rescale_intensity(hog_image, in_range=(0, 10))\n",
    "    return hog_image_rescaled\n",
    "  \n",
    "def scale_invariant_feature_transform(image):\n",
    "    \n",
    "    # Convert the image depth to CV_8U\n",
    "    image8bit = cv2.normalize(image, None, 0, 255, cv2.NORM_MINMAX).astype('uint8')\n",
    "    \n",
    "    #reading image\n",
    "    gray1 = cv2.cvtColor(image8bit, cv2.COLOR_BGR2GRAY)\n",
    "    \n",
    "    #keypoints\n",
    "    #keypoints``\n",
    "    sift = cv2.SIFT_create()\n",
    "    keypoints_1, descriptors_1 = sift.detectAndCompute(gray1, None)\n",
    "\n",
    "    img_1 = cv2.drawKeypoints(gray1,keypoints_1,image)\n",
    "    return img_1\n",
    "    \n",
    "def local_binary_patterns(image):\n",
    "    \n",
    "    # settings for LBP\n",
    "    radius = 3\n",
    "    n_points = 8 * radius\n",
    "    \n",
    "    # Convert the image depth to CV_8U\n",
    "    image8bit = cv2.normalize(image, None, 0, 255, cv2.NORM_MINMAX).astype('uint8')\n",
    "\n",
    "    # Convert the array to grayscale and reshape it to (height, width)\n",
    "    gray1 = cv2.cvtColor(image8bit, cv2.COLOR_BGR2GRAY)\n",
    "\n",
    "    lbp = local_binary_pattern(gray1, n_points, radius, method = \"uniform\")\n",
    "\n",
    "    return lbp"
   ]
  },
  {
   "cell_type": "code",
   "execution_count": 55,
   "id": "73260905-9af8-4151-af1d-a4c727f0af65",
   "metadata": {},
   "outputs": [],
   "source": [
    "import numpy as np\n",
    "import pandas as pd\n",
    "from PIL import Image\n",
    "import matplotlib.pyplot as plt\n",
    "from sklearn.datasets import fetch_lfw_people\n",
    "from sklearn.model_selection import train_test_split"
   ]
  },
  {
   "cell_type": "code",
   "execution_count": 56,
   "id": "a8038249-43f9-4293-8b6d-252e63fa682e",
   "metadata": {},
   "outputs": [
    {
     "name": "stdout",
     "output_type": "stream",
     "text": [
      "number of keys in the lfw_dataset is as  dict_keys(['data', 'images', 'target', 'target_names', 'DESCR'])\n"
     ]
    }
   ],
   "source": [
    "lfw_dataset = fetch_lfw_people(min_faces_per_person=70,color=True)\n",
    "\n",
    "# lfw_dataset is a disctionary\n",
    "print(\"number of keys in the lfw_dataset is as \", lfw_dataset.keys())"
   ]
  },
  {
   "cell_type": "code",
   "execution_count": 57,
   "id": "5417fde3-6c5b-43c0-a94c-8a274c91e4af",
   "metadata": {},
   "outputs": [],
   "source": [
    "image_rescaled = {}\n",
    "image_rescaled[\"original_image\"] = np.array(lfw_dataset.images)"
   ]
  },
  {
   "cell_type": "markdown",
   "id": "2fa8cb9b-2f86-43e5-bcdf-071f0eeda067",
   "metadata": {},
   "source": [
    "### 1. Preparing the scale_invariant_feature_transform data"
   ]
  },
  {
   "cell_type": "code",
   "execution_count": 58,
   "id": "36770b1c-2d93-4e18-8559-9ccc685f5d26",
   "metadata": {},
   "outputs": [],
   "source": [
    "### passing the single image to the function to check the result\n",
    "flattend_arr = []\n",
    "sift_image = []\n",
    "for image in lfw_dataset.images:\n",
    "    arr_2d = scale_invariant_feature_transform(image)\n",
    "    sift_image.append(arr_2d)\n",
    "    flattend_arr.append(arr_2d.flatten())\n",
    "\n",
    "image_rescaled[\"sift_data\"] = np.array(flattend_arr)\n",
    "image_rescaled[\"sift_image\"] = np.array(sift_image)"
   ]
  },
  {
   "cell_type": "code",
   "execution_count": 59,
   "id": "5cd8005b-db3d-44a4-a9e2-3c92ee526de6",
   "metadata": {},
   "outputs": [
    {
     "data": {
      "text/plain": [
       "<matplotlib.image.AxesImage at 0x7f3d3c895040>"
      ]
     },
     "execution_count": 59,
     "metadata": {},
     "output_type": "execute_result"
    },
    {
     "data": {
      "image/png": "[encoded data removed]",
      "text/plain": [
       "<Figure size 640x480 with 1 Axes>"
      ]
     },
     "metadata": {},
     "output_type": "display_data"
    }
   ],
   "source": [
    "plt.imshow(image_rescaled[\"sift_image\"][1])"
   ]
  },
  {
   "cell_type": "code",
   "execution_count": 60,
   "id": "4d7e398f-dea8-443b-a0b8-543302df8682",
   "metadata": {},
   "outputs": [
    {
     "data": {
      "text/plain": [
       "dict_keys(['original_image', 'sift_data', 'sift_image'])"
      ]
     },
     "execution_count": 60,
     "metadata": {},
     "output_type": "execute_result"
    }
   ],
   "source": [
    "image_rescaled.keys()"
   ]
  },
  {
   "cell_type": "markdown",
   "id": "e0c24fb1-d059-4202-ac45-f8b6f8608738",
   "metadata": {},
   "source": [
    "### 2. Preparing the histogram_oriented_gradients of sift_data"
   ]
  },
  {
   "cell_type": "code",
   "execution_count": 61,
   "id": "59db4c82-a6cd-4fe6-ad77-7e9202c12543",
   "metadata": {},
   "outputs": [
    {
     "name": "stderr",
     "output_type": "stream",
     "text": [
      "/tmp/ipykernel_21201/3443745518.py:14: FutureWarning: `multichannel` is a deprecated argument name for `hog`. It will be removed in version 1.0. Please use `channel_axis` instead.\n",
      "  fd, hog_image = hog(image, orientations=8, pixels_per_cell=(1, 1),\n"
     ]
    }
   ],
   "source": [
    "### passing the single image to the function to check the result\n",
    "flattend_arr = []\n",
    "hog_sift_image = []\n",
    "for image in image_rescaled[\"sift_image\"]:\n",
    "    arr_2d = histogram_oriented_gradients(image)\n",
    "    hog_sift_image.append(arr_2d)\n",
    "    flattend_arr.append(arr_2d.flatten())\n",
    "    \n",
    "image_rescaled[\"hog_sift_data\"] = np.array(flattend_arr)\n",
    "image_rescaled[\"hog_sift_image\"] = np.array(hog_sift_image)"
   ]
  },
  {
   "cell_type": "code",
   "execution_count": 62,
   "id": "4a9c8d11-c8ba-45dc-9051-5660065d20ba",
   "metadata": {},
   "outputs": [
    {
     "data": {
      "text/plain": [
       "<matplotlib.image.AxesImage at 0x7f3d3c9056a0>"
      ]
     },
     "execution_count": 62,
     "metadata": {},
     "output_type": "execute_result"
    },
    {
     "data": {
      "image/png": "[encoded data removed]",
      "text/plain": [
       "<Figure size 640x480 with 1 Axes>"
      ]
     },
     "metadata": {},
     "output_type": "display_data"
    }
   ],
   "source": [
    "plt.imshow(image_rescaled[\"hog_sift_image\"][2])"
   ]
  },
  {
   "cell_type": "markdown",
   "id": "7ebc290a-a8a6-449a-a1aa-c25149d7516c",
   "metadata": {},
   "source": [
    "### 3. Preparing the histogram_oriented_gradients of data"
   ]
  },
  {
   "cell_type": "code",
   "execution_count": 63,
   "id": "e8d67cd8-977c-4ec8-b52a-0028903a7e79",
   "metadata": {},
   "outputs": [
    {
     "name": "stderr",
     "output_type": "stream",
     "text": [
      "/tmp/ipykernel_21201/3443745518.py:14: FutureWarning: `multichannel` is a deprecated argument name for `hog`. It will be removed in version 1.0. Please use `channel_axis` instead.\n",
      "  fd, hog_image = hog(image, orientations=8, pixels_per_cell=(1, 1),\n"
     ]
    },
    {
     "data": {
      "text/plain": [
       "<matplotlib.image.AxesImage at 0x7f3d3c7fc7c0>"
      ]
     },
     "execution_count": 63,
     "metadata": {},
     "output_type": "execute_result"
    },
    {
     "data": {
      "image/png": "[encoded data removed]",
      "text/plain": [
       "<Figure size 640x480 with 1 Axes>"
      ]
     },
     "metadata": {},
     "output_type": "display_data"
    }
   ],
   "source": [
    "### passing the single image to the function to check the result\n",
    "flattend_arr = []\n",
    "hog_image = []\n",
    "for image in image_rescaled[\"sift_image\"]:\n",
    "    arr_2d = histogram_oriented_gradients(image)\n",
    "    hog_image.append(arr_2d)\n",
    "    flattend_arr.append(arr_2d.flatten())\n",
    "    \n",
    "image_rescaled[\"hog_data\"] = np.array(flattend_arr)\n",
    "image_rescaled[\"hog_image\"] = np.array(hog_sift_image)\n",
    "\n",
    "plt.imshow(image_rescaled[\"hog_image\"][2])"
   ]
  },
  {
   "cell_type": "markdown",
   "id": "3c3cccad-bff6-44bd-af2c-91c313d0b056",
   "metadata": {},
   "source": [
    "### 4. using sift_hog on xg boost"
   ]
  },
  {
   "cell_type": "code",
   "execution_count": 68,
   "id": "f0a7309c-24ca-4076-b8f7-efee5f96b96d",
   "metadata": {},
   "outputs": [],
   "source": [
    "import numpy as np\n",
    "from sklearn.datasets import fetch_lfw_people\n",
    "from sklearn.model_selection import train_test_split\n",
    "from sklearn.linear_model import LogisticRegression\n",
    "from sklearn.metrics import accuracy_score\n",
    "from sklearn.preprocessing import StandardScaler"
   ]
  },
  {
   "cell_type": "code",
   "execution_count": 69,
   "id": "5c3c810e-1c7c-4c93-9d8d-b3856e62cc5b",
   "metadata": {},
   "outputs": [
    {
     "data": {
      "text/plain": [
       "dict_keys(['original_image', 'sift_data', 'sift_image', 'hog_sift_data', 'hog_sift_image', 'hog_data', 'hog_image'])"
      ]
     },
     "execution_count": 69,
     "metadata": {},
     "output_type": "execute_result"
    }
   ],
   "source": [
    "image_rescaled.keys()"
   ]
  },
  {
   "cell_type": "code",
   "execution_count": 70,
   "id": "0e0e00e3-bee8-4378-bae3-7a383b980acd",
   "metadata": {},
   "outputs": [],
   "source": [
    "X = image_rescaled['hog_sift_data']\n",
    "y = lfw_dataset['target']"
   ]
  },
  {
   "cell_type": "code",
   "execution_count": 71,
   "id": "54817fe5-5a7b-4999-99e7-57820b429317",
   "metadata": {},
   "outputs": [],
   "source": [
    "X_train, X_test, y_train, y_test = train_test_split(X, y, test_size=0.2, random_state=42)"
   ]
  },
  {
   "cell_type": "code",
   "execution_count": 72,
   "id": "012ca3a0-5c42-487f-afac-2f764e7d9762",
   "metadata": {},
   "outputs": [],
   "source": [
    "scaler = StandardScaler()\n",
    "X_train = scaler.fit_transform(X_train)\n",
    "X_test = scaler.transform(X_test)"
   ]
  },
  {
   "cell_type": "code",
   "execution_count": 73,
   "id": "4a1da9be-a22f-49f5-bab1-415b8091984e",
   "metadata": {},
   "outputs": [],
   "source": [
    "import xgboost as xgb\n",
    "xgb_cl = xgb.XGBClassifier()"
   ]
  },
  {
   "cell_type": "code",
   "execution_count": 74,
   "id": "60c0613e-f029-483b-bd96-5741faf1b45c",
   "metadata": {},
   "outputs": [
    {
     "data": {
      "text/plain": [
       "0.5387596899224806"
      ]
     },
     "execution_count": 74,
     "metadata": {},
     "output_type": "execute_result"
    }
   ],
   "source": [
    "# Fit\n",
    "xgb_cl.fit(X_train, y_train)\n",
    "\n",
    "# Predict\n",
    "preds = xgb_cl.predict(X_test)\n",
    "\n",
    "# Score\n",
    "accuracy_score(y_test, preds)"
   ]
  },
  {
   "cell_type": "code",
   "execution_count": 77,
   "id": "b38f9a78-6632-4b81-a7a8-694f0629ea9c",
   "metadata": {},
   "outputs": [
    {
     "data": {
      "text/plain": [
       "(array([[252, 252, 252, ...,  74,  74,  74],\n",
       "        [ 32,  32,  32, ..., 148, 148, 148],\n",
       "        [ 98,  98,  98, ..., 210, 210, 210],\n",
       "        ...,\n",
       "        [ 81,  81,  81, ...,  30,  30,  30],\n",
       "        [ 50,  50,  50, ..., 167, 167, 167],\n",
       "        [ 31,  31,  31, ...,  81,  81,  81]], dtype=uint8),\n",
       " array([[0.3, 1. , 1. , ..., 0.1, 0. , 0. ],\n",
       "        [1. , 1. , 1. , ..., 1. , 0. , 0. ],\n",
       "        [1. , 1. , 1. , ..., 0.2, 0. , 0. ],\n",
       "        ...,\n",
       "        [1. , 1. , 1. , ..., 1. , 0. , 0. ],\n",
       "        [1. , 1. , 1. , ..., 1. , 0. , 0. ],\n",
       "        [0.8, 1. , 1. , ..., 1. , 0. , 0. ]]))"
      ]
     },
     "execution_count": 77,
     "metadata": {},
     "output_type": "execute_result"
    }
   ],
   "source": []
  },
  {
   "cell_type": "markdown",
   "id": "e6649575-89f4-4915-8008-226c9dcafa75",
   "metadata": {},
   "source": [
    "### 5. Combine HOG and SIFT features"
   ]
  },
  {
   "cell_type": "code",
   "execution_count": 78,
   "id": "968b6c3a-2466-42c6-a526-f6f172110d6e",
   "metadata": {},
   "outputs": [],
   "source": [
    "# Combine HOG and SIFT features\n",
    "X_combined = np.hstack((image_rescaled[\"sift_data\"], image_rescaled[\"hog_data\"]))"
   ]
  },
  {
   "cell_type": "code",
   "execution_count": 79,
   "id": "b100b13c-ad25-4c39-b70a-9fc2c248a7e7",
   "metadata": {},
   "outputs": [
    {
     "data": {
      "text/plain": [
       "array([[2.52e+02, 2.52e+02, 2.52e+02, ..., 1.00e-01, 0.00e+00, 0.00e+00],\n",
       "       [3.20e+01, 3.20e+01, 3.20e+01, ..., 1.00e+00, 0.00e+00, 0.00e+00],\n",
       "       [9.80e+01, 9.80e+01, 9.80e+01, ..., 2.00e-01, 0.00e+00, 0.00e+00],\n",
       "       ...,\n",
       "       [8.10e+01, 8.10e+01, 8.10e+01, ..., 1.00e+00, 0.00e+00, 0.00e+00],\n",
       "       [5.00e+01, 5.00e+01, 5.00e+01, ..., 1.00e+00, 0.00e+00, 0.00e+00],\n",
       "       [3.10e+01, 3.10e+01, 3.10e+01, ..., 1.00e+00, 0.00e+00, 0.00e+00]])"
      ]
     },
     "execution_count": 79,
     "metadata": {},
     "output_type": "execute_result"
    }
   ],
   "source": [
    "X_combined"
   ]
  },
  {
   "cell_type": "code",
   "execution_count": 82,
   "id": "f3fc17cc-0321-4c67-8e36-738ebdcada9a",
   "metadata": {},
   "outputs": [],
   "source": [
    "X_train, X_test, y_train, y_test = train_test_split(X_combined, y, test_size=0.2, random_state=42)"
   ]
  },
  {
   "cell_type": "code",
   "execution_count": 83,
   "id": "b76ef11b-bdf2-41ae-a0b5-0954402de418",
   "metadata": {},
   "outputs": [],
   "source": [
    "scaler = StandardScaler()\n",
    "X_train = scaler.fit_transform(X_train)\n",
    "X_test = scaler.transform(X_test)"
   ]
  },
  {
   "cell_type": "code",
   "execution_count": 84,
   "id": "e5f8f2f3-a7ea-4063-a76c-e37c5405520f",
   "metadata": {},
   "outputs": [
    {
     "data": {
      "text/plain": [
       "0.6937984496124031"
      ]
     },
     "execution_count": 84,
     "metadata": {},
     "output_type": "execute_result"
    }
   ],
   "source": [
    "xgb_cl = xgb.XGBClassifier()\n",
    "\n",
    "# Fit\n",
    "xgb_cl.fit(X_train, y_train)\n",
    "\n",
    "# Predict\n",
    "preds = xgb_cl.predict(X_test)\n",
    "\n",
    "# Score\n",
    "accuracy_score(y_test, preds)"
   ]
  },
  {
   "cell_type": "markdown",
   "id": "7f95ccef-5703-4dbe-8a0b-3bd7f07184bf",
   "metadata": {},
   "source": [
    "---"
   ]
  },
  {
   "cell_type": "code",
   "execution_count": null,
   "id": "792091c4-830d-4365-820b-9d055afeb4ed",
   "metadata": {},
   "outputs": [],
   "source": []
  }
 ],
 "metadata": {
  "environment": {
   "kernel": "python38",
   "name": "common-cu110.m102",
   "type": "gcloud",
   "uri": "gcr.io/deeplearning-platform-release/base-cu110:m102"
  },
  "kernelspec": {
   "display_name": "python38",
   "language": "python",
   "name": "python38"
  },
  "language_info": {
   "codemirror_mode": {
    "name": "ipython",
    "version": 3
   },
   "file_extension": ".py",
   "mimetype": "text/x-python",
   "name": "python",
   "nbconvert_exporter": "python",
   "pygments_lexer": "ipython3",
   "version": "3.8.15"
  }
 },
 "nbformat": 4,
 "nbformat_minor": 5
}
